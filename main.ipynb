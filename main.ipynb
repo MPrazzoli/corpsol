{
 "cells": [
  {
   "cell_type": "markdown",
   "metadata": {},
   "source": [
    "# Import delle librerie utilizzate nel progetto"
   ]
  },
  {
   "cell_type": "code",
   "execution_count": null,
   "metadata": {},
   "outputs": [],
   "source": [
    "import os\n",
    "from math import *\n",
    "import numpy as np\n",
    "import pandas as pd\n",
    "from QuantLib import *\n",
    "from datetime import date, datetime\n",
    "import warnings\n",
    "warnings.filterwarnings('ignore')\n",
    "\n",
    "path = 'data.xlsx'"
   ]
  },
  {
   "cell_type": "markdown",
   "metadata": {},
   "source": [
    "# Import delle classi e le funzioni costruite ad hoc per il progetto"
   ]
  },
  {
   "cell_type": "code",
   "execution_count": null,
   "metadata": {},
   "outputs": [],
   "source": [
    "# from classes import \n",
    "from functions import ammortamento_francese, ammortamento_italiano, ammortamento_bullet, market_data, estimation_rate_function, discount_rate_function"
   ]
  },
  {
   "cell_type": "markdown",
   "metadata": {},
   "source": [
    "# Inserimento degli Input"
   ]
  },
  {
   "cell_type": "code",
   "execution_count": null,
   "metadata": {},
   "outputs": [],
   "source": [
    "try:\n",
    "  underlying = input('Inserire il sottostante: ')\n",
    "  if underlying == '':\n",
    "    underlying = 'EUR3M'\n",
    "except:\n",
    "  underlying = 'EUR3M'\n",
    "\n",
    "try:\n",
    "  amortization_type = input('Inserire il piano di ammortamento: ')\n",
    "  if amortization_type == '':\n",
    "    amortization_type = 'Bullet'\n",
    "except:\n",
    "  amortization_type = 'Bullet'\n",
    "\n",
    "try:\n",
    "  notional = float(input('Inserire il nozionale: '))\n",
    "except:\n",
    "  notional = 100000.0\n",
    "\n",
    "try:\n",
    "  amortization_rate = float(input('Inserire il tasso annuo: '))\n",
    "except:\n",
    "  amortization_rate = .05\n",
    "\n",
    "try:\n",
    "  maturity_label = input('Inserire la durata del finanziamento in label (\"M\" per i mesi e \"Y\" per gli anni): ')\n",
    "  if maturity_label == '':\n",
    "     maturity_label = '5Y'\n",
    "except:\n",
    "  maturity_label = '5Y'\n",
    "\n",
    "try:\n",
    "  ref_date = Date(input('Inserire la data iniziale del finanziamento in formato dd/mm/yyyy: '),'%d/%m/%Y')\n",
    "  if ref_date == '':\n",
    "    ref_date = Date(date.today().day,date.today().month,date.today().year)\n",
    "except:\n",
    "  ref_date = Date(date.today().day,date.today().month,date.today().year)\n",
    "\n",
    "try:\n",
    "  tenor = int(input('Inserire il periodo che intercorre tra le rate in numero di mesi: '))\n",
    "except:\n",
    "  tenor = 3\n",
    "\n",
    "try:\n",
    "  business_convention = input('Inserire la convenzione:')\n",
    "  if business_convention == '' or business_convention == 'ModifiedFollowing':\n",
    "    business_convention = ModifiedFollowing\n",
    "except:\n",
    "  business_convention = ModifiedFollowing\n",
    "\n",
    "try:\n",
    "  date_gen_rule = input('Inserire la regola per il calcolo delle date:')\n",
    "  if date_gen_rule == '' or date_gen_rule == 'Forward':\n",
    "    date_gen_rule = DateGeneration.Forward\n",
    "  else: \n",
    "    date_gen_rule = DateGeneration.Backward\n",
    "except:\n",
    "  date_gen_rule = DateGeneration.Forward\n",
    "\n",
    "try:\n",
    "  rule_fixing = input('Inserire la regola per le fixing date: ')\n",
    "  if rule_fixing == '':\n",
    "     rule_fixing = '-2BD'\n",
    "except:\n",
    "  rule_fixing = '-2BD'"
   ]
  },
  {
   "cell_type": "markdown",
   "metadata": {},
   "source": [
    "# Schedule delle date di pagamento <br> (viene utilizzato solamente il calendario TARGET in quanto ci si aspetta come sottostante solamente l'EURIBOR)"
   ]
  },
  {
   "cell_type": "code",
   "execution_count": null,
   "metadata": {},
   "outputs": [],
   "source": [
    "calendar = TARGET()\n",
    "start_date = calendar.advance(ref_date,2,Days)\n",
    "if maturity_label[-1] == 'M':\n",
    "    maturity_date = calendar.advance(start_date, int(maturity_label.rsplit(maturity_label[-1], 1)[0]), Months)\n",
    "elif maturity_label[-1] == 'Y':\n",
    "    maturity_date = calendar.advance(start_date, int(maturity_label.rsplit(maturity_label[-1], 1)[0]), Years)\n",
    "Tenor = Period(tenor, Months)\n",
    "endofmonth = False\n",
    "terminationDateConvention = business_convention\n",
    "df = pd.DataFrame({'startdate':list(Schedule(start_date,maturity_date,Tenor,calendar,business_convention,terminationDateConvention,date_gen_rule,endofmonth))[:-1],'enddate':list(Schedule(start_date,maturity_date,Tenor,calendar,business_convention,terminationDateConvention,date_gen_rule,endofmonth))[1:]})"
   ]
  },
  {
   "cell_type": "code",
   "execution_count": null,
   "metadata": {},
   "outputs": [],
   "source": [
    "# Calcolo numero delle rate totali dell'ammortamento\n",
    "if maturity_label[-1] == 'M':\n",
    "  rate_totali = int(12/tenor)\n",
    "elif maturity_label[-1] == 'Y':\n",
    "  rate_totali = int((12/tenor) * int(maturity_label.rsplit(maturity_label[-1], 1)[0]))"
   ]
  },
  {
   "cell_type": "markdown",
   "metadata": {},
   "source": [
    "# Creazione del piano di ammortamento a seconda di quello selezionato in input"
   ]
  },
  {
   "cell_type": "code",
   "execution_count": null,
   "metadata": {},
   "outputs": [],
   "source": [
    "if (amortization_type == 'Francese'):\n",
    "  df_output = (ammortamento_francese(df,amortization_rate,tenor,rate_totali,notional))\n",
    "elif (amortization_type == 'Italiano'):\n",
    "  df_output = (ammortamento_italiano(df,amortization_rate,tenor,rate_totali,notional))\n",
    "elif (amortization_type == 'Bullet'):\n",
    "  df_output = (ammortamento_bullet(df,amortization_rate,tenor,rate_totali,notional))\n",
    "print (df_output)"
   ]
  },
  {
   "cell_type": "markdown",
   "metadata": {},
   "source": [
    "# Calcolo delle Fixing Date utilizzate poi per la stima dei tassi forward"
   ]
  },
  {
   "cell_type": "code",
   "execution_count": null,
   "metadata": {},
   "outputs": [],
   "source": [
    "column_list = ['fixing date','fixing start','fixing end']\n",
    "for col in column_list:\n",
    "  df_output[col] = np.zeros\n",
    "\n",
    "for i, date in enumerate(df_output['startdate']):\n",
    "  if rule_fixing == '-2BD':\n",
    "    date_fix = calendar.advance(date, -2, Days)\n",
    "  else:\n",
    "    date_fix = calendar.advance(date, -1, Months)\n",
    "    date_fix = calendar.endOfMonth(date_fix)\n",
    "    date_fix = calendar.advance(date_fix, -1, Days)\n",
    "\n",
    "  df_output['fixing date'].iloc[i] = date_fix\n",
    "  df_output['fixing start'].iloc[i] = calendar.advance(date_fix, 2, Days)\n",
    "for t, date in enumerate(df_output['fixing start']):\n",
    "  df_output['fixing end'].iloc[t] = calendar.advance(date, tenor, Months, ModifiedFollowing)"
   ]
  },
  {
   "cell_type": "code",
   "execution_count": null,
   "metadata": {},
   "outputs": [],
   "source": [
    "df_output"
   ]
  },
  {
   "cell_type": "markdown",
   "metadata": {},
   "source": [
    "# Converto le date della curva importata in Date QuantLib"
   ]
  },
  {
   "cell_type": "code",
   "execution_count": null,
   "metadata": {},
   "outputs": [],
   "source": [
    "market_dict = market_data(path)\n",
    "for i, d in enumerate(market_dict['ESTIMATION'].zero_curve_rate_df['DATE']):\n",
    "  market_dict['ESTIMATION'].zero_curve_rate_df['DATE'].iloc[i] = Date(d.day,d.month,d.year)\n",
    "for i, d in enumerate(market_dict['DISCOUNT'].zero_curve_rate_df['DATE']):\n",
    "  market_dict['DISCOUNT'].zero_curve_rate_df['DATE'].iloc[i] = Date(d.day,d.month,d.year)"
   ]
  },
  {
   "cell_type": "markdown",
   "metadata": {},
   "source": [
    "# Chiamata della funzione per l'interpolazione dei forward rate"
   ]
  },
  {
   "cell_type": "code",
   "execution_count": null,
   "metadata": {},
   "outputs": [],
   "source": [
    "estimation_rate_function(market_dict['ESTIMATION'].zero_curve_rate_df,df_output['fixing start'], df_output['fixing end'], ref_date)"
   ]
  },
  {
   "cell_type": "markdown",
   "metadata": {},
   "source": [
    "# Chiamata della funzione per l'interpolazione dei discount rate"
   ]
  },
  {
   "cell_type": "code",
   "execution_count": null,
   "metadata": {},
   "outputs": [],
   "source": [
    "discount_rate_function(market_dict['DISCOUNT'].zero_curve_rate_df,ref_date,df_output)"
   ]
  },
  {
   "cell_type": "code",
   "execution_count": null,
   "metadata": {},
   "outputs": [],
   "source": []
  },
  {
   "cell_type": "code",
   "execution_count": null,
   "metadata": {},
   "outputs": [],
   "source": []
  }
 ],
 "metadata": {
  "kernelspec": {
   "display_name": "Python 3",
   "language": "python",
   "name": "python3"
  },
  "language_info": {
   "codemirror_mode": {
    "name": "ipython",
    "version": 3
   },
   "file_extension": ".py",
   "mimetype": "text/x-python",
   "name": "python",
   "nbconvert_exporter": "python",
   "pygments_lexer": "ipython3",
   "version": "3.8.5"
  }
 },
 "nbformat": 4,
 "nbformat_minor": 4
}
