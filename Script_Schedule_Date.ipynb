{
  "nbformat": 4,
  "nbformat_minor": 0,
  "metadata": {
    "colab": {
      "name": "Script_Schedule_Date.ipynb",
      "provenance": [],
      "collapsed_sections": [],
      "include_colab_link": true
    },
    "kernelspec": {
      "name": "python3",
      "display_name": "Python 3"
    },
    "language_info": {
      "name": "python"
    }
  },
  "cells": [
    {
      "cell_type": "markdown",
      "metadata": {
        "id": "view-in-github",
        "colab_type": "text"
      },
      "source": [
        "<a href=\"https://colab.research.google.com/github/MPrazzoli/corpsol/blob/main/Script_Schedule_Date.ipynb\" target=\"_parent\"><img src=\"https://colab.research.google.com/assets/colab-badge.svg\" alt=\"Open In Colab\"/></a>"
      ]
    },
    {
      "cell_type": "code",
      "metadata": {
        "id": "2-K-FgCMeMKW",
        "colab": {
          "base_uri": "https://localhost:8080/"
        },
        "outputId": "4d6bbb89-706e-45eb-8e88-9503b69b7b85"
      },
      "source": [
        "from google.colab import drive\n",
        "drive.mount('/content/drive')"
      ],
      "execution_count": 37,
      "outputs": [
        {
          "output_type": "stream",
          "text": [
            "Mounted at /content/drive\n"
          ],
          "name": "stdout"
        }
      ]
    },
    {
      "cell_type": "code",
      "metadata": {
        "id": "J8KSjJu5-DK6",
        "colab": {
          "base_uri": "https://localhost:8080/"
        },
        "outputId": "dc706f1c-11d7-4330-aa70-060dbcf155ad"
      },
      "source": [
        "pip install QuantLib"
      ],
      "execution_count": 4,
      "outputs": [
        {
          "output_type": "stream",
          "text": [
            "Collecting QuantLib\n",
            "\u001b[?25l  Downloading https://files.pythonhosted.org/packages/fb/c2/f24a3d27cbf3896dd5655e98efe352b2a8a1d3404dca88b7caa5aa8bf4a4/QuantLib-1.22-cp37-cp37m-manylinux2010_x86_64.whl (20.1MB)\n",
            "\u001b[K     |████████████████████████████████| 20.1MB 6.9MB/s \n",
            "\u001b[?25hInstalling collected packages: QuantLib\n",
            "Successfully installed QuantLib-1.22\n"
          ],
          "name": "stdout"
        }
      ]
    },
    {
      "cell_type": "code",
      "metadata": {
        "id": "ujBQQLhW-Nls"
      },
      "source": [
        "import os\n",
        "import math\n",
        "import numpy as np\n",
        "import pandas as pd\n",
        "from QuantLib import *\n",
        "from datetime import date"
      ],
      "execution_count": 5,
      "outputs": []
    },
    {
      "cell_type": "markdown",
      "metadata": {
        "id": "lPYl6s51rpch"
      },
      "source": [
        "*Class: Market Data*"
      ]
    },
    {
      "cell_type": "code",
      "metadata": {
        "id": "Yy495j1Tqica"
      },
      "source": [
        "class historical_fixed_rate(object):\n",
        "\n",
        "    def __init__(self, reference_date, currency, underlying):\n",
        "        \n",
        "        try:\n",
        "            self.reference_date = datetime.strptime(reference_date, '%d/%m/%Y')\n",
        "        \n",
        "        self.currency = currency\n",
        "        self.underlying = underlying\n",
        "        self.historical_fixed_rate_df = pd.DataFrame\n",
        "\n",
        "class zero_curve_rate(object):\n",
        "\n",
        "    def __init__(self, name, reference_date, currency, underlying):\n",
        "        \n",
        "        self.name = name\n",
        "        \n",
        "        try:\n",
        "            self.reference_date = datetime.strptime(reference_date, '%d/%m/%Y')\n",
        "      \n",
        "        self.currency = currency\n",
        "        self.underlying = underlying\n",
        "        self.interpolation_rule = None\n",
        "        self.day_count = None\n",
        "        self.zero_curve_rate_df = pd.DataFrame\n",
        "\n",
        "    def set_interpolation(self, interpolation_rule, day_count):\n",
        "        self.interpolation_rule = interpolation_rule\n",
        "        self.day_count = day_count\n",
        "\n",
        "    def add_discount(self, date, value, label):\n",
        "        try:\n",
        "            date = datetime.strptime(date, '%d/%m/%Y')\n",
        "            self.discount = self.discount.append({'DATE': date, 'DISCOUNT': value, 'LABEL': label}, ignore_index=True)\n",
        "\n",
        "    def set_discounts(self, discounts):\n",
        "        try:\n",
        "            self.discount = pd.DataFrame(discounts)\n",
        "            self.discount.discount = self.discount.discount.apply(lambda x: x['value']['mid'])\n",
        "            self.discount['date'] = pd.to_datetime(self.discount['date'], format='%d/%m/%Y')\n",
        "            self.discount.drop('counter', axis=1, inplace=True)\n",
        "            self.discount.rename(columns={'date': 'DATE', 'discount': 'DISCOUNT', 'label': 'LABEL'}, inplace=True)\n",
        "            self.discount.sort_values('DATE', ascending=True, inplace=True)\n",
        "            self.discount.drop(self.discount.index[0], inplace=True)\n",
        "\n",
        "    def compute_rate(self, valuation_date, mul=1):\n",
        "       \n",
        "        try:\n",
        "            self.discount['RATE'] = -np.log(self.discount['DISCOUNT']) / (\n",
        "                    (self.discount['DATE'] - valuation_date).dt.days / 365) * mul\n",
        "      \n",
        "class volatility_surface(object):\n",
        "\n",
        "    def __init__(self, name, reference_date):\n",
        "        self.name = name\n",
        "        try:\n",
        "            self.reference_date = datetime.strptime(reference_date, '%Y-%m-%d')\n",
        "      \n",
        "        self.volatility_surface = pd.DataFrame()\n",
        "        self.shift = None\n",
        "        self.maturity_list = []\n",
        "        self.strike_list = []\n",
        "\n",
        "    def add_vola(self, maturity, shift, strike, vola):\n",
        "\n",
        "        self.maturity_list.append(maturity)\n",
        "\n",
        "        if self.shift is None:\n",
        "            self.shift = shift\n",
        "\n",
        "        if len(self.strike_list) == 0:\n",
        "            self.strike_list.extend(strike)\n",
        "\n",
        "        self.vola = self.vola.append(vola, ignore_index=True)"
      ],
      "execution_count": null,
      "outputs": []
    },
    {
      "cell_type": "markdown",
      "metadata": {
        "id": "5VoMWRFqqtG-"
      },
      "source": [
        "*Class: IRS & Derivative (Cap / Floor)*"
      ]
    },
    {
      "cell_type": "code",
      "metadata": {
        "id": "YdGYNAFPqpwg"
      },
      "source": [
        "class IRS:\n",
        "\n",
        "  def __init__(self, leg1_name = 'Receive', leg2_name = 'Pay', leg1_rate_type = 'Fixed', leg2_rate_type = 'Floating'):\n",
        "\n",
        "    self.start_date = None\n",
        "    self.leg1_flows = pd.DataFrame\n",
        "    self.leg2_flows = pd.DataFrame\n",
        "    self.leg1_name = leg1_name\n",
        "    self.leg2_name = leg2_name\n",
        "    self.leg1_rate_type = leg1_rate_type  \n",
        "    self.leg2_rate_type = leg2_rate_type\n",
        "    self.npv = None\n",
        "\n",
        "class DERIVATIVE:\n",
        "\n",
        "  def __init__(self):\n",
        "\n",
        "    self.strike = None\n",
        "    self.premium = None\n",
        "    self.flows = pd.DataFrame"
      ],
      "execution_count": 9,
      "outputs": []
    },
    {
      "cell_type": "markdown",
      "metadata": {
        "id": "3HiJXyprrp8s"
      },
      "source": [
        "*Oggetto: *"
      ]
    },
    {
      "cell_type": "code",
      "metadata": {
        "id": "Jvo806ruro7K"
      },
      "source": [
        "class DERIVATIVE:\n",
        "\n",
        "  def __init__(self, strike):\n",
        "\n",
        "    self.strike = \n",
        "    self.premium = None\n",
        "    self.flows = pd.DataFrame"
      ],
      "execution_count": null,
      "outputs": []
    },
    {
      "cell_type": "markdown",
      "metadata": {
        "id": "p82QG0FF4mX0"
      },
      "source": [
        "*Submit function*"
      ]
    },
    {
      "cell_type": "code",
      "metadata": {
        "id": "3nSLOn514k6Z"
      },
      "source": [
        "def submit(path,\n",
        "           underlying,\n",
        "           amortization_type,\n",
        "           notional,\n",
        "           amortization_rate,\n",
        "           maturity_label,\n",
        "           ref_date,\n",
        "           tenor,\n",
        "           business_convention,\n",
        "           date_gen_rule,\n",
        "           currency = 'EUR',\n",
        "           calendar = TARGET(),\n",
        "           end_of_month = False,\n",
        "           deduction_formula = '-1M LBD/-1BD',\n",
        "           day_count = Actual360):\n",
        "\n",
        "  irs = IRS()\n",
        "irs.start_date = calendar.advance(ref_date,2,Days)\n",
        "if maturity_label[-1] == 'M':\n",
        "   irs.maturity_date = calendar.advance(start_date, int(maturity_label.rsplit(maturity_label[-1], 1)[0]), Months)\n",
        "elif maturity_label[-1] == 'Y':\n",
        "   irs.maturity_date = calendar.advance(start_date, int(maturity_label.rsplit(maturity_label[-1], 1)[0]), Years)\n",
        "\n",
        "############## input MX3 #######################################################\n",
        "\n",
        "    historical_fixed_rates = historical_fixed_rate(name=\"HISTORICAL RATE\", reference_date=reference_date.strftime('%d/%m/%Y'), currency=currency, underlying=underlying)\n",
        "    historical_fixed_rates.historical_fixed_rate_df = pd.read_excel(path, sheet_name='fixings')\n",
        "\n",
        "    estimation_curve = zero_curve_rate(name='ESTIMATION', reference_date=reference_date.strftime('%d/%m/%Y'), currency=currency, underlying=underlying)\n",
        "    estimation_curve.zero_curve_rate_df = pd.read_excel(path, sheet_name='estimation')\n",
        "\n",
        "    discount_curve = zero_curve_rate(name='DISCOUNT', reference_date=reference_date.strftime('%d/%m/%Y'), currency=currency, underlying=underlying)\n",
        "    discount_curve.zero_curve_rate_df = pd.read_excel(path, sheet_name='discount')\n",
        "\n",
        "    zero_curve_dict = {'ESTIMATION': estimation_curve, 'DISCOUNT': discount_curve}\n"
      ],
      "execution_count": null,
      "outputs": []
    },
    {
      "cell_type": "code",
      "metadata": {
        "id": "gRcFRe52qi6T"
      },
      "source": [
        "try:\n",
        "  underlying = input('Inserire il sottostante: ')\n",
        "  if underlying == '':\n",
        "    underlying = 'EUR3M'\n",
        "except:\n",
        "  underlying = 'EUR3M'\n",
        "\n",
        "try:\n",
        "  amortization_type = input('Inserire il piano di ammortamento: ')\n",
        "  if amortization_type == '':\n",
        "    amortization_type = 'Bullet'\n",
        "except:\n",
        "  amortization_type = 'Bullet'\n",
        "\n",
        "try:\n",
        "  notional = float(input('Inserire il nozionale: '))\n",
        "except:\n",
        "  notional = 100000.0\n",
        "\n",
        "try:\n",
        "  amortization_rate = float(input('Inserire il tasso annuo: '))\n",
        "except:\n",
        "  amortization_rate = .05\n",
        "\n",
        "try:\n",
        "  maturity_label = input('Inserire la durata del finanziamento in label (\"M\" per i mesi e \"Y\" per gli anni): ')\n",
        "  if maturity_label == '':\n",
        "     maturity_label = '5Y'\n",
        "except:\n",
        "  maturity_label = '5Y'\n",
        "\n",
        "try:\n",
        "  ref_date = Date(input('Inserire la data iniziale del finanziamento in formato dd/mm/yyyy: '),'%d/%m/%Y')\n",
        "  if ref_date == '':\n",
        "    ref_date = Date(date.today().day,date.today().month,date.today().year)\n",
        "except:\n",
        "  ref_date = Date(date.today().day,date.today().month,date.today().year)\n",
        "\n",
        "try:\n",
        "  tenor = int(input('Inserire il periodo che intercorre tra le rate in numero di mesi: '))\n",
        "except:\n",
        "  tenor = 3\n",
        "\n",
        "try:\n",
        "  business_convention = input('Inserire la convenzione:')\n",
        "  if business_convention == '' or business_convention == 'ModifiedFollowing':\n",
        "    business_convention = ModifiedFollowing\n",
        "except:\n",
        "  business_convention = ModifiedFollowing\n",
        "\n",
        "try:\n",
        "  date_gen_rule = input('Inserire la regola per il calcolo delle date:')\n",
        "  if date_gen_rule == '' or date_gen_rule == 'Forward':\n",
        "    date_gen_rule = DateGeneration.Forward\n",
        "  else: \n",
        "    date_gen_rule = DateGeneration.Backward\n",
        "except:\n",
        "  date_gen_rule = DateGeneration.Forward\n",
        "\n",
        "market_data_path = '/content/drive/MyDrive/data.xlsx'\n"
      ],
      "execution_count": null,
      "outputs": []
    },
    {
      "cell_type": "code",
      "metadata": {
        "id": "WDLBTylPGmMv"
      },
      "source": [
        "historical_fixed_rates.historical_fixed_rate_df = pd.read_excel(path, sheet_name='fixings')\n",
        "estimation_curve.zero_curve_rate_df = pd.read_excel(path, sheet_name='estimation')\n",
        "discount_curve.zero_curve_rate_df = pd.read_excel(path, sheet_name='discount')\n"
      ],
      "execution_count": null,
      "outputs": []
    },
    {
      "cell_type": "code",
      "metadata": {
        "id": "L9hgu5bQpMjc",
        "outputId": "8b7538d5-c392-48b1-a515-92e9665799f6",
        "colab": {
          "base_uri": "https://localhost:8080/",
          "height": 203
        }
      },
      "source": [
        "submit(path = market_data_path, underlying = underlying, amortization_type = amortization_type, notional = notional, amortization_rate = amortization_rate, maturity_label = maturity_label, ref_date = ref_date, tenor = tenor,\n",
        "       business_convention = business_convention, date_gen_rule = date_gen_rule)"
      ],
      "execution_count": 1,
      "outputs": [
        {
          "output_type": "error",
          "ename": "NameError",
          "evalue": "ignored",
          "traceback": [
            "\u001b[0;31m---------------------------------------------------------------------------\u001b[0m",
            "\u001b[0;31mNameError\u001b[0m                                 Traceback (most recent call last)",
            "\u001b[0;32m<ipython-input-1-5fb41fc477a1>\u001b[0m in \u001b[0;36m<module>\u001b[0;34m()\u001b[0m\n\u001b[0;32m----> 1\u001b[0;31m submit(path = market_data_path, underlying = underlying, amortization_type = amortization_type, notional = notional, amortization_rate = amortization_rate, maturity_label = maturity_label, ref_date = ref_date, tenor = tenor,\n\u001b[0m\u001b[1;32m      2\u001b[0m        business_convention = business_convention, date_gen_rule = date_gen_rule)\n",
            "\u001b[0;31mNameError\u001b[0m: name 'submit' is not defined"
          ]
        }
      ]
    },
    {
      "cell_type": "code",
      "metadata": {
        "id": "vrNRR8r1zho_"
      },
      "source": [
        "#Trasformazione della durata da anni.mesi in mesi\n",
        "Durata_mesi=int(int(durata)*12+round(durata-int(durata),3)*100) \n",
        "Durata_mesi"
      ],
      "execution_count": null,
      "outputs": []
    },
    {
      "cell_type": "markdown",
      "metadata": {
        "id": "PVU9arV7ziQ3"
      },
      "source": [
        "*Submit for pricing*"
      ]
    },
    {
      "cell_type": "code",
      "metadata": {
        "id": "GejgzVLpqjH_"
      },
      "source": [
        "submit(curve=curve, vola=vola, reference_date=ref, start_date=start, maturity_date=end, currency=ccy, notional=notional,\n",
        "           tenor=tenor, fixing_frequency=firxing_freq, payment_calendar=paycal, fixing_calendar=fixcal, end_of_month=eom,\n",
        "           business_convention=bc, termination_business_convention=tc, date_generation=dg, deduction_formula=df, day_count=daycount,\n",
        "           cap_floor=derivative, cap_strike=cap_strike, floor_strike=floor_strike)"
      ],
      "execution_count": null,
      "outputs": []
    },
    {
      "cell_type": "code",
      "metadata": {
        "id": "Y4gjelBsqjTw"
      },
      "source": [
        ""
      ],
      "execution_count": null,
      "outputs": []
    },
    {
      "cell_type": "code",
      "metadata": {
        "id": "SKb1Mxeoqje1"
      },
      "source": [
        ""
      ],
      "execution_count": null,
      "outputs": []
    },
    {
      "cell_type": "code",
      "metadata": {
        "id": "lF99XSZTqjpN"
      },
      "source": [
        ""
      ],
      "execution_count": null,
      "outputs": []
    },
    {
      "cell_type": "markdown",
      "metadata": {
        "id": "KRSLL5ScA2xb"
      },
      "source": [
        "Inserimento degli input"
      ]
    },
    {
      "cell_type": "code",
      "metadata": {
        "id": "Z4-rxN3x-PyA",
        "colab": {
          "base_uri": "https://localhost:8080/",
          "height": 527
        },
        "outputId": "113b0b3f-61de-47cd-f269-d7e856d53093"
      },
      "source": [
        "Piano=input('Inserire il piano di ammortamento: ')\n",
        "nozionale=float(input('Inserire il nozionale: '))\n",
        "tasso=float(input('Inserire il tassuo annuo: '))\n",
        "durata=float(input('Inserire la durata del finanziamento in anni.mesi indicando sempre 2 cifre per i mesi: '))\n",
        "RefDate=input('Inserire la data iniziale del finanziamento utilizzando \\\"/\": ')\n",
        "periodo=int(input('Inserire il periodo che intercorre tra le rate in numero di mesi: '))\n",
        "Convenzione=input('Inserire la convezione:')\n",
        "Regola=input('Inserire la regola per il calcolo delle date:')"
      ],
      "execution_count": null,
      "outputs": [
        {
          "output_type": "error",
          "ename": "KeyboardInterrupt",
          "evalue": "ignored",
          "traceback": [
            "\u001b[0;31m---------------------------------------------------------------------------\u001b[0m",
            "\u001b[0;31mKeyboardInterrupt\u001b[0m                         Traceback (most recent call last)",
            "\u001b[0;32m/usr/local/lib/python3.7/dist-packages/ipykernel/kernelbase.py\u001b[0m in \u001b[0;36m_input_request\u001b[0;34m(self, prompt, ident, parent, password)\u001b[0m\n\u001b[1;32m    728\u001b[0m             \u001b[0;32mtry\u001b[0m\u001b[0;34m:\u001b[0m\u001b[0;34m\u001b[0m\u001b[0;34m\u001b[0m\u001b[0m\n\u001b[0;32m--> 729\u001b[0;31m                 \u001b[0mident\u001b[0m\u001b[0;34m,\u001b[0m \u001b[0mreply\u001b[0m \u001b[0;34m=\u001b[0m \u001b[0mself\u001b[0m\u001b[0;34m.\u001b[0m\u001b[0msession\u001b[0m\u001b[0;34m.\u001b[0m\u001b[0mrecv\u001b[0m\u001b[0;34m(\u001b[0m\u001b[0mself\u001b[0m\u001b[0;34m.\u001b[0m\u001b[0mstdin_socket\u001b[0m\u001b[0;34m,\u001b[0m \u001b[0;36m0\u001b[0m\u001b[0;34m)\u001b[0m\u001b[0;34m\u001b[0m\u001b[0;34m\u001b[0m\u001b[0m\n\u001b[0m\u001b[1;32m    730\u001b[0m             \u001b[0;32mexcept\u001b[0m \u001b[0mException\u001b[0m\u001b[0;34m:\u001b[0m\u001b[0;34m\u001b[0m\u001b[0;34m\u001b[0m\u001b[0m\n",
            "\u001b[0;32m/usr/local/lib/python3.7/dist-packages/jupyter_client/session.py\u001b[0m in \u001b[0;36mrecv\u001b[0;34m(self, socket, mode, content, copy)\u001b[0m\n\u001b[1;32m    802\u001b[0m         \u001b[0;32mtry\u001b[0m\u001b[0;34m:\u001b[0m\u001b[0;34m\u001b[0m\u001b[0;34m\u001b[0m\u001b[0m\n\u001b[0;32m--> 803\u001b[0;31m             \u001b[0mmsg_list\u001b[0m \u001b[0;34m=\u001b[0m \u001b[0msocket\u001b[0m\u001b[0;34m.\u001b[0m\u001b[0mrecv_multipart\u001b[0m\u001b[0;34m(\u001b[0m\u001b[0mmode\u001b[0m\u001b[0;34m,\u001b[0m \u001b[0mcopy\u001b[0m\u001b[0;34m=\u001b[0m\u001b[0mcopy\u001b[0m\u001b[0;34m)\u001b[0m\u001b[0;34m\u001b[0m\u001b[0;34m\u001b[0m\u001b[0m\n\u001b[0m\u001b[1;32m    804\u001b[0m         \u001b[0;32mexcept\u001b[0m \u001b[0mzmq\u001b[0m\u001b[0;34m.\u001b[0m\u001b[0mZMQError\u001b[0m \u001b[0;32mas\u001b[0m \u001b[0me\u001b[0m\u001b[0;34m:\u001b[0m\u001b[0;34m\u001b[0m\u001b[0;34m\u001b[0m\u001b[0m\n",
            "\u001b[0;32m/usr/local/lib/python3.7/dist-packages/zmq/sugar/socket.py\u001b[0m in \u001b[0;36mrecv_multipart\u001b[0;34m(self, flags, copy, track)\u001b[0m\n\u001b[1;32m    582\u001b[0m         \"\"\"\n\u001b[0;32m--> 583\u001b[0;31m         \u001b[0mparts\u001b[0m \u001b[0;34m=\u001b[0m \u001b[0;34m[\u001b[0m\u001b[0mself\u001b[0m\u001b[0;34m.\u001b[0m\u001b[0mrecv\u001b[0m\u001b[0;34m(\u001b[0m\u001b[0mflags\u001b[0m\u001b[0;34m,\u001b[0m \u001b[0mcopy\u001b[0m\u001b[0;34m=\u001b[0m\u001b[0mcopy\u001b[0m\u001b[0;34m,\u001b[0m \u001b[0mtrack\u001b[0m\u001b[0;34m=\u001b[0m\u001b[0mtrack\u001b[0m\u001b[0;34m)\u001b[0m\u001b[0;34m]\u001b[0m\u001b[0;34m\u001b[0m\u001b[0;34m\u001b[0m\u001b[0m\n\u001b[0m\u001b[1;32m    584\u001b[0m         \u001b[0;31m# have first part already, only loop while more to receive\u001b[0m\u001b[0;34m\u001b[0m\u001b[0;34m\u001b[0m\u001b[0;34m\u001b[0m\u001b[0m\n",
            "\u001b[0;32mzmq/backend/cython/socket.pyx\u001b[0m in \u001b[0;36mzmq.backend.cython.socket.Socket.recv\u001b[0;34m()\u001b[0m\n",
            "\u001b[0;32mzmq/backend/cython/socket.pyx\u001b[0m in \u001b[0;36mzmq.backend.cython.socket.Socket.recv\u001b[0;34m()\u001b[0m\n",
            "\u001b[0;32mzmq/backend/cython/socket.pyx\u001b[0m in \u001b[0;36mzmq.backend.cython.socket._recv_copy\u001b[0;34m()\u001b[0m\n",
            "\u001b[0;32m/usr/local/lib/python3.7/dist-packages/zmq/backend/cython/checkrc.pxd\u001b[0m in \u001b[0;36mzmq.backend.cython.checkrc._check_rc\u001b[0;34m()\u001b[0m\n",
            "\u001b[0;31mKeyboardInterrupt\u001b[0m: ",
            "\nDuring handling of the above exception, another exception occurred:\n",
            "\u001b[0;31mKeyboardInterrupt\u001b[0m                         Traceback (most recent call last)",
            "\u001b[0;32m<ipython-input-4-30936ff48bf9>\u001b[0m in \u001b[0;36m<module>\u001b[0;34m()\u001b[0m\n\u001b[0;32m----> 1\u001b[0;31m \u001b[0mPiano\u001b[0m\u001b[0;34m=\u001b[0m\u001b[0minput\u001b[0m\u001b[0;34m(\u001b[0m\u001b[0;34m'Inserire il piano di ammortamento: '\u001b[0m\u001b[0;34m)\u001b[0m\u001b[0;34m\u001b[0m\u001b[0;34m\u001b[0m\u001b[0m\n\u001b[0m\u001b[1;32m      2\u001b[0m \u001b[0mnozionale\u001b[0m\u001b[0;34m=\u001b[0m\u001b[0mfloat\u001b[0m\u001b[0;34m(\u001b[0m\u001b[0minput\u001b[0m\u001b[0;34m(\u001b[0m\u001b[0;34m'Inserire il nozionale: '\u001b[0m\u001b[0;34m)\u001b[0m\u001b[0;34m)\u001b[0m\u001b[0;34m\u001b[0m\u001b[0;34m\u001b[0m\u001b[0m\n\u001b[1;32m      3\u001b[0m \u001b[0mtasso\u001b[0m\u001b[0;34m=\u001b[0m\u001b[0mfloat\u001b[0m\u001b[0;34m(\u001b[0m\u001b[0minput\u001b[0m\u001b[0;34m(\u001b[0m\u001b[0;34m'Inserire il tassuo annuo: '\u001b[0m\u001b[0;34m)\u001b[0m\u001b[0;34m)\u001b[0m\u001b[0;34m\u001b[0m\u001b[0;34m\u001b[0m\u001b[0m\n\u001b[1;32m      4\u001b[0m \u001b[0mdurata\u001b[0m\u001b[0;34m=\u001b[0m\u001b[0mfloat\u001b[0m\u001b[0;34m(\u001b[0m\u001b[0minput\u001b[0m\u001b[0;34m(\u001b[0m\u001b[0;34m'Inserire la durata del finanziamento in anni.mesi indicando sempre 2 cifre per i mesi: '\u001b[0m\u001b[0;34m)\u001b[0m\u001b[0;34m)\u001b[0m\u001b[0;34m\u001b[0m\u001b[0;34m\u001b[0m\u001b[0m\n\u001b[1;32m      5\u001b[0m \u001b[0mRefDate\u001b[0m\u001b[0;34m=\u001b[0m\u001b[0minput\u001b[0m\u001b[0;34m(\u001b[0m\u001b[0;34m'Inserire la data iniziale del finanziamento utilizzando \\\"/\": '\u001b[0m\u001b[0;34m)\u001b[0m\u001b[0;34m\u001b[0m\u001b[0;34m\u001b[0m\u001b[0m\n",
            "\u001b[0;32m/usr/local/lib/python3.7/dist-packages/ipykernel/kernelbase.py\u001b[0m in \u001b[0;36mraw_input\u001b[0;34m(self, prompt)\u001b[0m\n\u001b[1;32m    702\u001b[0m             \u001b[0mself\u001b[0m\u001b[0;34m.\u001b[0m\u001b[0m_parent_ident\u001b[0m\u001b[0;34m,\u001b[0m\u001b[0;34m\u001b[0m\u001b[0;34m\u001b[0m\u001b[0m\n\u001b[1;32m    703\u001b[0m             \u001b[0mself\u001b[0m\u001b[0;34m.\u001b[0m\u001b[0m_parent_header\u001b[0m\u001b[0;34m,\u001b[0m\u001b[0;34m\u001b[0m\u001b[0;34m\u001b[0m\u001b[0m\n\u001b[0;32m--> 704\u001b[0;31m             \u001b[0mpassword\u001b[0m\u001b[0;34m=\u001b[0m\u001b[0;32mFalse\u001b[0m\u001b[0;34m,\u001b[0m\u001b[0;34m\u001b[0m\u001b[0;34m\u001b[0m\u001b[0m\n\u001b[0m\u001b[1;32m    705\u001b[0m         )\n\u001b[1;32m    706\u001b[0m \u001b[0;34m\u001b[0m\u001b[0m\n",
            "\u001b[0;32m/usr/local/lib/python3.7/dist-packages/ipykernel/kernelbase.py\u001b[0m in \u001b[0;36m_input_request\u001b[0;34m(self, prompt, ident, parent, password)\u001b[0m\n\u001b[1;32m    732\u001b[0m             \u001b[0;32mexcept\u001b[0m \u001b[0mKeyboardInterrupt\u001b[0m\u001b[0;34m:\u001b[0m\u001b[0;34m\u001b[0m\u001b[0;34m\u001b[0m\u001b[0m\n\u001b[1;32m    733\u001b[0m                 \u001b[0;31m# re-raise KeyboardInterrupt, to truncate traceback\u001b[0m\u001b[0;34m\u001b[0m\u001b[0;34m\u001b[0m\u001b[0;34m\u001b[0m\u001b[0m\n\u001b[0;32m--> 734\u001b[0;31m                 \u001b[0;32mraise\u001b[0m \u001b[0mKeyboardInterrupt\u001b[0m\u001b[0;34m\u001b[0m\u001b[0;34m\u001b[0m\u001b[0m\n\u001b[0m\u001b[1;32m    735\u001b[0m             \u001b[0;32melse\u001b[0m\u001b[0;34m:\u001b[0m\u001b[0;34m\u001b[0m\u001b[0;34m\u001b[0m\u001b[0m\n\u001b[1;32m    736\u001b[0m                 \u001b[0;32mbreak\u001b[0m\u001b[0;34m\u001b[0m\u001b[0;34m\u001b[0m\u001b[0m\n",
            "\u001b[0;31mKeyboardInterrupt\u001b[0m: "
          ]
        }
      ]
    },
    {
      "cell_type": "code",
      "metadata": {
        "id": "xv26hrRgdRbr"
      },
      "source": [
        "#Trasformazione della durata da anni.mesi in mesi\n",
        "Durata_mesi=int(int(durata)*12+round(durata-int(durata),3)*100) \n",
        "Durata_mesi"
      ],
      "execution_count": null,
      "outputs": []
    },
    {
      "cell_type": "markdown",
      "metadata": {
        "id": "HSooYcIPBfCT"
      },
      "source": [
        "Generazione dello schedule delle date"
      ]
    },
    {
      "cell_type": "code",
      "metadata": {
        "id": "dswmfiYO_MTO"
      },
      "source": [
        "calendar=TARGET()\n",
        "RefDate_data=Date(RefDate,'%d/%m/%Y')\n",
        "StartDate=calendar.advance(RefDate_data,2,Days)\n",
        "terminationDate=calendar.advance(StartDate,Durata_mesi,Months)\n",
        "tenor=Period(periodo,Months)\n",
        "if (Convenzione == 'ModifiedFollowing'):\n",
        "  convention=1\n",
        "elif (Convenzione == 'ModifiedFollowing'):\n",
        "    convention=0\n",
        "terminationDateConvention= convention\n",
        "if (Regola == 'Forward'):\n",
        "  rule=1\n",
        "elif (Regola == 'Backward'):\n",
        "  rule=0\n",
        "endofmonth=False\n",
        "schedule=Schedule(StartDate,terminationDate,tenor,calendar,convention,terminationDateConvention,rule,endofmonth)\n",
        "schedule_end=Schedule(StartDate+tenor,terminationDate,tenor,calendar,convention,terminationDateConvention,rule,endofmonth)\n",
        "lista_startdate=pd.DataFrame({'startdate':list(schedule)})\n",
        "lista_enddate=pd.DataFrame({'enddate':list(schedule_end)})"
      ],
      "execution_count": null,
      "outputs": []
    },
    {
      "cell_type": "markdown",
      "metadata": {
        "id": "YtOuk6QjBkyY"
      },
      "source": [
        "Ammortamento Francese"
      ]
    },
    {
      "cell_type": "code",
      "metadata": {
        "id": "Md8CeB6fAqE4"
      },
      "source": [
        "#Calcolo della rata \n",
        "rate_totali=int((12/periodo)*round(Durata_mesi/12,2))\n",
        "t=(1+tasso/(12/periodo))**rate_totali\n",
        "rata=round(nozionale*t*(tasso/(12/periodo))/(t-1),2)\n",
        "Residuo=nozionale\n",
        "tot_I=0\n",
        "Estinto=0\n",
        "plan=np.array\n",
        "plan=[[0,0,0,0,0,Residuo]]"
      ],
      "execution_count": null,
      "outputs": []
    },
    {
      "cell_type": "code",
      "metadata": {
        "id": "cEb6NHjzHHrs"
      },
      "source": [
        "rate=range(0,rate_totali)\n",
        "for count in rate:\n",
        "  Int_quota=round(Residuo*tasso/(12/periodo),2)\n",
        "  Cap_quota=(rata-Int_quota)\n",
        "  tot_I=(tot_I+Int_quota)\n",
        "  Residuo=(Residuo-Cap_quota)\n",
        "  Estinto=(Estinto+Cap_quota)\n",
        "  Tot=(Int_quota+Cap_quota)\n",
        "  plan.append([Int_quota,Cap_quota,Tot,tot_I,Estinto,Residuo])"
      ],
      "execution_count": null,
      "outputs": []
    },
    {
      "cell_type": "code",
      "metadata": {
        "id": "9xGM6kvUI0e-"
      },
      "source": [
        "index=['Quota Interesse','Quota Capitale','Rata','Interessi Totali','Debito Estinto','Debito Residuo']\n",
        "df=pd.DataFrame(plan)\n",
        "df.columns=index\n",
        "df1=pd.concat([lista_startdate,df],axis=1)\n",
        "df2=pd.concat([lista_startdate,lista_enddate,df['Debito Residuo']],axis=1)"
      ],
      "execution_count": null,
      "outputs": []
    },
    {
      "cell_type": "markdown",
      "metadata": {
        "id": "hhbGFsQoByku"
      },
      "source": [
        "Ammortamento Italiano"
      ]
    },
    {
      "cell_type": "code",
      "metadata": {
        "id": "r4hwgAt4gvN0"
      },
      "source": [
        "Residuo_ita=nozionale\n",
        "tot_I_ita=0\n",
        "Estinto_ita=0\n",
        "Tot_ita=0\n",
        "plan_ita=np.array\n",
        "plan_ita=[[0,0,0,0,0,Residuo_ita]]"
      ],
      "execution_count": null,
      "outputs": []
    },
    {
      "cell_type": "code",
      "metadata": {
        "id": "xVIaYS4AhH0g"
      },
      "source": [
        "rate_ita=range(0,rate_totali)\n",
        "for count in rate_ita:\n",
        "  Int_quota_ita=round(Residuo_ita*tasso/(12/periodo),2)\n",
        "  Cap_quota_ita=round((nozionale/rate_totali),2)\n",
        "  tot_I_ita=(tot_I_ita+Int_quota_ita)\n",
        "  Residuo_ita=(Residuo_ita-Cap_quota_ita)\n",
        "  Estinto_ita=(Estinto_ita+Cap_quota_ita)\n",
        "  Tot_ita=(Int_quota_ita+Cap_quota_ita)\n",
        "  plan_ita.append([Int_quota_ita,Cap_quota_ita,Tot_ita,tot_I_ita,Estinto_ita,Residuo_ita])"
      ],
      "execution_count": null,
      "outputs": []
    },
    {
      "cell_type": "code",
      "metadata": {
        "id": "iH7ASVLgiFMe"
      },
      "source": [
        "index=['Quota Interesse','Quota Capitale','Rata','Interessi Totali','Debito Estinto','Debito Residuo']\n",
        "df_ita=pd.DataFrame(plan_ita)\n",
        "df_ita.columns=index\n",
        "df1_ita=pd.concat([lista_startdate,df_ita],axis=1)\n",
        "df2_ita=pd.concat([lista_startdate,lista_enddate,df_ita['Debito Residuo']],axis=1)"
      ],
      "execution_count": null,
      "outputs": []
    },
    {
      "cell_type": "markdown",
      "metadata": {
        "id": "zLILip3kB146"
      },
      "source": [
        "Ammortamento Bullet"
      ]
    },
    {
      "cell_type": "code",
      "metadata": {
        "id": "EStLvgWXHI-d"
      },
      "source": [
        "Residuo_bullet=nozionale\n",
        "tot_I_bullet=0\n",
        "plan_bullet=np.array\n",
        "plan_bullet=[[0,0,Residuo_bullet]]\n",
        "rate_bullet=range(0,rate_totali)\n",
        "for count in rate_bullet:\n",
        "  Int_quota_bullet=round(Residuo_bullet*tasso/(12/periodo),2)\n",
        "  tot_I_bullet=(tot_I_bullet+Int_quota_bullet)\n",
        "  plan_bullet.append([Int_quota_bullet,tot_I_bullet,Residuo_bullet])"
      ],
      "execution_count": null,
      "outputs": []
    },
    {
      "cell_type": "code",
      "metadata": {
        "id": "v-cuoLRgYliR"
      },
      "source": [
        "index=['Quota Interesse','Interessi Totali','Debito Residuo']\n",
        "df_bullet=pd.DataFrame(plan_bullet)\n",
        "df_bullet.columns=index\n",
        "df1_bullet=pd.concat([lista_startdate,df_bullet],axis=1)\n",
        "df2_bullet=pd.concat([lista_startdate,lista_enddate,df_bullet['Debito Residuo']],axis=1)\n",
        "df2_bullet=df2_bullet[:-1]"
      ],
      "execution_count": null,
      "outputs": []
    },
    {
      "cell_type": "markdown",
      "metadata": {
        "id": "cUCVYHYdB7eE"
      },
      "source": [
        "Output del modello"
      ]
    },
    {
      "cell_type": "code",
      "metadata": {
        "id": "-aJrqx6Fji9d"
      },
      "source": [
        "if (Piano== 'Francese'):\n",
        "  print (df2)\n",
        "elif (Piano == 'Italiano'):\n",
        "  print (df2_ita)\n",
        "elif (Piano == 'Bullet'):\n",
        "  print (df2_bullet)"
      ],
      "execution_count": null,
      "outputs": []
    }
  ]
}