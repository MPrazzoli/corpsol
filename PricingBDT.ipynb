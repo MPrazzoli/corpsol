{
  "nbformat": 4,
  "nbformat_minor": 0,
  "metadata": {
    "colab": {
      "name": "PricingBDT.ipynb",
      "provenance": [],
      "mount_file_id": "1WlgWNdqRFCJn8vklz19QuZ66OlXLuiHd",
      "authorship_tag": "ABX9TyPueJRr9RHt+bzspFCBZEsM",
      "include_colab_link": true
    },
    "kernelspec": {
      "name": "python3",
      "display_name": "Python 3"
    },
    "language_info": {
      "name": "python"
    }
  },
  "cells": [
    {
      "cell_type": "markdown",
      "metadata": {
        "id": "view-in-github",
        "colab_type": "text"
      },
      "source": [
        "<a href=\"https://colab.research.google.com/github/MPrazzoli/corpsol/blob/main/PricingBDT.ipynb\" target=\"_parent\"><img src=\"https://colab.research.google.com/assets/colab-badge.svg\" alt=\"Open In Colab\"/></a>"
      ]
    },
    {
      "cell_type": "code",
      "metadata": {
        "colab": {
          "base_uri": "https://localhost:8080/"
        },
        "id": "GDKPzKav5xAr",
        "outputId": "51d2ade6-4887-4753-e3d5-13067c00d9c8"
      },
      "source": [
        "from google.colab import drive\n",
        "drive.mount('/content/drive')"
      ],
      "execution_count": null,
      "outputs": [
        {
          "output_type": "stream",
          "text": [
            "Drive already mounted at /content/drive; to attempt to forcibly remount, call drive.mount(\"/content/drive\", force_remount=True).\n"
          ],
          "name": "stdout"
        }
      ]
    },
    {
      "cell_type": "code",
      "metadata": {
        "id": "Vso4rqQPDgIG"
      },
      "source": [
        "pip install xlsxwriter"
      ],
      "execution_count": null,
      "outputs": []
    },
    {
      "cell_type": "code",
      "metadata": {
        "id": "N3j9xOrc6qhx"
      },
      "source": [
        "import numpy as np\n",
        "import pandas as pd\n",
        "import warnings\n",
        "import xlsxwriter\n",
        "warnings.filterwarnings('ignore')"
      ],
      "execution_count": null,
      "outputs": []
    },
    {
      "cell_type": "code",
      "metadata": {
        "id": "eSyXi9dK-A2m"
      },
      "source": [
        "murex_details = pd.read_excel('/content/drive/MyDrive/TemplateBDT/Template.xlsx', sheet_name='Details')              \n",
        "murex_evaluation_flows = pd.read_excel('/content/drive/MyDrive/TemplateBDT/Template.xlsx', sheet_name='EvalFlows')\n",
        "murex_evaluation_flows.drop(murex_evaluation_flows.tail(1).index,inplace=True) # drop last row (sum)"
      ],
      "execution_count": null,
      "outputs": []
    },
    {
      "cell_type": "code",
      "metadata": {
        "id": "cizq35Qt6qqd"
      },
      "source": [
        "workbook = xlsxwriter.Workbook('/content/drive/MyDrive/TemplateBDT/Example2.xlsx') \n",
        "worksheet = workbook.add_worksheet()\n",
        "\n",
        "# Start from the first cell.\n",
        "# Rows and columns are zero indexed.\n",
        "row = 0\n",
        "column = 0\n",
        "  \n",
        "content = [\"ankit\", \"rahul\", \"priya\", \"harshita\",\n",
        "                    \"sumit\", \"neeraj\", \"shivam\"]\n",
        "  \n",
        "# iterating through content list\n",
        "for item in content :\n",
        "  \n",
        "    # write operation perform\n",
        "    worksheet.write(row, column, item)\n",
        "  \n",
        "    # incrementing the value of row by one\n",
        "    # with each iteratons.\n",
        "    row += 1\n",
        "      \n",
        "workbook.close()"
      ],
      "execution_count": null,
      "outputs": []
    },
    {
      "cell_type": "code",
      "metadata": {
        "id": "SWRtTpkX6qyi"
      },
      "source": [
        ""
      ],
      "execution_count": null,
      "outputs": []
    }
  ]
}