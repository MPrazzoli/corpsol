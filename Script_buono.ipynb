{
  "nbformat": 4,
  "nbformat_minor": 0,
  "metadata": {
    "colab": {
      "name": "Script buono.ipynb",
      "provenance": [],
      "collapsed_sections": [],
      "include_colab_link": true
    },
    "kernelspec": {
      "name": "python3",
      "display_name": "Python 3"
    },
    "language_info": {
      "name": "python"
    }
  },
  "cells": [
    {
      "cell_type": "markdown",
      "metadata": {
        "id": "view-in-github",
        "colab_type": "text"
      },
      "source": [
        "<a href=\"https://colab.research.google.com/github/MPrazzoli/corpsol/blob/main/Script_buono.ipynb\" target=\"_parent\"><img src=\"https://colab.research.google.com/assets/colab-badge.svg\" alt=\"Open In Colab\"/></a>"
      ]
    },
    {
      "cell_type": "code",
      "metadata": {
        "colab": {
          "base_uri": "https://localhost:8080/"
        },
        "id": "72XW5NkYLNrF",
        "outputId": "a8e033af-139b-41f6-af7e-a52da3ed821a"
      },
      "source": [
        "from google.colab import drive\n",
        "drive.mount('/content/drive')"
      ],
      "execution_count": 1,
      "outputs": [
        {
          "output_type": "stream",
          "text": [
            "Mounted at /content/drive\n"
          ],
          "name": "stdout"
        }
      ]
    },
    {
      "cell_type": "code",
      "metadata": {
        "colab": {
          "base_uri": "https://localhost:8080/"
        },
        "id": "SfXKlWc1LSdX",
        "outputId": "879253c7-419c-42b2-ebf3-fdb49691d572"
      },
      "source": [
        "pip install QuantLib"
      ],
      "execution_count": 2,
      "outputs": [
        {
          "output_type": "stream",
          "text": [
            "Collecting QuantLib\n",
            "\u001b[?25l  Downloading https://files.pythonhosted.org/packages/fb/c2/f24a3d27cbf3896dd5655e98efe352b2a8a1d3404dca88b7caa5aa8bf4a4/QuantLib-1.22-cp37-cp37m-manylinux2010_x86_64.whl (20.1MB)\n",
            "\u001b[K     |████████████████████████████████| 20.1MB 1.2MB/s \n",
            "\u001b[?25hInstalling collected packages: QuantLib\n",
            "Successfully installed QuantLib-1.22\n"
          ],
          "name": "stdout"
        }
      ]
    },
    {
      "cell_type": "code",
      "metadata": {
        "id": "pIeewTMPLWZB"
      },
      "source": [
        "import os\n",
        "from math import *\n",
        "import numpy as np\n",
        "import pandas as pd\n",
        "from QuantLib import *\n",
        "from datetime import date, datetime\n",
        "\n",
        "path = '/content/drive/MyDrive/nicoDiscount.xlsx'"
      ],
      "execution_count": 3,
      "outputs": []
    },
    {
      "cell_type": "markdown",
      "metadata": {
        "id": "wJ3grH5reCNf"
      },
      "source": [
        "***Inserimento degli Input***"
      ]
    },
    {
      "cell_type": "code",
      "metadata": {
        "id": "g9y53J8KMdhl",
        "colab": {
          "base_uri": "https://localhost:8080/"
        },
        "outputId": "56f8d053-da42-48cd-81d2-c94b9e01374b"
      },
      "source": [
        "try:\n",
        "  underlying = input('Inserire il sottostante: ')\n",
        "  if underlying == '':\n",
        "    underlying = 'EUR3M'\n",
        "except:\n",
        "  underlying = 'EUR3M'\n",
        "\n",
        "try:\n",
        "  amortization_type = input('Inserire il piano di ammortamento: ')\n",
        "  if amortization_type == '':\n",
        "    amortization_type = 'Bullet'\n",
        "except:\n",
        "  amortization_type = 'Bullet'\n",
        "\n",
        "try:\n",
        "  notional = float(input('Inserire il nozionale: '))\n",
        "except:\n",
        "  notional = 100000.0\n",
        "\n",
        "try:\n",
        "  amortization_rate = float(input('Inserire il tasso annuo: '))\n",
        "except:\n",
        "  amortization_rate = .05\n",
        "\n",
        "try:\n",
        "  maturity_label = input('Inserire la durata del finanziamento in label (\"M\" per i mesi e \"Y\" per gli anni): ')\n",
        "  if maturity_label == '':\n",
        "     maturity_label = '5Y'\n",
        "except:\n",
        "  maturity_label = '5Y'\n",
        "\n",
        "try:\n",
        "  ref_date = Date(input('Inserire la data iniziale del finanziamento in formato dd/mm/yyyy: '),'%d/%m/%Y')\n",
        "  if ref_date == '':\n",
        "    ref_date = Date(date.today().day,date.today().month,date.today().year)\n",
        "except:\n",
        "  ref_date = Date(date.today().day,date.today().month,date.today().year)\n",
        "\n",
        "try:\n",
        "  tenor = int(input('Inserire il periodo che intercorre tra le rate in numero di mesi: '))\n",
        "except:\n",
        "  tenor = 3\n",
        "\n",
        "try:\n",
        "  business_convention = input('Inserire la convenzione:')\n",
        "  if business_convention == '' or business_convention == 'ModifiedFollowing':\n",
        "    business_convention = ModifiedFollowing\n",
        "except:\n",
        "  business_convention = ModifiedFollowing\n",
        "\n",
        "try:\n",
        "  date_gen_rule = input('Inserire la regola per il calcolo delle date:')\n",
        "  if date_gen_rule == '' or date_gen_rule == 'Forward':\n",
        "    date_gen_rule = DateGeneration.Forward\n",
        "  else: \n",
        "    date_gen_rule = DateGeneration.Backward\n",
        "except:\n",
        "  date_gen_rule = DateGeneration.Forward"
      ],
      "execution_count": 4,
      "outputs": [
        {
          "output_type": "stream",
          "text": [
            "Inserire il sottostante: \n",
            "Inserire il piano di ammortamento: \n",
            "Inserire il nozionale: 100000000\n",
            "Inserire il tasso annuo: \n",
            "Inserire la durata del finanziamento in label (\"M\" per i mesi e \"Y\" per gli anni): 3Y\n",
            "Inserire la data iniziale del finanziamento in formato dd/mm/yyyy: 27/04/2021\n",
            "Inserire il periodo che intercorre tra le rate in numero di mesi: 3\n",
            "Inserire la convenzione:\n",
            "Inserire la regola per il calcolo delle date:\n"
          ],
          "name": "stdout"
        }
      ]
    },
    {
      "cell_type": "markdown",
      "metadata": {
        "id": "xBE5FxJ-R1zy"
      },
      "source": [
        "***Schedule Date***"
      ]
    },
    {
      "cell_type": "code",
      "metadata": {
        "id": "FzIjsLQyMswX"
      },
      "source": [
        "calendar = TARGET()\n",
        "start_date = calendar.advance(ref_date,2,Days)\n",
        "if maturity_label[-1] == 'M':\n",
        "    maturity_date = calendar.advance(start_date, int(maturity_label.rsplit(maturity_label[-1], 1)[0]), Months)\n",
        "elif maturity_label[-1] == 'Y':\n",
        "    maturity_date = calendar.advance(start_date, int(maturity_label.rsplit(maturity_label[-1], 1)[0]), Years)\n",
        "Tenor = Period(tenor, Months)\n",
        "endofmonth = False\n",
        "terminationDateConvention = business_convention\n",
        "df = pd.DataFrame({'startdate':list(Schedule(start_date,maturity_date,Tenor,calendar,business_convention,terminationDateConvention,date_gen_rule,endofmonth))[:-1],'enddate':list(Schedule(start_date,maturity_date,Tenor,calendar,business_convention,terminationDateConvention,date_gen_rule,endofmonth))[1:]})"
      ],
      "execution_count": 5,
      "outputs": []
    },
    {
      "cell_type": "code",
      "metadata": {
        "id": "uJru00VGSKmz"
      },
      "source": [
        "# Calcolo numero delle rate totali dell'ammortamento\n",
        "if maturity_label[-1] == 'M':\n",
        "  rate_totali = int(12/tenor)\n",
        "elif maturity_label[-1] == 'Y':\n",
        "  rate_totali = int((12/tenor) * int(maturity_label.rsplit(maturity_label[-1], 1)[0]))"
      ],
      "execution_count": 6,
      "outputs": []
    },
    {
      "cell_type": "markdown",
      "metadata": {
        "id": "kkpXAwHuTY28"
      },
      "source": [
        "***Ammortamento Francese***"
      ]
    },
    {
      "cell_type": "code",
      "metadata": {
        "id": "HMcchmnQBqba"
      },
      "source": [
        "def ammortamento_francese(amortization_rate,tenor,rate_totali,notional):\n",
        "  \n",
        "  t = (1 + amortization_rate / (12 / tenor)) ** rate_totali\n",
        "  rata_fra = round(notional * t * (amortization_rate / (12 / tenor)) / (t - 1),2)\n",
        "  Residuo_fra = notional\n",
        "  Estinto_fra = 0\n",
        "  tot_I_fra = 0\n",
        "  plan_fra = np.array\n",
        "  plan_fra = [[0,0,0,0,0, Residuo_fra]]\n",
        "  rate_fra = range(0, rate_totali)\n",
        "  for count in rate_fra:\n",
        "    Int_quota_fra = round(Residuo_fra * (amortization_rate*(tenor/12)),2)\n",
        "    Cap_quota_fra = (rata_fra - Int_quota_fra)\n",
        "    tot_I_fra = (tot_I_fra + Int_quota_fra)\n",
        "    Residuo_fra = (Residuo_fra - Cap_quota_fra)\n",
        "    Estinto_fra = (Estinto_fra + Cap_quota_fra)\n",
        "    Tot_fra = (Int_quota_fra + Cap_quota_fra)\n",
        "    plan.append([Int_quota_fra, Cap_quota_fra, Tot_fra, tot_I_fra, Estinto_fra, Residuo_fra])\n",
        "  index = ['Quota Interesse','Quota Capitale','Rata','Interessi Totali','Debito Estinto','Debito Residuo']\n",
        "  df_fra = pd.DataFrame(plan_fra)\n",
        "  df_fra.columns = index\n",
        "  df1_fra = pd.concat([df,df_fra], axis=1)\n",
        "  df2_fra = pd.concat([df,df_fra['Debito Residuo']], axis=1)[:-1]\n",
        "\n",
        "  return (df2_fra)"
      ],
      "execution_count": 7,
      "outputs": []
    },
    {
      "cell_type": "markdown",
      "metadata": {
        "id": "Cudf7OtKTegK"
      },
      "source": [
        "***Ammortamento Italiano***\n"
      ]
    },
    {
      "cell_type": "code",
      "metadata": {
        "id": "2Ui5Ok7bJEW9"
      },
      "source": [
        "def ammortamento_italiano(amortization_rate,tenor,rate_totali, notional):\n",
        "\n",
        "  Residuo_ita = notional\n",
        "  tot_I_ita = 0\n",
        "  Estinto_ita = 0\n",
        "  Tot_ita = 0\n",
        "  plan_ita = np.array\n",
        "  plan_ita = [[0,0,0,0,0,Residuo_ita]]\n",
        "  rate_ita = range(0,rate_totali)\n",
        "  for count in rate_ita:\n",
        "    Int_quota_ita = round(Residuo_ita*amortization_rate/(12/tenor),2)\n",
        "    Cap_quota_ita = round((notional/rate_totali),2)\n",
        "    tot_I_ita = (tot_I_ita + Int_quota_ita)\n",
        "    Residuo_ita = (Residuo_ita - Cap_quota_ita)\n",
        "    Estinto_ita = (Estinto_ita + Cap_quota_ita)\n",
        "    Tot_ita = (Int_quota_ita + Cap_quota_ita)\n",
        "    plan_ita.append([Int_quota_ita,Cap_quota_ita,Tot_ita,tot_I_ita,Estinto_ita,Residuo_ita])\n",
        "  index = ['Quota Interesse','Quota Capitale','Rata','Interessi Totali','Debito Estinto','Debito Residuo']\n",
        "  df_ita = pd.DataFrame(plan_ita)\n",
        "  df_ita.columns=index\n",
        "  df1_ita = pd.concat([df,df_ita],axis=1)\n",
        "  df2_ita = pd.concat([df,df_ita['Debito Residuo']],axis=1)[:-1]\n",
        "  \n",
        "  return (df2_ita)\n",
        "  "
      ],
      "execution_count": 8,
      "outputs": []
    },
    {
      "cell_type": "markdown",
      "metadata": {
        "id": "UHNkvQf0TltB"
      },
      "source": [
        "***Ammortamento Bullet***\n"
      ]
    },
    {
      "cell_type": "code",
      "metadata": {
        "id": "mTzkKE2aKAU_"
      },
      "source": [
        "def ammortamento_bullet(amortization_rate,tenor,rate_totali, notional):\n",
        "\n",
        "  Residuo_bullet = notional\n",
        "  tot_I_bullet = 0\n",
        "  plan_bullet = np.array\n",
        "  plan_bullet = [[0,0,Residuo_bullet]]\n",
        "  rate_bullet = range(0,rate_totali)\n",
        "  for count in rate_bullet:\n",
        "    Int_quota_bullet = round(Residuo_bullet*amortization_rate/(12/tenor),2)\n",
        "    tot_I_bullet = (tot_I_bullet+Int_quota_bullet)\n",
        "    plan_bullet.append([Int_quota_bullet,tot_I_bullet,Residuo_bullet])\n",
        "  index = ['Quota Interesse','Interessi Totali','Debito Residuo']\n",
        "  df_bullet = pd.DataFrame(plan_bullet)\n",
        "  df_bullet.columns = index\n",
        "  df1_bullet = pd.concat([df,df_bullet],axis=1)\n",
        "  df2_bullet = pd.concat([df,df_bullet['Debito Residuo']],axis=1)\n",
        "  df2_bullet = df2_bullet[:-1]\n",
        "  \n",
        "  return (df2_bullet)"
      ],
      "execution_count": 9,
      "outputs": []
    },
    {
      "cell_type": "markdown",
      "metadata": {
        "id": "_TF0PhLvTqbN"
      },
      "source": [
        "***Output del Modello***\n"
      ]
    },
    {
      "cell_type": "code",
      "metadata": {
        "id": "c_c10rotKcxN",
        "colab": {
          "base_uri": "https://localhost:8080/"
        },
        "outputId": "97bcb4db-c91b-4a46-c0e8-616a1576f81f"
      },
      "source": [
        "if (amortization_type == 'Francese'):\n",
        "  df_output = (ammortamento_francese(amortization_rate,tenor,rate_totali,notional))\n",
        "elif (amortization_type == 'Italiano'):\n",
        "  df_output = (ammortamento_italiano(amortization_rate,tenor,rate_totali,notional))\n",
        "elif (amortization_type == 'Bullet'):\n",
        "  df_output = (ammortamento_bullet(amortization_rate,tenor,rate_totali,notional))\n",
        "  \n",
        "print (df_output)"
      ],
      "execution_count": 10,
      "outputs": [
        {
          "output_type": "stream",
          "text": [
            "             startdate             enddate  Debito Residuo\n",
            "0     April 29th, 2021     July 29th, 2021     100000000.0\n",
            "1      July 29th, 2021  October 29th, 2021     100000000.0\n",
            "2   October 29th, 2021  January 31st, 2022     100000000.0\n",
            "3   January 31st, 2022    April 29th, 2022     100000000.0\n",
            "4     April 29th, 2022     July 29th, 2022     100000000.0\n",
            "5      July 29th, 2022  October 31st, 2022     100000000.0\n",
            "6   October 31st, 2022  January 30th, 2023     100000000.0\n",
            "7   January 30th, 2023    April 28th, 2023     100000000.0\n",
            "8     April 28th, 2023     July 31st, 2023     100000000.0\n",
            "9      July 31st, 2023  October 30th, 2023     100000000.0\n",
            "10  October 30th, 2023  January 29th, 2024     100000000.0\n",
            "11  January 29th, 2024    April 29th, 2024     100000000.0\n"
          ],
          "name": "stdout"
        }
      ]
    },
    {
      "cell_type": "markdown",
      "metadata": {
        "id": "5BYIvyNRA4fC"
      },
      "source": [
        "***Calcolo delle Fixing Date***"
      ]
    },
    {
      "cell_type": "code",
      "metadata": {
        "colab": {
          "base_uri": "https://localhost:8080/"
        },
        "id": "Jn4WsX9RxFOt",
        "outputId": "7760d129-306d-4c3c-c7f4-c5ea96546438"
      },
      "source": [
        "try:\n",
        "  rule_fixing = input('Inserire la regola per le fixing date: ')\n",
        "  if rule_fixing == '':\n",
        "     rule_fixing = '-2BD'\n",
        "except:\n",
        "  rule_fixing = '-2BD'"
      ],
      "execution_count": 11,
      "outputs": [
        {
          "output_type": "stream",
          "text": [
            "Inserire la regola per le fixing date: \n"
          ],
          "name": "stdout"
        }
      ]
    },
    {
      "cell_type": "code",
      "metadata": {
        "id": "euExlataCQpp",
        "colab": {
          "base_uri": "https://localhost:8080/"
        },
        "outputId": "1be6cff4-f82e-403a-9aa3-03edb49ff4ac"
      },
      "source": [
        "column_list = ['fixing date','fixing start','fixing end']\n",
        "for col in column_list:\n",
        "  df_output[col] = np.zeros\n",
        "\n",
        "for i, date in enumerate(df_output['startdate']):\n",
        "  if rule_fixing == '-2BD':\n",
        "    date_fix = calendar.advance(date, -2, Days)\n",
        "  else:\n",
        "    date_fix = calendar.advance(date, -1, Months)\n",
        "    date_fix = calendar.endOfMonth(date_fix)\n",
        "    date_fix = calendar.advance(date_fix, -1, Days)\n",
        "\n",
        "  df_output['fixing date'].iloc[i] = date_fix\n",
        "  df_output['fixing start'].iloc[i] = calendar.advance(date_fix, 2, Days)\n",
        "for t, date in enumerate(df_output['fixing start']):\n",
        "  df_output['fixing end'].iloc[t] = calendar.advance(date, tenor, Months, ModifiedFollowing)\n"
      ],
      "execution_count": 12,
      "outputs": [
        {
          "output_type": "stream",
          "text": [
            "/usr/local/lib/python3.7/dist-packages/pandas/core/indexing.py:670: SettingWithCopyWarning: \n",
            "A value is trying to be set on a copy of a slice from a DataFrame\n",
            "\n",
            "See the caveats in the documentation: https://pandas.pydata.org/pandas-docs/stable/user_guide/indexing.html#returning-a-view-versus-a-copy\n",
            "  iloc._setitem_with_indexer(indexer, value)\n"
          ],
          "name": "stderr"
        }
      ]
    },
    {
      "cell_type": "code",
      "metadata": {
        "colab": {
          "base_uri": "https://localhost:8080/",
          "height": 411
        },
        "id": "KFLafbp4AX_3",
        "outputId": "92e15838-380f-4fab-e14e-9ccbfb8dcd4b"
      },
      "source": [
        "df_output"
      ],
      "execution_count": 13,
      "outputs": [
        {
          "output_type": "execute_result",
          "data": {
            "text/html": [
              "<div>\n",
              "<style scoped>\n",
              "    .dataframe tbody tr th:only-of-type {\n",
              "        vertical-align: middle;\n",
              "    }\n",
              "\n",
              "    .dataframe tbody tr th {\n",
              "        vertical-align: top;\n",
              "    }\n",
              "\n",
              "    .dataframe thead th {\n",
              "        text-align: right;\n",
              "    }\n",
              "</style>\n",
              "<table border=\"1\" class=\"dataframe\">\n",
              "  <thead>\n",
              "    <tr style=\"text-align: right;\">\n",
              "      <th></th>\n",
              "      <th>startdate</th>\n",
              "      <th>enddate</th>\n",
              "      <th>Debito Residuo</th>\n",
              "      <th>fixing date</th>\n",
              "      <th>fixing start</th>\n",
              "      <th>fixing end</th>\n",
              "    </tr>\n",
              "  </thead>\n",
              "  <tbody>\n",
              "    <tr>\n",
              "      <th>0</th>\n",
              "      <td>April 29th, 2021</td>\n",
              "      <td>July 29th, 2021</td>\n",
              "      <td>100000000.0</td>\n",
              "      <td>April 27th, 2021</td>\n",
              "      <td>April 29th, 2021</td>\n",
              "      <td>July 29th, 2021</td>\n",
              "    </tr>\n",
              "    <tr>\n",
              "      <th>1</th>\n",
              "      <td>July 29th, 2021</td>\n",
              "      <td>October 29th, 2021</td>\n",
              "      <td>100000000.0</td>\n",
              "      <td>July 27th, 2021</td>\n",
              "      <td>July 29th, 2021</td>\n",
              "      <td>October 29th, 2021</td>\n",
              "    </tr>\n",
              "    <tr>\n",
              "      <th>2</th>\n",
              "      <td>October 29th, 2021</td>\n",
              "      <td>January 31st, 2022</td>\n",
              "      <td>100000000.0</td>\n",
              "      <td>October 27th, 2021</td>\n",
              "      <td>October 29th, 2021</td>\n",
              "      <td>January 31st, 2022</td>\n",
              "    </tr>\n",
              "    <tr>\n",
              "      <th>3</th>\n",
              "      <td>January 31st, 2022</td>\n",
              "      <td>April 29th, 2022</td>\n",
              "      <td>100000000.0</td>\n",
              "      <td>January 27th, 2022</td>\n",
              "      <td>January 31st, 2022</td>\n",
              "      <td>April 29th, 2022</td>\n",
              "    </tr>\n",
              "    <tr>\n",
              "      <th>4</th>\n",
              "      <td>April 29th, 2022</td>\n",
              "      <td>July 29th, 2022</td>\n",
              "      <td>100000000.0</td>\n",
              "      <td>April 27th, 2022</td>\n",
              "      <td>April 29th, 2022</td>\n",
              "      <td>July 29th, 2022</td>\n",
              "    </tr>\n",
              "    <tr>\n",
              "      <th>5</th>\n",
              "      <td>July 29th, 2022</td>\n",
              "      <td>October 31st, 2022</td>\n",
              "      <td>100000000.0</td>\n",
              "      <td>July 27th, 2022</td>\n",
              "      <td>July 29th, 2022</td>\n",
              "      <td>October 31st, 2022</td>\n",
              "    </tr>\n",
              "    <tr>\n",
              "      <th>6</th>\n",
              "      <td>October 31st, 2022</td>\n",
              "      <td>January 30th, 2023</td>\n",
              "      <td>100000000.0</td>\n",
              "      <td>October 27th, 2022</td>\n",
              "      <td>October 31st, 2022</td>\n",
              "      <td>January 31st, 2023</td>\n",
              "    </tr>\n",
              "    <tr>\n",
              "      <th>7</th>\n",
              "      <td>January 30th, 2023</td>\n",
              "      <td>April 28th, 2023</td>\n",
              "      <td>100000000.0</td>\n",
              "      <td>January 26th, 2023</td>\n",
              "      <td>January 30th, 2023</td>\n",
              "      <td>April 28th, 2023</td>\n",
              "    </tr>\n",
              "    <tr>\n",
              "      <th>8</th>\n",
              "      <td>April 28th, 2023</td>\n",
              "      <td>July 31st, 2023</td>\n",
              "      <td>100000000.0</td>\n",
              "      <td>April 26th, 2023</td>\n",
              "      <td>April 28th, 2023</td>\n",
              "      <td>July 28th, 2023</td>\n",
              "    </tr>\n",
              "    <tr>\n",
              "      <th>9</th>\n",
              "      <td>July 31st, 2023</td>\n",
              "      <td>October 30th, 2023</td>\n",
              "      <td>100000000.0</td>\n",
              "      <td>July 27th, 2023</td>\n",
              "      <td>July 31st, 2023</td>\n",
              "      <td>October 31st, 2023</td>\n",
              "    </tr>\n",
              "    <tr>\n",
              "      <th>10</th>\n",
              "      <td>October 30th, 2023</td>\n",
              "      <td>January 29th, 2024</td>\n",
              "      <td>100000000.0</td>\n",
              "      <td>October 26th, 2023</td>\n",
              "      <td>October 30th, 2023</td>\n",
              "      <td>January 30th, 2024</td>\n",
              "    </tr>\n",
              "    <tr>\n",
              "      <th>11</th>\n",
              "      <td>January 29th, 2024</td>\n",
              "      <td>April 29th, 2024</td>\n",
              "      <td>100000000.0</td>\n",
              "      <td>January 25th, 2024</td>\n",
              "      <td>January 29th, 2024</td>\n",
              "      <td>April 29th, 2024</td>\n",
              "    </tr>\n",
              "  </tbody>\n",
              "</table>\n",
              "</div>"
            ],
            "text/plain": [
              "             startdate  ...          fixing end\n",
              "0     April 29th, 2021  ...     July 29th, 2021\n",
              "1      July 29th, 2021  ...  October 29th, 2021\n",
              "2   October 29th, 2021  ...  January 31st, 2022\n",
              "3   January 31st, 2022  ...    April 29th, 2022\n",
              "4     April 29th, 2022  ...     July 29th, 2022\n",
              "5      July 29th, 2022  ...  October 31st, 2022\n",
              "6   October 31st, 2022  ...  January 31st, 2023\n",
              "7   January 30th, 2023  ...    April 28th, 2023\n",
              "8     April 28th, 2023  ...     July 28th, 2023\n",
              "9      July 31st, 2023  ...  October 31st, 2023\n",
              "10  October 30th, 2023  ...  January 30th, 2024\n",
              "11  January 29th, 2024  ...    April 29th, 2024\n",
              "\n",
              "[12 rows x 6 columns]"
            ]
          },
          "metadata": {
            "tags": []
          },
          "execution_count": 13
        }
      ]
    },
    {
      "cell_type": "markdown",
      "metadata": {
        "id": "yDdsTiDHy6fC"
      },
      "source": [
        "Npv Obiettivo: prova"
      ]
    },
    {
      "cell_type": "code",
      "metadata": {
        "id": "8L9wCvzmhPUN"
      },
      "source": [
        "df_output['differenza_giorni'] = (df_output['enddate'] - df_output['startdate']) / 360\n",
        "df_output['prod'] = (df_output['Debito Residuo'] * df_output['differenza_giorni']) * 0.0001\n",
        "BPV = df_output['prod'].sum()"
      ],
      "execution_count": 14,
      "outputs": []
    },
    {
      "cell_type": "markdown",
      "metadata": {
        "id": "ms9aD-hLATm6"
      },
      "source": [
        "jupi"
      ]
    },
    {
      "cell_type": "markdown",
      "metadata": {
        "id": "OiIv-g1PVGb5"
      },
      "source": [
        "*Class: Market Data*"
      ]
    },
    {
      "cell_type": "code",
      "metadata": {
        "id": "ubcKXwfkUzeH"
      },
      "source": [
        "class historical_fixed_rate(object):\n",
        "\n",
        "    def __init__(self, name, reference_date = None, currency = None, underlying = None):\n",
        "        \n",
        "        try:\n",
        "            self.reference_date = datetime.strptime(reference_date, '%d/%m/%Y')\n",
        "        except:\n",
        "            self.reference_date = None\n",
        "        \n",
        "        self.name = name\n",
        "        self.currency = currency\n",
        "        self.underlying = underlying\n",
        "        self.historical_fixed_rate_df = pd.DataFrame\n",
        "\n",
        "class zero_curve_rate(object):\n",
        "# chiedere a Mirko l'assegnazione di interp_rule e day_count\n",
        "    def __init__(self, name, reference_date = None, currency = None, underlying = None, interp_rule = None, day_count = None):\n",
        "        \n",
        "        self.name = name\n",
        "        \n",
        "        try:\n",
        "            self.reference_date = datetime.strptime(reference_date, '%d/%m/%Y')\n",
        "        except:\n",
        "            self.reference_date = None\n",
        "      \n",
        "        self.currency = currency\n",
        "        self.underlying = underlying\n",
        "        self.interpolation_rule = interp_rule\n",
        "        self.day_count = day_count\n",
        "        self.zero_curve_rate_df = pd.DataFrame"
      ],
      "execution_count": 18,
      "outputs": []
    },
    {
      "cell_type": "code",
      "metadata": {
        "id": "jpJg4ECuVkwy"
      },
      "source": [
        "def market_data(path):\n",
        "\n",
        "  \n",
        "\n",
        "  estimation_curve = zero_curve_rate(name = 'ESTIMATION')\n",
        "  estimation_curve.zero_curve_rate_df = pd.read_excel(path, sheet_name='estimation')\n",
        "\n",
        "  discount_curve = zero_curve_rate(name = 'DISCOUNT')\n",
        "  discount_curve.zero_curve_rate_df = pd.read_excel(path, sheet_name='discount')\n",
        "\n",
        "  market_data_dict = {'ESTIMATION': estimation_curve, 'DISCOUNT': discount_curve}\n",
        "\n",
        "  return(market_data_dict)"
      ],
      "execution_count": 19,
      "outputs": []
    },
    {
      "cell_type": "code",
      "metadata": {
        "id": "fj_O2eTCfWmy"
      },
      "source": [
        "# converto le date della curva importata in Date quantlib\n",
        "market_dict = market_data(path)\n",
        "for i, d in enumerate(market_dict['ESTIMATION'].zero_curve_rate_df['DATE']):\n",
        "  market_dict['ESTIMATION'].zero_curve_rate_df['DATE'].iloc[i] = Date(d.day,d.month,d.year)\n",
        "for i, d in enumerate(market_dict['DISCOUNT'].zero_curve_rate_df['DATE']):\n",
        "  market_dict['DISCOUNT'].zero_curve_rate_df['DATE'].iloc[i] = Date(d.day,d.month,d.year)"
      ],
      "execution_count": null,
      "outputs": []
    },
    {
      "cell_type": "code",
      "metadata": {
        "id": "SvOW7GauWabN"
      },
      "source": [
        "# funzione per convertire le Date quantlib in numeri ATTENZIONE RESTITUISCE SEMPRE UNA LISTA!!!\n",
        "def date_to_ordinal(date_to_convert):\n",
        "  date_number = []\n",
        "  if type(date_to_convert) == QuantLib.Date:\n",
        "    date_convert = datetime(date_to_convert.year(),date_to_convert.month(),date_to_convert.dayOfMonth())\n",
        "    date_number.append(date_convert.toordinal())\n",
        "  else:\n",
        "    for i, d in enumerate(date_to_convert):\n",
        "      date_convert = datetime(d.year(), d.month(), d.dayOfMonth())\n",
        "      date_number.append(date_convert.toordinal())\n",
        "  return date_number\n"
      ],
      "execution_count": 21,
      "outputs": []
    },
    {
      "cell_type": "code",
      "metadata": {
        "id": "S8aTe-NQhUcP"
      },
      "source": [
        "def rate_interpoletor(interpolation_type, x_interpolation, y_interpolation, date_to_interpolate):\n",
        "    interpolation_object = interpolation_type(x_interpolation, y_interpolation)\n",
        "    rate_interpolated = interpolation_object(date_to_interpolate, allowExtrapolation=True)\n",
        "    return rate_interpolated"
      ],
      "execution_count": 22,
      "outputs": []
    },
    {
      "cell_type": "markdown",
      "metadata": {
        "id": "rnLV6kW_fdTe"
      },
      "source": [
        "ESTIMATION RATE FUNCTION"
      ]
    },
    {
      "cell_type": "code",
      "metadata": {
        "id": "g4Jab-UvZque"
      },
      "source": [
        "def estimation_rate_function(dataframe_curve, date_fixing_start, date_fixing_end, ref_date): # da passare i fixed rate !!!!!!!!!!!!!!!!!!!!!!!!!!!!!!!!!!!!\n",
        "  date_curve_number = date_to_ordinal( dataframe_curve['DATE'])      \n",
        "  date_fixing_start_number = date_to_ordinal(date_fixing_start)\n",
        "  date_fixing_end_number = date_to_ordinal(date_fixing_end)\n",
        "  ref_date_number = date_to_ordinal(ref_date)\n",
        "  rate_start = []\n",
        "  for date in date_fixing_start_number:\n",
        "    rate = rate_interpoletor(KrugerCubic, list(date_curve_number), list(dataframe_curve['RATE']), date)\n",
        "    rate_start.append(rate)\n",
        "  discount_start = []\n",
        "  for i, rate in enumerate(rate_start):\n",
        "    discount_start.append(exp(-rate / 100 * ((date_fixing_start_number[i] - ref_date_number[0]) / 365))) # convenzione curva di estimation dell'EURIBOR è act/365\n",
        "  rate_end = []\n",
        "  for date in date_fixing_end_number:\n",
        "    rate_end.append(rate_interpoletor(KrugerCubic, list(date_curve_number), list(dataframe_curve['RATE']), date))\n",
        "  discount_end = []\n",
        "  for i, rate in enumerate(rate_end):\n",
        "    discount_end.append(exp(-rate / 100 * ((date_fixing_end_number[i] - ref_date_number[0]) / 365)))\n",
        "  estimated_rate = []\n",
        "  for i, date in enumerate(date_fixing_start_number):\n",
        "    if date <= ref_date_number[0] : \n",
        "      estimated_rate.append(0) # bisogna mettere il rate che fa riferimento al sottostante !!!!!!!!!!!!!!!!!!!!!!!!!!!!!!!!!!!!\n",
        "    else:\n",
        "      estimated_rate.append((discount_start[i] / discount_end[i] - 1) / ((date_fixing_end_number[i] - date) / 360)) # convenzione per i discount dell'EURIBOR è act/360\n",
        "  return estimated_rate"
      ],
      "execution_count": 23,
      "outputs": []
    },
    {
      "cell_type": "code",
      "metadata": {
        "id": "ayKOBBW5auKm"
      },
      "source": [
        "forw_rate = estimation_rate_function(market_dict['ESTIMATION'].zero_curve_rate_df,df_output['fixing start'], df_output['fixing end'], ref_date)\n"
      ],
      "execution_count": 36,
      "outputs": []
    },
    {
      "cell_type": "code",
      "metadata": {
        "id": "yWqBZ0Tqf3sR"
      },
      "source": [
        "def discount_rate(dataframe_curve, ref_date, dataframe_schedule):\n",
        "  date_curve_number = date_to_ordinal(dataframe_curve['DATE'])\n",
        "  end_date_number = date_to_ordinal(dataframe_schedule['enddate'])\n",
        "  ref_date_number = date_to_ordinal(ref_date)\n",
        "  settlement_date_number = date_to_ordinal(dataframe_schedule['startdate'][0])\n",
        "  rate_list = [] \n",
        "  for date in end_date_number:\n",
        "    rate_list.append(rate_interpoletor(KrugerCubic, list(date_curve_number), list(dataframe_curve['RATE']), date))\n",
        "  settlement_date_rate = rate_interpoletor(KrugerCubic, list(date_curve_number), list(dataframe_curve['RATE']), settlement_date_number[0])\n",
        "  discount_list = []\n",
        "  for i, rate_curve in enumerate(rate_list):\n",
        "    discount_list.append(exp(-rate_curve/ 100 * (end_date_number[i] - ref_date_number[0])/ 365))\n",
        "  discount_settlement = exp(-settlement_date_rate/ 100 * ((settlement_date_number[0] - ref_date_number[0]) / 365))\n",
        "  discount_rates = []\n",
        "  for discount in discount_list:\n",
        "    discount_rates.append(discount / discount_settlement)\n",
        "  return discount_rates"
      ],
      "execution_count": 31,
      "outputs": []
    },
    {
      "cell_type": "code",
      "metadata": {
        "id": "zYYln0SyrHzp",
        "colab": {
          "base_uri": "https://localhost:8080/"
        },
        "outputId": "b5d1e4bc-d1e4-4d2d-b573-939df6a0345a"
      },
      "source": [
        "discount_factor = discount_rate(market_dict['DISCOUNT'].zero_curve_rate_df,ref_date,df_output)\n",
        "discount_factor\n"
      ],
      "execution_count": 32,
      "outputs": [
        {
          "output_type": "execute_result",
          "data": {
            "text/plain": [
              "[1.0014451595745224,\n",
              " 1.0029251980057587,\n",
              " 1.0044412642780323,\n",
              " 1.0058695914332871,\n",
              " 1.0073487625675843,\n",
              " 1.0088700878664547,\n",
              " 1.01032845718949,\n",
              " 1.0116547309932844,\n",
              " 1.012987812139482,\n",
              " 1.0142224381655065,\n",
              " 1.015393228355791,\n",
              " 1.0164902929907125]"
            ]
          },
          "metadata": {
            "tags": []
          },
          "execution_count": 32
        }
      ]
    },
    {
      "cell_type": "code",
      "metadata": {
        "id": "8wPu5DrSf2i7"
      },
      "source": [
        "df_output['diff_giorni'] = (df_output['enddate'] - df_output['startdate']) / 360\n",
        "df_output['prod'] = (df_output['Debito Residuo'] * df_output['diff_giorni']) \n",
        "df_output['Rate'] = forw_rate\n",
        "df_output['Flows'] = df_output['prod'] * df_output['Rate']\n",
        "df_output['disc factor'] = discount_factor\n",
        "df_output['Discounted Flow'] = df_output['Flows'] * df_output['disc factor']\n"
      ],
      "execution_count": 47,
      "outputs": []
    },
    {
      "cell_type": "code",
      "metadata": {
        "colab": {
          "base_uri": "https://localhost:8080/"
        },
        "id": "qF2p8Uvkcf4d",
        "outputId": "fa3cb927-e675-4442-c6cf-bad4d25b7cf0"
      },
      "source": [
        "NPV_leg_float = df_output['Discounted Flow'].sum()\n",
        "NPV_leg_float"
      ],
      "execution_count": 50,
      "outputs": [
        {
          "output_type": "execute_result",
          "data": {
            "text/plain": [
              "-1435449.6506823702"
            ]
          },
          "metadata": {
            "tags": []
          },
          "execution_count": 50
        }
      ]
    },
    {
      "cell_type": "code",
      "metadata": {
        "id": "hd9LeH6e8SWf"
      },
      "source": [
        ""
      ],
      "execution_count": null,
      "outputs": []
    },
    {
      "cell_type": "code",
      "metadata": {
        "colab": {
          "base_uri": "https://localhost:8080/",
          "height": 856
        },
        "id": "uq6j3gPkc0z3",
        "outputId": "268713e7-7196-4a77-e41a-8afc44fa8cc3"
      },
      "source": [
        "df_output"
      ],
      "execution_count": 48,
      "outputs": [
        {
          "output_type": "execute_result",
          "data": {
            "text/html": [
              "<div>\n",
              "<style scoped>\n",
              "    .dataframe tbody tr th:only-of-type {\n",
              "        vertical-align: middle;\n",
              "    }\n",
              "\n",
              "    .dataframe tbody tr th {\n",
              "        vertical-align: top;\n",
              "    }\n",
              "\n",
              "    .dataframe thead th {\n",
              "        text-align: right;\n",
              "    }\n",
              "</style>\n",
              "<table border=\"1\" class=\"dataframe\">\n",
              "  <thead>\n",
              "    <tr style=\"text-align: right;\">\n",
              "      <th></th>\n",
              "      <th>startdate</th>\n",
              "      <th>enddate</th>\n",
              "      <th>Debito Residuo</th>\n",
              "      <th>fixing date</th>\n",
              "      <th>fixing start</th>\n",
              "      <th>fixing end</th>\n",
              "      <th>differenza_giorni</th>\n",
              "      <th>prod</th>\n",
              "      <th>Rate</th>\n",
              "      <th>Flows</th>\n",
              "      <th>disc factor</th>\n",
              "      <th>Discounted Flow</th>\n",
              "      <th>diff_giorni</th>\n",
              "    </tr>\n",
              "  </thead>\n",
              "  <tbody>\n",
              "    <tr>\n",
              "      <th>0</th>\n",
              "      <td>April 29th, 2021</td>\n",
              "      <td>July 29th, 2021</td>\n",
              "      <td>100000000.0</td>\n",
              "      <td>April 27th, 2021</td>\n",
              "      <td>April 29th, 2021</td>\n",
              "      <td>July 29th, 2021</td>\n",
              "      <td>0.252778</td>\n",
              "      <td>2.52778e+07</td>\n",
              "      <td>-0.005364</td>\n",
              "      <td>-135590</td>\n",
              "      <td>1.001445</td>\n",
              "      <td>-135786</td>\n",
              "      <td>0.252778</td>\n",
              "    </tr>\n",
              "    <tr>\n",
              "      <th>1</th>\n",
              "      <td>July 29th, 2021</td>\n",
              "      <td>October 29th, 2021</td>\n",
              "      <td>100000000.0</td>\n",
              "      <td>July 27th, 2021</td>\n",
              "      <td>July 29th, 2021</td>\n",
              "      <td>October 29th, 2021</td>\n",
              "      <td>0.255556</td>\n",
              "      <td>2.55556e+07</td>\n",
              "      <td>-0.005340</td>\n",
              "      <td>-136467</td>\n",
              "      <td>1.002925</td>\n",
              "      <td>-136866</td>\n",
              "      <td>0.255556</td>\n",
              "    </tr>\n",
              "    <tr>\n",
              "      <th>2</th>\n",
              "      <td>October 29th, 2021</td>\n",
              "      <td>January 31st, 2022</td>\n",
              "      <td>100000000.0</td>\n",
              "      <td>October 27th, 2021</td>\n",
              "      <td>October 29th, 2021</td>\n",
              "      <td>January 31st, 2022</td>\n",
              "      <td>0.261111</td>\n",
              "      <td>2.61111e+07</td>\n",
              "      <td>-0.005330</td>\n",
              "      <td>-139172</td>\n",
              "      <td>1.004441</td>\n",
              "      <td>-139790</td>\n",
              "      <td>0.261111</td>\n",
              "    </tr>\n",
              "    <tr>\n",
              "      <th>3</th>\n",
              "      <td>January 31st, 2022</td>\n",
              "      <td>April 29th, 2022</td>\n",
              "      <td>100000000.0</td>\n",
              "      <td>January 27th, 2022</td>\n",
              "      <td>January 31st, 2022</td>\n",
              "      <td>April 29th, 2022</td>\n",
              "      <td>0.244444</td>\n",
              "      <td>2.44444e+07</td>\n",
              "      <td>-0.005290</td>\n",
              "      <td>-129311</td>\n",
              "      <td>1.005870</td>\n",
              "      <td>-130070</td>\n",
              "      <td>0.244444</td>\n",
              "    </tr>\n",
              "    <tr>\n",
              "      <th>4</th>\n",
              "      <td>April 29th, 2022</td>\n",
              "      <td>July 29th, 2022</td>\n",
              "      <td>100000000.0</td>\n",
              "      <td>April 27th, 2022</td>\n",
              "      <td>April 29th, 2022</td>\n",
              "      <td>July 29th, 2022</td>\n",
              "      <td>0.252778</td>\n",
              "      <td>2.52778e+07</td>\n",
              "      <td>-0.005180</td>\n",
              "      <td>-130939</td>\n",
              "      <td>1.007349</td>\n",
              "      <td>-131901</td>\n",
              "      <td>0.252778</td>\n",
              "    </tr>\n",
              "    <tr>\n",
              "      <th>5</th>\n",
              "      <td>July 29th, 2022</td>\n",
              "      <td>October 31st, 2022</td>\n",
              "      <td>100000000.0</td>\n",
              "      <td>July 27th, 2022</td>\n",
              "      <td>July 29th, 2022</td>\n",
              "      <td>October 31st, 2022</td>\n",
              "      <td>0.261111</td>\n",
              "      <td>2.61111e+07</td>\n",
              "      <td>-0.005061</td>\n",
              "      <td>-132146</td>\n",
              "      <td>1.008870</td>\n",
              "      <td>-133318</td>\n",
              "      <td>0.261111</td>\n",
              "    </tr>\n",
              "    <tr>\n",
              "      <th>6</th>\n",
              "      <td>October 31st, 2022</td>\n",
              "      <td>January 30th, 2023</td>\n",
              "      <td>100000000.0</td>\n",
              "      <td>October 27th, 2022</td>\n",
              "      <td>October 31st, 2022</td>\n",
              "      <td>January 31st, 2023</td>\n",
              "      <td>0.252778</td>\n",
              "      <td>2.52778e+07</td>\n",
              "      <td>-0.004930</td>\n",
              "      <td>-124629</td>\n",
              "      <td>1.010328</td>\n",
              "      <td>-125916</td>\n",
              "      <td>0.252778</td>\n",
              "    </tr>\n",
              "    <tr>\n",
              "      <th>7</th>\n",
              "      <td>January 30th, 2023</td>\n",
              "      <td>April 28th, 2023</td>\n",
              "      <td>100000000.0</td>\n",
              "      <td>January 26th, 2023</td>\n",
              "      <td>January 30th, 2023</td>\n",
              "      <td>April 28th, 2023</td>\n",
              "      <td>0.244444</td>\n",
              "      <td>2.44444e+07</td>\n",
              "      <td>-0.004618</td>\n",
              "      <td>-112886</td>\n",
              "      <td>1.011655</td>\n",
              "      <td>-114201</td>\n",
              "      <td>0.244444</td>\n",
              "    </tr>\n",
              "    <tr>\n",
              "      <th>8</th>\n",
              "      <td>April 28th, 2023</td>\n",
              "      <td>July 31st, 2023</td>\n",
              "      <td>100000000.0</td>\n",
              "      <td>April 26th, 2023</td>\n",
              "      <td>April 28th, 2023</td>\n",
              "      <td>July 28th, 2023</td>\n",
              "      <td>0.261111</td>\n",
              "      <td>2.61111e+07</td>\n",
              "      <td>-0.004280</td>\n",
              "      <td>-111751</td>\n",
              "      <td>1.012988</td>\n",
              "      <td>-113202</td>\n",
              "      <td>0.261111</td>\n",
              "    </tr>\n",
              "    <tr>\n",
              "      <th>9</th>\n",
              "      <td>July 31st, 2023</td>\n",
              "      <td>October 30th, 2023</td>\n",
              "      <td>100000000.0</td>\n",
              "      <td>July 27th, 2023</td>\n",
              "      <td>July 31st, 2023</td>\n",
              "      <td>October 31st, 2023</td>\n",
              "      <td>0.252778</td>\n",
              "      <td>2.52778e+07</td>\n",
              "      <td>-0.003983</td>\n",
              "      <td>-100693</td>\n",
              "      <td>1.014222</td>\n",
              "      <td>-102125</td>\n",
              "      <td>0.252778</td>\n",
              "    </tr>\n",
              "    <tr>\n",
              "      <th>10</th>\n",
              "      <td>October 30th, 2023</td>\n",
              "      <td>January 29th, 2024</td>\n",
              "      <td>100000000.0</td>\n",
              "      <td>October 26th, 2023</td>\n",
              "      <td>October 30th, 2023</td>\n",
              "      <td>January 30th, 2024</td>\n",
              "      <td>0.252778</td>\n",
              "      <td>2.52778e+07</td>\n",
              "      <td>-0.003580</td>\n",
              "      <td>-90482.1</td>\n",
              "      <td>1.015393</td>\n",
              "      <td>-91874.9</td>\n",
              "      <td>0.252778</td>\n",
              "    </tr>\n",
              "    <tr>\n",
              "      <th>11</th>\n",
              "      <td>January 29th, 2024</td>\n",
              "      <td>April 29th, 2024</td>\n",
              "      <td>100000000.0</td>\n",
              "      <td>January 25th, 2024</td>\n",
              "      <td>January 29th, 2024</td>\n",
              "      <td>April 29th, 2024</td>\n",
              "      <td>0.252778</td>\n",
              "      <td>2.52778e+07</td>\n",
              "      <td>-0.003129</td>\n",
              "      <td>-79094.2</td>\n",
              "      <td>1.016490</td>\n",
              "      <td>-80398.5</td>\n",
              "      <td>0.252778</td>\n",
              "    </tr>\n",
              "  </tbody>\n",
              "</table>\n",
              "</div>"
            ],
            "text/plain": [
              "             startdate             enddate  ...  Discounted Flow diff_giorni\n",
              "0     April 29th, 2021     July 29th, 2021  ...          -135786    0.252778\n",
              "1      July 29th, 2021  October 29th, 2021  ...          -136866    0.255556\n",
              "2   October 29th, 2021  January 31st, 2022  ...          -139790    0.261111\n",
              "3   January 31st, 2022    April 29th, 2022  ...          -130070    0.244444\n",
              "4     April 29th, 2022     July 29th, 2022  ...          -131901    0.252778\n",
              "5      July 29th, 2022  October 31st, 2022  ...          -133318    0.261111\n",
              "6   October 31st, 2022  January 30th, 2023  ...          -125916    0.252778\n",
              "7   January 30th, 2023    April 28th, 2023  ...          -114201    0.244444\n",
              "8     April 28th, 2023     July 31st, 2023  ...          -113202    0.261111\n",
              "9      July 31st, 2023  October 30th, 2023  ...          -102125    0.252778\n",
              "10  October 30th, 2023  January 29th, 2024  ...         -91874.9    0.252778\n",
              "11  January 29th, 2024    April 29th, 2024  ...         -80398.5    0.252778\n",
              "\n",
              "[12 rows x 13 columns]"
            ]
          },
          "metadata": {
            "tags": []
          },
          "execution_count": 48
        }
      ]
    },
    {
      "cell_type": "code",
      "metadata": {
        "id": "EWu-6TVof2Y8"
      },
      "source": [
        "historical_fixed_rates = historical_fixed_rate(name = \"HISTORICAL RATE\")\n",
        "  historical_fixed_rates.historical_fixed_rate_df = pd.read_excel(path, sheet_name='fixings')\n",
        "'HISTORICAL': historical_fixed_rates"
      ],
      "execution_count": null,
      "outputs": []
    },
    {
      "cell_type": "code",
      "metadata": {
        "id": "vqRKIrYzNCge"
      },
      "source": [
        "class IRS:\n",
        "\n",
        "  def __init__(self):\n",
        "\n",
        "    self.start_date = None\n",
        "    self.maturity_date = None\n",
        "    self.tenor = None\n",
        "    self.business_convention = None\n",
        "    self.date_gen_rule = None\n",
        "    self.schedule = pd.DataFrame\n",
        "    self.eom = None\n",
        "\n",
        "    \n",
        "    self.npv = None"
      ],
      "execution_count": null,
      "outputs": []
    },
    {
      "cell_type": "code",
      "metadata": {
        "id": "rSw7Wh4YM7DC"
      },
      "source": [
        "def pricer(path,\n",
        "           underlying,\n",
        "           amortization_type,\n",
        "           notional,\n",
        "           amortization_rate,\n",
        "           maturity_label,\n",
        "           ref_date,\n",
        "           tenor,\n",
        "           business_convention,\n",
        "           date_gen_rule,\n",
        "           currency = 'EUR',\n",
        "           calendar = TARGET(),\n",
        "           end_of_month = False,\n",
        "           deduction_formula = '-1M LBD/-1BD',\n",
        "           day_count = Actual360):\n",
        "\n",
        "    dictionary = market_data(path)\n",
        "    irs = IRS()\n",
        "    irs.start_date = calendar.advance(ref_date,2,Days)\n",
        "    if maturity_label[-1] == 'M':\n",
        "      irs.maturity_date = calendar.advance(irs.start_date, int(maturity_label.rsplit(maturity_label[-1], 1)[0]), Months)\n",
        "    elif maturity_label[-1] == 'Y':\n",
        "      irs.maturity_date = calendar.advance(irs.start_date, int(maturity_label.rsplit(maturity_label[-1], 1)[0]), Years)\n",
        "    irs.business_convention = business_convention\n",
        "    irs.tenor = tenor\n",
        "    irs.date_gen_rule = date_gen_rule\n",
        "    irs.eom = end_of_month\n",
        "\n",
        "# aggiungere altri attribuiti all'irs(calendario,EOM, deduction formula, day count)\n",
        "\n",
        "\n",
        "    \n",
        "    irs.schedule = pd.DataFrame({'startdate':list(Schedule(irs.start_date,irs.maturity_date,irs.tenor,calendar,irs.business_convention,irs.business_convention,irs.date_gen_rule,irs.eom))[:-1],'enddate':list(Schedule(irs.start_date,irs.maturity_date,irs.tenor,calendar,irs.business_convention,irs.business_convention,irs.date_gen_rule,irs.eom))[1:]})"
      ],
      "execution_count": null,
      "outputs": []
    },
    {
      "cell_type": "code",
      "metadata": {
        "id": "LKHkWwrFjqEp"
      },
      "source": [
        "class IRS:\n",
        "\n",
        "  def __init__(self, leg1_name = 'Receive', leg2_name = 'Pay', leg1_rate_type = 'Fixed', leg2_rate_type = 'Floating'):\n",
        "\n",
        "    self.start_date = None\n",
        "    self.leg1_flows = pd.DataFrame\n",
        "    self.leg2_flows = pd.DataFrame\n",
        "    self.leg1_name = leg1_name\n",
        "    self.leg2_name = leg2_name\n",
        "    self.leg1_rate_type = leg1_rate_type  \n",
        "    self.leg2_rate_type = leg2_rate_type\n",
        "    self.npv = None"
      ],
      "execution_count": null,
      "outputs": []
    },
    {
      "cell_type": "code",
      "metadata": {
        "id": "pLPr1-8wj5Q6"
      },
      "source": [
        "def submit(path,\n",
        "           underlying,\n",
        "           amortization_type,\n",
        "           notional,\n",
        "           amortization_rate,\n",
        "           maturity_label,\n",
        "           ref_date,\n",
        "           tenor,\n",
        "           business_convention,\n",
        "           date_gen_rule,\n",
        "           currency = 'EUR',\n",
        "           calendar = TARGET(),\n",
        "           end_of_month = False,\n",
        "           deduction_formula = '-1M LBD/-1BD',\n",
        "           day_count = Actual360):\n",
        "\n",
        "  irs = IRS()"
      ],
      "execution_count": null,
      "outputs": []
    },
    {
      "cell_type": "code",
      "metadata": {
        "id": "gB3NlZSBj6Jq"
      },
      "source": [
        "submit(path = market_data_path, underlying = underlying, amortization_type = amortization_type, notional = notional, amortization_rate = amortization_rate, maturity_label = maturity_label, ref_date = ref_date, tenor = tenor,\n",
        "       business_convention = business_convention, date_gen_rule = date_gen_rule)"
      ],
      "execution_count": null,
      "outputs": []
    },
    {
      "cell_type": "code",
      "metadata": {
        "id": "ylCY3crlgkvv"
      },
      "source": [
        ""
      ],
      "execution_count": null,
      "outputs": []
    },
    {
      "cell_type": "code",
      "metadata": {
        "id": "foiRxQxzeqZ7"
      },
      "source": [
        "leg_fixed=FixedRateLeg(schedule,Actual360(),[notional],[0.05])\n",
        "for i in leg_fixed:\n",
        "  print(i.date(),i.amount())"
      ],
      "execution_count": null,
      "outputs": []
    }
  ]
}