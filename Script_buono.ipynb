{
  "nbformat": 4,
  "nbformat_minor": 0,
  "metadata": {
    "colab": {
      "name": "Script buono.ipynb",
      "provenance": [],
      "collapsed_sections": [],
      "authorship_tag": "ABX9TyMhpXlg/FJNErUj7AhzONnJ",
      "include_colab_link": true
    },
    "kernelspec": {
      "name": "python3",
      "display_name": "Python 3"
    },
    "language_info": {
      "name": "python"
    }
  },
  "cells": [
    {
      "cell_type": "markdown",
      "metadata": {
        "id": "view-in-github",
        "colab_type": "text"
      },
      "source": [
        "<a href=\"https://colab.research.google.com/github/MPrazzoli/corpsol/blob/main/Script_buono.ipynb\" target=\"_parent\"><img src=\"https://colab.research.google.com/assets/colab-badge.svg\" alt=\"Open In Colab\"/></a>"
      ]
    },
    {
      "cell_type": "code",
      "metadata": {
        "colab": {
          "base_uri": "https://localhost:8080/"
        },
        "id": "72XW5NkYLNrF",
        "outputId": "758df3ee-8d24-49c7-a7e1-e5453eaafd2c"
      },
      "source": [
        "from google.colab import drive\n",
        "drive.mount('/content/drive')"
      ],
      "execution_count": 145,
      "outputs": [
        {
          "output_type": "stream",
          "text": [
            "Drive already mounted at /content/drive; to attempt to forcibly remount, call drive.mount(\"/content/drive\", force_remount=True).\n"
          ],
          "name": "stdout"
        }
      ]
    },
    {
      "cell_type": "code",
      "metadata": {
        "colab": {
          "base_uri": "https://localhost:8080/"
        },
        "id": "SfXKlWc1LSdX",
        "outputId": "e02a2b30-50ac-408f-fb5e-662231a97468"
      },
      "source": [
        "pip install QuantLib"
      ],
      "execution_count": 146,
      "outputs": [
        {
          "output_type": "stream",
          "text": [
            "Requirement already satisfied: QuantLib in /usr/local/lib/python3.7/dist-packages (1.22)\n"
          ],
          "name": "stdout"
        }
      ]
    },
    {
      "cell_type": "code",
      "metadata": {
        "id": "pIeewTMPLWZB"
      },
      "source": [
        "import os\n",
        "import math\n",
        "import numpy as np\n",
        "import pandas as pd\n",
        "from QuantLib import *\n",
        "from datetime import date, datetime\n",
        "\n",
        "path = '/content/drive/MyDrive/data.xlsx'"
      ],
      "execution_count": 184,
      "outputs": []
    },
    {
      "cell_type": "markdown",
      "metadata": {
        "id": "wJ3grH5reCNf"
      },
      "source": [
        "***Inserimento degli Input***"
      ]
    },
    {
      "cell_type": "code",
      "metadata": {
        "id": "g9y53J8KMdhl",
        "colab": {
          "base_uri": "https://localhost:8080/"
        },
        "outputId": "6f7e9aa8-e8d5-485a-c263-6fd6ed36e5c3"
      },
      "source": [
        "try:\n",
        "  underlying = input('Inserire il sottostante: ')\n",
        "  if underlying == '':\n",
        "    underlying = 'EUR3M'\n",
        "except:\n",
        "  underlying = 'EUR3M'\n",
        "\n",
        "try:\n",
        "  amortization_type = input('Inserire il piano di ammortamento: ')\n",
        "  if amortization_type == '':\n",
        "    amortization_type = 'Bullet'\n",
        "except:\n",
        "  amortization_type = 'Bullet'\n",
        "\n",
        "try:\n",
        "  notional = float(input('Inserire il nozionale: '))\n",
        "except:\n",
        "  notional = 100000.0\n",
        "\n",
        "try:\n",
        "  amortization_rate = float(input('Inserire il tasso annuo: '))\n",
        "except:\n",
        "  amortization_rate = .05\n",
        "\n",
        "try:\n",
        "  maturity_label = input('Inserire la durata del finanziamento in label (\"M\" per i mesi e \"Y\" per gli anni): ')\n",
        "  if maturity_label == '':\n",
        "     maturity_label = '5Y'\n",
        "except:\n",
        "  maturity_label = '5Y'\n",
        "\n",
        "try:\n",
        "  ref_date = Date(input('Inserire la data iniziale del finanziamento in formato dd/mm/yyyy: '),'%d/%m/%Y')\n",
        "  if ref_date == '':\n",
        "    ref_date = Date(date.today().day,date.today().month,date.today().year)\n",
        "except:\n",
        "  ref_date = Date(date.today().day,date.today().month,date.today().year)\n",
        "\n",
        "try:\n",
        "  tenor = int(input('Inserire il periodo che intercorre tra le rate in numero di mesi: '))\n",
        "except:\n",
        "  tenor = 3\n",
        "\n",
        "try:\n",
        "  business_convention = input('Inserire la convenzione:')\n",
        "  if business_convention == '' or business_convention == 'ModifiedFollowing':\n",
        "    business_convention = ModifiedFollowing\n",
        "except:\n",
        "  business_convention = ModifiedFollowing\n",
        "\n",
        "try:\n",
        "  date_gen_rule = input('Inserire la regola per il calcolo delle date:')\n",
        "  if date_gen_rule == '' or date_gen_rule == 'Forward':\n",
        "    date_gen_rule = DateGeneration.Forward\n",
        "  else: \n",
        "    date_gen_rule = DateGeneration.Backward\n",
        "except:\n",
        "  date_gen_rule = DateGeneration.Forward"
      ],
      "execution_count": 148,
      "outputs": [
        {
          "output_type": "stream",
          "text": [
            "Inserire il sottostante: \n",
            "Inserire il piano di ammortamento: \n",
            "Inserire il nozionale: \n",
            "Inserire il tasso annuo: \n",
            "Inserire la durata del finanziamento in label (\"M\" per i mesi e \"Y\" per gli anni): \n",
            "Inserire la data iniziale del finanziamento in formato dd/mm/yyyy: \n",
            "Inserire il periodo che intercorre tra le rate in numero di mesi: \n",
            "Inserire la convenzione:\n",
            "Inserire la regola per il calcolo delle date:\n"
          ],
          "name": "stdout"
        }
      ]
    },
    {
      "cell_type": "markdown",
      "metadata": {
        "id": "xBE5FxJ-R1zy"
      },
      "source": [
        "***Schedule Date***"
      ]
    },
    {
      "cell_type": "code",
      "metadata": {
        "id": "FzIjsLQyMswX"
      },
      "source": [
        "calendar = TARGET()\n",
        "start_date = calendar.advance(ref_date,2,Days)\n",
        "if maturity_label[-1] == 'M':\n",
        "    maturity_date = calendar.advance(start_date, int(maturity_label.rsplit(maturity_label[-1], 1)[0]), Months)\n",
        "elif maturity_label[-1] == 'Y':\n",
        "    maturity_date = calendar.advance(start_date, int(maturity_label.rsplit(maturity_label[-1], 1)[0]), Years)\n",
        "Tenor = Period(tenor, Months)\n",
        "endofmonth = False\n",
        "terminationDateConvention = business_convention\n",
        "df = pd.DataFrame({'startdate':list(Schedule(start_date,maturity_date,Tenor,calendar,business_convention,terminationDateConvention,date_gen_rule,endofmonth))[:-1],'enddate':list(Schedule(start_date,maturity_date,Tenor,calendar,business_convention,terminationDateConvention,date_gen_rule,endofmonth))[1:]})"
      ],
      "execution_count": 149,
      "outputs": []
    },
    {
      "cell_type": "code",
      "metadata": {
        "id": "uJru00VGSKmz"
      },
      "source": [
        "# Calcolo numero delle rate totali dell'ammortamento\n",
        "if maturity_label[-1] == 'M':\n",
        "  rate_totali = int(12/tenor)\n",
        "elif maturity_label[-1] == 'Y':\n",
        "  rate_totali = int((12/tenor) * int(maturity_label.rsplit(maturity_label[-1], 1)[0]))"
      ],
      "execution_count": 150,
      "outputs": []
    },
    {
      "cell_type": "markdown",
      "metadata": {
        "id": "kkpXAwHuTY28"
      },
      "source": [
        "***Ammortamento Francese***"
      ]
    },
    {
      "cell_type": "code",
      "metadata": {
        "id": "HMcchmnQBqba"
      },
      "source": [
        "def ammortamento_francese(amortization_rate,tenor,rate_totali,notional):\n",
        "  \n",
        "  t = (1 + amortization_rate / (12 / tenor)) ** rate_totali\n",
        "  rata_fra = round(notional * t * (amortization_rate / (12 / tenor)) / (t - 1),2)\n",
        "  Residuo_fra = notional\n",
        "  Estinto_fra = 0\n",
        "  tot_I_fra = 0\n",
        "  plan_fra = np.array\n",
        "  plan_fra = [[0,0,0,0,0, Residuo_fra]]\n",
        "  rate_fra = range(0, rate_totali)\n",
        "  for count in rate_fra:\n",
        "    Int_quota_fra = round(Residuo_fra * (amortization_rate*(tenor/12)),2)\n",
        "    Cap_quota_fra = (rata_fra - Int_quota_fra)\n",
        "    tot_I_fra = (tot_I_fra + Int_quota_fra)\n",
        "    Residuo_fra = (Residuo_fra - Cap_quota_fra)\n",
        "    Estinto_fra = (Estinto_fra + Cap_quota_fra)\n",
        "    Tot_fra = (Int_quota_fra + Cap_quota_fra)\n",
        "    plan.append([Int_quota_fra, Cap_quota_fra, Tot_fra, tot_I_fra, Estinto_fra, Residuo_fra])\n",
        "  index = ['Quota Interesse','Quota Capitale','Rata','Interessi Totali','Debito Estinto','Debito Residuo']\n",
        "  df_fra = pd.DataFrame(plan_fra)\n",
        "  df_fra.columns = index\n",
        "  df1_fra = pd.concat([df,df_fra], axis=1)\n",
        "  df2_fra = pd.concat([df,df_fra['Debito Residuo']], axis=1)[:-1]\n",
        "\n",
        "  return (df2_fra)"
      ],
      "execution_count": 151,
      "outputs": []
    },
    {
      "cell_type": "markdown",
      "metadata": {
        "id": "Cudf7OtKTegK"
      },
      "source": [
        "***Ammortamento Italiano***\n"
      ]
    },
    {
      "cell_type": "code",
      "metadata": {
        "id": "2Ui5Ok7bJEW9"
      },
      "source": [
        "def ammortamento_italiano(amortization_rate,tenor,rate_totali, notional):\n",
        "\n",
        "  Residuo_ita = notional\n",
        "  tot_I_ita = 0\n",
        "  Estinto_ita = 0\n",
        "  Tot_ita = 0\n",
        "  plan_ita = np.array\n",
        "  plan_ita = [[0,0,0,0,0,Residuo_ita]]\n",
        "  rate_ita = range(0,rate_totali)\n",
        "  for count in rate_ita:\n",
        "    Int_quota_ita = round(Residuo_ita*amortization_rate/(12/tenor),2)\n",
        "    Cap_quota_ita = round((notional/rate_totali),2)\n",
        "    tot_I_ita = (tot_I_ita + Int_quota_ita)\n",
        "    Residuo_ita = (Residuo_ita - Cap_quota_ita)\n",
        "    Estinto_ita = (Estinto_ita + Cap_quota_ita)\n",
        "    Tot_ita = (Int_quota_ita + Cap_quota_ita)\n",
        "    plan_ita.append([Int_quota_ita,Cap_quota_ita,Tot_ita,tot_I_ita,Estinto_ita,Residuo_ita])\n",
        "  index = ['Quota Interesse','Quota Capitale','Rata','Interessi Totali','Debito Estinto','Debito Residuo']\n",
        "  df_ita = pd.DataFrame(plan_ita)\n",
        "  df_ita.columns=index\n",
        "  df1_ita = pd.concat([df,df_ita],axis=1)\n",
        "  df2_ita = pd.concat([df,df_ita['Debito Residuo']],axis=1)[:-1]\n",
        "  \n",
        "  return (df2_ita)\n",
        "  "
      ],
      "execution_count": 152,
      "outputs": []
    },
    {
      "cell_type": "markdown",
      "metadata": {
        "id": "UHNkvQf0TltB"
      },
      "source": [
        "***Ammortamento Bullet***\n"
      ]
    },
    {
      "cell_type": "code",
      "metadata": {
        "id": "mTzkKE2aKAU_"
      },
      "source": [
        "def ammortamento_bullet(amortization_rate,tenor,rate_totali, notional):\n",
        "\n",
        "  Residuo_bullet = notional\n",
        "  tot_I_bullet = 0\n",
        "  plan_bullet = np.array\n",
        "  plan_bullet = [[0,0,Residuo_bullet]]\n",
        "  rate_bullet = range(0,rate_totali)\n",
        "  for count in rate_bullet:\n",
        "    Int_quota_bullet = round(Residuo_bullet*amortization_rate/(12/tenor),2)\n",
        "    tot_I_bullet = (tot_I_bullet+Int_quota_bullet)\n",
        "    plan_bullet.append([Int_quota_bullet,tot_I_bullet,Residuo_bullet])\n",
        "  index = ['Quota Interesse','Interessi Totali','Debito Residuo']\n",
        "  df_bullet = pd.DataFrame(plan_bullet)\n",
        "  df_bullet.columns = index\n",
        "  df1_bullet = pd.concat([df,df_bullet],axis=1)\n",
        "  df2_bullet = pd.concat([df,df_bullet['Debito Residuo']],axis=1)\n",
        "  df2_bullet = df2_bullet[:-1]\n",
        "  \n",
        "  return (df2_bullet)"
      ],
      "execution_count": 153,
      "outputs": []
    },
    {
      "cell_type": "markdown",
      "metadata": {
        "id": "_TF0PhLvTqbN"
      },
      "source": [
        "***Output del Modello***\n"
      ]
    },
    {
      "cell_type": "code",
      "metadata": {
        "id": "c_c10rotKcxN"
      },
      "source": [
        "if (amortization_type == 'Francese'):\n",
        "  df_output = (ammortamento_francese(amortization_rate,tenor,rate_totali,notional))\n",
        "elif (amortization_type == 'Italiano'):\n",
        "  df_output = (ammortamento_italiano(amortization_rate,tenor,rate_totali,notional))\n",
        "elif (amortization_type == 'Bullet'):\n",
        "  df_output = (ammortamento_bullet(amortization_rate,tenor,rate_totali,notional))\n",
        "  \n",
        "print (df_output)"
      ],
      "execution_count": null,
      "outputs": []
    },
    {
      "cell_type": "markdown",
      "metadata": {
        "id": "5BYIvyNRA4fC"
      },
      "source": [
        "***Calcolo delle Fixing Date***"
      ]
    },
    {
      "cell_type": "code",
      "metadata": {
        "id": "Jn4WsX9RxFOt"
      },
      "source": [
        "try:\n",
        "  rule_fixing = input('Inserire la regola per le fixing date: ')\n",
        "  if rule_fixing == '':\n",
        "     rule_fixing = '-2BD'\n",
        "except:\n",
        "  rule_fixing = '-2BD'"
      ],
      "execution_count": null,
      "outputs": []
    },
    {
      "cell_type": "code",
      "metadata": {
        "id": "euExlataCQpp"
      },
      "source": [
        "column_list = ['fixing date','fixing start','fixing end']\n",
        "for col in column_list:\n",
        "  df_output[col] = np.zeros\n",
        "\n",
        "for i, date in enumerate(df_output['startdate']):\n",
        "  if rule_fixing == '-2BD':\n",
        "    date_fix = calendar.advance(date, -2, Days)\n",
        "  else:\n",
        "    date_fix = calendar.advance(date, -1, Months)\n",
        "    date_fix = calendar.endOfMonth(date_fix)\n",
        "    date_fix = calendar.advance(date_fix, -1, Days)\n",
        "\n",
        "  df_output['fixing date'].iloc[i] = date_fix\n",
        "  df_output['fixing start'].iloc[i] = calendar.advance(date_fix, 2, Days)\n",
        "for t, date in enumerate(df_output['fixing start']):\n",
        "  df_output['fixing end'].iloc[t] = calendar.advance(date, tenor, Months, ModifiedFollowing)\n"
      ],
      "execution_count": null,
      "outputs": []
    },
    {
      "cell_type": "code",
      "metadata": {
        "id": "KFLafbp4AX_3"
      },
      "source": [
        "df_output"
      ],
      "execution_count": null,
      "outputs": []
    },
    {
      "cell_type": "markdown",
      "metadata": {
        "id": "yDdsTiDHy6fC"
      },
      "source": [
        "Npv Obiettivo: prova"
      ]
    },
    {
      "cell_type": "code",
      "metadata": {
        "id": "8L9wCvzmhPUN"
      },
      "source": [
        "df_output['differenza_giorni'] = (df_output['enddate'] - df_output['startdate']) / 360\n",
        "df_output['prod'] = (df_output['Debito Residuo'] * df_output['differenza_giorni']) * 0.0001\n",
        "BPV = df_output['prod'].sum()"
      ],
      "execution_count": 158,
      "outputs": []
    },
    {
      "cell_type": "markdown",
      "metadata": {
        "id": "OiIv-g1PVGb5"
      },
      "source": [
        "*Class: Market Data*"
      ]
    },
    {
      "cell_type": "code",
      "metadata": {
        "id": "ubcKXwfkUzeH"
      },
      "source": [
        "class historical_fixed_rate(object):\n",
        "\n",
        "    def __init__(self, name, reference_date = None, currency = None, underlying = None):\n",
        "        \n",
        "        try:\n",
        "            self.reference_date = datetime.strptime(reference_date, '%d/%m/%Y')\n",
        "        except:\n",
        "            self.reference_date = None\n",
        "        \n",
        "        self.name = name\n",
        "        self.currency = currency\n",
        "        self.underlying = underlying\n",
        "        self.historical_fixed_rate_df = pd.DataFrame\n",
        "\n",
        "class zero_curve_rate(object):\n",
        "# chiedere a Mirko l'assegnazione di interp_rule e day_count\n",
        "    def __init__(self, name, reference_date = None, currency = None, underlying = None, interp_rule = None, day_count = None):\n",
        "        \n",
        "        self.name = name\n",
        "        \n",
        "        try:\n",
        "            self.reference_date = datetime.strptime(reference_date, '%d/%m/%Y')\n",
        "        except:\n",
        "            self.reference_date = None\n",
        "      \n",
        "        self.currency = currency\n",
        "        self.underlying = underlying\n",
        "        self.interpolation_rule = interp_rule\n",
        "        self.day_count = day_count\n",
        "        self.zero_curve_rate_df = pd.DataFrame"
      ],
      "execution_count": 159,
      "outputs": []
    },
    {
      "cell_type": "code",
      "metadata": {
        "id": "jpJg4ECuVkwy"
      },
      "source": [
        "def market_data(path):\n",
        "\n",
        "  historical_fixed_rates = historical_fixed_rate(name =\"HISTORICAL RATE\")\n",
        "  historical_fixed_rates.historical_fixed_rate_df = pd.read_excel(path, sheet_name='fixings')\n",
        "\n",
        "  estimation_curve = zero_curve_rate(name='ESTIMATION')\n",
        "  estimation_curve.zero_curve_rate_df = pd.read_excel(path, sheet_name='estimation')\n",
        "\n",
        "  discount_curve = zero_curve_rate(name='DISCOUNT')\n",
        "  discount_curve.zero_curve_rate_df = pd.read_excel(path, sheet_name='discount')\n",
        "\n",
        "  market_data_dict = {'ESTIMATION': estimation_curve, 'DISCOUNT': discount_curve, 'HISTORICAL': historical_fixed_rates}\n",
        "\n",
        "  return(market_data_dict)"
      ],
      "execution_count": 160,
      "outputs": []
    },
    {
      "cell_type": "code",
      "metadata": {
        "id": "fj_O2eTCfWmy"
      },
      "source": [
        "m=market_data(path)\n",
        "for i, d in enumerate(m['ESTIMATION'].zero_curve_rate_df['DATE']):\n",
        "  m['ESTIMATION'].zero_curve_rate_df['DATE'].iloc[i] = Date(d.day,d.month,d.year)\n",
        "m['ESTIMATION'].zero_curve_rate_df['DATE']\n",
        "\n"
      ],
      "execution_count": null,
      "outputs": []
    },
    {
      "cell_type": "code",
      "metadata": {
        "id": "SvOW7GauWabN"
      },
      "source": [
        "\n",
        "def date_to_ordinal(date_to_convert):\n",
        "  date_number = []\n",
        "  if type(date_to_convert) == QuantLib.Date:\n",
        "    date_convert = datetime(date_to_convert.year(),date_to_convert.month(),date_to_convert.dayOfMonth())\n",
        "    date_number.append(date_convert.toordinal())\n",
        "  else:\n",
        "    for i, d in enumerate(date_to_convert):\n",
        "      date_convert = datetime(d.year(), d.month(), d.dayOfMonth())\n",
        "      date_number.append(date_convert.toordinal())\n",
        "  return date_number\n"
      ],
      "execution_count": 207,
      "outputs": []
    },
    {
      "cell_type": "code",
      "metadata": {
        "id": "TXFN_bs9R9It"
      },
      "source": [
        "date_to_ordinal(m['ESTIMATION'].zero_curve_rate_df['DATE'])"
      ],
      "execution_count": null,
      "outputs": []
    },
    {
      "cell_type": "code",
      "metadata": {
        "id": "ayKOBBW5auKm"
      },
      "source": [
        "estimation_rate_function(m['ESTIMATION'].zero_curve_rate_df['DATE'],m['ESTIMATION'].zero_curve_rate_df['RATE'],)\n"
      ],
      "execution_count": null,
      "outputs": []
    },
    {
      "cell_type": "code",
      "metadata": {
        "id": "pTEG79BvhbMM"
      },
      "source": [
        ""
      ],
      "execution_count": null,
      "outputs": []
    },
    {
      "cell_type": "code",
      "metadata": {
        "id": "S8aTe-NQhUcP"
      },
      "source": [
        "def rate_interpoletor(interpolation_type, x_interpolation, y_interpolation, date_to_interpolate):\n",
        "    interpolation_object = interpolation_type(x_interpolation, y_interpolation)\n",
        "    rate_interpolated = interpolation_object(date_to_interpolate, allowExtrapolation=True)\n",
        "    return rate_interpolated"
      ],
      "execution_count": null,
      "outputs": []
    },
    {
      "cell_type": "code",
      "metadata": {
        "id": "g4Jab-UvZque"
      },
      "source": [
        "def estimation_rate_function(date_curve,rate_curve,date_fixing_start, date_fixing_end,ref_date):\n",
        "  date_curve_number = date_to_ordinal(date_curve)      \n",
        "  date_fixing_start_number = date_to_ordinal(date_fixing_start)\n",
        "  date_fixing_end_number = date_to_ordinal(date_fixing_end)\n",
        "  ref_date_number = date_to_ordinal(ref_date)\n",
        "  rate_start = []\n",
        "  for date in date_fixing_start_number:\n",
        "    rate = rate_interpoletor(KrugerCubic, date_curve_number, rate_curve, date)\n",
        "    rate_start.append(rate)\n",
        "  discount_start = []\n",
        "  for i, rate in enumerate(rate_start):\n",
        "    # convenzione curva di estimation dell'EURIBOR è act/365\n",
        "    discount_start.append(exp(-rate / 100 * ((date_fixing_start_number[i] - ref_date_number) / 365)))\n",
        "  rate_end = []\n",
        "  for date in date_fixing_end_number:\n",
        "    rate_end.append(rate_interpoletor(KrugerCubic, date_curve_number,rate_curve, date))\n",
        "  discount_end = []\n",
        "  for i, rate in enumerate(rate_end):\n",
        "    discount_end.append(exp(-rate / 100 * ((date_fixing_end_number[i] - ref_date_number) / 365)))\n",
        "  estimated_rate = []\n",
        "  for i, date in enumerate(date_fixing_start_number):\n",
        "    if date <= ref_date_number : \n",
        "      estimated_rate.append(0) # bisogna mettere il rate che fa riferimento al sottostante\n",
        "    else:\n",
        "      forward_rate.append((discount_start[i] / discount_end[i] - 1) / ((date_fixing_end_number[i] - date) / 360)) # convenzione per i discount dell'EURIBOR è act/360\n",
        "  return forward_rate\n"
      ],
      "execution_count": null,
      "outputs": []
    },
    {
      "cell_type": "code",
      "metadata": {
        "id": "7t_29C3zfktk",
        "outputId": "15d9565c-2bec-4cb7-8ccd-dbe33d3920b1",
        "colab": {
          "base_uri": "https://localhost:8080/"
        }
      },
      "source": [
        "d1= Date(29,4,2021)\n",
        "d2= Date(30,9,2021)\n",
        "d2-d1"
      ],
      "execution_count": 214,
      "outputs": [
        {
          "output_type": "execute_result",
          "data": {
            "text/plain": [
              "154"
            ]
          },
          "metadata": {
            "tags": []
          },
          "execution_count": 214
        }
      ]
    },
    {
      "cell_type": "code",
      "metadata": {
        "id": "W32ctDk3rDdR",
        "outputId": "ae577763-7873-41c1-94c5-4cbdfd92a245",
        "colab": {
          "base_uri": "https://localhost:8080/"
        }
      },
      "source": [
        "date_to_ordinal(d2)[0]-date_to_ordinal(d1)[0]"
      ],
      "execution_count": 217,
      "outputs": [
        {
          "output_type": "execute_result",
          "data": {
            "text/plain": [
              "154"
            ]
          },
          "metadata": {
            "tags": []
          },
          "execution_count": 217
        }
      ]
    },
    {
      "cell_type": "code",
      "metadata": {
        "id": "vqRKIrYzNCge"
      },
      "source": [
        "class IRS:\n",
        "\n",
        "  def __init__(self):\n",
        "\n",
        "    self.start_date = None\n",
        "    self.maturity_date = None\n",
        "    self.tenor = None\n",
        "    self.business_convention = None\n",
        "    self.date_gen_rule = None\n",
        "    self.schedule = pd.DataFrame\n",
        "    self.eom = None\n",
        "\n",
        "    \n",
        "    self.npv = None"
      ],
      "execution_count": 162,
      "outputs": []
    },
    {
      "cell_type": "code",
      "metadata": {
        "id": "rSw7Wh4YM7DC"
      },
      "source": [
        "def pricer(path,\n",
        "           underlying,\n",
        "           amortization_type,\n",
        "           notional,\n",
        "           amortization_rate,\n",
        "           maturity_label,\n",
        "           ref_date,\n",
        "           tenor,\n",
        "           business_convention,\n",
        "           date_gen_rule,\n",
        "           currency = 'EUR',\n",
        "           calendar = TARGET(),\n",
        "           end_of_month = False,\n",
        "           deduction_formula = '-1M LBD/-1BD',\n",
        "           day_count = Actual360):\n",
        "\n",
        "    dictionary = market_data(path)\n",
        "    irs = IRS()\n",
        "    irs.start_date = calendar.advance(ref_date,2,Days)\n",
        "    if maturity_label[-1] == 'M':\n",
        "      irs.maturity_date = calendar.advance(irs.start_date, int(maturity_label.rsplit(maturity_label[-1], 1)[0]), Months)\n",
        "    elif maturity_label[-1] == 'Y':\n",
        "      irs.maturity_date = calendar.advance(irs.start_date, int(maturity_label.rsplit(maturity_label[-1], 1)[0]), Years)\n",
        "    irs.business_convention = business_convention\n",
        "    irs.tenor = tenor\n",
        "    irs.date_gen_rule = date_gen_rule\n",
        "    irs.eom = end_of_month\n",
        "\n",
        "# aggiungere altri attribuiti all'irs(calendario,EOM, deduction formula, day count)\n",
        "\n",
        "\n",
        "    \n",
        "    irs.schedule = pd.DataFrame({'startdate':list(Schedule(irs.start_date,irs.maturity_date,irs.tenor,calendar,irs.business_convention,irs.business_convention,irs.date_gen_rule,irs.eom))[:-1],'enddate':list(Schedule(irs.start_date,irs.maturity_date,irs.tenor,calendar,irs.business_convention,irs.business_convention,irs.date_gen_rule,irs.eom))[1:]})"
      ],
      "execution_count": 163,
      "outputs": []
    },
    {
      "cell_type": "code",
      "metadata": {
        "id": "LKHkWwrFjqEp"
      },
      "source": [
        "class IRS:\n",
        "\n",
        "  def __init__(self, leg1_name = 'Receive', leg2_name = 'Pay', leg1_rate_type = 'Fixed', leg2_rate_type = 'Floating'):\n",
        "\n",
        "    self.start_date = None\n",
        "    self.leg1_flows = pd.DataFrame\n",
        "    self.leg2_flows = pd.DataFrame\n",
        "    self.leg1_name = leg1_name\n",
        "    self.leg2_name = leg2_name\n",
        "    self.leg1_rate_type = leg1_rate_type  \n",
        "    self.leg2_rate_type = leg2_rate_type\n",
        "    self.npv = None"
      ],
      "execution_count": 164,
      "outputs": []
    },
    {
      "cell_type": "code",
      "metadata": {
        "id": "pLPr1-8wj5Q6"
      },
      "source": [
        "def submit(path,\n",
        "           underlying,\n",
        "           amortization_type,\n",
        "           notional,\n",
        "           amortization_rate,\n",
        "           maturity_label,\n",
        "           ref_date,\n",
        "           tenor,\n",
        "           business_convention,\n",
        "           date_gen_rule,\n",
        "           currency = 'EUR',\n",
        "           calendar = TARGET(),\n",
        "           end_of_month = False,\n",
        "           deduction_formula = '-1M LBD/-1BD',\n",
        "           day_count = Actual360):\n",
        "\n",
        "  irs = IRS()"
      ],
      "execution_count": 165,
      "outputs": []
    },
    {
      "cell_type": "code",
      "metadata": {
        "id": "gB3NlZSBj6Jq",
        "colab": {
          "base_uri": "https://localhost:8080/",
          "height": 237
        },
        "outputId": "cb9862cf-8165-4e0d-b839-f45578cd5b6d"
      },
      "source": [
        "submit(path = market_data_path, underlying = underlying, amortization_type = amortization_type, notional = notional, amortization_rate = amortization_rate, maturity_label = maturity_label, ref_date = ref_date, tenor = tenor,\n",
        "       business_convention = business_convention, date_gen_rule = date_gen_rule)"
      ],
      "execution_count": 166,
      "outputs": [
        {
          "output_type": "error",
          "ename": "NameError",
          "evalue": "ignored",
          "traceback": [
            "\u001b[0;31m---------------------------------------------------------------------------\u001b[0m",
            "\u001b[0;31mNameError\u001b[0m                                 Traceback (most recent call last)",
            "\u001b[0;32m<ipython-input-166-5fb41fc477a1>\u001b[0m in \u001b[0;36m<module>\u001b[0;34m()\u001b[0m\n\u001b[0;32m----> 1\u001b[0;31m submit(path = market_data_path, underlying = underlying, amortization_type = amortization_type, notional = notional, amortization_rate = amortization_rate, maturity_label = maturity_label, ref_date = ref_date, tenor = tenor,\n\u001b[0m\u001b[1;32m      2\u001b[0m        business_convention = business_convention, date_gen_rule = date_gen_rule)\n",
            "\u001b[0;31mNameError\u001b[0m: name 'market_data_path' is not defined"
          ]
        }
      ]
    },
    {
      "cell_type": "code",
      "metadata": {
        "id": "ylCY3crlgkvv"
      },
      "source": [
        ""
      ],
      "execution_count": null,
      "outputs": []
    },
    {
      "cell_type": "code",
      "metadata": {
        "id": "foiRxQxzeqZ7"
      },
      "source": [
        "leg_fixed=FixedRateLeg(schedule,Actual360(),[notional],[0.05])\n",
        "for i in leg_fixed:\n",
        "  print(i.date(),i.amount())"
      ],
      "execution_count": null,
      "outputs": []
    }
  ]
}