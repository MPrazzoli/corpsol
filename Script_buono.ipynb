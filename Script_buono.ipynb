{
  "nbformat": 4,
  "nbformat_minor": 0,
  "metadata": {
    "colab": {
      "name": "Script buono.ipynb",
      "provenance": [],
      "collapsed_sections": [],
      "authorship_tag": "ABX9TyNmVAKtNyBF+wYaXl8JbJqI",
      "include_colab_link": true
    },
    "kernelspec": {
      "name": "python3",
      "display_name": "Python 3"
    },
    "language_info": {
      "name": "python"
    }
  },
  "cells": [
    {
      "cell_type": "markdown",
      "metadata": {
        "id": "view-in-github",
        "colab_type": "text"
      },
      "source": [
        "<a href=\"https://colab.research.google.com/github/MPrazzoli/corpsol/blob/main/Script_buono.ipynb\" target=\"_parent\"><img src=\"https://colab.research.google.com/assets/colab-badge.svg\" alt=\"Open In Colab\"/></a>"
      ]
    },
    {
      "cell_type": "code",
      "metadata": {
        "colab": {
          "base_uri": "https://localhost:8080/"
        },
        "id": "72XW5NkYLNrF",
        "outputId": "b6f05541-531b-4300-d270-7ebf3fa16a6d"
      },
      "source": [
        "from google.colab import drive\n",
        "drive.mount('/content/drive')"
      ],
      "execution_count": 2,
      "outputs": [
        {
          "output_type": "stream",
          "text": [
            "Mounted at /content/drive\n"
          ],
          "name": "stdout"
        }
      ]
    },
    {
      "cell_type": "code",
      "metadata": {
        "colab": {
          "base_uri": "https://localhost:8080/"
        },
        "id": "SfXKlWc1LSdX",
        "outputId": "5b889f13-a3f5-4aa1-d979-809685fbe2c7"
      },
      "source": [
        "pip install QuantLib"
      ],
      "execution_count": 3,
      "outputs": [
        {
          "output_type": "stream",
          "text": [
            "Collecting QuantLib\n",
            "\u001b[?25l  Downloading https://files.pythonhosted.org/packages/fb/c2/f24a3d27cbf3896dd5655e98efe352b2a8a1d3404dca88b7caa5aa8bf4a4/QuantLib-1.22-cp37-cp37m-manylinux2010_x86_64.whl (20.1MB)\n",
            "\u001b[K     |████████████████████████████████| 20.1MB 1.3MB/s \n",
            "\u001b[?25hInstalling collected packages: QuantLib\n",
            "Successfully installed QuantLib-1.22\n"
          ],
          "name": "stdout"
        }
      ]
    },
    {
      "cell_type": "code",
      "metadata": {
        "id": "pIeewTMPLWZB"
      },
      "source": [
        "import os\n",
        "import math\n",
        "import numpy as np\n",
        "import pandas as pd\n",
        "from QuantLib import *\n",
        "from datetime import date, datetime\n",
        "\n",
        "path = '/content/drive/MyDrive/data.xlsx'"
      ],
      "execution_count": 4,
      "outputs": []
    },
    {
      "cell_type": "markdown",
      "metadata": {
        "id": "wJ3grH5reCNf"
      },
      "source": [
        "***Inserimento degli Input***"
      ]
    },
    {
      "cell_type": "code",
      "metadata": {
        "id": "g9y53J8KMdhl",
        "colab": {
          "base_uri": "https://localhost:8080/"
        },
        "outputId": "160886ab-8700-4529-86ec-6629ce7bdeaf"
      },
      "source": [
        "try:\n",
        "  underlying = input('Inserire il sottostante: ')\n",
        "  if underlying == '':\n",
        "    underlying = 'EUR3M'\n",
        "except:\n",
        "  underlying = 'EUR3M'\n",
        "\n",
        "try:\n",
        "  amortization_type = input('Inserire il piano di ammortamento: ')\n",
        "  if amortization_type == '':\n",
        "    amortization_type = 'Bullet'\n",
        "except:\n",
        "  amortization_type = 'Bullet'\n",
        "\n",
        "try:\n",
        "  notional = float(input('Inserire il nozionale: '))\n",
        "except:\n",
        "  notional = 100000.0\n",
        "\n",
        "try:\n",
        "  amortization_rate = float(input('Inserire il tasso annuo: '))\n",
        "except:\n",
        "  amortization_rate = .05\n",
        "\n",
        "try:\n",
        "  maturity_label = input('Inserire la durata del finanziamento in label (\"M\" per i mesi e \"Y\" per gli anni): ')\n",
        "  if maturity_label == '':\n",
        "     maturity_label = '5Y'\n",
        "except:\n",
        "  maturity_label = '5Y'\n",
        "\n",
        "try:\n",
        "  ref_date = Date(input('Inserire la data iniziale del finanziamento in formato dd/mm/yyyy: '),'%d/%m/%Y')\n",
        "  if ref_date == '':\n",
        "    ref_date = Date(date.today().day,date.today().month,date.today().year)\n",
        "except:\n",
        "  ref_date = Date(date.today().day,date.today().month,date.today().year)\n",
        "\n",
        "try:\n",
        "  tenor = int(input('Inserire il periodo che intercorre tra le rate in numero di mesi: '))\n",
        "except:\n",
        "  tenor = 3\n",
        "\n",
        "try:\n",
        "  business_convention = input('Inserire la convenzione:')\n",
        "  if business_convention == '' or business_convention == 'ModifiedFollowing':\n",
        "    business_convention = ModifiedFollowing\n",
        "except:\n",
        "  business_convention = ModifiedFollowing\n",
        "\n",
        "try:\n",
        "  date_gen_rule = input('Inserire la regola per il calcolo delle date:')\n",
        "  if date_gen_rule == '' or date_gen_rule == 'Forward':\n",
        "    date_gen_rule = DateGeneration.Forward\n",
        "  else: \n",
        "    date_gen_rule = DateGeneration.Backward\n",
        "except:\n",
        "  date_gen_rule = DateGeneration.Forward"
      ],
      "execution_count": 5,
      "outputs": [
        {
          "output_type": "stream",
          "text": [
            "Inserire il sottostante: \n",
            "Inserire il piano di ammortamento: \n",
            "Inserire il nozionale: \n",
            "Inserire il tasso annuo: \n",
            "Inserire la durata del finanziamento in label (\"M\" per i mesi e \"Y\" per gli anni): \n",
            "Inserire la data iniziale del finanziamento in formato dd/mm/yyyy: \n",
            "Inserire il periodo che intercorre tra le rate in numero di mesi: \n",
            "Inserire la convenzione:\n",
            "Inserire la regola per il calcolo delle date:\n"
          ],
          "name": "stdout"
        }
      ]
    },
    {
      "cell_type": "markdown",
      "metadata": {
        "id": "xBE5FxJ-R1zy"
      },
      "source": [
        "***Schedule Date***"
      ]
    },
    {
      "cell_type": "code",
      "metadata": {
        "id": "FzIjsLQyMswX"
      },
      "source": [
        "calendar = TARGET()\n",
        "start_date = calendar.advance(ref_date,2,Days)\n",
        "if maturity_label[-1] == 'M':\n",
        "    maturity_date = calendar.advance(start_date, int(maturity_label.rsplit(maturity_label[-1], 1)[0]), Months)\n",
        "elif maturity_label[-1] == 'Y':\n",
        "    maturity_date = calendar.advance(start_date, int(maturity_label.rsplit(maturity_label[-1], 1)[0]), Years)\n",
        "Tenor = Period(tenor, Months)\n",
        "endofmonth = False\n",
        "terminationDateConvention = business_convention\n",
        "df = pd.DataFrame({'startdate':list(Schedule(start_date,maturity_date,Tenor,calendar,business_convention,terminationDateConvention,date_gen_rule,endofmonth))[:-1],'enddate':list(Schedule(start_date,maturity_date,Tenor,calendar,business_convention,terminationDateConvention,date_gen_rule,endofmonth))[1:]})"
      ],
      "execution_count": 6,
      "outputs": []
    },
    {
      "cell_type": "code",
      "metadata": {
        "id": "uJru00VGSKmz"
      },
      "source": [
        "# Calcolo numero delle rate totali dell'ammortamento\n",
        "if maturity_label[-1] == 'M':\n",
        "  rate_totali = int(12/tenor)\n",
        "elif maturity_label[-1] == 'Y':\n",
        "  rate_totali = int((12/tenor) * int(maturity_label.rsplit(maturity_label[-1], 1)[0]))"
      ],
      "execution_count": 7,
      "outputs": []
    },
    {
      "cell_type": "markdown",
      "metadata": {
        "id": "kkpXAwHuTY28"
      },
      "source": [
        "***Ammortamento Francese***"
      ]
    },
    {
      "cell_type": "code",
      "metadata": {
        "id": "HMcchmnQBqba"
      },
      "source": [
        "def ammortamento_francese(amortization_rate,tenor,rate_totali,notional):\n",
        "  \n",
        "  t = (1 + amortization_rate / (12 / tenor)) ** rate_totali\n",
        "  rata_fra = round(notional * t * (amortization_rate / (12 / tenor)) / (t - 1),2)\n",
        "  Residuo_fra = notional\n",
        "  Estinto_fra = 0\n",
        "  tot_I_fra = 0\n",
        "  plan_fra = np.array\n",
        "  plan_fra = [[0,0,0,0,0, Residuo_fra]]\n",
        "  rate_fra = range(0, rate_totali)\n",
        "  for count in rate_fra:\n",
        "    Int_quota_fra = round(Residuo_fra * (amortization_rate*(tenor/12)),2)\n",
        "    Cap_quota_fra = (rata_fra - Int_quota_fra)\n",
        "    tot_I_fra = (tot_I_fra + Int_quota_fra)\n",
        "    Residuo_fra = (Residuo_fra - Cap_quota_fra)\n",
        "    Estinto_fra = (Estinto_fra + Cap_quota_fra)\n",
        "    Tot_fra = (Int_quota_fra + Cap_quota_fra)\n",
        "    plan.append([Int_quota_fra, Cap_quota_fra, Tot_fra, tot_I_fra, Estinto_fra, Residuo_fra])\n",
        "  index = ['Quota Interesse','Quota Capitale','Rata','Interessi Totali','Debito Estinto','Debito Residuo']\n",
        "  df_fra = pd.DataFrame(plan_fra)\n",
        "  df_fra.columns = index\n",
        "  df1_fra = pd.concat([df,df_fra], axis=1)\n",
        "  df2_fra = pd.concat([df,df_fra['Debito Residuo']], axis=1)[:-1]\n",
        "\n",
        "  return (df2_fra)"
      ],
      "execution_count": 8,
      "outputs": []
    },
    {
      "cell_type": "markdown",
      "metadata": {
        "id": "Cudf7OtKTegK"
      },
      "source": [
        "***Ammortamento Italiano***\n"
      ]
    },
    {
      "cell_type": "code",
      "metadata": {
        "id": "2Ui5Ok7bJEW9"
      },
      "source": [
        "def ammortamento_italiano(amortization_rate,tenor,rate_totali, notional):\n",
        "\n",
        "  Residuo_ita = notional\n",
        "  tot_I_ita = 0\n",
        "  Estinto_ita = 0\n",
        "  Tot_ita = 0\n",
        "  plan_ita = np.array\n",
        "  plan_ita = [[0,0,0,0,0,Residuo_ita]]\n",
        "  rate_ita = range(0,rate_totali)\n",
        "  for count in rate_ita:\n",
        "    Int_quota_ita = round(Residuo_ita*amortization_rate/(12/tenor),2)\n",
        "    Cap_quota_ita = round((notional/rate_totali),2)\n",
        "    tot_I_ita = (tot_I_ita + Int_quota_ita)\n",
        "    Residuo_ita = (Residuo_ita - Cap_quota_ita)\n",
        "    Estinto_ita = (Estinto_ita + Cap_quota_ita)\n",
        "    Tot_ita = (Int_quota_ita + Cap_quota_ita)\n",
        "    plan_ita.append([Int_quota_ita,Cap_quota_ita,Tot_ita,tot_I_ita,Estinto_ita,Residuo_ita])\n",
        "  index = ['Quota Interesse','Quota Capitale','Rata','Interessi Totali','Debito Estinto','Debito Residuo']\n",
        "  df_ita = pd.DataFrame(plan_ita)\n",
        "  df_ita.columns=index\n",
        "  df1_ita = pd.concat([df,df_ita],axis=1)\n",
        "  df2_ita = pd.concat([df,df_ita['Debito Residuo']],axis=1)[:-1]\n",
        "  \n",
        "  return (df2_ita)\n",
        "  "
      ],
      "execution_count": 9,
      "outputs": []
    },
    {
      "cell_type": "markdown",
      "metadata": {
        "id": "UHNkvQf0TltB"
      },
      "source": [
        "***Ammortamento Bullet***\n"
      ]
    },
    {
      "cell_type": "code",
      "metadata": {
        "id": "mTzkKE2aKAU_"
      },
      "source": [
        "def ammortamento_bullet(amortization_rate,tenor,rate_totali, notional):\n",
        "\n",
        "  Residuo_bullet = notional\n",
        "  tot_I_bullet = 0\n",
        "  plan_bullet = np.array\n",
        "  plan_bullet = [[0,0,Residuo_bullet]]\n",
        "  rate_bullet = range(0,rate_totali)\n",
        "  for count in rate_bullet:\n",
        "    Int_quota_bullet = round(Residuo_bullet*amortization_rate/(12/tenor),2)\n",
        "    tot_I_bullet = (tot_I_bullet+Int_quota_bullet)\n",
        "    plan_bullet.append([Int_quota_bullet,tot_I_bullet,Residuo_bullet])\n",
        "  index = ['Quota Interesse','Interessi Totali','Debito Residuo']\n",
        "  df_bullet = pd.DataFrame(plan_bullet)\n",
        "  df_bullet.columns = index\n",
        "  df1_bullet = pd.concat([df,df_bullet],axis=1)\n",
        "  df2_bullet = pd.concat([df,df_bullet['Debito Residuo']],axis=1)\n",
        "  df2_bullet = df2_bullet[:-1]\n",
        "  \n",
        "  return (df2_bullet)"
      ],
      "execution_count": 10,
      "outputs": []
    },
    {
      "cell_type": "markdown",
      "metadata": {
        "id": "_TF0PhLvTqbN"
      },
      "source": [
        "***Output del Modello***\n"
      ]
    },
    {
      "cell_type": "code",
      "metadata": {
        "id": "c_c10rotKcxN",
        "colab": {
          "base_uri": "https://localhost:8080/"
        },
        "outputId": "3f7c3717-16e9-4efd-8d69-0ab6f5c92dc4"
      },
      "source": [
        "if (amortization_type == 'Francese'):\n",
        "  df_output = (ammortamento_francese(amortization_rate,tenor,rate_totali,notional))\n",
        "elif (amortization_type == 'Italiano'):\n",
        "  df_output = (ammortamento_italiano(amortization_rate,tenor,rate_totali,notional))\n",
        "elif (amortization_type == 'Bullet'):\n",
        "  df_output = (ammortamento_bullet(amortization_rate,tenor,rate_totali,notional))\n",
        "  \n",
        "print (df_output)"
      ],
      "execution_count": 11,
      "outputs": [
        {
          "output_type": "stream",
          "text": [
            "             startdate             enddate  Debito Residuo\n",
            "0        May 4th, 2021    August 4th, 2021        100000.0\n",
            "1     August 4th, 2021  November 4th, 2021        100000.0\n",
            "2   November 4th, 2021  February 4th, 2022        100000.0\n",
            "3   February 4th, 2022       May 4th, 2022        100000.0\n",
            "4        May 4th, 2022    August 4th, 2022        100000.0\n",
            "5     August 4th, 2022  November 4th, 2022        100000.0\n",
            "6   November 4th, 2022  February 6th, 2023        100000.0\n",
            "7   February 6th, 2023       May 4th, 2023        100000.0\n",
            "8        May 4th, 2023    August 4th, 2023        100000.0\n",
            "9     August 4th, 2023  November 6th, 2023        100000.0\n",
            "10  November 6th, 2023  February 5th, 2024        100000.0\n",
            "11  February 5th, 2024       May 6th, 2024        100000.0\n",
            "12       May 6th, 2024    August 5th, 2024        100000.0\n",
            "13    August 5th, 2024  November 4th, 2024        100000.0\n",
            "14  November 4th, 2024  February 4th, 2025        100000.0\n",
            "15  February 4th, 2025       May 5th, 2025        100000.0\n",
            "16       May 5th, 2025    August 4th, 2025        100000.0\n",
            "17    August 4th, 2025  November 4th, 2025        100000.0\n",
            "18  November 4th, 2025  February 4th, 2026        100000.0\n",
            "19  February 4th, 2026       May 4th, 2026        100000.0\n"
          ],
          "name": "stdout"
        }
      ]
    },
    {
      "cell_type": "markdown",
      "metadata": {
        "id": "5BYIvyNRA4fC"
      },
      "source": [
        "***Calcolo delle Fixing Date***"
      ]
    },
    {
      "cell_type": "code",
      "metadata": {
        "colab": {
          "base_uri": "https://localhost:8080/"
        },
        "id": "Jn4WsX9RxFOt",
        "outputId": "ecb6229b-5924-4851-e180-acb76d443843"
      },
      "source": [
        "try:\n",
        "  rule_fixing = input('Inserire la regola per le fixing date: ')\n",
        "  if rule_fixing == '':\n",
        "     rule_fixing = '-2BD'\n",
        "except:\n",
        "  rule_fixing = '-2BD'"
      ],
      "execution_count": 12,
      "outputs": [
        {
          "output_type": "stream",
          "text": [
            "Inserire la regola per le fixing date: \n"
          ],
          "name": "stdout"
        }
      ]
    },
    {
      "cell_type": "code",
      "metadata": {
        "id": "euExlataCQpp",
        "outputId": "6e0a8403-c83f-4059-99e8-e0ff68ba680b",
        "colab": {
          "base_uri": "https://localhost:8080/"
        }
      },
      "source": [
        "column_list = ['fixing date','fixing start','fixing end']\n",
        "for col in column_list:\n",
        "  df_output[col] = np.zeros\n",
        "\n",
        "for i, date in enumerate(df_output['startdate']):\n",
        "  if rule_fixing == '-2BD':\n",
        "    date_fix = calendar.advance(date, -2, Days)\n",
        "  else:\n",
        "    date_fix = calendar.advance(date, -1, Months)\n",
        "    date_fix = calendar.endOfMonth(date_fix)\n",
        "    date_fix = calendar.advance(date_fix, -1, Days)\n",
        "\n",
        "  df_output['fixing date'].iloc[i] = date_fix\n",
        "  df_output['fixing start'].iloc[i] = calendar.advance(date_fix, 2, Days)\n",
        "for t, date in enumerate(df_output['fixing start']):\n",
        "  df_output['fixing end'].iloc[t] = calendar.advance(date, tenor, Months, ModifiedFollowing)\n"
      ],
      "execution_count": 13,
      "outputs": [
        {
          "output_type": "stream",
          "text": [
            "/usr/local/lib/python3.7/dist-packages/pandas/core/indexing.py:670: SettingWithCopyWarning: \n",
            "A value is trying to be set on a copy of a slice from a DataFrame\n",
            "\n",
            "See the caveats in the documentation: https://pandas.pydata.org/pandas-docs/stable/user_guide/indexing.html#returning-a-view-versus-a-copy\n",
            "  iloc._setitem_with_indexer(indexer, value)\n"
          ],
          "name": "stderr"
        }
      ]
    },
    {
      "cell_type": "code",
      "metadata": {
        "colab": {
          "base_uri": "https://localhost:8080/",
          "height": 654
        },
        "id": "KFLafbp4AX_3",
        "outputId": "e4a40d5f-a7d8-4cb0-81c0-c974b9ac7ba5"
      },
      "source": [
        "df_output"
      ],
      "execution_count": 14,
      "outputs": [
        {
          "output_type": "execute_result",
          "data": {
            "text/html": [
              "<div>\n",
              "<style scoped>\n",
              "    .dataframe tbody tr th:only-of-type {\n",
              "        vertical-align: middle;\n",
              "    }\n",
              "\n",
              "    .dataframe tbody tr th {\n",
              "        vertical-align: top;\n",
              "    }\n",
              "\n",
              "    .dataframe thead th {\n",
              "        text-align: right;\n",
              "    }\n",
              "</style>\n",
              "<table border=\"1\" class=\"dataframe\">\n",
              "  <thead>\n",
              "    <tr style=\"text-align: right;\">\n",
              "      <th></th>\n",
              "      <th>startdate</th>\n",
              "      <th>enddate</th>\n",
              "      <th>Debito Residuo</th>\n",
              "      <th>fixing date</th>\n",
              "      <th>fixing start</th>\n",
              "      <th>fixing end</th>\n",
              "    </tr>\n",
              "  </thead>\n",
              "  <tbody>\n",
              "    <tr>\n",
              "      <th>0</th>\n",
              "      <td>May 4th, 2021</td>\n",
              "      <td>August 4th, 2021</td>\n",
              "      <td>100000.0</td>\n",
              "      <td>April 30th, 2021</td>\n",
              "      <td>May 4th, 2021</td>\n",
              "      <td>August 4th, 2021</td>\n",
              "    </tr>\n",
              "    <tr>\n",
              "      <th>1</th>\n",
              "      <td>August 4th, 2021</td>\n",
              "      <td>November 4th, 2021</td>\n",
              "      <td>100000.0</td>\n",
              "      <td>August 2nd, 2021</td>\n",
              "      <td>August 4th, 2021</td>\n",
              "      <td>November 4th, 2021</td>\n",
              "    </tr>\n",
              "    <tr>\n",
              "      <th>2</th>\n",
              "      <td>November 4th, 2021</td>\n",
              "      <td>February 4th, 2022</td>\n",
              "      <td>100000.0</td>\n",
              "      <td>November 2nd, 2021</td>\n",
              "      <td>November 4th, 2021</td>\n",
              "      <td>February 4th, 2022</td>\n",
              "    </tr>\n",
              "    <tr>\n",
              "      <th>3</th>\n",
              "      <td>February 4th, 2022</td>\n",
              "      <td>May 4th, 2022</td>\n",
              "      <td>100000.0</td>\n",
              "      <td>February 2nd, 2022</td>\n",
              "      <td>February 4th, 2022</td>\n",
              "      <td>May 4th, 2022</td>\n",
              "    </tr>\n",
              "    <tr>\n",
              "      <th>4</th>\n",
              "      <td>May 4th, 2022</td>\n",
              "      <td>August 4th, 2022</td>\n",
              "      <td>100000.0</td>\n",
              "      <td>May 2nd, 2022</td>\n",
              "      <td>May 4th, 2022</td>\n",
              "      <td>August 4th, 2022</td>\n",
              "    </tr>\n",
              "    <tr>\n",
              "      <th>5</th>\n",
              "      <td>August 4th, 2022</td>\n",
              "      <td>November 4th, 2022</td>\n",
              "      <td>100000.0</td>\n",
              "      <td>August 2nd, 2022</td>\n",
              "      <td>August 4th, 2022</td>\n",
              "      <td>November 4th, 2022</td>\n",
              "    </tr>\n",
              "    <tr>\n",
              "      <th>6</th>\n",
              "      <td>November 4th, 2022</td>\n",
              "      <td>February 6th, 2023</td>\n",
              "      <td>100000.0</td>\n",
              "      <td>November 2nd, 2022</td>\n",
              "      <td>November 4th, 2022</td>\n",
              "      <td>February 6th, 2023</td>\n",
              "    </tr>\n",
              "    <tr>\n",
              "      <th>7</th>\n",
              "      <td>February 6th, 2023</td>\n",
              "      <td>May 4th, 2023</td>\n",
              "      <td>100000.0</td>\n",
              "      <td>February 2nd, 2023</td>\n",
              "      <td>February 6th, 2023</td>\n",
              "      <td>May 8th, 2023</td>\n",
              "    </tr>\n",
              "    <tr>\n",
              "      <th>8</th>\n",
              "      <td>May 4th, 2023</td>\n",
              "      <td>August 4th, 2023</td>\n",
              "      <td>100000.0</td>\n",
              "      <td>May 2nd, 2023</td>\n",
              "      <td>May 4th, 2023</td>\n",
              "      <td>August 4th, 2023</td>\n",
              "    </tr>\n",
              "    <tr>\n",
              "      <th>9</th>\n",
              "      <td>August 4th, 2023</td>\n",
              "      <td>November 6th, 2023</td>\n",
              "      <td>100000.0</td>\n",
              "      <td>August 2nd, 2023</td>\n",
              "      <td>August 4th, 2023</td>\n",
              "      <td>November 6th, 2023</td>\n",
              "    </tr>\n",
              "    <tr>\n",
              "      <th>10</th>\n",
              "      <td>November 6th, 2023</td>\n",
              "      <td>February 5th, 2024</td>\n",
              "      <td>100000.0</td>\n",
              "      <td>November 2nd, 2023</td>\n",
              "      <td>November 6th, 2023</td>\n",
              "      <td>February 6th, 2024</td>\n",
              "    </tr>\n",
              "    <tr>\n",
              "      <th>11</th>\n",
              "      <td>February 5th, 2024</td>\n",
              "      <td>May 6th, 2024</td>\n",
              "      <td>100000.0</td>\n",
              "      <td>February 1st, 2024</td>\n",
              "      <td>February 5th, 2024</td>\n",
              "      <td>May 6th, 2024</td>\n",
              "    </tr>\n",
              "    <tr>\n",
              "      <th>12</th>\n",
              "      <td>May 6th, 2024</td>\n",
              "      <td>August 5th, 2024</td>\n",
              "      <td>100000.0</td>\n",
              "      <td>May 2nd, 2024</td>\n",
              "      <td>May 6th, 2024</td>\n",
              "      <td>August 6th, 2024</td>\n",
              "    </tr>\n",
              "    <tr>\n",
              "      <th>13</th>\n",
              "      <td>August 5th, 2024</td>\n",
              "      <td>November 4th, 2024</td>\n",
              "      <td>100000.0</td>\n",
              "      <td>August 1st, 2024</td>\n",
              "      <td>August 5th, 2024</td>\n",
              "      <td>November 5th, 2024</td>\n",
              "    </tr>\n",
              "    <tr>\n",
              "      <th>14</th>\n",
              "      <td>November 4th, 2024</td>\n",
              "      <td>February 4th, 2025</td>\n",
              "      <td>100000.0</td>\n",
              "      <td>October 31st, 2024</td>\n",
              "      <td>November 4th, 2024</td>\n",
              "      <td>February 4th, 2025</td>\n",
              "    </tr>\n",
              "    <tr>\n",
              "      <th>15</th>\n",
              "      <td>February 4th, 2025</td>\n",
              "      <td>May 5th, 2025</td>\n",
              "      <td>100000.0</td>\n",
              "      <td>January 31st, 2025</td>\n",
              "      <td>February 4th, 2025</td>\n",
              "      <td>May 5th, 2025</td>\n",
              "    </tr>\n",
              "    <tr>\n",
              "      <th>16</th>\n",
              "      <td>May 5th, 2025</td>\n",
              "      <td>August 4th, 2025</td>\n",
              "      <td>100000.0</td>\n",
              "      <td>April 30th, 2025</td>\n",
              "      <td>May 5th, 2025</td>\n",
              "      <td>August 5th, 2025</td>\n",
              "    </tr>\n",
              "    <tr>\n",
              "      <th>17</th>\n",
              "      <td>August 4th, 2025</td>\n",
              "      <td>November 4th, 2025</td>\n",
              "      <td>100000.0</td>\n",
              "      <td>July 31st, 2025</td>\n",
              "      <td>August 4th, 2025</td>\n",
              "      <td>November 4th, 2025</td>\n",
              "    </tr>\n",
              "    <tr>\n",
              "      <th>18</th>\n",
              "      <td>November 4th, 2025</td>\n",
              "      <td>February 4th, 2026</td>\n",
              "      <td>100000.0</td>\n",
              "      <td>October 31st, 2025</td>\n",
              "      <td>November 4th, 2025</td>\n",
              "      <td>February 4th, 2026</td>\n",
              "    </tr>\n",
              "    <tr>\n",
              "      <th>19</th>\n",
              "      <td>February 4th, 2026</td>\n",
              "      <td>May 4th, 2026</td>\n",
              "      <td>100000.0</td>\n",
              "      <td>February 2nd, 2026</td>\n",
              "      <td>February 4th, 2026</td>\n",
              "      <td>May 4th, 2026</td>\n",
              "    </tr>\n",
              "  </tbody>\n",
              "</table>\n",
              "</div>"
            ],
            "text/plain": [
              "             startdate  ...          fixing end\n",
              "0        May 4th, 2021  ...    August 4th, 2021\n",
              "1     August 4th, 2021  ...  November 4th, 2021\n",
              "2   November 4th, 2021  ...  February 4th, 2022\n",
              "3   February 4th, 2022  ...       May 4th, 2022\n",
              "4        May 4th, 2022  ...    August 4th, 2022\n",
              "5     August 4th, 2022  ...  November 4th, 2022\n",
              "6   November 4th, 2022  ...  February 6th, 2023\n",
              "7   February 6th, 2023  ...       May 8th, 2023\n",
              "8        May 4th, 2023  ...    August 4th, 2023\n",
              "9     August 4th, 2023  ...  November 6th, 2023\n",
              "10  November 6th, 2023  ...  February 6th, 2024\n",
              "11  February 5th, 2024  ...       May 6th, 2024\n",
              "12       May 6th, 2024  ...    August 6th, 2024\n",
              "13    August 5th, 2024  ...  November 5th, 2024\n",
              "14  November 4th, 2024  ...  February 4th, 2025\n",
              "15  February 4th, 2025  ...       May 5th, 2025\n",
              "16       May 5th, 2025  ...    August 5th, 2025\n",
              "17    August 4th, 2025  ...  November 4th, 2025\n",
              "18  November 4th, 2025  ...  February 4th, 2026\n",
              "19  February 4th, 2026  ...       May 4th, 2026\n",
              "\n",
              "[20 rows x 6 columns]"
            ]
          },
          "metadata": {
            "tags": []
          },
          "execution_count": 14
        }
      ]
    },
    {
      "cell_type": "markdown",
      "metadata": {
        "id": "yDdsTiDHy6fC"
      },
      "source": [
        "Npv Obiettivo: prova"
      ]
    },
    {
      "cell_type": "code",
      "metadata": {
        "id": "8L9wCvzmhPUN"
      },
      "source": [
        "df_output['differenza_giorni'] = (df_output['enddate'] - df_output['startdate']) / 360\n",
        "df_output['prod'] = (df_output['Debito Residuo'] * df_output['differenza_giorni']) * 0.0001\n",
        "BPV = df_output['prod'].sum()"
      ],
      "execution_count": 15,
      "outputs": []
    },
    {
      "cell_type": "markdown",
      "metadata": {
        "id": "OiIv-g1PVGb5"
      },
      "source": [
        "*Class: Market Data*"
      ]
    },
    {
      "cell_type": "code",
      "metadata": {
        "id": "ubcKXwfkUzeH"
      },
      "source": [
        "class historical_fixed_rate(object):\n",
        "\n",
        "    def __init__(self, name, reference_date = None, currency = None, underlying = None):\n",
        "        \n",
        "        try:\n",
        "            self.reference_date = datetime.strptime(reference_date, '%d/%m/%Y')\n",
        "        except:\n",
        "            self.reference_date = None\n",
        "        \n",
        "        self.name = name\n",
        "        self.currency = currency\n",
        "        self.underlying = underlying\n",
        "        self.historical_fixed_rate_df = pd.DataFrame\n",
        "\n",
        "class zero_curve_rate(object):\n",
        "# chiedere a Mirko l'assegnazione di interp_rule e day_count\n",
        "    def __init__(self, name, reference_date = None, currency = None, underlying = None, interp_rule = None, day_count = None):\n",
        "        \n",
        "        self.name = name\n",
        "        \n",
        "        try:\n",
        "            self.reference_date = datetime.strptime(reference_date, '%d/%m/%Y')\n",
        "        except:\n",
        "            self.reference_date = None\n",
        "      \n",
        "        self.currency = currency\n",
        "        self.underlying = underlying\n",
        "        self.interpolation_rule = interp_rule\n",
        "        self.day_count = day_count\n",
        "        self.zero_curve_rate_df = pd.DataFrame"
      ],
      "execution_count": 16,
      "outputs": []
    },
    {
      "cell_type": "code",
      "metadata": {
        "id": "jpJg4ECuVkwy"
      },
      "source": [
        "def market_data(path):\n",
        "\n",
        "  historical_fixed_rates = historical_fixed_rate(name =\"HISTORICAL RATE\")\n",
        "  historical_fixed_rates.historical_fixed_rate_df = pd.read_excel(path, sheet_name='fixings')\n",
        "\n",
        "  estimation_curve = zero_curve_rate(name='ESTIMATION')\n",
        "  estimation_curve.zero_curve_rate_df = pd.read_excel(path, sheet_name='estimation')\n",
        "\n",
        "  discount_curve = zero_curve_rate(name='DISCOUNT')\n",
        "  discount_curve.zero_curve_rate_df = pd.read_excel(path, sheet_name='discount')\n",
        "\n",
        "  market_data_dict = {'ESTIMATION': estimation_curve, 'DISCOUNT': discount_curve, 'HISTORICAL': historical_fixed_rates}\n",
        "\n",
        "  return(market_data_dict)"
      ],
      "execution_count": 17,
      "outputs": []
    },
    {
      "cell_type": "code",
      "metadata": {
        "id": "fj_O2eTCfWmy",
        "outputId": "d4991f8c-d3b6-4ffd-c5a6-b3ded8d3195a",
        "colab": {
          "base_uri": "https://localhost:8080/"
        }
      },
      "source": [
        "# converto le date della curva importata in Date quantlib\n",
        "market_dict = market_data(path)\n",
        "for i, d in enumerate(market_dict['ESTIMATION'].zero_curve_rate_df['DATE']):\n",
        "  market_dict['ESTIMATION'].zero_curve_rate_df['DATE'].iloc[i] = Date(d.day,d.month,d.year)"
      ],
      "execution_count": 18,
      "outputs": [
        {
          "output_type": "stream",
          "text": [
            "/usr/local/lib/python3.7/dist-packages/pandas/core/indexing.py:670: SettingWithCopyWarning: \n",
            "A value is trying to be set on a copy of a slice from a DataFrame\n",
            "\n",
            "See the caveats in the documentation: https://pandas.pydata.org/pandas-docs/stable/user_guide/indexing.html#returning-a-view-versus-a-copy\n",
            "  iloc._setitem_with_indexer(indexer, value)\n"
          ],
          "name": "stderr"
        }
      ]
    },
    {
      "cell_type": "code",
      "metadata": {
        "id": "SvOW7GauWabN"
      },
      "source": [
        "# funzione per convertire le Date quantlib in numeri\n",
        "def date_to_ordinal(date_to_convert):\n",
        "  date_number = []\n",
        "  if type(date_to_convert) == QuantLib.Date:\n",
        "    date_convert = datetime(date_to_convert.year(),date_to_convert.month(),date_to_convert.dayOfMonth())\n",
        "    date_number.append(date_convert.toordinal())\n",
        "  else:\n",
        "    for i, d in enumerate(date_to_convert):\n",
        "      date_convert = datetime(d.year(), d.month(), d.dayOfMonth())\n",
        "      date_number.append(date_convert.toordinal())\n",
        "  return date_number\n"
      ],
      "execution_count": 24,
      "outputs": []
    },
    {
      "cell_type": "code",
      "metadata": {
        "id": "TXFN_bs9R9It",
        "outputId": "eb73defb-f77c-4a88-919c-589a39876bb1",
        "colab": {
          "base_uri": "https://localhost:8080/",
          "height": 220
        }
      },
      "source": [
        "a=(m['ESTIMATION'].zero_curve_rate_df['DATE'])\n",
        "b=(ref_date)\n",
        "c=(df_output['fixing start'])\n",
        "d=(df_output['fixing end'])"
      ],
      "execution_count": 20,
      "outputs": [
        {
          "output_type": "error",
          "ename": "NameError",
          "evalue": "ignored",
          "traceback": [
            "\u001b[0;31m---------------------------------------------------------------------------\u001b[0m",
            "\u001b[0;31mNameError\u001b[0m                                 Traceback (most recent call last)",
            "\u001b[0;32m<ipython-input-20-70d3975d749b>\u001b[0m in \u001b[0;36m<module>\u001b[0;34m()\u001b[0m\n\u001b[0;32m----> 1\u001b[0;31m \u001b[0ma\u001b[0m\u001b[0;34m=\u001b[0m\u001b[0;34m(\u001b[0m\u001b[0mm\u001b[0m\u001b[0;34m[\u001b[0m\u001b[0;34m'ESTIMATION'\u001b[0m\u001b[0;34m]\u001b[0m\u001b[0;34m.\u001b[0m\u001b[0mzero_curve_rate_df\u001b[0m\u001b[0;34m[\u001b[0m\u001b[0;34m'DATE'\u001b[0m\u001b[0;34m]\u001b[0m\u001b[0;34m)\u001b[0m\u001b[0;34m\u001b[0m\u001b[0;34m\u001b[0m\u001b[0m\n\u001b[0m\u001b[1;32m      2\u001b[0m \u001b[0mb\u001b[0m\u001b[0;34m=\u001b[0m\u001b[0;34m(\u001b[0m\u001b[0mref_date\u001b[0m\u001b[0;34m)\u001b[0m\u001b[0;34m\u001b[0m\u001b[0;34m\u001b[0m\u001b[0m\n\u001b[1;32m      3\u001b[0m \u001b[0mc\u001b[0m\u001b[0;34m=\u001b[0m\u001b[0;34m(\u001b[0m\u001b[0mdf_output\u001b[0m\u001b[0;34m[\u001b[0m\u001b[0;34m'fixing start'\u001b[0m\u001b[0;34m]\u001b[0m\u001b[0;34m)\u001b[0m\u001b[0;34m\u001b[0m\u001b[0;34m\u001b[0m\u001b[0m\n\u001b[1;32m      4\u001b[0m \u001b[0md\u001b[0m\u001b[0;34m=\u001b[0m\u001b[0;34m(\u001b[0m\u001b[0mdf_output\u001b[0m\u001b[0;34m[\u001b[0m\u001b[0;34m'fixing end'\u001b[0m\u001b[0;34m]\u001b[0m\u001b[0;34m)\u001b[0m\u001b[0;34m\u001b[0m\u001b[0;34m\u001b[0m\u001b[0m\n",
            "\u001b[0;31mNameError\u001b[0m: name 'm' is not defined"
          ]
        }
      ]
    },
    {
      "cell_type": "code",
      "metadata": {
        "id": "mpd1WL4hV5Hj",
        "outputId": "7f12ea4a-ee66-49d0-c927-05f211a40153",
        "colab": {
          "base_uri": "https://localhost:8080/"
        }
      },
      "source": [
        "market_dict['ESTIMATION'].zero_curve_rate_df['DATE']"
      ],
      "execution_count": 21,
      "outputs": [
        {
          "output_type": "execute_result",
          "data": {
            "text/plain": [
              "0      February 1st, 2021\n",
              "1      February 5th, 2021\n",
              "2     February 12th, 2021\n",
              "3     February 19th, 2021\n",
              "4     February 26th, 2021\n",
              "             ...         \n",
              "60     January 29th, 2059\n",
              "61     January 29th, 2060\n",
              "62     January 31st, 2061\n",
              "63     January 29th, 2071\n",
              "64     January 29th, 2081\n",
              "Name: DATE, Length: 65, dtype: object"
            ]
          },
          "metadata": {
            "tags": []
          },
          "execution_count": 21
        }
      ]
    },
    {
      "cell_type": "code",
      "metadata": {
        "id": "ayKOBBW5auKm"
      },
      "source": [
        "estimation_rate_function(market_dict['ESTIMATION'].zero_curve_rate_df,df_output['fixing start'],df_output['fixing end'],ref_date)\n"
      ],
      "execution_count": null,
      "outputs": []
    },
    {
      "cell_type": "code",
      "metadata": {
        "id": "pTEG79BvhbMM"
      },
      "source": [
        "kk=estimation_rate_function(a,m['ESTIMATION'].zero_curve_rate_df['RATE'],c,d,b)"
      ],
      "execution_count": null,
      "outputs": []
    },
    {
      "cell_type": "code",
      "metadata": {
        "id": "S8aTe-NQhUcP"
      },
      "source": [
        "def rate_interpoletor(interpolation_type, x_interpolation, y_interpolation, date_to_interpolate):\n",
        "    interpolation_object = interpolation_type(x_interpolation, y_interpolation)\n",
        "    rate_interpolated = interpolation_object(date_to_interpolate, allowExtrapolation=True)\n",
        "    return rate_interpolated"
      ],
      "execution_count": 22,
      "outputs": []
    },
    {
      "cell_type": "code",
      "metadata": {
        "id": "sfVfNCkqU5-6",
        "outputId": "9149b64d-fc7f-41c1-9b8d-0760fbdcb92c",
        "colab": {
          "base_uri": "https://localhost:8080/",
          "height": 349
        }
      },
      "source": [
        "date_curve_number = np.array(date_to_ordinal(market_dict['ESTIMATION'].zero_curve_rate_df['DATE']))\n",
        "rate_array = np.array(market_dict['ESTIMATION'].zero_curve_rate_df['RATE'])\n",
        "rate_interpoletor(KrugerCubic,date_curve_number,rate_array,738000)"
      ],
      "execution_count": 30,
      "outputs": [
        {
          "output_type": "error",
          "ename": "TypeError",
          "evalue": "ignored",
          "traceback": [
            "\u001b[0;31m---------------------------------------------------------------------------\u001b[0m",
            "\u001b[0;31mTypeError\u001b[0m                                 Traceback (most recent call last)",
            "\u001b[0;32m<ipython-input-30-cadf44812dde>\u001b[0m in \u001b[0;36m<module>\u001b[0;34m()\u001b[0m\n\u001b[1;32m      1\u001b[0m \u001b[0mdate_curve_number\u001b[0m \u001b[0;34m=\u001b[0m \u001b[0mnp\u001b[0m\u001b[0;34m.\u001b[0m\u001b[0marray\u001b[0m\u001b[0;34m(\u001b[0m\u001b[0mdate_to_ordinal\u001b[0m\u001b[0;34m(\u001b[0m\u001b[0mmarket_dict\u001b[0m\u001b[0;34m[\u001b[0m\u001b[0;34m'ESTIMATION'\u001b[0m\u001b[0;34m]\u001b[0m\u001b[0;34m.\u001b[0m\u001b[0mzero_curve_rate_df\u001b[0m\u001b[0;34m[\u001b[0m\u001b[0;34m'DATE'\u001b[0m\u001b[0;34m]\u001b[0m\u001b[0;34m)\u001b[0m\u001b[0;34m)\u001b[0m\u001b[0;34m\u001b[0m\u001b[0;34m\u001b[0m\u001b[0m\n\u001b[1;32m      2\u001b[0m \u001b[0mrate_array\u001b[0m \u001b[0;34m=\u001b[0m \u001b[0mnp\u001b[0m\u001b[0;34m.\u001b[0m\u001b[0marray\u001b[0m\u001b[0;34m(\u001b[0m\u001b[0mmarket_dict\u001b[0m\u001b[0;34m[\u001b[0m\u001b[0;34m'ESTIMATION'\u001b[0m\u001b[0;34m]\u001b[0m\u001b[0;34m.\u001b[0m\u001b[0mzero_curve_rate_df\u001b[0m\u001b[0;34m[\u001b[0m\u001b[0;34m'RATE'\u001b[0m\u001b[0;34m]\u001b[0m\u001b[0;34m)\u001b[0m\u001b[0;34m\u001b[0m\u001b[0;34m\u001b[0m\u001b[0m\n\u001b[0;32m----> 3\u001b[0;31m \u001b[0mrate_interpoletor\u001b[0m\u001b[0;34m(\u001b[0m\u001b[0mKrugerCubic\u001b[0m\u001b[0;34m,\u001b[0m\u001b[0mdate_curve_number\u001b[0m\u001b[0;34m,\u001b[0m\u001b[0mrate_array\u001b[0m\u001b[0;34m,\u001b[0m\u001b[0;36m738000\u001b[0m\u001b[0;34m)\u001b[0m\u001b[0;34m\u001b[0m\u001b[0;34m\u001b[0m\u001b[0m\n\u001b[0m",
            "\u001b[0;32m<ipython-input-22-60a71bf09c87>\u001b[0m in \u001b[0;36mrate_interpoletor\u001b[0;34m(interpolation_type, x_interpolation, y_interpolation, date_to_interpolate)\u001b[0m\n\u001b[1;32m      1\u001b[0m \u001b[0;32mdef\u001b[0m \u001b[0mrate_interpoletor\u001b[0m\u001b[0;34m(\u001b[0m\u001b[0minterpolation_type\u001b[0m\u001b[0;34m,\u001b[0m \u001b[0mx_interpolation\u001b[0m\u001b[0;34m,\u001b[0m \u001b[0my_interpolation\u001b[0m\u001b[0;34m,\u001b[0m \u001b[0mdate_to_interpolate\u001b[0m\u001b[0;34m)\u001b[0m\u001b[0;34m:\u001b[0m\u001b[0;34m\u001b[0m\u001b[0;34m\u001b[0m\u001b[0m\n\u001b[0;32m----> 2\u001b[0;31m     \u001b[0minterpolation_object\u001b[0m \u001b[0;34m=\u001b[0m \u001b[0minterpolation_type\u001b[0m\u001b[0;34m(\u001b[0m\u001b[0mx_interpolation\u001b[0m\u001b[0;34m,\u001b[0m \u001b[0my_interpolation\u001b[0m\u001b[0;34m)\u001b[0m\u001b[0;34m\u001b[0m\u001b[0;34m\u001b[0m\u001b[0m\n\u001b[0m\u001b[1;32m      3\u001b[0m     \u001b[0mrate_interpolated\u001b[0m \u001b[0;34m=\u001b[0m \u001b[0minterpolation_object\u001b[0m\u001b[0;34m(\u001b[0m\u001b[0mdate_to_interpolate\u001b[0m\u001b[0;34m,\u001b[0m \u001b[0mallowExtrapolation\u001b[0m\u001b[0;34m=\u001b[0m\u001b[0;32mTrue\u001b[0m\u001b[0;34m)\u001b[0m\u001b[0;34m\u001b[0m\u001b[0;34m\u001b[0m\u001b[0m\n\u001b[1;32m      4\u001b[0m     \u001b[0;32mreturn\u001b[0m \u001b[0mrate_interpolated\u001b[0m\u001b[0;34m\u001b[0m\u001b[0;34m\u001b[0m\u001b[0m\n",
            "\u001b[0;32m/usr/local/lib/python3.7/dist-packages/QuantLib/QuantLib.py\u001b[0m in \u001b[0;36m__init__\u001b[0;34m(self, x, y)\u001b[0m\n\u001b[1;32m   5141\u001b[0m \u001b[0;34m\u001b[0m\u001b[0m\n\u001b[1;32m   5142\u001b[0m     \u001b[0;32mdef\u001b[0m \u001b[0m__init__\u001b[0m\u001b[0;34m(\u001b[0m\u001b[0mself\u001b[0m\u001b[0;34m,\u001b[0m \u001b[0mx\u001b[0m\u001b[0;34m,\u001b[0m \u001b[0my\u001b[0m\u001b[0;34m)\u001b[0m\u001b[0;34m:\u001b[0m\u001b[0;34m\u001b[0m\u001b[0;34m\u001b[0m\u001b[0m\n\u001b[0;32m-> 5143\u001b[0;31m         \u001b[0m_QuantLib\u001b[0m\u001b[0;34m.\u001b[0m\u001b[0mKrugerCubic_swiginit\u001b[0m\u001b[0;34m(\u001b[0m\u001b[0mself\u001b[0m\u001b[0;34m,\u001b[0m \u001b[0m_QuantLib\u001b[0m\u001b[0;34m.\u001b[0m\u001b[0mnew_KrugerCubic\u001b[0m\u001b[0;34m(\u001b[0m\u001b[0mx\u001b[0m\u001b[0;34m,\u001b[0m \u001b[0my\u001b[0m\u001b[0;34m)\u001b[0m\u001b[0;34m)\u001b[0m\u001b[0;34m\u001b[0m\u001b[0;34m\u001b[0m\u001b[0m\n\u001b[0m\u001b[1;32m   5144\u001b[0m \u001b[0;34m\u001b[0m\u001b[0m\n\u001b[1;32m   5145\u001b[0m     \u001b[0;32mdef\u001b[0m \u001b[0m__call__\u001b[0m\u001b[0;34m(\u001b[0m\u001b[0mself\u001b[0m\u001b[0;34m,\u001b[0m \u001b[0mx\u001b[0m\u001b[0;34m,\u001b[0m \u001b[0mallowExtrapolation\u001b[0m\u001b[0;34m=\u001b[0m\u001b[0;32mFalse\u001b[0m\u001b[0;34m)\u001b[0m\u001b[0;34m:\u001b[0m\u001b[0;34m\u001b[0m\u001b[0;34m\u001b[0m\u001b[0m\n",
            "\u001b[0;31mTypeError\u001b[0m: Array expected"
          ]
        }
      ]
    },
    {
      "cell_type": "code",
      "metadata": {
        "id": "u-AommmphRy9",
        "colab": {
          "base_uri": "https://localhost:8080/"
        },
        "outputId": "d9e0a2e8-2866-4220-bf1e-799cf5f97435"
      },
      "source": [
        "np.array(date_curve_number)"
      ],
      "execution_count": 29,
      "outputs": [
        {
          "output_type": "execute_result",
          "data": {
            "text/plain": [
              "array([737822, 737826, 737833, 737840, 737847, 737878, 737909, 737941,\n",
              "       737970, 738000, 738032, 738062, 738092, 738123, 738153, 738186,\n",
              "       738214, 738243, 738274, 738322, 738413, 738510, 738600, 738686,\n",
              "       738784, 738914, 739280, 739645, 740010, 740377, 740741, 741106,\n",
              "       741471, 741836, 742204, 742568, 742932, 743297, 743663, 744028,\n",
              "       744395, 744759, 745124, 745489, 745854, 746219, 746586, 746950,\n",
              "       747315, 747680, 748046, 748413, 748777, 749141, 749507, 749872,\n",
              "       750237, 750604, 750968, 751333, 751698, 752063, 752431, 756081,\n",
              "       759734])"
            ]
          },
          "metadata": {
            "tags": []
          },
          "execution_count": 29
        }
      ]
    },
    {
      "cell_type": "code",
      "metadata": {
        "id": "MqjAhe-TXlB1"
      },
      "source": [
        ""
      ],
      "execution_count": null,
      "outputs": []
    },
    {
      "cell_type": "code",
      "metadata": {
        "id": "g4Jab-UvZque"
      },
      "source": [
        "def estimation_rate_function(dataframe_curve,date_fixing_start, date_fixing_end,ref_date):\n",
        "  rate_curve = dataframe_curve['RATE']\n",
        "  date_curve = dataframe_curve['DATE']\n",
        "\n",
        "  date_curve_number = date_to_ordinal(date_curve)      \n",
        "  date_fixing_start_number = date_to_ordinal(date_fixing_start)\n",
        "  date_fixing_end_number = date_to_ordinal(date_fixing_end)\n",
        "  ref_date_number = date_to_ordinal(ref_date)\n",
        "  rate_start = []\n",
        "  for date in date_fixing_start_number:\n",
        "    rate = rate_interpoletor(KrugerCubic, date_curve_number, rate_curve, date)\n",
        "    rate_start.append(rate)\n",
        "  discount_start = []\n",
        "  for i, rate in enumerate(rate_start):\n",
        "    # convenzione curva di estimation dell'EURIBOR è act/365\n",
        "    discount_start.append(exp(-rate / 100 * ((date_fixing_start_number[i] - ref_date_number) / 365)))\n",
        "  rate_end = []\n",
        "  for date in date_fixing_end_number:\n",
        "    rate_end.append(rate_interpoletor(KrugerCubic, date_curve_number,rate_curve, date))\n",
        "  discount_end = []\n",
        "  for i, rate in enumerate(rate_end):\n",
        "    discount_end.append(exp(-rate / 100 * ((date_fixing_end_number[i] - ref_date_number) / 365)))\n",
        "  estimated_rate = []\n",
        "  for i, date in enumerate(date_fixing_start_number):\n",
        "    if date <= ref_date_number : \n",
        "      estimated_rate.append(0) # bisogna mettere il rate che fa riferimento al sottostante\n",
        "    else:\n",
        "      estimated_rate.append((discount_start[i] / discount_end[i] - 1) / ((date_fixing_end_number[i] - date) / 360)) # convenzione per i discount dell'EURIBOR è act/360\n",
        "  return estimated_rate\n"
      ],
      "execution_count": 23,
      "outputs": []
    },
    {
      "cell_type": "code",
      "metadata": {
        "id": "7t_29C3zfktk"
      },
      "source": [
        "d1= Date(29,4,2021)\n",
        "d2= Date(30,9,2021)\n",
        "d2-d1"
      ],
      "execution_count": null,
      "outputs": []
    },
    {
      "cell_type": "code",
      "metadata": {
        "id": "W32ctDk3rDdR"
      },
      "source": [
        "date_to_ordinal(d2)[0]-date_to_ordinal(d1)[0]"
      ],
      "execution_count": null,
      "outputs": []
    },
    {
      "cell_type": "code",
      "metadata": {
        "id": "vqRKIrYzNCge"
      },
      "source": [
        "class IRS:\n",
        "\n",
        "  def __init__(self):\n",
        "\n",
        "    self.start_date = None\n",
        "    self.maturity_date = None\n",
        "    self.tenor = None\n",
        "    self.business_convention = None\n",
        "    self.date_gen_rule = None\n",
        "    self.schedule = pd.DataFrame\n",
        "    self.eom = None\n",
        "\n",
        "    \n",
        "    self.npv = None"
      ],
      "execution_count": null,
      "outputs": []
    },
    {
      "cell_type": "code",
      "metadata": {
        "id": "rSw7Wh4YM7DC"
      },
      "source": [
        "def pricer(path,\n",
        "           underlying,\n",
        "           amortization_type,\n",
        "           notional,\n",
        "           amortization_rate,\n",
        "           maturity_label,\n",
        "           ref_date,\n",
        "           tenor,\n",
        "           business_convention,\n",
        "           date_gen_rule,\n",
        "           currency = 'EUR',\n",
        "           calendar = TARGET(),\n",
        "           end_of_month = False,\n",
        "           deduction_formula = '-1M LBD/-1BD',\n",
        "           day_count = Actual360):\n",
        "\n",
        "    dictionary = market_data(path)\n",
        "    irs = IRS()\n",
        "    irs.start_date = calendar.advance(ref_date,2,Days)\n",
        "    if maturity_label[-1] == 'M':\n",
        "      irs.maturity_date = calendar.advance(irs.start_date, int(maturity_label.rsplit(maturity_label[-1], 1)[0]), Months)\n",
        "    elif maturity_label[-1] == 'Y':\n",
        "      irs.maturity_date = calendar.advance(irs.start_date, int(maturity_label.rsplit(maturity_label[-1], 1)[0]), Years)\n",
        "    irs.business_convention = business_convention\n",
        "    irs.tenor = tenor\n",
        "    irs.date_gen_rule = date_gen_rule\n",
        "    irs.eom = end_of_month\n",
        "\n",
        "# aggiungere altri attribuiti all'irs(calendario,EOM, deduction formula, day count)\n",
        "\n",
        "\n",
        "    \n",
        "    irs.schedule = pd.DataFrame({'startdate':list(Schedule(irs.start_date,irs.maturity_date,irs.tenor,calendar,irs.business_convention,irs.business_convention,irs.date_gen_rule,irs.eom))[:-1],'enddate':list(Schedule(irs.start_date,irs.maturity_date,irs.tenor,calendar,irs.business_convention,irs.business_convention,irs.date_gen_rule,irs.eom))[1:]})"
      ],
      "execution_count": null,
      "outputs": []
    },
    {
      "cell_type": "code",
      "metadata": {
        "id": "LKHkWwrFjqEp"
      },
      "source": [
        "class IRS:\n",
        "\n",
        "  def __init__(self, leg1_name = 'Receive', leg2_name = 'Pay', leg1_rate_type = 'Fixed', leg2_rate_type = 'Floating'):\n",
        "\n",
        "    self.start_date = None\n",
        "    self.leg1_flows = pd.DataFrame\n",
        "    self.leg2_flows = pd.DataFrame\n",
        "    self.leg1_name = leg1_name\n",
        "    self.leg2_name = leg2_name\n",
        "    self.leg1_rate_type = leg1_rate_type  \n",
        "    self.leg2_rate_type = leg2_rate_type\n",
        "    self.npv = None"
      ],
      "execution_count": null,
      "outputs": []
    },
    {
      "cell_type": "code",
      "metadata": {
        "id": "pLPr1-8wj5Q6"
      },
      "source": [
        "def submit(path,\n",
        "           underlying,\n",
        "           amortization_type,\n",
        "           notional,\n",
        "           amortization_rate,\n",
        "           maturity_label,\n",
        "           ref_date,\n",
        "           tenor,\n",
        "           business_convention,\n",
        "           date_gen_rule,\n",
        "           currency = 'EUR',\n",
        "           calendar = TARGET(),\n",
        "           end_of_month = False,\n",
        "           deduction_formula = '-1M LBD/-1BD',\n",
        "           day_count = Actual360):\n",
        "\n",
        "  irs = IRS()"
      ],
      "execution_count": null,
      "outputs": []
    },
    {
      "cell_type": "code",
      "metadata": {
        "id": "gB3NlZSBj6Jq"
      },
      "source": [
        "submit(path = market_data_path, underlying = underlying, amortization_type = amortization_type, notional = notional, amortization_rate = amortization_rate, maturity_label = maturity_label, ref_date = ref_date, tenor = tenor,\n",
        "       business_convention = business_convention, date_gen_rule = date_gen_rule)"
      ],
      "execution_count": null,
      "outputs": []
    },
    {
      "cell_type": "code",
      "metadata": {
        "id": "ylCY3crlgkvv"
      },
      "source": [
        ""
      ],
      "execution_count": null,
      "outputs": []
    },
    {
      "cell_type": "code",
      "metadata": {
        "id": "foiRxQxzeqZ7"
      },
      "source": [
        "leg_fixed=FixedRateLeg(schedule,Actual360(),[notional],[0.05])\n",
        "for i in leg_fixed:\n",
        "  print(i.date(),i.amount())"
      ],
      "execution_count": null,
      "outputs": []
    }
  ]
}