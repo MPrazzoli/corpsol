{
  "nbformat": 4,
  "nbformat_minor": 0,
  "metadata": {
    "colab": {
      "name": "Script buono.ipynb",
      "provenance": [],
      "collapsed_sections": [],
      "authorship_tag": "ABX9TyMrx6sPk30ochtVOcD2Y4V1",
      "include_colab_link": true
    },
    "kernelspec": {
      "name": "python3",
      "display_name": "Python 3"
    },
    "language_info": {
      "name": "python"
    }
  },
  "cells": [
    {
      "cell_type": "markdown",
      "metadata": {
        "id": "view-in-github",
        "colab_type": "text"
      },
      "source": [
        "<a href=\"https://colab.research.google.com/github/MPrazzoli/corpsol/blob/main/Script_buono.ipynb\" target=\"_parent\"><img src=\"https://colab.research.google.com/assets/colab-badge.svg\" alt=\"Open In Colab\"/></a>"
      ]
    },
    {
      "cell_type": "code",
      "metadata": {
        "colab": {
          "base_uri": "https://localhost:8080/"
        },
        "id": "72XW5NkYLNrF",
        "outputId": "c24f24da-f191-467e-e8ee-09a5c11ba413"
      },
      "source": [
        "from google.colab import drive\n",
        "drive.mount('/content/drive')"
      ],
      "execution_count": 3,
      "outputs": [
        {
          "output_type": "stream",
          "text": [
            "Mounted at /content/drive\n"
          ],
          "name": "stdout"
        }
      ]
    },
    {
      "cell_type": "code",
      "metadata": {
        "colab": {
          "base_uri": "https://localhost:8080/"
        },
        "id": "SfXKlWc1LSdX",
        "outputId": "5497b30e-e429-4b7a-8bae-e8e2ba2da97b"
      },
      "source": [
        "pip install QuantLib"
      ],
      "execution_count": 4,
      "outputs": [
        {
          "output_type": "stream",
          "text": [
            "Collecting QuantLib\n",
            "\u001b[?25l  Downloading https://files.pythonhosted.org/packages/fb/c2/f24a3d27cbf3896dd5655e98efe352b2a8a1d3404dca88b7caa5aa8bf4a4/QuantLib-1.22-cp37-cp37m-manylinux2010_x86_64.whl (20.1MB)\n",
            "\u001b[K     |████████████████████████████████| 20.1MB 1.4MB/s \n",
            "\u001b[?25hInstalling collected packages: QuantLib\n",
            "Successfully installed QuantLib-1.22\n"
          ],
          "name": "stdout"
        }
      ]
    },
    {
      "cell_type": "code",
      "metadata": {
        "id": "pIeewTMPLWZB"
      },
      "source": [
        "import os\n",
        "import math\n",
        "import numpy as np\n",
        "import pandas as pd\n",
        "from QuantLib import *\n",
        "from datetime import date\n",
        "path = '/content/drive/MyDrive/data.xlsx'"
      ],
      "execution_count": 5,
      "outputs": []
    },
    {
      "cell_type": "markdown",
      "metadata": {
        "id": "wJ3grH5reCNf"
      },
      "source": [
        "***Inserimento degli Input***"
      ]
    },
    {
      "cell_type": "code",
      "metadata": {
        "id": "g9y53J8KMdhl",
        "colab": {
          "base_uri": "https://localhost:8080/"
        },
        "outputId": "e313e29e-98cb-4ad0-d156-971fb276bc75"
      },
      "source": [
        "try:\n",
        "  underlying = input('Inserire il sottostante: ')\n",
        "  if underlying == '':\n",
        "    underlying = 'EUR3M'\n",
        "except:\n",
        "  underlying = 'EUR3M'\n",
        "\n",
        "try:\n",
        "  amortization_type = input('Inserire il piano di ammortamento: ')\n",
        "  if amortization_type == '':\n",
        "    amortization_type = 'Bullet'\n",
        "except:\n",
        "  amortization_type = 'Bullet'\n",
        "\n",
        "try:\n",
        "  notional = float(input('Inserire il nozionale: '))\n",
        "except:\n",
        "  notional = 100000.0\n",
        "\n",
        "try:\n",
        "  amortization_rate = float(input('Inserire il tasso annuo: '))\n",
        "except:\n",
        "  amortization_rate = .05\n",
        "\n",
        "try:\n",
        "  maturity_label = input('Inserire la durata del finanziamento in label (\"M\" per i mesi e \"Y\" per gli anni): ')\n",
        "  if maturity_label == '':\n",
        "     maturity_label = '5Y'\n",
        "except:\n",
        "  maturity_label = '5Y'\n",
        "\n",
        "try:\n",
        "  ref_date = Date(input('Inserire la data iniziale del finanziamento in formato dd/mm/yyyy: '),'%d/%m/%Y')\n",
        "  if ref_date == '':\n",
        "    ref_date = Date(date.today().day,date.today().month,date.today().year)\n",
        "except:\n",
        "  ref_date = Date(date.today().day,date.today().month,date.today().year)\n",
        "\n",
        "try:\n",
        "  tenor = int(input('Inserire il periodo che intercorre tra le rate in numero di mesi: '))\n",
        "except:\n",
        "  tenor = 3\n",
        "\n",
        "try:\n",
        "  business_convention = input('Inserire la convenzione:')\n",
        "  if business_convention == '' or business_convention == 'ModifiedFollowing':\n",
        "    business_convention = ModifiedFollowing\n",
        "except:\n",
        "  business_convention = ModifiedFollowing\n",
        "\n",
        "try:\n",
        "  date_gen_rule = input('Inserire la regola per il calcolo delle date:')\n",
        "  if date_gen_rule == '' or date_gen_rule == 'Forward':\n",
        "    date_gen_rule = DateGeneration.Forward\n",
        "  else: \n",
        "    date_gen_rule = DateGeneration.Backward\n",
        "except:\n",
        "  date_gen_rule = DateGeneration.Forward"
      ],
      "execution_count": 6,
      "outputs": [
        {
          "output_type": "stream",
          "text": [
            "Inserire il sottostante: \n",
            "Inserire il piano di ammortamento: \n",
            "Inserire il nozionale: \n",
            "Inserire il tasso annuo: \n",
            "Inserire la durata del finanziamento in label (\"M\" per i mesi e \"Y\" per gli anni): \n",
            "Inserire la data iniziale del finanziamento in formato dd/mm/yyyy: \n",
            "Inserire il periodo che intercorre tra le rate in numero di mesi: \n",
            "Inserire la convenzione:\n",
            "Inserire la regola per il calcolo delle date:\n"
          ],
          "name": "stdout"
        }
      ]
    },
    {
      "cell_type": "markdown",
      "metadata": {
        "id": "xBE5FxJ-R1zy"
      },
      "source": [
        "***Schedule Date***"
      ]
    },
    {
      "cell_type": "code",
      "metadata": {
        "id": "FzIjsLQyMswX"
      },
      "source": [
        "calendar = TARGET()\n",
        "start_date = calendar.advance(ref_date,2,Days)\n",
        "if maturity_label[-1] == 'M':\n",
        "    maturity_date = calendar.advance(start_date, int(maturity_label.rsplit(maturity_label[-1], 1)[0]), Months)\n",
        "elif maturity_label[-1] == 'Y':\n",
        "    maturity_date = calendar.advance(start_date, int(maturity_label.rsplit(maturity_label[-1], 1)[0]), Years)\n",
        "Tenor = Period(tenor, Months)\n",
        "endofmonth = False\n",
        "terminationDateConvention = business_convention\n",
        "df = pd.DataFrame({'startdate':list(Schedule(start_date,maturity_date,Tenor,calendar,business_convention,terminationDateConvention,date_gen_rule,endofmonth))[:-1],'enddate':list(Schedule(start_date,maturity_date,Tenor,calendar,business_convention,terminationDateConvention,date_gen_rule,endofmonth))[1:]})"
      ],
      "execution_count": 7,
      "outputs": []
    },
    {
      "cell_type": "code",
      "metadata": {
        "id": "uJru00VGSKmz"
      },
      "source": [
        "# Calcolo numero delle rate totali dell'ammortamento\n",
        "if maturity_label[-1] == 'M':\n",
        "  rate_totali = int(12/tenor)\n",
        "elif maturity_label[-1] == 'Y':\n",
        "  rate_totali = int((12/tenor) * int(maturity_label.rsplit(maturity_label[-1], 1)[0]))"
      ],
      "execution_count": 8,
      "outputs": []
    },
    {
      "cell_type": "markdown",
      "metadata": {
        "id": "kkpXAwHuTY28"
      },
      "source": [
        "***Ammortamento Francese***"
      ]
    },
    {
      "cell_type": "code",
      "metadata": {
        "id": "HMcchmnQBqba"
      },
      "source": [
        "def ammortamento_francese(amortization_rate,tenor,rate_totali,notional):\n",
        "  \n",
        "  t = (1 + amortization_rate / (12 / tenor)) ** rate_totali\n",
        "  rata_fra = round(notional * t * (amortization_rate / (12 / tenor)) / (t - 1),2)\n",
        "  Residuo_fra = notional\n",
        "  Estinto_fra = 0\n",
        "  tot_I_fra = 0\n",
        "  plan_fra = np.array\n",
        "  plan_fra = [[0,0,0,0,0, Residuo_fra]]\n",
        "  rate_fra = range(0, rate_totali)\n",
        "  for count in rate_fra:\n",
        "    Int_quota_fra = round(Residuo_fra * (amortization_rate*(tenor/12)),2)\n",
        "    Cap_quota_fra = (rata_fra - Int_quota_fra)\n",
        "    tot_I_fra = (tot_I_fra + Int_quota_fra)\n",
        "    Residuo_fra = (Residuo_fra - Cap_quota_fra)\n",
        "    Estinto_fra = (Estinto_fra + Cap_quota_fra)\n",
        "    Tot_fra = (Int_quota_fra + Cap_quota_fra)\n",
        "    plan.append([Int_quota_fra, Cap_quota_fra, Tot_fra, tot_I_fra, Estinto_fra, Residuo_fra])\n",
        "  index = ['Quota Interesse','Quota Capitale','Rata','Interessi Totali','Debito Estinto','Debito Residuo']\n",
        "  df_fra = pd.DataFrame(plan_fra)\n",
        "  df_fra.columns = index\n",
        "  df1_fra = pd.concat([df,df_fra], axis=1)\n",
        "  df2_fra = pd.concat([df,df_fra['Debito Residuo']], axis=1)[:-1]\n",
        "\n",
        "  return (df2_fra)"
      ],
      "execution_count": 9,
      "outputs": []
    },
    {
      "cell_type": "markdown",
      "metadata": {
        "id": "Cudf7OtKTegK"
      },
      "source": [
        "***Ammortamento Italiano***\n"
      ]
    },
    {
      "cell_type": "code",
      "metadata": {
        "id": "2Ui5Ok7bJEW9"
      },
      "source": [
        "def ammortamento_italiano(amortization_rate,tenor,rate_totali, notional):\n",
        "\n",
        "  Residuo_ita = notional\n",
        "  tot_I_ita = 0\n",
        "  Estinto_ita = 0\n",
        "  Tot_ita = 0\n",
        "  plan_ita = np.array\n",
        "  plan_ita = [[0,0,0,0,0,Residuo_ita]]\n",
        "  rate_ita = range(0,rate_totali)\n",
        "  for count in rate_ita:\n",
        "    Int_quota_ita = round(Residuo_ita*amortization_rate/(12/tenor),2)\n",
        "    Cap_quota_ita = round((notional/rate_totali),2)\n",
        "    tot_I_ita = (tot_I_ita + Int_quota_ita)\n",
        "    Residuo_ita = (Residuo_ita - Cap_quota_ita)\n",
        "    Estinto_ita = (Estinto_ita + Cap_quota_ita)\n",
        "    Tot_ita = (Int_quota_ita + Cap_quota_ita)\n",
        "    plan_ita.append([Int_quota_ita,Cap_quota_ita,Tot_ita,tot_I_ita,Estinto_ita,Residuo_ita])\n",
        "  index = ['Quota Interesse','Quota Capitale','Rata','Interessi Totali','Debito Estinto','Debito Residuo']\n",
        "  df_ita = pd.DataFrame(plan_ita)\n",
        "  df_ita.columns=index\n",
        "  df1_ita = pd.concat([df,df_ita],axis=1)\n",
        "  df2_ita = pd.concat([df,df_ita['Debito Residuo']],axis=1)[:-1]\n",
        "  \n",
        "  return (df2_ita)\n",
        "  "
      ],
      "execution_count": 10,
      "outputs": []
    },
    {
      "cell_type": "markdown",
      "metadata": {
        "id": "UHNkvQf0TltB"
      },
      "source": [
        "***Ammortamento Bullet***\n"
      ]
    },
    {
      "cell_type": "code",
      "metadata": {
        "id": "mTzkKE2aKAU_"
      },
      "source": [
        "def ammortamento_bullet(amortization_rate,tenor,rate_totali, notional):\n",
        "\n",
        "  Residuo_bullet = notional\n",
        "  tot_I_bullet = 0\n",
        "  plan_bullet = np.array\n",
        "  plan_bullet = [[0,0,Residuo_bullet]]\n",
        "  rate_bullet = range(0,rate_totali)\n",
        "  for count in rate_bullet:\n",
        "    Int_quota_bullet = round(Residuo_bullet*amortization_rate/(12/tenor),2)\n",
        "    tot_I_bullet = (tot_I_bullet+Int_quota_bullet)\n",
        "    plan_bullet.append([Int_quota_bullet,tot_I_bullet,Residuo_bullet])\n",
        "  index = ['Quota Interesse','Interessi Totali','Debito Residuo']\n",
        "  df_bullet = pd.DataFrame(plan_bullet)\n",
        "  df_bullet.columns = index\n",
        "  df1_bullet = pd.concat([df,df_bullet],axis=1)\n",
        "  df2_bullet = pd.concat([df,df_bullet['Debito Residuo']],axis=1)\n",
        "  df2_bullet = df2_bullet[:-1]\n",
        "  \n",
        "  return (df2_bullet)"
      ],
      "execution_count": 11,
      "outputs": []
    },
    {
      "cell_type": "markdown",
      "metadata": {
        "id": "_TF0PhLvTqbN"
      },
      "source": [
        "***Output del Modello***\n"
      ]
    },
    {
      "cell_type": "code",
      "metadata": {
        "id": "c_c10rotKcxN",
        "colab": {
          "base_uri": "https://localhost:8080/"
        },
        "outputId": "c334163a-df7c-41eb-bcfc-7b3b8e1a1046"
      },
      "source": [
        "if (amortization_type == 'Francese'):\n",
        "  df_output = (ammortamento_francese(amortization_rate,tenor,rate_totali,notional))\n",
        "elif (amortization_type == 'Italiano'):\n",
        "  df_output = (ammortamento_italiano(amortization_rate,tenor,rate_totali,notional))\n",
        "elif (amortization_type == 'Bullet'):\n",
        "  df_output = (ammortamento_bullet(amortization_rate,tenor,rate_totali,notional))\n",
        "  \n",
        "print (df_output)"
      ],
      "execution_count": 12,
      "outputs": [
        {
          "output_type": "stream",
          "text": [
            "             startdate             enddate  Debito Residuo\n",
            "0     April 30th, 2021     July 30th, 2021        100000.0\n",
            "1      July 30th, 2021  October 29th, 2021        100000.0\n",
            "2   October 29th, 2021  January 31st, 2022        100000.0\n",
            "3   January 31st, 2022    April 29th, 2022        100000.0\n",
            "4     April 29th, 2022     July 29th, 2022        100000.0\n",
            "5      July 29th, 2022  October 31st, 2022        100000.0\n",
            "6   October 31st, 2022  January 30th, 2023        100000.0\n",
            "7   January 30th, 2023    April 28th, 2023        100000.0\n",
            "8     April 28th, 2023     July 31st, 2023        100000.0\n",
            "9      July 31st, 2023  October 30th, 2023        100000.0\n",
            "10  October 30th, 2023  January 30th, 2024        100000.0\n",
            "11  January 30th, 2024    April 30th, 2024        100000.0\n",
            "12    April 30th, 2024     July 30th, 2024        100000.0\n",
            "13     July 30th, 2024  October 30th, 2024        100000.0\n",
            "14  October 30th, 2024  January 30th, 2025        100000.0\n",
            "15  January 30th, 2025    April 30th, 2025        100000.0\n",
            "16    April 30th, 2025     July 30th, 2025        100000.0\n",
            "17     July 30th, 2025  October 30th, 2025        100000.0\n",
            "18  October 30th, 2025  January 30th, 2026        100000.0\n",
            "19  January 30th, 2026    April 30th, 2026        100000.0\n"
          ],
          "name": "stdout"
        }
      ]
    },
    {
      "cell_type": "code",
      "metadata": {
        "id": "690hnQGBLKUO",
        "outputId": "9c5694ce-2049-463a-e8ca-22ecd327bf38",
        "colab": {
          "base_uri": "https://localhost:8080/",
          "height": 398
        }
      },
      "source": [
        "fixing_date=[]\n",
        "fixing_date_start=[]\n",
        "for i, date in enumerate(df_output['startdate']):\n",
        "  date_fix = (calendar.advance(date,-2, Days))\n",
        "  fixing_date.append(date_fix)\n",
        "  fixing_date_start.append(calendar.advance(date_fix, 2, Days))\n",
        "df_output['fixing rate'] = fixing_date\n",
        "df_output['start']= fixing_date_start\n",
        "df_output['end'] = fixing_date_start[1:]\n",
        "\n",
        "\n",
        "\n",
        "\n"
      ],
      "execution_count": 77,
      "outputs": [
        {
          "output_type": "error",
          "ename": "ValueError",
          "evalue": "ignored",
          "traceback": [
            "\u001b[0;31m---------------------------------------------------------------------------\u001b[0m",
            "\u001b[0;31mValueError\u001b[0m                                Traceback (most recent call last)",
            "\u001b[0;32m<ipython-input-77-08e7f7124eb1>\u001b[0m in \u001b[0;36m<module>\u001b[0;34m()\u001b[0m\n\u001b[1;32m      7\u001b[0m \u001b[0mdf_output\u001b[0m\u001b[0;34m[\u001b[0m\u001b[0;34m'fixing rate'\u001b[0m\u001b[0;34m]\u001b[0m \u001b[0;34m=\u001b[0m \u001b[0mfixing_date\u001b[0m\u001b[0;34m\u001b[0m\u001b[0;34m\u001b[0m\u001b[0m\n\u001b[1;32m      8\u001b[0m \u001b[0mdf_output\u001b[0m\u001b[0;34m[\u001b[0m\u001b[0;34m'start'\u001b[0m\u001b[0;34m]\u001b[0m\u001b[0;34m=\u001b[0m \u001b[0mfixing_date_start\u001b[0m\u001b[0;34m\u001b[0m\u001b[0;34m\u001b[0m\u001b[0m\n\u001b[0;32m----> 9\u001b[0;31m \u001b[0mdf_output\u001b[0m\u001b[0;34m[\u001b[0m\u001b[0;34m'end'\u001b[0m\u001b[0;34m]\u001b[0m \u001b[0;34m=\u001b[0m \u001b[0mfixing_date_start\u001b[0m\u001b[0;34m[\u001b[0m\u001b[0;36m1\u001b[0m\u001b[0;34m:\u001b[0m\u001b[0;34m]\u001b[0m\u001b[0;34m\u001b[0m\u001b[0;34m\u001b[0m\u001b[0m\n\u001b[0m\u001b[1;32m     10\u001b[0m \u001b[0;34m\u001b[0m\u001b[0m\n\u001b[1;32m     11\u001b[0m \u001b[0;34m\u001b[0m\u001b[0m\n",
            "\u001b[0;32m/usr/local/lib/python3.7/dist-packages/pandas/core/frame.py\u001b[0m in \u001b[0;36m__setitem__\u001b[0;34m(self, key, value)\u001b[0m\n\u001b[1;32m   3042\u001b[0m         \u001b[0;32melse\u001b[0m\u001b[0;34m:\u001b[0m\u001b[0;34m\u001b[0m\u001b[0;34m\u001b[0m\u001b[0m\n\u001b[1;32m   3043\u001b[0m             \u001b[0;31m# set column\u001b[0m\u001b[0;34m\u001b[0m\u001b[0;34m\u001b[0m\u001b[0;34m\u001b[0m\u001b[0m\n\u001b[0;32m-> 3044\u001b[0;31m             \u001b[0mself\u001b[0m\u001b[0;34m.\u001b[0m\u001b[0m_set_item\u001b[0m\u001b[0;34m(\u001b[0m\u001b[0mkey\u001b[0m\u001b[0;34m,\u001b[0m \u001b[0mvalue\u001b[0m\u001b[0;34m)\u001b[0m\u001b[0;34m\u001b[0m\u001b[0;34m\u001b[0m\u001b[0m\n\u001b[0m\u001b[1;32m   3045\u001b[0m \u001b[0;34m\u001b[0m\u001b[0m\n\u001b[1;32m   3046\u001b[0m     \u001b[0;32mdef\u001b[0m \u001b[0m_setitem_slice\u001b[0m\u001b[0;34m(\u001b[0m\u001b[0mself\u001b[0m\u001b[0;34m,\u001b[0m \u001b[0mkey\u001b[0m\u001b[0;34m:\u001b[0m \u001b[0mslice\u001b[0m\u001b[0;34m,\u001b[0m \u001b[0mvalue\u001b[0m\u001b[0;34m)\u001b[0m\u001b[0;34m:\u001b[0m\u001b[0;34m\u001b[0m\u001b[0;34m\u001b[0m\u001b[0m\n",
            "\u001b[0;32m/usr/local/lib/python3.7/dist-packages/pandas/core/frame.py\u001b[0m in \u001b[0;36m_set_item\u001b[0;34m(self, key, value)\u001b[0m\n\u001b[1;32m   3118\u001b[0m         \"\"\"\n\u001b[1;32m   3119\u001b[0m         \u001b[0mself\u001b[0m\u001b[0;34m.\u001b[0m\u001b[0m_ensure_valid_index\u001b[0m\u001b[0;34m(\u001b[0m\u001b[0mvalue\u001b[0m\u001b[0;34m)\u001b[0m\u001b[0;34m\u001b[0m\u001b[0;34m\u001b[0m\u001b[0m\n\u001b[0;32m-> 3120\u001b[0;31m         \u001b[0mvalue\u001b[0m \u001b[0;34m=\u001b[0m \u001b[0mself\u001b[0m\u001b[0;34m.\u001b[0m\u001b[0m_sanitize_column\u001b[0m\u001b[0;34m(\u001b[0m\u001b[0mkey\u001b[0m\u001b[0;34m,\u001b[0m \u001b[0mvalue\u001b[0m\u001b[0;34m)\u001b[0m\u001b[0;34m\u001b[0m\u001b[0;34m\u001b[0m\u001b[0m\n\u001b[0m\u001b[1;32m   3121\u001b[0m         \u001b[0mNDFrame\u001b[0m\u001b[0;34m.\u001b[0m\u001b[0m_set_item\u001b[0m\u001b[0;34m(\u001b[0m\u001b[0mself\u001b[0m\u001b[0;34m,\u001b[0m \u001b[0mkey\u001b[0m\u001b[0;34m,\u001b[0m \u001b[0mvalue\u001b[0m\u001b[0;34m)\u001b[0m\u001b[0;34m\u001b[0m\u001b[0;34m\u001b[0m\u001b[0m\n\u001b[1;32m   3122\u001b[0m \u001b[0;34m\u001b[0m\u001b[0m\n",
            "\u001b[0;32m/usr/local/lib/python3.7/dist-packages/pandas/core/frame.py\u001b[0m in \u001b[0;36m_sanitize_column\u001b[0;34m(self, key, value, broadcast)\u001b[0m\n\u001b[1;32m   3766\u001b[0m \u001b[0;34m\u001b[0m\u001b[0m\n\u001b[1;32m   3767\u001b[0m             \u001b[0;31m# turn me into an ndarray\u001b[0m\u001b[0;34m\u001b[0m\u001b[0;34m\u001b[0m\u001b[0;34m\u001b[0m\u001b[0m\n\u001b[0;32m-> 3768\u001b[0;31m             \u001b[0mvalue\u001b[0m \u001b[0;34m=\u001b[0m \u001b[0msanitize_index\u001b[0m\u001b[0;34m(\u001b[0m\u001b[0mvalue\u001b[0m\u001b[0;34m,\u001b[0m \u001b[0mself\u001b[0m\u001b[0;34m.\u001b[0m\u001b[0mindex\u001b[0m\u001b[0;34m)\u001b[0m\u001b[0;34m\u001b[0m\u001b[0;34m\u001b[0m\u001b[0m\n\u001b[0m\u001b[1;32m   3769\u001b[0m             \u001b[0;32mif\u001b[0m \u001b[0;32mnot\u001b[0m \u001b[0misinstance\u001b[0m\u001b[0;34m(\u001b[0m\u001b[0mvalue\u001b[0m\u001b[0;34m,\u001b[0m \u001b[0;34m(\u001b[0m\u001b[0mnp\u001b[0m\u001b[0;34m.\u001b[0m\u001b[0mndarray\u001b[0m\u001b[0;34m,\u001b[0m \u001b[0mIndex\u001b[0m\u001b[0;34m)\u001b[0m\u001b[0;34m)\u001b[0m\u001b[0;34m:\u001b[0m\u001b[0;34m\u001b[0m\u001b[0;34m\u001b[0m\u001b[0m\n\u001b[1;32m   3770\u001b[0m                 \u001b[0;32mif\u001b[0m \u001b[0misinstance\u001b[0m\u001b[0;34m(\u001b[0m\u001b[0mvalue\u001b[0m\u001b[0;34m,\u001b[0m \u001b[0mlist\u001b[0m\u001b[0;34m)\u001b[0m \u001b[0;32mand\u001b[0m \u001b[0mlen\u001b[0m\u001b[0;34m(\u001b[0m\u001b[0mvalue\u001b[0m\u001b[0;34m)\u001b[0m \u001b[0;34m>\u001b[0m \u001b[0;36m0\u001b[0m\u001b[0;34m:\u001b[0m\u001b[0;34m\u001b[0m\u001b[0;34m\u001b[0m\u001b[0m\n",
            "\u001b[0;32m/usr/local/lib/python3.7/dist-packages/pandas/core/internals/construction.py\u001b[0m in \u001b[0;36msanitize_index\u001b[0;34m(data, index)\u001b[0m\n\u001b[1;32m    746\u001b[0m     \u001b[0;32mif\u001b[0m \u001b[0mlen\u001b[0m\u001b[0;34m(\u001b[0m\u001b[0mdata\u001b[0m\u001b[0;34m)\u001b[0m \u001b[0;34m!=\u001b[0m \u001b[0mlen\u001b[0m\u001b[0;34m(\u001b[0m\u001b[0mindex\u001b[0m\u001b[0;34m)\u001b[0m\u001b[0;34m:\u001b[0m\u001b[0;34m\u001b[0m\u001b[0;34m\u001b[0m\u001b[0m\n\u001b[1;32m    747\u001b[0m         raise ValueError(\n\u001b[0;32m--> 748\u001b[0;31m             \u001b[0;34m\"Length of values \"\u001b[0m\u001b[0;34m\u001b[0m\u001b[0;34m\u001b[0m\u001b[0m\n\u001b[0m\u001b[1;32m    749\u001b[0m             \u001b[0;34mf\"({len(data)}) \"\u001b[0m\u001b[0;34m\u001b[0m\u001b[0;34m\u001b[0m\u001b[0m\n\u001b[1;32m    750\u001b[0m             \u001b[0;34m\"does not match length of index \"\u001b[0m\u001b[0;34m\u001b[0m\u001b[0;34m\u001b[0m\u001b[0m\n",
            "\u001b[0;31mValueError\u001b[0m: Length of values (19) does not match length of index (20)"
          ]
        }
      ]
    },
    {
      "cell_type": "code",
      "metadata": {
        "id": "6YtREcTHLbfM",
        "outputId": "887605a5-377a-46bf-ad03-c7db6df4a8c0",
        "colab": {
          "base_uri": "https://localhost:8080/"
        }
      },
      "source": [
        "fixing_date"
      ],
      "execution_count": 67,
      "outputs": [
        {
          "output_type": "execute_result",
          "data": {
            "text/plain": [
              "[Date(28,4,2021),\n",
              " Date(28,7,2021),\n",
              " Date(27,10,2021),\n",
              " Date(27,1,2022),\n",
              " Date(27,4,2022),\n",
              " Date(27,7,2022),\n",
              " Date(27,10,2022),\n",
              " Date(26,1,2023),\n",
              " Date(26,4,2023),\n",
              " Date(27,7,2023),\n",
              " Date(26,10,2023),\n",
              " Date(26,1,2024),\n",
              " Date(26,4,2024),\n",
              " Date(26,7,2024),\n",
              " Date(28,10,2024),\n",
              " Date(28,1,2025),\n",
              " Date(28,4,2025),\n",
              " Date(28,7,2025),\n",
              " Date(28,10,2025),\n",
              " Date(28,1,2026)]"
            ]
          },
          "metadata": {
            "tags": []
          },
          "execution_count": 67
        }
      ]
    },
    {
      "cell_type": "code",
      "metadata": {
        "id": "lFKdgp5JD6je",
        "outputId": "4cd2131e-6743-40fa-c9bb-70122b4fad8b",
        "colab": {
          "base_uri": "https://localhost:8080/",
          "height": 1000
        }
      },
      "source": [
        "df_output"
      ],
      "execution_count": 75,
      "outputs": [
        {
          "output_type": "execute_result",
          "data": {
            "text/html": [
              "<div>\n",
              "<style scoped>\n",
              "    .dataframe tbody tr th:only-of-type {\n",
              "        vertical-align: middle;\n",
              "    }\n",
              "\n",
              "    .dataframe tbody tr th {\n",
              "        vertical-align: top;\n",
              "    }\n",
              "\n",
              "    .dataframe thead th {\n",
              "        text-align: right;\n",
              "    }\n",
              "</style>\n",
              "<table border=\"1\" class=\"dataframe\">\n",
              "  <thead>\n",
              "    <tr style=\"text-align: right;\">\n",
              "      <th></th>\n",
              "      <th>startdate</th>\n",
              "      <th>enddate</th>\n",
              "      <th>Debito Residuo</th>\n",
              "      <th>fixing rate</th>\n",
              "      <th>start</th>\n",
              "      <th>end</th>\n",
              "    </tr>\n",
              "  </thead>\n",
              "  <tbody>\n",
              "    <tr>\n",
              "      <th>0</th>\n",
              "      <td>April 30th, 2021</td>\n",
              "      <td>July 30th, 2021</td>\n",
              "      <td>100000.0</td>\n",
              "      <td>April 28th, 2021</td>\n",
              "      <td>April 30th, 2021</td>\n",
              "      <td>January 30th, 2026</td>\n",
              "    </tr>\n",
              "    <tr>\n",
              "      <th>1</th>\n",
              "      <td>July 30th, 2021</td>\n",
              "      <td>October 29th, 2021</td>\n",
              "      <td>100000.0</td>\n",
              "      <td>July 28th, 2021</td>\n",
              "      <td>July 30th, 2021</td>\n",
              "      <td>January 30th, 2026</td>\n",
              "    </tr>\n",
              "    <tr>\n",
              "      <th>2</th>\n",
              "      <td>October 29th, 2021</td>\n",
              "      <td>January 31st, 2022</td>\n",
              "      <td>100000.0</td>\n",
              "      <td>October 27th, 2021</td>\n",
              "      <td>October 29th, 2021</td>\n",
              "      <td>January 30th, 2026</td>\n",
              "    </tr>\n",
              "    <tr>\n",
              "      <th>3</th>\n",
              "      <td>January 31st, 2022</td>\n",
              "      <td>April 29th, 2022</td>\n",
              "      <td>100000.0</td>\n",
              "      <td>January 27th, 2022</td>\n",
              "      <td>January 31st, 2022</td>\n",
              "      <td>January 30th, 2026</td>\n",
              "    </tr>\n",
              "    <tr>\n",
              "      <th>4</th>\n",
              "      <td>April 29th, 2022</td>\n",
              "      <td>July 29th, 2022</td>\n",
              "      <td>100000.0</td>\n",
              "      <td>April 27th, 2022</td>\n",
              "      <td>April 29th, 2022</td>\n",
              "      <td>January 30th, 2026</td>\n",
              "    </tr>\n",
              "    <tr>\n",
              "      <th>5</th>\n",
              "      <td>July 29th, 2022</td>\n",
              "      <td>October 31st, 2022</td>\n",
              "      <td>100000.0</td>\n",
              "      <td>July 27th, 2022</td>\n",
              "      <td>July 29th, 2022</td>\n",
              "      <td>January 30th, 2026</td>\n",
              "    </tr>\n",
              "    <tr>\n",
              "      <th>6</th>\n",
              "      <td>October 31st, 2022</td>\n",
              "      <td>January 30th, 2023</td>\n",
              "      <td>100000.0</td>\n",
              "      <td>October 27th, 2022</td>\n",
              "      <td>October 31st, 2022</td>\n",
              "      <td>January 30th, 2026</td>\n",
              "    </tr>\n",
              "    <tr>\n",
              "      <th>7</th>\n",
              "      <td>January 30th, 2023</td>\n",
              "      <td>April 28th, 2023</td>\n",
              "      <td>100000.0</td>\n",
              "      <td>January 26th, 2023</td>\n",
              "      <td>January 30th, 2023</td>\n",
              "      <td>January 30th, 2026</td>\n",
              "    </tr>\n",
              "    <tr>\n",
              "      <th>8</th>\n",
              "      <td>April 28th, 2023</td>\n",
              "      <td>July 31st, 2023</td>\n",
              "      <td>100000.0</td>\n",
              "      <td>April 26th, 2023</td>\n",
              "      <td>April 28th, 2023</td>\n",
              "      <td>January 30th, 2026</td>\n",
              "    </tr>\n",
              "    <tr>\n",
              "      <th>9</th>\n",
              "      <td>July 31st, 2023</td>\n",
              "      <td>October 30th, 2023</td>\n",
              "      <td>100000.0</td>\n",
              "      <td>July 27th, 2023</td>\n",
              "      <td>July 31st, 2023</td>\n",
              "      <td>January 30th, 2026</td>\n",
              "    </tr>\n",
              "    <tr>\n",
              "      <th>10</th>\n",
              "      <td>October 30th, 2023</td>\n",
              "      <td>January 30th, 2024</td>\n",
              "      <td>100000.0</td>\n",
              "      <td>October 26th, 2023</td>\n",
              "      <td>October 30th, 2023</td>\n",
              "      <td>January 30th, 2026</td>\n",
              "    </tr>\n",
              "    <tr>\n",
              "      <th>11</th>\n",
              "      <td>January 30th, 2024</td>\n",
              "      <td>April 30th, 2024</td>\n",
              "      <td>100000.0</td>\n",
              "      <td>January 26th, 2024</td>\n",
              "      <td>January 30th, 2024</td>\n",
              "      <td>January 30th, 2026</td>\n",
              "    </tr>\n",
              "    <tr>\n",
              "      <th>12</th>\n",
              "      <td>April 30th, 2024</td>\n",
              "      <td>July 30th, 2024</td>\n",
              "      <td>100000.0</td>\n",
              "      <td>April 26th, 2024</td>\n",
              "      <td>April 30th, 2024</td>\n",
              "      <td>January 30th, 2026</td>\n",
              "    </tr>\n",
              "    <tr>\n",
              "      <th>13</th>\n",
              "      <td>July 30th, 2024</td>\n",
              "      <td>October 30th, 2024</td>\n",
              "      <td>100000.0</td>\n",
              "      <td>July 26th, 2024</td>\n",
              "      <td>July 30th, 2024</td>\n",
              "      <td>January 30th, 2026</td>\n",
              "    </tr>\n",
              "    <tr>\n",
              "      <th>14</th>\n",
              "      <td>October 30th, 2024</td>\n",
              "      <td>January 30th, 2025</td>\n",
              "      <td>100000.0</td>\n",
              "      <td>October 28th, 2024</td>\n",
              "      <td>October 30th, 2024</td>\n",
              "      <td>January 30th, 2026</td>\n",
              "    </tr>\n",
              "    <tr>\n",
              "      <th>15</th>\n",
              "      <td>January 30th, 2025</td>\n",
              "      <td>April 30th, 2025</td>\n",
              "      <td>100000.0</td>\n",
              "      <td>January 28th, 2025</td>\n",
              "      <td>January 30th, 2025</td>\n",
              "      <td>January 30th, 2026</td>\n",
              "    </tr>\n",
              "    <tr>\n",
              "      <th>16</th>\n",
              "      <td>April 30th, 2025</td>\n",
              "      <td>July 30th, 2025</td>\n",
              "      <td>100000.0</td>\n",
              "      <td>April 28th, 2025</td>\n",
              "      <td>April 30th, 2025</td>\n",
              "      <td>January 30th, 2026</td>\n",
              "    </tr>\n",
              "    <tr>\n",
              "      <th>17</th>\n",
              "      <td>July 30th, 2025</td>\n",
              "      <td>October 30th, 2025</td>\n",
              "      <td>100000.0</td>\n",
              "      <td>July 28th, 2025</td>\n",
              "      <td>July 30th, 2025</td>\n",
              "      <td>January 30th, 2026</td>\n",
              "    </tr>\n",
              "    <tr>\n",
              "      <th>18</th>\n",
              "      <td>October 30th, 2025</td>\n",
              "      <td>January 30th, 2026</td>\n",
              "      <td>100000.0</td>\n",
              "      <td>October 28th, 2025</td>\n",
              "      <td>October 30th, 2025</td>\n",
              "      <td>January 30th, 2026</td>\n",
              "    </tr>\n",
              "    <tr>\n",
              "      <th>19</th>\n",
              "      <td>January 30th, 2026</td>\n",
              "      <td>April 30th, 2026</td>\n",
              "      <td>100000.0</td>\n",
              "      <td>January 28th, 2026</td>\n",
              "      <td>January 30th, 2026</td>\n",
              "      <td>January 30th, 2026</td>\n",
              "    </tr>\n",
              "  </tbody>\n",
              "</table>\n",
              "</div>"
            ],
            "text/plain": [
              "             startdate  ...                 end\n",
              "0     April 30th, 2021  ...  January 30th, 2026\n",
              "1      July 30th, 2021  ...  January 30th, 2026\n",
              "2   October 29th, 2021  ...  January 30th, 2026\n",
              "3   January 31st, 2022  ...  January 30th, 2026\n",
              "4     April 29th, 2022  ...  January 30th, 2026\n",
              "5      July 29th, 2022  ...  January 30th, 2026\n",
              "6   October 31st, 2022  ...  January 30th, 2026\n",
              "7   January 30th, 2023  ...  January 30th, 2026\n",
              "8     April 28th, 2023  ...  January 30th, 2026\n",
              "9      July 31st, 2023  ...  January 30th, 2026\n",
              "10  October 30th, 2023  ...  January 30th, 2026\n",
              "11  January 30th, 2024  ...  January 30th, 2026\n",
              "12    April 30th, 2024  ...  January 30th, 2026\n",
              "13     July 30th, 2024  ...  January 30th, 2026\n",
              "14  October 30th, 2024  ...  January 30th, 2026\n",
              "15  January 30th, 2025  ...  January 30th, 2026\n",
              "16    April 30th, 2025  ...  January 30th, 2026\n",
              "17     July 30th, 2025  ...  January 30th, 2026\n",
              "18  October 30th, 2025  ...  January 30th, 2026\n",
              "19  January 30th, 2026  ...  January 30th, 2026\n",
              "\n",
              "[20 rows x 6 columns]"
            ]
          },
          "metadata": {
            "tags": []
          },
          "execution_count": 75
        }
      ]
    },
    {
      "cell_type": "markdown",
      "metadata": {
        "id": "yDdsTiDHy6fC"
      },
      "source": [
        "Npv Obiettivo: prova"
      ]
    },
    {
      "cell_type": "code",
      "metadata": {
        "id": "8L9wCvzmhPUN"
      },
      "source": [
        "df_output['differenza_giorni'] = (df_output['enddate'] - df_output['startdate']) / 360\n",
        "df_output['prod'] = (df_output['Debito Residuo'] * df_output['differenza_giorni']) * 0.0001\n",
        "BPV = df_output['prod'].sum()"
      ],
      "execution_count": null,
      "outputs": []
    },
    {
      "cell_type": "markdown",
      "metadata": {
        "id": "OiIv-g1PVGb5"
      },
      "source": [
        "*Class: Market Data*"
      ]
    },
    {
      "cell_type": "code",
      "metadata": {
        "id": "ubcKXwfkUzeH"
      },
      "source": [
        "class historical_fixed_rate(object):\n",
        "\n",
        "    def __init__(self, name, reference_date = None, currency = None, underlying = None):\n",
        "        \n",
        "        try:\n",
        "            self.reference_date = datetime.strptime(reference_date, '%d/%m/%Y')\n",
        "        except:\n",
        "            self.reference_date = None\n",
        "        \n",
        "        self.name = name\n",
        "        self.currency = currency\n",
        "        self.underlying = underlying\n",
        "        self.historical_fixed_rate_df = pd.DataFrame\n",
        "\n",
        "class zero_curve_rate(object):\n",
        "# chiedere a Mirko l'assegnazione di interp_rule e day_count\n",
        "    def __init__(self, name, reference_date = None, currency = None, underlying = None, interp_rule = None, day_count = None):\n",
        "        \n",
        "        self.name = name\n",
        "        \n",
        "        try:\n",
        "            self.reference_date = datetime.strptime(reference_date, '%d/%m/%Y')\n",
        "        except:\n",
        "            self.reference_date = None\n",
        "      \n",
        "        self.currency = currency\n",
        "        self.underlying = underlying\n",
        "        self.interpolation_rule = interp_rule\n",
        "        self.day_count = day_count\n",
        "        self.zero_curve_rate_df = pd.DataFrame"
      ],
      "execution_count": null,
      "outputs": []
    },
    {
      "cell_type": "code",
      "metadata": {
        "id": "jpJg4ECuVkwy"
      },
      "source": [
        "def market_data(path):\n",
        "\n",
        "  historical_fixed_rates = historical_fixed_rate(name=\"HISTORICAL RATE\")\n",
        "  historical_fixed_rates.historical_fixed_rate_df = pd.read_excel(path, sheet_name='fixings')\n",
        "\n",
        "  estimation_curve = zero_curve_rate(name='ESTIMATION')\n",
        "  estimation_curve.zero_curve_rate_df = pd.read_excel(path, sheet_name='estimation')\n",
        "\n",
        "  discount_curve = zero_curve_rate(name='DISCOUNT')\n",
        "  discount_curve.zero_curve_rate_df = pd.read_excel(path, sheet_name='discount')\n",
        "\n",
        "  market_data_dict = {'ESTIMATION': estimation_curve, 'DISCOUNT': discount_curve, 'HISTORICAL': historical_fixed_rates}\n",
        "\n",
        "  return(market_data_dict)"
      ],
      "execution_count": null,
      "outputs": []
    },
    {
      "cell_type": "code",
      "metadata": {
        "id": "fj_O2eTCfWmy"
      },
      "source": [
        "m=market_data(path)\n",
        "a=m['ESTIMATION'].zero_curve_rate_df['DATE']\n"
      ],
      "execution_count": null,
      "outputs": []
    },
    {
      "cell_type": "code",
      "metadata": {
        "id": "SvOW7GauWabN"
      },
      "source": [
        ""
      ],
      "execution_count": null,
      "outputs": []
    },
    {
      "cell_type": "code",
      "metadata": {
        "id": "QbC7MyPWWaVe"
      },
      "source": [
        ""
      ],
      "execution_count": null,
      "outputs": []
    },
    {
      "cell_type": "code",
      "metadata": {
        "id": "_jzZRHMmWaMU"
      },
      "source": [
        ""
      ],
      "execution_count": null,
      "outputs": []
    },
    {
      "cell_type": "code",
      "metadata": {
        "id": "vqRKIrYzNCge"
      },
      "source": [
        "class IRS:\n",
        "\n",
        "  def __init__(self):\n",
        "\n",
        "    self.start_date = None\n",
        "    self.maturity_date = None\n",
        "    self.tenor = None\n",
        "    self.business_convention = None\n",
        "    self.date_gen_rule = None\n",
        "    self.schedule = pd.DataFrame\n",
        "    self.eom = None\n",
        "\n",
        "    \n",
        "    self.npv = None"
      ],
      "execution_count": null,
      "outputs": []
    },
    {
      "cell_type": "code",
      "metadata": {
        "id": "rSw7Wh4YM7DC"
      },
      "source": [
        "def pricer(path,\n",
        "           underlying,\n",
        "           amortization_type,\n",
        "           notional,\n",
        "           amortization_rate,\n",
        "           maturity_label,\n",
        "           ref_date,\n",
        "           tenor,\n",
        "           business_convention,\n",
        "           date_gen_rule,\n",
        "           currency = 'EUR',\n",
        "           calendar = TARGET(),\n",
        "           end_of_month = False,\n",
        "           deduction_formula = '-1M LBD/-1BD',\n",
        "           day_count = Actual360):\n",
        "\n",
        "    dictionary = market_data(path)\n",
        "    irs = IRS()\n",
        "    irs.start_date = calendar.advance(ref_date,2,Days)\n",
        "    if maturity_label[-1] == 'M':\n",
        "      irs.maturity_date = calendar.advance(irs.start_date, int(maturity_label.rsplit(maturity_label[-1], 1)[0]), Months)\n",
        "    elif maturity_label[-1] == 'Y':\n",
        "      irs.maturity_date = calendar.advance(irs.start_date, int(maturity_label.rsplit(maturity_label[-1], 1)[0]), Years)\n",
        "    irs.business_convention = business_convention\n",
        "    irs.tenor = tenor\n",
        "    irs.date_gen_rule = date_gen_rule\n",
        "    irs.eom = end_of_month\n",
        "\n",
        "# aggiungere altri attribuiti all'irs(calendario,EOM, deduction formula, day count)\n",
        "\n",
        "\n",
        "    \n",
        "    irs.schedule = pd.DataFrame({'startdate':list(Schedule(irs.start_date,irs.maturity_date,irs.tenor,calendar,irs.business_convention,irs.business_convention,irs.date_gen_rule,irs.eom))[:-1],'enddate':list(Schedule(irs.start_date,irs.maturity_date,irs.tenor,calendar,irs.business_convention,irs.business_convention,irs.date_gen_rule,irs.eom))[1:]})"
      ],
      "execution_count": null,
      "outputs": []
    },
    {
      "cell_type": "code",
      "metadata": {
        "id": "LKHkWwrFjqEp"
      },
      "source": [
        "class IRS:\n",
        "\n",
        "  def __init__(self, leg1_name = 'Receive', leg2_name = 'Pay', leg1_rate_type = 'Fixed', leg2_rate_type = 'Floating'):\n",
        "\n",
        "    self.start_date = None\n",
        "    self.leg1_flows = pd.DataFrame\n",
        "    self.leg2_flows = pd.DataFrame\n",
        "    self.leg1_name = leg1_name\n",
        "    self.leg2_name = leg2_name\n",
        "    self.leg1_rate_type = leg1_rate_type  \n",
        "    self.leg2_rate_type = leg2_rate_type\n",
        "    self.npv = None"
      ],
      "execution_count": null,
      "outputs": []
    },
    {
      "cell_type": "code",
      "metadata": {
        "id": "pLPr1-8wj5Q6"
      },
      "source": [
        "def submit(path,\n",
        "           underlying,\n",
        "           amortization_type,\n",
        "           notional,\n",
        "           amortization_rate,\n",
        "           maturity_label,\n",
        "           ref_date,\n",
        "           tenor,\n",
        "           business_convention,\n",
        "           date_gen_rule,\n",
        "           currency = 'EUR',\n",
        "           calendar = TARGET(),\n",
        "           end_of_month = False,\n",
        "           deduction_formula = '-1M LBD/-1BD',\n",
        "           day_count = Actual360):\n",
        "\n",
        "  irs = IRS()"
      ],
      "execution_count": null,
      "outputs": []
    },
    {
      "cell_type": "code",
      "metadata": {
        "id": "gB3NlZSBj6Jq"
      },
      "source": [
        "submit(path = market_data_path, underlying = underlying, amortization_type = amortization_type, notional = notional, amortization_rate = amortization_rate, maturity_label = maturity_label, ref_date = ref_date, tenor = tenor,\n",
        "       business_convention = business_convention, date_gen_rule = date_gen_rule)"
      ],
      "execution_count": null,
      "outputs": []
    },
    {
      "cell_type": "code",
      "metadata": {
        "id": "ylCY3crlgkvv"
      },
      "source": [
        ""
      ],
      "execution_count": null,
      "outputs": []
    },
    {
      "cell_type": "code",
      "metadata": {
        "id": "foiRxQxzeqZ7"
      },
      "source": [
        "leg_fixed=FixedRateLeg(schedule,Actual360(),[notional],[0.05])\n",
        "for i in leg_fixed:\n",
        "  print(i.date(),i.amount())"
      ],
      "execution_count": null,
      "outputs": []
    }
  ]
}