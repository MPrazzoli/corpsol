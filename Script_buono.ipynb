{
  "nbformat": 4,
  "nbformat_minor": 0,
  "metadata": {
    "colab": {
      "name": "Script buono.ipynb",
      "provenance": [],
      "collapsed_sections": [],
      "authorship_tag": "ABX9TyMSwb6PyzPqSp4HXEmftDcB",
      "include_colab_link": true
    },
    "kernelspec": {
      "name": "python3",
      "display_name": "Python 3"
    },
    "language_info": {
      "name": "python"
    }
  },
  "cells": [
    {
      "cell_type": "markdown",
      "metadata": {
        "id": "view-in-github",
        "colab_type": "text"
      },
      "source": [
        "<a href=\"https://colab.research.google.com/github/MPrazzoli/corpsol/blob/main/Script_buono.ipynb\" target=\"_parent\"><img src=\"https://colab.research.google.com/assets/colab-badge.svg\" alt=\"Open In Colab\"/></a>"
      ]
    },
    {
      "cell_type": "code",
      "metadata": {
        "colab": {
          "base_uri": "https://localhost:8080/"
        },
        "id": "72XW5NkYLNrF",
        "outputId": "99887fdd-a70c-4978-913c-6aadb4d5f63a"
      },
      "source": [
        "from google.colab import drive\n",
        "drive.mount('/content/drive')"
      ],
      "execution_count": 1,
      "outputs": [
        {
          "output_type": "stream",
          "text": [
            "Mounted at /content/drive\n"
          ],
          "name": "stdout"
        }
      ]
    },
    {
      "cell_type": "code",
      "metadata": {
        "colab": {
          "base_uri": "https://localhost:8080/"
        },
        "id": "SfXKlWc1LSdX",
        "outputId": "ee65674c-508a-4293-c99b-4b3920f49f9c"
      },
      "source": [
        "pip install QuantLib"
      ],
      "execution_count": 2,
      "outputs": [
        {
          "output_type": "stream",
          "text": [
            "Collecting QuantLib\n",
            "\u001b[?25l  Downloading https://files.pythonhosted.org/packages/fb/c2/f24a3d27cbf3896dd5655e98efe352b2a8a1d3404dca88b7caa5aa8bf4a4/QuantLib-1.22-cp37-cp37m-manylinux2010_x86_64.whl (20.1MB)\n",
            "\u001b[K     |████████████████████████████████| 20.1MB 1.4MB/s \n",
            "\u001b[?25hInstalling collected packages: QuantLib\n",
            "Successfully installed QuantLib-1.22\n"
          ],
          "name": "stdout"
        }
      ]
    },
    {
      "cell_type": "code",
      "metadata": {
        "id": "pIeewTMPLWZB"
      },
      "source": [
        "import os\n",
        "import math\n",
        "import numpy as np\n",
        "import pandas as pd\n",
        "from QuantLib import *\n",
        "from datetime import date\n",
        "path = '/content/drive/MyDrive/data.xlsx'"
      ],
      "execution_count": 3,
      "outputs": []
    },
    {
      "cell_type": "markdown",
      "metadata": {
        "id": "wJ3grH5reCNf"
      },
      "source": [
        "***Inserimento degli Input***"
      ]
    },
    {
      "cell_type": "code",
      "metadata": {
        "id": "g9y53J8KMdhl",
        "colab": {
          "base_uri": "https://localhost:8080/"
        },
        "outputId": "ed9831c0-6a6a-4dda-da20-186718f11791"
      },
      "source": [
        "try:\n",
        "  underlying = input('Inserire il sottostante: ')\n",
        "  if underlying == '':\n",
        "    underlying = 'EUR3M'\n",
        "except:\n",
        "  underlying = 'EUR3M'\n",
        "\n",
        "try:\n",
        "  amortization_type = input('Inserire il piano di ammortamento: ')\n",
        "  if amortization_type == '':\n",
        "    amortization_type = 'Bullet'\n",
        "except:\n",
        "  amortization_type = 'Bullet'\n",
        "\n",
        "try:\n",
        "  notional = float(input('Inserire il nozionale: '))\n",
        "except:\n",
        "  notional = 100000.0\n",
        "\n",
        "try:\n",
        "  amortization_rate = float(input('Inserire il tasso annuo: '))\n",
        "except:\n",
        "  amortization_rate = .05\n",
        "\n",
        "try:\n",
        "  maturity_label = input('Inserire la durata del finanziamento in label (\"M\" per i mesi e \"Y\" per gli anni): ')\n",
        "  if maturity_label == '':\n",
        "     maturity_label = '5Y'\n",
        "except:\n",
        "  maturity_label = '5Y'\n",
        "\n",
        "try:\n",
        "  ref_date = Date(input('Inserire la data iniziale del finanziamento in formato dd/mm/yyyy: '),'%d/%m/%Y')\n",
        "  if ref_date == '':\n",
        "    ref_date = Date(date.today().day,date.today().month,date.today().year)\n",
        "except:\n",
        "  ref_date = Date(date.today().day,date.today().month,date.today().year)\n",
        "\n",
        "try:\n",
        "  tenor = int(input('Inserire il periodo che intercorre tra le rate in numero di mesi: '))\n",
        "except:\n",
        "  tenor = 3\n",
        "\n",
        "try:\n",
        "  business_convention = input('Inserire la convenzione:')\n",
        "  if business_convention == '' or business_convention == 'ModifiedFollowing':\n",
        "    business_convention = ModifiedFollowing\n",
        "except:\n",
        "  business_convention = ModifiedFollowing\n",
        "\n",
        "try:\n",
        "  date_gen_rule = input('Inserire la regola per il calcolo delle date:')\n",
        "  if date_gen_rule == '' or date_gen_rule == 'Forward':\n",
        "    date_gen_rule = DateGeneration.Forward\n",
        "  else: \n",
        "    date_gen_rule = DateGeneration.Backward\n",
        "except:\n",
        "  date_gen_rule = DateGeneration.Forward"
      ],
      "execution_count": 59,
      "outputs": [
        {
          "output_type": "stream",
          "text": [
            "Inserire il sottostante: \n",
            "Inserire il piano di ammortamento: \n",
            "Inserire il nozionale: \n",
            "Inserire il tasso annuo: \n",
            "Inserire la durata del finanziamento in label (\"M\" per i mesi e \"Y\" per gli anni): \n",
            "Inserire la data iniziale del finanziamento in formato dd/mm/yyyy: 27/04/2021\n",
            "Inserire il periodo che intercorre tra le rate in numero di mesi: 3\n",
            "Inserire la convenzione:\n",
            "Inserire la regola per il calcolo delle date:\n"
          ],
          "name": "stdout"
        }
      ]
    },
    {
      "cell_type": "markdown",
      "metadata": {
        "id": "xBE5FxJ-R1zy"
      },
      "source": [
        "***Schedule Date***"
      ]
    },
    {
      "cell_type": "code",
      "metadata": {
        "id": "FzIjsLQyMswX"
      },
      "source": [
        "calendar = TARGET()\n",
        "start_date = calendar.advance(ref_date,2,Days)\n",
        "if maturity_label[-1] == 'M':\n",
        "    maturity_date = calendar.advance(start_date, int(maturity_label.rsplit(maturity_label[-1], 1)[0]), Months)\n",
        "elif maturity_label[-1] == 'Y':\n",
        "    maturity_date = calendar.advance(start_date, int(maturity_label.rsplit(maturity_label[-1], 1)[0]), Years)\n",
        "Tenor = Period(tenor, Months)\n",
        "endofmonth = False\n",
        "terminationDateConvention = business_convention\n",
        "df = pd.DataFrame({'startdate':list(Schedule(start_date,maturity_date,Tenor,calendar,business_convention,terminationDateConvention,date_gen_rule,endofmonth))[:-1],'enddate':list(Schedule(start_date,maturity_date,Tenor,calendar,business_convention,terminationDateConvention,date_gen_rule,endofmonth))[1:]})"
      ],
      "execution_count": 63,
      "outputs": []
    },
    {
      "cell_type": "code",
      "metadata": {
        "id": "uJru00VGSKmz"
      },
      "source": [
        "# Calcolo numero delle rate totali dell'ammortamento\n",
        "if maturity_label[-1] == 'M':\n",
        "  rate_totali = int(12/tenor)\n",
        "elif maturity_label[-1] == 'Y':\n",
        "  rate_totali = int((12/tenor) * int(maturity_label.rsplit(maturity_label[-1], 1)[0]))"
      ],
      "execution_count": 6,
      "outputs": []
    },
    {
      "cell_type": "markdown",
      "metadata": {
        "id": "kkpXAwHuTY28"
      },
      "source": [
        "***Ammortamento Francese***"
      ]
    },
    {
      "cell_type": "code",
      "metadata": {
        "id": "HMcchmnQBqba"
      },
      "source": [
        "def ammortamento_francese(amortization_rate,tenor,rate_totali,notional):\n",
        "  \n",
        "  t = (1 + amortization_rate / (12 / tenor)) ** rate_totali\n",
        "  rata_fra = round(notional * t * (amortization_rate / (12 / tenor)) / (t - 1),2)\n",
        "  Residuo_fra = notional\n",
        "  Estinto_fra = 0\n",
        "  tot_I_fra = 0\n",
        "  plan_fra = np.array\n",
        "  plan_fra = [[0,0,0,0,0, Residuo_fra]]\n",
        "  rate_fra = range(0, rate_totali)\n",
        "  for count in rate_fra:\n",
        "    Int_quota_fra = round(Residuo_fra * (amortization_rate*(tenor/12)),2)\n",
        "    Cap_quota_fra = (rata_fra - Int_quota_fra)\n",
        "    tot_I_fra = (tot_I_fra + Int_quota_fra)\n",
        "    Residuo_fra = (Residuo_fra - Cap_quota_fra)\n",
        "    Estinto_fra = (Estinto_fra + Cap_quota_fra)\n",
        "    Tot_fra = (Int_quota_fra + Cap_quota_fra)\n",
        "    plan.append([Int_quota_fra, Cap_quota_fra, Tot_fra, tot_I_fra, Estinto_fra, Residuo_fra])\n",
        "  index = ['Quota Interesse','Quota Capitale','Rata','Interessi Totali','Debito Estinto','Debito Residuo']\n",
        "  df_fra = pd.DataFrame(plan_fra)\n",
        "  df_fra.columns = index\n",
        "  df1_fra = pd.concat([df,df_fra], axis=1)\n",
        "  df2_fra = pd.concat([df,df_fra['Debito Residuo']], axis=1)[:-1]\n",
        "\n",
        "  return (df2_fra)"
      ],
      "execution_count": 7,
      "outputs": []
    },
    {
      "cell_type": "markdown",
      "metadata": {
        "id": "Cudf7OtKTegK"
      },
      "source": [
        "***Ammortamento Italiano***\n"
      ]
    },
    {
      "cell_type": "code",
      "metadata": {
        "id": "2Ui5Ok7bJEW9"
      },
      "source": [
        "def ammortamento_italiano(amortization_rate,tenor,rate_totali, notional):\n",
        "\n",
        "  Residuo_ita = notional\n",
        "  tot_I_ita = 0\n",
        "  Estinto_ita = 0\n",
        "  Tot_ita = 0\n",
        "  plan_ita = np.array\n",
        "  plan_ita = [[0,0,0,0,0,Residuo_ita]]\n",
        "  rate_ita = range(0,rate_totali)\n",
        "  for count in rate_ita:\n",
        "    Int_quota_ita = round(Residuo_ita*amortization_rate/(12/tenor),2)\n",
        "    Cap_quota_ita = round((notional/rate_totali),2)\n",
        "    tot_I_ita = (tot_I_ita + Int_quota_ita)\n",
        "    Residuo_ita = (Residuo_ita - Cap_quota_ita)\n",
        "    Estinto_ita = (Estinto_ita + Cap_quota_ita)\n",
        "    Tot_ita = (Int_quota_ita + Cap_quota_ita)\n",
        "    plan_ita.append([Int_quota_ita,Cap_quota_ita,Tot_ita,tot_I_ita,Estinto_ita,Residuo_ita])\n",
        "  index = ['Quota Interesse','Quota Capitale','Rata','Interessi Totali','Debito Estinto','Debito Residuo']\n",
        "  df_ita = pd.DataFrame(plan_ita)\n",
        "  df_ita.columns=index\n",
        "  df1_ita = pd.concat([df,df_ita],axis=1)\n",
        "  df2_ita = pd.concat([df,df_ita['Debito Residuo']],axis=1)[:-1]\n",
        "  \n",
        "  return (df2_ita)\n",
        "  "
      ],
      "execution_count": 8,
      "outputs": []
    },
    {
      "cell_type": "markdown",
      "metadata": {
        "id": "UHNkvQf0TltB"
      },
      "source": [
        "***Ammortamento Bullet***\n"
      ]
    },
    {
      "cell_type": "code",
      "metadata": {
        "id": "mTzkKE2aKAU_"
      },
      "source": [
        "def ammortamento_bullet(amortization_rate,tenor,rate_totali, notional):\n",
        "\n",
        "  Residuo_bullet = notional\n",
        "  tot_I_bullet = 0\n",
        "  plan_bullet = np.array\n",
        "  plan_bullet = [[0,0,Residuo_bullet]]\n",
        "  rate_bullet = range(0,rate_totali)\n",
        "  for count in rate_bullet:\n",
        "    Int_quota_bullet = round(Residuo_bullet*amortization_rate/(12/tenor),2)\n",
        "    tot_I_bullet = (tot_I_bullet+Int_quota_bullet)\n",
        "    plan_bullet.append([Int_quota_bullet,tot_I_bullet,Residuo_bullet])\n",
        "  index = ['Quota Interesse','Interessi Totali','Debito Residuo']\n",
        "  df_bullet = pd.DataFrame(plan_bullet)\n",
        "  df_bullet.columns = index\n",
        "  df1_bullet = pd.concat([df,df_bullet],axis=1)\n",
        "  df2_bullet = pd.concat([df,df_bullet['Debito Residuo']],axis=1)\n",
        "  df2_bullet = df2_bullet[:-1]\n",
        "  \n",
        "  return (df2_bullet)"
      ],
      "execution_count": 64,
      "outputs": []
    },
    {
      "cell_type": "markdown",
      "metadata": {
        "id": "_TF0PhLvTqbN"
      },
      "source": [
        "***Output del Modello***\n"
      ]
    },
    {
      "cell_type": "code",
      "metadata": {
        "id": "c_c10rotKcxN"
      },
      "source": [
        "if (amortization_type == 'Francese'):\n",
        "  df_output = (ammortamento_francese(amortization_rate,tenor,rate_totali,notional))\n",
        "elif (amortization_type == 'Italiano'):\n",
        "  df_output = (ammortamento_italiano(amortization_rate,tenor,rate_totali,notional))\n",
        "elif (amortization_type == 'Bullet'):\n",
        "  df_output = (ammortamento_bullet(amortization_rate,tenor,rate_totali,notional))\n",
        "  \n",
        "print (df_output)"
      ],
      "execution_count": null,
      "outputs": []
    },
    {
      "cell_type": "markdown",
      "metadata": {
        "id": "5BYIvyNRA4fC"
      },
      "source": [
        "***Calcolo delle Fixing Date***"
      ]
    },
    {
      "cell_type": "code",
      "metadata": {
        "id": "Jn4WsX9RxFOt",
        "outputId": "b8c652c6-f801-4a8a-c83b-dc60a4847243",
        "colab": {
          "base_uri": "https://localhost:8080/"
        }
      },
      "source": [
        "try:\n",
        "  rule_fixing = input('Inserire la regola per le fixing date: ')\n",
        "  if rule_fixing == '':\n",
        "     rule_fixing = '-2BD'\n",
        "except:\n",
        "  rule_fixing = '-2BD'"
      ],
      "execution_count": 103,
      "outputs": [
        {
          "output_type": "stream",
          "text": [
            "Inserire la regola per le fixing date: hhh\n"
          ],
          "name": "stdout"
        }
      ]
    },
    {
      "cell_type": "code",
      "metadata": {
        "id": "euExlataCQpp",
        "outputId": "adb6d7f3-e695-4f87-9b7f-45c88b1ea1ce",
        "colab": {
          "base_uri": "https://localhost:8080/",
          "height": 35
        }
      },
      "source": [
        "rule_fixing"
      ],
      "execution_count": 104,
      "outputs": [
        {
          "output_type": "execute_result",
          "data": {
            "application/vnd.google.colaboratory.intrinsic+json": {
              "type": "string"
            },
            "text/plain": [
              "'hhh'"
            ]
          },
          "metadata": {
            "tags": []
          },
          "execution_count": 104
        }
      ]
    },
    {
      "cell_type": "code",
      "metadata": {
        "id": "690hnQGBLKUO"
      },
      "source": [
        "fixing_date = []\n",
        "fixing_date_start = []\n",
        "fixing_date_end = []\n",
        "for i, date in enumerate(df_output['startdate']):\n",
        "  if rule_fixing == '-2BD':\n",
        "    date_fix = (calendar.advance(date,-2, Days))\n",
        "    \n",
        "  else:\n",
        "    date_fix = (calendar.advance(date,-1,Months))\n",
        "    date_fix = (calendar.endOfMonth(date_fix))\n",
        "    date_fix = (calendar.advance(date_fix,-1,Days))\n",
        "  fixing_date.append(date_fix)\n",
        "  fixing_date_start.append(calendar.advance(date_fix,2,Days))  \n",
        "\n",
        "df_output['fixing rate'] = fixing_date\n",
        "df_output['start']= fixing_date_start\n",
        "\n",
        "for i, date in enumerate(df_output['start']):\n",
        "  fixing_date_end.append(calendar.advance(date,tenor,Months))\n",
        "\n",
        "df_output['end']= fixing_date_end\n",
        "\n"
      ],
      "execution_count": 105,
      "outputs": []
    },
    {
      "cell_type": "code",
      "metadata": {
        "id": "lFKdgp5JD6je",
        "colab": {
          "base_uri": "https://localhost:8080/",
          "height": 654
        },
        "outputId": "a03147a0-fe5b-4f1e-fbb1-89847277f8d0"
      },
      "source": [
        "df_output"
      ],
      "execution_count": 106,
      "outputs": [
        {
          "output_type": "execute_result",
          "data": {
            "text/html": [
              "<div>\n",
              "<style scoped>\n",
              "    .dataframe tbody tr th:only-of-type {\n",
              "        vertical-align: middle;\n",
              "    }\n",
              "\n",
              "    .dataframe tbody tr th {\n",
              "        vertical-align: top;\n",
              "    }\n",
              "\n",
              "    .dataframe thead th {\n",
              "        text-align: right;\n",
              "    }\n",
              "</style>\n",
              "<table border=\"1\" class=\"dataframe\">\n",
              "  <thead>\n",
              "    <tr style=\"text-align: right;\">\n",
              "      <th></th>\n",
              "      <th>startdate</th>\n",
              "      <th>enddate</th>\n",
              "      <th>Debito Residuo</th>\n",
              "      <th>fixing rate</th>\n",
              "      <th>start</th>\n",
              "      <th>end</th>\n",
              "    </tr>\n",
              "  </thead>\n",
              "  <tbody>\n",
              "    <tr>\n",
              "      <th>0</th>\n",
              "      <td>April 29th, 2021</td>\n",
              "      <td>July 29th, 2021</td>\n",
              "      <td>100000.0</td>\n",
              "      <td>March 30th, 2021</td>\n",
              "      <td>April 1st, 2021</td>\n",
              "      <td>July 1st, 2021</td>\n",
              "    </tr>\n",
              "    <tr>\n",
              "      <th>1</th>\n",
              "      <td>July 29th, 2021</td>\n",
              "      <td>October 29th, 2021</td>\n",
              "      <td>100000.0</td>\n",
              "      <td>June 29th, 2021</td>\n",
              "      <td>July 1st, 2021</td>\n",
              "      <td>October 1st, 2021</td>\n",
              "    </tr>\n",
              "    <tr>\n",
              "      <th>2</th>\n",
              "      <td>October 29th, 2021</td>\n",
              "      <td>January 31st, 2022</td>\n",
              "      <td>100000.0</td>\n",
              "      <td>September 29th, 2021</td>\n",
              "      <td>October 1st, 2021</td>\n",
              "      <td>January 3rd, 2022</td>\n",
              "    </tr>\n",
              "    <tr>\n",
              "      <th>3</th>\n",
              "      <td>January 31st, 2022</td>\n",
              "      <td>April 29th, 2022</td>\n",
              "      <td>100000.0</td>\n",
              "      <td>December 30th, 2021</td>\n",
              "      <td>January 3rd, 2022</td>\n",
              "      <td>April 4th, 2022</td>\n",
              "    </tr>\n",
              "    <tr>\n",
              "      <th>4</th>\n",
              "      <td>April 29th, 2022</td>\n",
              "      <td>July 29th, 2022</td>\n",
              "      <td>100000.0</td>\n",
              "      <td>March 30th, 2022</td>\n",
              "      <td>April 1st, 2022</td>\n",
              "      <td>July 1st, 2022</td>\n",
              "    </tr>\n",
              "    <tr>\n",
              "      <th>5</th>\n",
              "      <td>July 29th, 2022</td>\n",
              "      <td>October 31st, 2022</td>\n",
              "      <td>100000.0</td>\n",
              "      <td>June 29th, 2022</td>\n",
              "      <td>July 1st, 2022</td>\n",
              "      <td>October 3rd, 2022</td>\n",
              "    </tr>\n",
              "    <tr>\n",
              "      <th>6</th>\n",
              "      <td>October 31st, 2022</td>\n",
              "      <td>January 30th, 2023</td>\n",
              "      <td>100000.0</td>\n",
              "      <td>September 29th, 2022</td>\n",
              "      <td>October 3rd, 2022</td>\n",
              "      <td>January 3rd, 2023</td>\n",
              "    </tr>\n",
              "    <tr>\n",
              "      <th>7</th>\n",
              "      <td>January 30th, 2023</td>\n",
              "      <td>April 28th, 2023</td>\n",
              "      <td>100000.0</td>\n",
              "      <td>December 29th, 2022</td>\n",
              "      <td>January 2nd, 2023</td>\n",
              "      <td>April 3rd, 2023</td>\n",
              "    </tr>\n",
              "    <tr>\n",
              "      <th>8</th>\n",
              "      <td>April 28th, 2023</td>\n",
              "      <td>July 31st, 2023</td>\n",
              "      <td>100000.0</td>\n",
              "      <td>March 30th, 2023</td>\n",
              "      <td>April 3rd, 2023</td>\n",
              "      <td>July 3rd, 2023</td>\n",
              "    </tr>\n",
              "    <tr>\n",
              "      <th>9</th>\n",
              "      <td>July 31st, 2023</td>\n",
              "      <td>October 30th, 2023</td>\n",
              "      <td>100000.0</td>\n",
              "      <td>June 29th, 2023</td>\n",
              "      <td>July 3rd, 2023</td>\n",
              "      <td>October 3rd, 2023</td>\n",
              "    </tr>\n",
              "    <tr>\n",
              "      <th>10</th>\n",
              "      <td>October 30th, 2023</td>\n",
              "      <td>January 29th, 2024</td>\n",
              "      <td>100000.0</td>\n",
              "      <td>October 30th, 2023</td>\n",
              "      <td>November 1st, 2023</td>\n",
              "      <td>February 1st, 2024</td>\n",
              "    </tr>\n",
              "    <tr>\n",
              "      <th>11</th>\n",
              "      <td>January 29th, 2024</td>\n",
              "      <td>April 29th, 2024</td>\n",
              "      <td>100000.0</td>\n",
              "      <td>December 28th, 2023</td>\n",
              "      <td>January 2nd, 2024</td>\n",
              "      <td>April 2nd, 2024</td>\n",
              "    </tr>\n",
              "    <tr>\n",
              "      <th>12</th>\n",
              "      <td>April 29th, 2024</td>\n",
              "      <td>July 29th, 2024</td>\n",
              "      <td>100000.0</td>\n",
              "      <td>April 29th, 2024</td>\n",
              "      <td>May 2nd, 2024</td>\n",
              "      <td>August 2nd, 2024</td>\n",
              "    </tr>\n",
              "    <tr>\n",
              "      <th>13</th>\n",
              "      <td>July 29th, 2024</td>\n",
              "      <td>October 29th, 2024</td>\n",
              "      <td>100000.0</td>\n",
              "      <td>July 30th, 2024</td>\n",
              "      <td>August 1st, 2024</td>\n",
              "      <td>November 1st, 2024</td>\n",
              "    </tr>\n",
              "    <tr>\n",
              "      <th>14</th>\n",
              "      <td>October 29th, 2024</td>\n",
              "      <td>January 29th, 2025</td>\n",
              "      <td>100000.0</td>\n",
              "      <td>September 27th, 2024</td>\n",
              "      <td>October 1st, 2024</td>\n",
              "      <td>January 2nd, 2025</td>\n",
              "    </tr>\n",
              "    <tr>\n",
              "      <th>15</th>\n",
              "      <td>January 29th, 2025</td>\n",
              "      <td>April 29th, 2025</td>\n",
              "      <td>100000.0</td>\n",
              "      <td>December 30th, 2024</td>\n",
              "      <td>January 2nd, 2025</td>\n",
              "      <td>April 2nd, 2025</td>\n",
              "    </tr>\n",
              "    <tr>\n",
              "      <th>16</th>\n",
              "      <td>April 29th, 2025</td>\n",
              "      <td>July 29th, 2025</td>\n",
              "      <td>100000.0</td>\n",
              "      <td>March 28th, 2025</td>\n",
              "      <td>April 1st, 2025</td>\n",
              "      <td>July 1st, 2025</td>\n",
              "    </tr>\n",
              "    <tr>\n",
              "      <th>17</th>\n",
              "      <td>July 29th, 2025</td>\n",
              "      <td>October 29th, 2025</td>\n",
              "      <td>100000.0</td>\n",
              "      <td>June 27th, 2025</td>\n",
              "      <td>July 1st, 2025</td>\n",
              "      <td>October 1st, 2025</td>\n",
              "    </tr>\n",
              "    <tr>\n",
              "      <th>18</th>\n",
              "      <td>October 29th, 2025</td>\n",
              "      <td>January 29th, 2026</td>\n",
              "      <td>100000.0</td>\n",
              "      <td>September 29th, 2025</td>\n",
              "      <td>October 1st, 2025</td>\n",
              "      <td>January 2nd, 2026</td>\n",
              "    </tr>\n",
              "    <tr>\n",
              "      <th>19</th>\n",
              "      <td>January 29th, 2026</td>\n",
              "      <td>April 29th, 2026</td>\n",
              "      <td>100000.0</td>\n",
              "      <td>December 30th, 2025</td>\n",
              "      <td>January 2nd, 2026</td>\n",
              "      <td>April 2nd, 2026</td>\n",
              "    </tr>\n",
              "  </tbody>\n",
              "</table>\n",
              "</div>"
            ],
            "text/plain": [
              "             startdate  ...                 end\n",
              "0     April 29th, 2021  ...      July 1st, 2021\n",
              "1      July 29th, 2021  ...   October 1st, 2021\n",
              "2   October 29th, 2021  ...   January 3rd, 2022\n",
              "3   January 31st, 2022  ...     April 4th, 2022\n",
              "4     April 29th, 2022  ...      July 1st, 2022\n",
              "5      July 29th, 2022  ...   October 3rd, 2022\n",
              "6   October 31st, 2022  ...   January 3rd, 2023\n",
              "7   January 30th, 2023  ...     April 3rd, 2023\n",
              "8     April 28th, 2023  ...      July 3rd, 2023\n",
              "9      July 31st, 2023  ...   October 3rd, 2023\n",
              "10  October 30th, 2023  ...  February 1st, 2024\n",
              "11  January 29th, 2024  ...     April 2nd, 2024\n",
              "12    April 29th, 2024  ...    August 2nd, 2024\n",
              "13     July 29th, 2024  ...  November 1st, 2024\n",
              "14  October 29th, 2024  ...   January 2nd, 2025\n",
              "15  January 29th, 2025  ...     April 2nd, 2025\n",
              "16    April 29th, 2025  ...      July 1st, 2025\n",
              "17     July 29th, 2025  ...   October 1st, 2025\n",
              "18  October 29th, 2025  ...   January 2nd, 2026\n",
              "19  January 29th, 2026  ...     April 2nd, 2026\n",
              "\n",
              "[20 rows x 6 columns]"
            ]
          },
          "metadata": {
            "tags": []
          },
          "execution_count": 106
        }
      ]
    },
    {
      "cell_type": "markdown",
      "metadata": {
        "id": "yDdsTiDHy6fC"
      },
      "source": [
        "Npv Obiettivo: prova"
      ]
    },
    {
      "cell_type": "code",
      "metadata": {
        "id": "8L9wCvzmhPUN"
      },
      "source": [
        "df_output['differenza_giorni'] = (df_output['enddate'] - df_output['startdate']) / 360\n",
        "df_output['prod'] = (df_output['Debito Residuo'] * df_output['differenza_giorni']) * 0.0001\n",
        "BPV = df_output['prod'].sum()"
      ],
      "execution_count": null,
      "outputs": []
    },
    {
      "cell_type": "markdown",
      "metadata": {
        "id": "OiIv-g1PVGb5"
      },
      "source": [
        "*Class: Market Data*"
      ]
    },
    {
      "cell_type": "code",
      "metadata": {
        "id": "ubcKXwfkUzeH"
      },
      "source": [
        "class historical_fixed_rate(object):\n",
        "\n",
        "    def __init__(self, name, reference_date = None, currency = None, underlying = None):\n",
        "        \n",
        "        try:\n",
        "            self.reference_date = datetime.strptime(reference_date, '%d/%m/%Y')\n",
        "        except:\n",
        "            self.reference_date = None\n",
        "        \n",
        "        self.name = name\n",
        "        self.currency = currency\n",
        "        self.underlying = underlying\n",
        "        self.historical_fixed_rate_df = pd.DataFrame\n",
        "\n",
        "class zero_curve_rate(object):\n",
        "# chiedere a Mirko l'assegnazione di interp_rule e day_count\n",
        "    def __init__(self, name, reference_date = None, currency = None, underlying = None, interp_rule = None, day_count = None):\n",
        "        \n",
        "        self.name = name\n",
        "        \n",
        "        try:\n",
        "            self.reference_date = datetime.strptime(reference_date, '%d/%m/%Y')\n",
        "        except:\n",
        "            self.reference_date = None\n",
        "      \n",
        "        self.currency = currency\n",
        "        self.underlying = underlying\n",
        "        self.interpolation_rule = interp_rule\n",
        "        self.day_count = day_count\n",
        "        self.zero_curve_rate_df = pd.DataFrame"
      ],
      "execution_count": null,
      "outputs": []
    },
    {
      "cell_type": "code",
      "metadata": {
        "id": "jpJg4ECuVkwy"
      },
      "source": [
        "def market_data(path):\n",
        "\n",
        "  historical_fixed_rates = historical_fixed_rate(name=\"HISTORICAL RATE\")\n",
        "  historical_fixed_rates.historical_fixed_rate_df = pd.read_excel(path, sheet_name='fixings')\n",
        "\n",
        "  estimation_curve = zero_curve_rate(name='ESTIMATION')\n",
        "  estimation_curve.zero_curve_rate_df = pd.read_excel(path, sheet_name='estimation')\n",
        "\n",
        "  discount_curve = zero_curve_rate(name='DISCOUNT')\n",
        "  discount_curve.zero_curve_rate_df = pd.read_excel(path, sheet_name='discount')\n",
        "\n",
        "  market_data_dict = {'ESTIMATION': estimation_curve, 'DISCOUNT': discount_curve, 'HISTORICAL': historical_fixed_rates}\n",
        "\n",
        "  return(market_data_dict)"
      ],
      "execution_count": null,
      "outputs": []
    },
    {
      "cell_type": "code",
      "metadata": {
        "id": "fj_O2eTCfWmy"
      },
      "source": [
        "m=market_data(path)\n",
        "a=m['ESTIMATION'].zero_curve_rate_df['DATE']\n"
      ],
      "execution_count": null,
      "outputs": []
    },
    {
      "cell_type": "code",
      "metadata": {
        "id": "SvOW7GauWabN"
      },
      "source": [
        ""
      ],
      "execution_count": null,
      "outputs": []
    },
    {
      "cell_type": "code",
      "metadata": {
        "id": "QbC7MyPWWaVe"
      },
      "source": [
        ""
      ],
      "execution_count": null,
      "outputs": []
    },
    {
      "cell_type": "code",
      "metadata": {
        "id": "_jzZRHMmWaMU"
      },
      "source": [
        ""
      ],
      "execution_count": null,
      "outputs": []
    },
    {
      "cell_type": "code",
      "metadata": {
        "id": "vqRKIrYzNCge"
      },
      "source": [
        "class IRS:\n",
        "\n",
        "  def __init__(self):\n",
        "\n",
        "    self.start_date = None\n",
        "    self.maturity_date = None\n",
        "    self.tenor = None\n",
        "    self.business_convention = None\n",
        "    self.date_gen_rule = None\n",
        "    self.schedule = pd.DataFrame\n",
        "    self.eom = None\n",
        "\n",
        "    \n",
        "    self.npv = None"
      ],
      "execution_count": null,
      "outputs": []
    },
    {
      "cell_type": "code",
      "metadata": {
        "id": "rSw7Wh4YM7DC"
      },
      "source": [
        "def pricer(path,\n",
        "           underlying,\n",
        "           amortization_type,\n",
        "           notional,\n",
        "           amortization_rate,\n",
        "           maturity_label,\n",
        "           ref_date,\n",
        "           tenor,\n",
        "           business_convention,\n",
        "           date_gen_rule,\n",
        "           currency = 'EUR',\n",
        "           calendar = TARGET(),\n",
        "           end_of_month = False,\n",
        "           deduction_formula = '-1M LBD/-1BD',\n",
        "           day_count = Actual360):\n",
        "\n",
        "    dictionary = market_data(path)\n",
        "    irs = IRS()\n",
        "    irs.start_date = calendar.advance(ref_date,2,Days)\n",
        "    if maturity_label[-1] == 'M':\n",
        "      irs.maturity_date = calendar.advance(irs.start_date, int(maturity_label.rsplit(maturity_label[-1], 1)[0]), Months)\n",
        "    elif maturity_label[-1] == 'Y':\n",
        "      irs.maturity_date = calendar.advance(irs.start_date, int(maturity_label.rsplit(maturity_label[-1], 1)[0]), Years)\n",
        "    irs.business_convention = business_convention\n",
        "    irs.tenor = tenor\n",
        "    irs.date_gen_rule = date_gen_rule\n",
        "    irs.eom = end_of_month\n",
        "\n",
        "# aggiungere altri attribuiti all'irs(calendario,EOM, deduction formula, day count)\n",
        "\n",
        "\n",
        "    \n",
        "    irs.schedule = pd.DataFrame({'startdate':list(Schedule(irs.start_date,irs.maturity_date,irs.tenor,calendar,irs.business_convention,irs.business_convention,irs.date_gen_rule,irs.eom))[:-1],'enddate':list(Schedule(irs.start_date,irs.maturity_date,irs.tenor,calendar,irs.business_convention,irs.business_convention,irs.date_gen_rule,irs.eom))[1:]})"
      ],
      "execution_count": null,
      "outputs": []
    },
    {
      "cell_type": "code",
      "metadata": {
        "id": "LKHkWwrFjqEp"
      },
      "source": [
        "class IRS:\n",
        "\n",
        "  def __init__(self, leg1_name = 'Receive', leg2_name = 'Pay', leg1_rate_type = 'Fixed', leg2_rate_type = 'Floating'):\n",
        "\n",
        "    self.start_date = None\n",
        "    self.leg1_flows = pd.DataFrame\n",
        "    self.leg2_flows = pd.DataFrame\n",
        "    self.leg1_name = leg1_name\n",
        "    self.leg2_name = leg2_name\n",
        "    self.leg1_rate_type = leg1_rate_type  \n",
        "    self.leg2_rate_type = leg2_rate_type\n",
        "    self.npv = None"
      ],
      "execution_count": null,
      "outputs": []
    },
    {
      "cell_type": "code",
      "metadata": {
        "id": "pLPr1-8wj5Q6"
      },
      "source": [
        "def submit(path,\n",
        "           underlying,\n",
        "           amortization_type,\n",
        "           notional,\n",
        "           amortization_rate,\n",
        "           maturity_label,\n",
        "           ref_date,\n",
        "           tenor,\n",
        "           business_convention,\n",
        "           date_gen_rule,\n",
        "           currency = 'EUR',\n",
        "           calendar = TARGET(),\n",
        "           end_of_month = False,\n",
        "           deduction_formula = '-1M LBD/-1BD',\n",
        "           day_count = Actual360):\n",
        "\n",
        "  irs = IRS()"
      ],
      "execution_count": null,
      "outputs": []
    },
    {
      "cell_type": "code",
      "metadata": {
        "id": "gB3NlZSBj6Jq"
      },
      "source": [
        "submit(path = market_data_path, underlying = underlying, amortization_type = amortization_type, notional = notional, amortization_rate = amortization_rate, maturity_label = maturity_label, ref_date = ref_date, tenor = tenor,\n",
        "       business_convention = business_convention, date_gen_rule = date_gen_rule)"
      ],
      "execution_count": null,
      "outputs": []
    },
    {
      "cell_type": "code",
      "metadata": {
        "id": "ylCY3crlgkvv"
      },
      "source": [
        ""
      ],
      "execution_count": null,
      "outputs": []
    },
    {
      "cell_type": "code",
      "metadata": {
        "id": "foiRxQxzeqZ7"
      },
      "source": [
        "leg_fixed=FixedRateLeg(schedule,Actual360(),[notional],[0.05])\n",
        "for i in leg_fixed:\n",
        "  print(i.date(),i.amount())"
      ],
      "execution_count": null,
      "outputs": []
    }
  ]
}