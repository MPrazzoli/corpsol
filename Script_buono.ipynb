{
  "nbformat": 4,
  "nbformat_minor": 0,
  "metadata": {
    "colab": {
      "name": "Script buono.ipynb",
      "provenance": [],
      "collapsed_sections": [],
      "authorship_tag": "ABX9TyNu0zchTr7dyzPDdRgCjYOm",
      "include_colab_link": true
    },
    "kernelspec": {
      "name": "python3",
      "display_name": "Python 3"
    },
    "language_info": {
      "name": "python"
    }
  },
  "cells": [
    {
      "cell_type": "markdown",
      "metadata": {
        "id": "view-in-github",
        "colab_type": "text"
      },
      "source": [
        "<a href=\"https://colab.research.google.com/github/MPrazzoli/corpsol/blob/main/Script_buono.ipynb\" target=\"_parent\"><img src=\"https://colab.research.google.com/assets/colab-badge.svg\" alt=\"Open In Colab\"/></a>"
      ]
    },
    {
      "cell_type": "code",
      "metadata": {
        "colab": {
          "base_uri": "https://localhost:8080/"
        },
        "id": "72XW5NkYLNrF",
        "outputId": "d195be63-6b2b-44e5-ead0-345ff90c3000"
      },
      "source": [
        "from google.colab import drive\n",
        "drive.mount('/content/drive')"
      ],
      "execution_count": 43,
      "outputs": [
        {
          "output_type": "stream",
          "text": [
            "Drive already mounted at /content/drive; to attempt to forcibly remount, call drive.mount(\"/content/drive\", force_remount=True).\n"
          ],
          "name": "stdout"
        }
      ]
    },
    {
      "cell_type": "code",
      "metadata": {
        "colab": {
          "base_uri": "https://localhost:8080/"
        },
        "id": "SfXKlWc1LSdX",
        "outputId": "57c310d6-a223-4c79-df1f-070ea5ee398d"
      },
      "source": [
        "pip install QuantLib"
      ],
      "execution_count": 2,
      "outputs": [
        {
          "output_type": "stream",
          "text": [
            "Requirement already satisfied: QuantLib in /usr/local/lib/python3.7/dist-packages (1.22)\n"
          ],
          "name": "stdout"
        }
      ]
    },
    {
      "cell_type": "code",
      "metadata": {
        "id": "pIeewTMPLWZB"
      },
      "source": [
        "import os\n",
        "import math\n",
        "import numpy as np\n",
        "import pandas as pd\n",
        "from QuantLib import *\n",
        "from datetime import date"
      ],
      "execution_count": 3,
      "outputs": []
    },
    {
      "cell_type": "markdown",
      "metadata": {
        "id": "wJ3grH5reCNf"
      },
      "source": [
        "**Inserimento degli Input**"
      ]
    },
    {
      "cell_type": "code",
      "metadata": {
        "colab": {
          "base_uri": "https://localhost:8080/"
        },
        "id": "g9y53J8KMdhl",
        "outputId": "84449918-6f2d-449e-ec47-b3fdffdb241c"
      },
      "source": [
        "try:\n",
        "  underlying = input('Inserire il sottostante: ')\n",
        "  if underlying == '':\n",
        "    underlying = 'EUR3M'\n",
        "except:\n",
        "  underlying = 'EUR3M'\n",
        "\n",
        "try:\n",
        "  amortization_type = input('Inserire il piano di ammortamento: ')\n",
        "  if amortization_type == '':\n",
        "    amortization_type = 'Bullet'\n",
        "except:\n",
        "  amortization_type = 'Bullet'\n",
        "\n",
        "try:\n",
        "  notional = float(input('Inserire il nozionale: '))\n",
        "except:\n",
        "  notional = 100000.0\n",
        "\n",
        "try:\n",
        "  amortization_rate = float(input('Inserire il tasso annuo: '))\n",
        "except:\n",
        "  amortization_rate = .05\n",
        "\n",
        "try:\n",
        "  maturity_label = input('Inserire la durata del finanziamento in label (\"M\" per i mesi e \"Y\" per gli anni): ')\n",
        "  if maturity_label == '':\n",
        "     maturity_label = '5Y'\n",
        "except:\n",
        "  maturity_label = '5Y'\n",
        "\n",
        "try:\n",
        "  ref_date = Date(input('Inserire la data iniziale del finanziamento in formato dd/mm/yyyy: '),'%d/%m/%Y')\n",
        "  if ref_date == '':\n",
        "    ref_date = Date(date.today().day,date.today().month,date.today().year)\n",
        "except:\n",
        "  ref_date = Date(date.today().day,date.today().month,date.today().year)\n",
        "\n",
        "try:\n",
        "  tenor = int(input('Inserire il periodo che intercorre tra le rate in numero di mesi: '))\n",
        "except:\n",
        "  tenor = 3\n",
        "\n",
        "try:\n",
        "  business_convention = input('Inserire la convenzione:')\n",
        "  if business_convention == '' or business_convention == 'ModifiedFollowing':\n",
        "    business_convention = ModifiedFollowing\n",
        "except:\n",
        "  business_convention = ModifiedFollowing\n",
        "\n",
        "try:\n",
        "  date_gen_rule = input('Inserire la regola per il calcolo delle date:')\n",
        "  if date_gen_rule == '' or date_gen_rule == 'Forward':\n",
        "    date_gen_rule = DateGeneration.Forward\n",
        "  else: \n",
        "    date_gen_rule = DateGeneration.Backward\n",
        "except:\n",
        "  date_gen_rule = DateGeneration.Forward"
      ],
      "execution_count": 4,
      "outputs": [
        {
          "output_type": "stream",
          "text": [
            "Inserire il sottostante: \n",
            "Inserire il piano di ammortamento: \n",
            "Inserire il nozionale: \n",
            "Inserire il tasso annuo: \n",
            "Inserire la durata del finanziamento in label (\"M\" per i mesi e \"Y\" per gli anni): \n",
            "Inserire la data iniziale del finanziamento in formato dd/mm/yyyy: \n",
            "Inserire il periodo che intercorre tra le rate in numero di mesi: \n",
            "Inserire la convenzione:\n",
            "Inserire la regola per il calcolo delle date:\n"
          ],
          "name": "stdout"
        }
      ]
    },
    {
      "cell_type": "code",
      "metadata": {
        "id": "FzIjsLQyMswX"
      },
      "source": [
        "calendar = TARGET()\n",
        "start_date = calendar.advance(ref_date,2,Days)\n",
        "if maturity_label[-1] == 'M':\n",
        "    maturity_date = calendar.advance(start_date, int(maturity_label.rsplit(maturity_label[-1], 1)[0]), Months)\n",
        "elif maturity_label[-1] == 'Y':\n",
        "    maturity_date = calendar.advance(start_date, int(maturity_label.rsplit(maturity_label[-1], 1)[0]), Years)\n",
        "Tenor=Period(tenor,Months)\n",
        "if (business_convention == 'ModifiedFollowing'):\n",
        "  convention=1\n",
        "elif (business_convention == 'ModifiedFollowing'):\n",
        "    convention=0\n",
        "terminationDateConvention= business_convention\n",
        "if (date_gen_rule == 'Forward'):\n",
        "  rule=1\n",
        "elif (date_gen_rule == 'Backward'):\n",
        "  rule=0\n",
        "endofmonth = False\n",
        "schedule = Schedule(start_date,maturity_date,Tenor,calendar,business_convention,terminationDateConvention,date_gen_rule,endofmonth)\n",
        "lista_startdate = pd.DataFrame({'startdate':list(schedule)})\n",
        "schedule_end = Schedule(start_date+Tenor,maturity_date,Tenor,calendar,business_convention,terminationDateConvention,date_gen_rule,endofmonth)\n",
        "lista_enddate = pd.DataFrame({'enddate':list(schedule_end)})"
      ],
      "execution_count": 5,
      "outputs": []
    },
    {
      "cell_type": "markdown",
      "metadata": {
        "id": "qRiSSaqreMzX"
      },
      "source": [
        "**Ammortamento Francese**"
      ]
    },
    {
      "cell_type": "code",
      "metadata": {
        "id": "N7rRRWMqM_lf"
      },
      "source": [
        "#Calcolo della rata \n",
        "if maturity_label[-1] == 'M':\n",
        "  rate_totali = int(12/tenor)\n",
        "elif maturity_label[-1] == 'Y':\n",
        "  rate_totali = int((12/tenor)*int(maturity_label.rsplit(maturity_label[-1], 1)[0]))\n",
        "t = (1+ amortization_rate/(12/tenor))**rate_totali\n",
        "rata=round(notional*t*(amortization_rate/(12/tenor))/(t-1),2)\n",
        "Residuo=notional\n",
        "tot_I=0\n",
        "Estinto=0\n",
        "plan=np.array\n",
        "plan=[[0,0,0,0,0,Residuo]]"
      ],
      "execution_count": 6,
      "outputs": []
    },
    {
      "cell_type": "code",
      "metadata": {
        "id": "_y9W4VemNAx2"
      },
      "source": [
        "rate=range(0,rate_totali)\n",
        "for count in rate:\n",
        "  Int_quota=round(Residuo*amortization_rate/(12/tenor),2)\n",
        "  Cap_quota=(rata-Int_quota)\n",
        "  tot_I=(tot_I+Int_quota)\n",
        "  Residuo=(Residuo-Cap_quota)\n",
        "  Estinto=(Estinto+Cap_quota)\n",
        "  Tot=(Int_quota+Cap_quota)\n",
        "  plan.append([Int_quota,Cap_quota,Tot,tot_I,Estinto,Residuo])"
      ],
      "execution_count": 7,
      "outputs": []
    },
    {
      "cell_type": "code",
      "metadata": {
        "id": "ovZ5GJZmNGT-"
      },
      "source": [
        "index=['Quota Interesse','Quota Capitale','Rata','Interessi Totali','Debito Estinto','Debito Residuo']\n",
        "df=pd.DataFrame(plan)\n",
        "df.columns=index\n",
        "df1=pd.concat([lista_startdate,df],axis=1)\n",
        "df2=pd.concat([lista_startdate,lista_enddate,df['Debito Residuo']],axis=1)"
      ],
      "execution_count": 8,
      "outputs": []
    },
    {
      "cell_type": "markdown",
      "metadata": {
        "id": "DXA-RMEGdDbR"
      },
      "source": [
        "**Ammortamento** **Italiano**"
      ]
    },
    {
      "cell_type": "code",
      "metadata": {
        "id": "swllfJVlNJAU"
      },
      "source": [
        "Residuo_ita=notional\n",
        "tot_I_ita=0\n",
        "Estinto_ita=0\n",
        "Tot_ita=0\n",
        "plan_ita=np.array\n",
        "plan_ita=[[0,0,0,0,0,Residuo_ita]]"
      ],
      "execution_count": 9,
      "outputs": []
    },
    {
      "cell_type": "code",
      "metadata": {
        "id": "UNHwxAZ7NLy6"
      },
      "source": [
        "rate_ita=range(0,rate_totali)\n",
        "for count in rate_ita:\n",
        "  Int_quota_ita=round(Residuo_ita*amortization_rate/(12/tenor),2)\n",
        "  Cap_quota_ita=round((notional/rate_totali),2)\n",
        "  tot_I_ita=(tot_I_ita+Int_quota_ita)\n",
        "  Residuo_ita=(Residuo_ita-Cap_quota_ita)\n",
        "  Estinto_ita=(Estinto_ita+Cap_quota_ita)\n",
        "  Tot_ita=(Int_quota_ita+Cap_quota_ita)\n",
        "  plan_ita.append([Int_quota_ita,Cap_quota_ita,Tot_ita,tot_I_ita,Estinto_ita,Residuo_ita])"
      ],
      "execution_count": 10,
      "outputs": []
    },
    {
      "cell_type": "code",
      "metadata": {
        "id": "J2RG0PjiNMuh"
      },
      "source": [
        "index=['Quota Interesse','Quota Capitale','Rata','Interessi Totali','Debito Estinto','Debito Residuo']\n",
        "df_ita=pd.DataFrame(plan_ita)\n",
        "df_ita.columns=index\n",
        "df1_ita=pd.concat([lista_startdate,df_ita],axis=1)\n",
        "df2_ita=pd.concat([lista_startdate,lista_enddate,df_ita['Debito Residuo']],axis=1)"
      ],
      "execution_count": 11,
      "outputs": []
    },
    {
      "cell_type": "markdown",
      "metadata": {
        "id": "JSYsxMdZdgil"
      },
      "source": [
        "**Ammortamento** **Bullet**"
      ]
    },
    {
      "cell_type": "code",
      "metadata": {
        "id": "C_71izeXNPAZ"
      },
      "source": [
        "Residuo_bullet=notional\n",
        "tot_I_bullet=0\n",
        "plan_bullet=np.array\n",
        "plan_bullet=[[0,0,Residuo_bullet]]\n",
        "rate_bullet=range(0,rate_totali)\n",
        "for count in rate_bullet:\n",
        "  Int_quota_bullet=round(Residuo_bullet*amortization_rate/(12/tenor),2)\n",
        "  tot_I_bullet=(tot_I_bullet+Int_quota_bullet)\n",
        "  plan_bullet.append([Int_quota_bullet,tot_I_bullet,Residuo_bullet])"
      ],
      "execution_count": 12,
      "outputs": []
    },
    {
      "cell_type": "code",
      "metadata": {
        "id": "_JZeAYb4NRzv"
      },
      "source": [
        "index=['Quota Interesse','Interessi Totali','Debito Residuo']\n",
        "df_bullet=pd.DataFrame(plan_bullet)\n",
        "df_bullet.columns=index\n",
        "df1_bullet=pd.concat([lista_startdate,df_bullet],axis=1)\n",
        "df2_bullet=pd.concat([lista_startdate,lista_enddate,df_bullet['Debito Residuo']],axis=1)\n",
        "df2_bullet=df2_bullet[:-1]"
      ],
      "execution_count": 13,
      "outputs": []
    },
    {
      "cell_type": "markdown",
      "metadata": {
        "id": "7KB1uc5ie8zq"
      },
      "source": [
        "**Output del Modello**"
      ]
    },
    {
      "cell_type": "code",
      "metadata": {
        "id": "u0RlzA61NUG1"
      },
      "source": [
        "if (amortization_type== 'Francese'):\n",
        "  print (df2)\n",
        "elif (amortization_type == 'Italiano'):\n",
        "  print (df2_ita)\n",
        "elif (amortization_type == 'Bullet'):\n",
        "  print (df2_bullet)"
      ],
      "execution_count": null,
      "outputs": []
    },
    {
      "cell_type": "code",
      "metadata": {
        "id": "UpJCITElOsge"
      },
      "source": [
        "market_data_path = '/content/drive/MyDrive/data.xlsx'\n",
        "fixed_rates = pd.read_excel(market_data_path, sheet_name='fixings')\n",
        "estimation_rate = pd.read_excel(market_data_path, sheet_name='estimation')\n",
        "discount_rate = pd.read_excel(market_data_path, sheet_name='discount')"
      ],
      "execution_count": 15,
      "outputs": []
    },
    {
      "cell_type": "code",
      "metadata": {
        "id": "LKHkWwrFjqEp"
      },
      "source": [
        "class IRS:\n",
        "\n",
        "  def __init__(self, leg1_name = 'Receive', leg2_name = 'Pay', leg1_rate_type = 'Fixed', leg2_rate_type = 'Floating'):\n",
        "\n",
        "    self.start_date = None\n",
        "    self.leg1_flows = pd.DataFrame\n",
        "    self.leg2_flows = pd.DataFrame\n",
        "    self.leg1_name = leg1_name\n",
        "    self.leg2_name = leg2_name\n",
        "    self.leg1_rate_type = leg1_rate_type  \n",
        "    self.leg2_rate_type = leg2_rate_type\n",
        "    self.npv = None"
      ],
      "execution_count": 16,
      "outputs": []
    },
    {
      "cell_type": "code",
      "metadata": {
        "id": "pLPr1-8wj5Q6"
      },
      "source": [
        "def submit(path,\n",
        "           underlying,\n",
        "           amortization_type,\n",
        "           notional,\n",
        "           amortization_rate,\n",
        "           maturity_label,\n",
        "           ref_date,\n",
        "           tenor,\n",
        "           business_convention,\n",
        "           date_gen_rule,\n",
        "           currency = 'EUR',\n",
        "           calendar = TARGET(),\n",
        "           end_of_month = False,\n",
        "           deduction_formula = '-1M LBD/-1BD',\n",
        "           day_count = Actual360):\n",
        "\n",
        "  irs = IRS()"
      ],
      "execution_count": 17,
      "outputs": []
    },
    {
      "cell_type": "code",
      "metadata": {
        "id": "gB3NlZSBj6Jq"
      },
      "source": [
        "submit(path = market_data_path, underlying = underlying, amortization_type = amortization_type, notional = notional, amortization_rate = amortization_rate, maturity_label = maturity_label, ref_date = ref_date, tenor = tenor,\n",
        "       business_convention = business_convention, date_gen_rule = date_gen_rule)"
      ],
      "execution_count": 18,
      "outputs": []
    },
    {
      "cell_type": "code",
      "metadata": {
        "id": "-97ZwdxQfn9U"
      },
      "source": [
        ""
      ],
      "execution_count": 18,
      "outputs": []
    },
    {
      "cell_type": "code",
      "metadata": {
        "id": "ylCY3crlgkvv"
      },
      "source": [
        ""
      ],
      "execution_count": 19,
      "outputs": []
    },
    {
      "cell_type": "code",
      "metadata": {
        "colab": {
          "base_uri": "https://localhost:8080/"
        },
        "id": "foiRxQxzeqZ7",
        "outputId": "81c8fef6-b5dc-4b25-8cde-85083f08bc57"
      },
      "source": [
        "leg_fixed=FixedRateLeg(schedule,Actual360(),[notional],[0.05])\n",
        "for i in leg_fixed:\n",
        "  print(i.date(),i.amount())"
      ],
      "execution_count": 41,
      "outputs": [
        {
          "output_type": "stream",
          "text": [
            "July 26th, 2021 1263.8888888888866\n",
            "October 26th, 2021 1277.7777777777776\n",
            "January 26th, 2022 1277.7777777777776\n",
            "April 26th, 2022 1249.9999999999955\n",
            "July 26th, 2022 1263.8888888888866\n",
            "October 26th, 2022 1277.7777777777776\n",
            "January 26th, 2023 1277.7777777777776\n",
            "April 26th, 2023 1249.9999999999955\n",
            "July 26th, 2023 1263.8888888888866\n",
            "October 26th, 2023 1277.7777777777776\n",
            "January 26th, 2024 1277.7777777777776\n",
            "April 26th, 2024 1263.8888888888866\n",
            "July 26th, 2024 1263.8888888888866\n",
            "October 28th, 2024 1305.5555555555597\n",
            "January 27th, 2025 1263.8888888888866\n",
            "April 28th, 2025 1263.8888888888866\n",
            "July 28th, 2025 1263.8888888888866\n",
            "October 27th, 2025 1263.8888888888866\n",
            "January 26th, 2026 1263.8888888888866\n",
            "April 27th, 2026 1263.8888888888866\n"
          ],
          "name": "stdout"
        }
      ]
    },
    {
      "cell_type": "code",
      "metadata": {
        "id": "747Rephhe40s"
      },
      "source": [
        ""
      ],
      "execution_count": null,
      "outputs": []
    }
  ]
}