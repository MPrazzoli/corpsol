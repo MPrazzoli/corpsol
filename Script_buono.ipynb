{
  "nbformat": 4,
  "nbformat_minor": 0,
  "metadata": {
    "colab": {
      "name": "Script buono.ipynb",
      "provenance": [],
      "collapsed_sections": [],
      "authorship_tag": "ABX9TyNQxvRbF57z3T/ZTe3oZKZe",
      "include_colab_link": true
    },
    "kernelspec": {
      "name": "python3",
      "display_name": "Python 3"
    },
    "language_info": {
      "name": "python"
    }
  },
  "cells": [
    {
      "cell_type": "markdown",
      "metadata": {
        "id": "view-in-github",
        "colab_type": "text"
      },
      "source": [
        "<a href=\"https://colab.research.google.com/github/MPrazzoli/corpsol/blob/main/Script_buono.ipynb\" target=\"_parent\"><img src=\"https://colab.research.google.com/assets/colab-badge.svg\" alt=\"Open In Colab\"/></a>"
      ]
    },
    {
      "cell_type": "code",
      "metadata": {
        "colab": {
          "base_uri": "https://localhost:8080/"
        },
        "id": "72XW5NkYLNrF",
        "outputId": "d0e0fbdf-794f-4c7a-f586-9906cb0a29ea"
      },
      "source": [
        "from google.colab import drive\n",
        "drive.mount('/content/drive')"
      ],
      "execution_count": 2,
      "outputs": [
        {
          "output_type": "stream",
          "text": [
            "Mounted at /content/drive\n"
          ],
          "name": "stdout"
        }
      ]
    },
    {
      "cell_type": "code",
      "metadata": {
        "colab": {
          "base_uri": "https://localhost:8080/"
        },
        "id": "SfXKlWc1LSdX",
        "outputId": "b77085b8-cd84-4ad5-d1d4-5df2e4dd7e3e"
      },
      "source": [
        "pip install QuantLib"
      ],
      "execution_count": 3,
      "outputs": [
        {
          "output_type": "stream",
          "text": [
            "Collecting QuantLib\n",
            "\u001b[?25l  Downloading https://files.pythonhosted.org/packages/fb/c2/f24a3d27cbf3896dd5655e98efe352b2a8a1d3404dca88b7caa5aa8bf4a4/QuantLib-1.22-cp37-cp37m-manylinux2010_x86_64.whl (20.1MB)\n",
            "\u001b[K     |████████████████████████████████| 20.1MB 1.8MB/s \n",
            "\u001b[?25hInstalling collected packages: QuantLib\n",
            "Successfully installed QuantLib-1.22\n"
          ],
          "name": "stdout"
        }
      ]
    },
    {
      "cell_type": "code",
      "metadata": {
        "id": "pIeewTMPLWZB"
      },
      "source": [
        "import os\n",
        "import math\n",
        "import numpy as np\n",
        "import pandas as pd\n",
        "from QuantLib import *\n",
        "from datetime import date"
      ],
      "execution_count": 4,
      "outputs": []
    },
    {
      "cell_type": "markdown",
      "metadata": {
        "id": "wJ3grH5reCNf"
      },
      "source": [
        "**Inserimento degli Input**"
      ]
    },
    {
      "cell_type": "code",
      "metadata": {
        "colab": {
          "base_uri": "https://localhost:8080/"
        },
        "id": "g9y53J8KMdhl",
        "outputId": "8d9d8c70-d92a-4029-b2be-77faa93de019"
      },
      "source": [
        "try:\n",
        "  underlying = input('Inserire il sottostante: ')\n",
        "  if underlying == '':\n",
        "    underlying = 'EUR3M'\n",
        "except:\n",
        "  underlying = 'EUR3M'\n",
        "\n",
        "try:\n",
        "  amortization_type = input('Inserire il piano di ammortamento: ')\n",
        "  if amortization_type == '':\n",
        "    amortization_type = 'Bullet'\n",
        "except:\n",
        "  amortization_type = 'Bullet'\n",
        "\n",
        "try:\n",
        "  notional = float(input('Inserire il nozionale: '))\n",
        "except:\n",
        "  notional = 100000.0\n",
        "\n",
        "try:\n",
        "  amortization_rate = float(input('Inserire il tasso annuo: '))\n",
        "except:\n",
        "  amortization_rate = .05\n",
        "\n",
        "try:\n",
        "  maturity_label = input('Inserire la durata del finanziamento in label (\"M\" per i mesi e \"Y\" per gli anni): ')\n",
        "  if maturity_label == '':\n",
        "     maturity_label = '5Y'\n",
        "except:\n",
        "  maturity_label = '5Y'\n",
        "\n",
        "try:\n",
        "  ref_date = Date(input('Inserire la data iniziale del finanziamento in formato dd/mm/yyyy: '),'%d/%m/%Y')\n",
        "  if ref_date == '':\n",
        "    ref_date = Date(date.today().day,date.today().month,date.today().year)\n",
        "except:\n",
        "  ref_date = Date(date.today().day,date.today().month,date.today().year)\n",
        "\n",
        "try:\n",
        "  tenor = int(input('Inserire il periodo che intercorre tra le rate in numero di mesi: '))\n",
        "except:\n",
        "  tenor = 3\n",
        "\n",
        "try:\n",
        "  business_convention = input('Inserire la convenzione:')\n",
        "  if business_convention == '' or business_convention == 'ModifiedFollowing':\n",
        "    business_convention = ModifiedFollowing\n",
        "except:\n",
        "  business_convention = ModifiedFollowing\n",
        "\n",
        "try:\n",
        "  date_gen_rule = input('Inserire la regola per il calcolo delle date:')\n",
        "  if date_gen_rule == '' or date_gen_rule == 'Forward':\n",
        "    date_gen_rule = DateGeneration.Forward\n",
        "  else: \n",
        "    date_gen_rule = DateGeneration.Backward\n",
        "except:\n",
        "  date_gen_rule = DateGeneration.Forward"
      ],
      "execution_count": 5,
      "outputs": [
        {
          "output_type": "stream",
          "text": [
            "Inserire il sottostante: \n",
            "Inserire il piano di ammortamento: \n",
            "Inserire il nozionale: \n",
            "Inserire il tasso annuo: \n",
            "Inserire la durata del finanziamento in label (\"M\" per i mesi e \"Y\" per gli anni): \n",
            "Inserire la data iniziale del finanziamento in formato dd/mm/yyyy: \n",
            "Inserire il periodo che intercorre tra le rate in numero di mesi: \n",
            "Inserire la convenzione:\n",
            "Inserire la regola per il calcolo delle date:\n"
          ],
          "name": "stdout"
        }
      ]
    },
    {
      "cell_type": "code",
      "metadata": {
        "id": "FzIjsLQyMswX"
      },
      "source": [
        "calendar = TARGET()\n",
        "start_date = calendar.advance(ref_date,2,Days)\n",
        "if maturity_label[-1] == 'M':\n",
        "    maturity_date = calendar.advance(start_date, int(maturity_label.rsplit(maturity_label[-1], 1)[0]), Months)\n",
        "elif maturity_label[-1] == 'Y':\n",
        "    maturity_date = calendar.advance(start_date, int(maturity_label.rsplit(maturity_label[-1], 1)[0]), Years)\n",
        "Tenor=Period(tenor,Months)\n",
        "if (business_convention == 'ModifiedFollowing'):\n",
        "  convention=1\n",
        "elif (business_convention == 'ModifiedFollowing'):\n",
        "    convention=0\n",
        "terminationDateConvention= business_convention\n",
        "if (date_gen_rule == 'Forward'):\n",
        "  rule=1\n",
        "elif (date_gen_rule == 'Backward'):\n",
        "  rule=0\n",
        "endofmonth = False\n",
        "schedule = Schedule(start_date,maturity_date,Tenor,calendar,business_convention,terminationDateConvention,date_gen_rule,endofmonth)\n",
        "lista_startdate = pd.DataFrame({'startdate':list(schedule)})\n",
        "schedule_end = Schedule(start_date+Tenor,maturity_date,Tenor,calendar,business_convention,terminationDateConvention,date_gen_rule,endofmonth)\n",
        "lista_enddate = pd.DataFrame({'enddate':list(schedule_end)})"
      ],
      "execution_count": 6,
      "outputs": []
    },
    {
      "cell_type": "markdown",
      "metadata": {
        "id": "qRiSSaqreMzX"
      },
      "source": [
        "**Ammortamento Francese**"
      ]
    },
    {
      "cell_type": "code",
      "metadata": {
        "id": "N7rRRWMqM_lf"
      },
      "source": [
        "#Calcolo della rata \n",
        "if maturity_label[-1] == 'M':\n",
        "  rate_totali = int(12/tenor)\n",
        "elif maturity_label[-1] == 'Y':\n",
        "  rate_totali = int((12/tenor)*int(maturity_label.rsplit(maturity_label[-1], 1)[0]))\n",
        "t = (1+ amortization_rate/(12/tenor))**rate_totali\n",
        "rata=round(notional*t*(amortization_rate/(12/tenor))/(t-1),2)\n",
        "Residuo=notional\n",
        "tot_I=0\n",
        "Estinto=0\n",
        "plan=np.array\n",
        "plan=[[0,0,0,0,0,Residuo]]"
      ],
      "execution_count": 7,
      "outputs": []
    },
    {
      "cell_type": "code",
      "metadata": {
        "id": "yUoTB-K_Cmis"
      },
      "source": [
        "g=(1+1/((1+0.05/4)**rate_totali-1))*notional*0.0125\n"
      ],
      "execution_count": 8,
      "outputs": []
    },
    {
      "cell_type": "code",
      "metadata": {
        "colab": {
          "base_uri": "https://localhost:8080/"
        },
        "id": "cLueiJ3W8FoX",
        "outputId": "02585ad3-d454-4438-df34-e0cadf9c2427"
      },
      "source": [
        "(amortization_rate/(12/tenor))\n",
        "((1+amortization_rate)**(tenor/12)-1)\n",
        "amortization_rate*90/360"
      ],
      "execution_count": 9,
      "outputs": [
        {
          "output_type": "execute_result",
          "data": {
            "text/plain": [
              "0.0125"
            ]
          },
          "metadata": {
            "tags": []
          },
          "execution_count": 9
        }
      ]
    },
    {
      "cell_type": "code",
      "metadata": {
        "id": "_y9W4VemNAx2"
      },
      "source": [
        "rate=range(0,rate_totali)\n",
        "for count in rate:\n",
        "  Int_quota=round(Residuo*(amortization_rate*(tenor/12)),2)\n",
        "  Cap_quota=(rata-Int_quota)\n",
        "  tot_I=(tot_I+Int_quota)\n",
        "  Residuo=(Residuo-Cap_quota)\n",
        "  Estinto=(Estinto+Cap_quota)\n",
        "  Tot=(Int_quota+Cap_quota)\n",
        "  plan.append([Int_quota,Cap_quota,Tot,tot_I,Estinto,Residuo])"
      ],
      "execution_count": 10,
      "outputs": []
    },
    {
      "cell_type": "code",
      "metadata": {
        "id": "ovZ5GJZmNGT-"
      },
      "source": [
        "index=['Quota Interesse','Quota Capitale','Rata','Interessi Totali','Debito Estinto','Debito Residuo']\n",
        "df=pd.DataFrame(plan)\n",
        "df.columns=index\n",
        "df1=pd.concat([lista_startdate,df],axis=1)\n",
        "df2=pd.concat([lista_startdate,lista_enddate,df['Debito Residuo']],axis=1)\n",
        "df2=df2[:-1]"
      ],
      "execution_count": 11,
      "outputs": []
    },
    {
      "cell_type": "markdown",
      "metadata": {
        "id": "DXA-RMEGdDbR"
      },
      "source": [
        "**Ammortamento** **Italiano**"
      ]
    },
    {
      "cell_type": "code",
      "metadata": {
        "id": "swllfJVlNJAU"
      },
      "source": [
        "Residuo_ita=notional\n",
        "tot_I_ita=0\n",
        "Estinto_ita=0\n",
        "Tot_ita=0\n",
        "plan_ita=np.array\n",
        "plan_ita=[[0,0,0,0,0,Residuo_ita]]"
      ],
      "execution_count": 12,
      "outputs": []
    },
    {
      "cell_type": "code",
      "metadata": {
        "id": "UNHwxAZ7NLy6"
      },
      "source": [
        "rate_ita=range(0,rate_totali)\n",
        "for count in rate_ita:\n",
        "  Int_quota_ita=round(Residuo_ita*amortization_rate/(12/tenor),2)\n",
        "  Cap_quota_ita=round((notional/rate_totali),2)\n",
        "  tot_I_ita=(tot_I_ita+Int_quota_ita)\n",
        "  Residuo_ita=(Residuo_ita-Cap_quota_ita)\n",
        "  Estinto_ita=(Estinto_ita+Cap_quota_ita)\n",
        "  Tot_ita=(Int_quota_ita+Cap_quota_ita)\n",
        "  plan_ita.append([Int_quota_ita,Cap_quota_ita,Tot_ita,tot_I_ita,Estinto_ita,Residuo_ita])"
      ],
      "execution_count": 13,
      "outputs": []
    },
    {
      "cell_type": "code",
      "metadata": {
        "id": "J2RG0PjiNMuh"
      },
      "source": [
        "index=['Quota Interesse','Quota Capitale','Rata','Interessi Totali','Debito Estinto','Debito Residuo']\n",
        "df_ita=pd.DataFrame(plan_ita)\n",
        "df_ita.columns=index\n",
        "df1_ita=pd.concat([lista_startdate,df_ita],axis=1)\n",
        "df2_ita=pd.concat([lista_startdate,lista_enddate,df_ita['Debito Residuo']],axis=1)\n",
        "df2_ita=df2_ita[:-1]"
      ],
      "execution_count": 14,
      "outputs": []
    },
    {
      "cell_type": "markdown",
      "metadata": {
        "id": "JSYsxMdZdgil"
      },
      "source": [
        "**Ammortamento** **Bullet**"
      ]
    },
    {
      "cell_type": "code",
      "metadata": {
        "id": "C_71izeXNPAZ"
      },
      "source": [
        "Residuo_bullet=notional\n",
        "tot_I_bullet=0\n",
        "plan_bullet=np.array\n",
        "plan_bullet=[[0,0,Residuo_bullet]]\n",
        "rate_bullet=range(0,rate_totali)\n",
        "for count in rate_bullet:\n",
        "  Int_quota_bullet=round(Residuo_bullet*amortization_rate/(12/tenor),2)\n",
        "  tot_I_bullet=(tot_I_bullet+Int_quota_bullet)\n",
        "  plan_bullet.append([Int_quota_bullet,tot_I_bullet,Residuo_bullet])"
      ],
      "execution_count": 15,
      "outputs": []
    },
    {
      "cell_type": "code",
      "metadata": {
        "id": "_JZeAYb4NRzv"
      },
      "source": [
        "index=['Quota Interesse','Interessi Totali','Debito Residuo']\n",
        "df_bullet=pd.DataFrame(plan_bullet)\n",
        "df_bullet.columns=index\n",
        "df1_bullet=pd.concat([lista_startdate,df_bullet],axis=1)\n",
        "df2_bullet=pd.concat([lista_startdate,lista_enddate,df_bullet['Debito Residuo']],axis=1)\n",
        "df2_bullet=df2_bullet[:-1]"
      ],
      "execution_count": 16,
      "outputs": []
    },
    {
      "cell_type": "markdown",
      "metadata": {
        "id": "7KB1uc5ie8zq"
      },
      "source": [
        "**Output del Modello**"
      ]
    },
    {
      "cell_type": "code",
      "metadata": {
        "id": "u0RlzA61NUG1",
        "colab": {
          "base_uri": "https://localhost:8080/"
        },
        "outputId": "268b0e81-b164-4a9c-efc0-3a0371b89023"
      },
      "source": [
        "if (amortization_type== 'Francese'):\n",
        "  print (df2)\n",
        "elif (amortization_type == 'Italiano'):\n",
        "  print (df2_ita)\n",
        "elif (amortization_type == 'Bullet'):\n",
        "  print (df2_bullet)"
      ],
      "execution_count": 17,
      "outputs": [
        {
          "output_type": "stream",
          "text": [
            "             startdate             enddate  Debito Residuo\n",
            "0     April 26th, 2021     July 26th, 2021        100000.0\n",
            "1      July 26th, 2021  October 26th, 2021        100000.0\n",
            "2   October 26th, 2021  January 26th, 2022        100000.0\n",
            "3   January 26th, 2022    April 26th, 2022        100000.0\n",
            "4     April 26th, 2022     July 26th, 2022        100000.0\n",
            "5      July 26th, 2022  October 26th, 2022        100000.0\n",
            "6   October 26th, 2022  January 26th, 2023        100000.0\n",
            "7   January 26th, 2023    April 26th, 2023        100000.0\n",
            "8     April 26th, 2023     July 26th, 2023        100000.0\n",
            "9      July 26th, 2023  October 26th, 2023        100000.0\n",
            "10  October 26th, 2023  January 26th, 2024        100000.0\n",
            "11  January 26th, 2024    April 26th, 2024        100000.0\n",
            "12    April 26th, 2024     July 26th, 2024        100000.0\n",
            "13     July 26th, 2024  October 28th, 2024        100000.0\n",
            "14  October 28th, 2024  January 27th, 2025        100000.0\n",
            "15  January 27th, 2025    April 28th, 2025        100000.0\n",
            "16    April 28th, 2025     July 28th, 2025        100000.0\n",
            "17     July 28th, 2025  October 27th, 2025        100000.0\n",
            "18  October 27th, 2025  January 26th, 2026        100000.0\n",
            "19  January 26th, 2026    April 27th, 2026        100000.0\n"
          ],
          "name": "stdout"
        }
      ]
    },
    {
      "cell_type": "code",
      "metadata": {
        "id": "UpJCITElOsge"
      },
      "source": [
        "market_data_path = '/content/drive/MyDrive/data.xlsx'\n",
        "fixed_rates = pd.read_excel(market_data_path, sheet_name='fixings')\n",
        "estimation_rate = pd.read_excel(market_data_path, sheet_name='estimation')\n",
        "discount_rate = pd.read_excel(market_data_path, sheet_name='discount')"
      ],
      "execution_count": 18,
      "outputs": []
    },
    {
      "cell_type": "code",
      "metadata": {
        "id": "LKHkWwrFjqEp"
      },
      "source": [
        "class IRS:\n",
        "\n",
        "  def __init__(self, leg1_name = 'Receive', leg2_name = 'Pay', leg1_rate_type = 'Fixed', leg2_rate_type = 'Floating'):\n",
        "\n",
        "    self.start_date = None\n",
        "    self.leg1_flows = pd.DataFrame\n",
        "    self.leg2_flows = pd.DataFrame\n",
        "    self.leg1_name = leg1_name\n",
        "    self.leg2_name = leg2_name\n",
        "    self.leg1_rate_type = leg1_rate_type  \n",
        "    self.leg2_rate_type = leg2_rate_type\n",
        "    self.npv = None"
      ],
      "execution_count": 19,
      "outputs": []
    },
    {
      "cell_type": "code",
      "metadata": {
        "id": "pLPr1-8wj5Q6"
      },
      "source": [
        "def submit(path,\n",
        "           underlying,\n",
        "           amortization_type,\n",
        "           notional,\n",
        "           amortization_rate,\n",
        "           maturity_label,\n",
        "           ref_date,\n",
        "           tenor,\n",
        "           business_convention,\n",
        "           date_gen_rule,\n",
        "           currency = 'EUR',\n",
        "           calendar = TARGET(),\n",
        "           end_of_month = False,\n",
        "           deduction_formula = '-1M LBD/-1BD',\n",
        "           day_count = Actual360):\n",
        "\n",
        "  irs = IRS()"
      ],
      "execution_count": 20,
      "outputs": []
    },
    {
      "cell_type": "code",
      "metadata": {
        "id": "gB3NlZSBj6Jq"
      },
      "source": [
        "submit(path = market_data_path, underlying = underlying, amortization_type = amortization_type, notional = notional, amortization_rate = amortization_rate, maturity_label = maturity_label, ref_date = ref_date, tenor = tenor,\n",
        "       business_convention = business_convention, date_gen_rule = date_gen_rule)"
      ],
      "execution_count": 21,
      "outputs": []
    },
    {
      "cell_type": "code",
      "metadata": {
        "id": "ylCY3crlgkvv"
      },
      "source": [
        ""
      ],
      "execution_count": 21,
      "outputs": []
    },
    {
      "cell_type": "code",
      "metadata": {
        "colab": {
          "base_uri": "https://localhost:8080/"
        },
        "id": "foiRxQxzeqZ7",
        "outputId": "91001aa8-e528-4dc6-fbf3-cb158d150361"
      },
      "source": [
        "leg_fixed=FixedRateLeg(schedule,Actual360(),[notional],[0.05])\n",
        "for i in leg_fixed:\n",
        "  print(i.date(),i.amount())"
      ],
      "execution_count": 22,
      "outputs": [
        {
          "output_type": "stream",
          "text": [
            "July 26th, 2021 1263.8888888888866\n",
            "October 26th, 2021 1277.7777777777776\n",
            "January 26th, 2022 1277.7777777777776\n",
            "April 26th, 2022 1249.9999999999955\n",
            "July 26th, 2022 1263.8888888888866\n",
            "October 26th, 2022 1277.7777777777776\n",
            "January 26th, 2023 1277.7777777777776\n",
            "April 26th, 2023 1249.9999999999955\n",
            "July 26th, 2023 1263.8888888888866\n",
            "October 26th, 2023 1277.7777777777776\n",
            "January 26th, 2024 1277.7777777777776\n",
            "April 26th, 2024 1263.8888888888866\n",
            "July 26th, 2024 1263.8888888888866\n",
            "October 28th, 2024 1305.5555555555597\n",
            "January 27th, 2025 1263.8888888888866\n",
            "April 28th, 2025 1263.8888888888866\n",
            "July 28th, 2025 1263.8888888888866\n",
            "October 27th, 2025 1263.8888888888866\n",
            "January 26th, 2026 1263.8888888888866\n",
            "April 27th, 2026 1263.8888888888866\n"
          ],
          "name": "stdout"
        }
      ]
    },
    {
      "cell_type": "markdown",
      "metadata": {
        "id": "EVyPfeFKHKlU"
      },
      "source": [
        "prove npv obiettivo\n"
      ]
    },
    {
      "cell_type": "code",
      "metadata": {
        "id": "jOSP1AbzY_92"
      },
      "source": [
        ""
      ],
      "execution_count": 22,
      "outputs": []
    },
    {
      "cell_type": "code",
      "metadata": {
        "colab": {
          "base_uri": "https://localhost:8080/",
          "height": 662
        },
        "id": "CvjUmUdoWpFB",
        "outputId": "13c7b373-bb97-42c1-fe03-5e1e878458a0"
      },
      "source": [
        "df2['bbb']=df2['Debito Residuo']*df2['aaa']\n",
        "df2"
      ],
      "execution_count": 27,
      "outputs": [
        {
          "output_type": "execute_result",
          "data": {
            "text/html": [
              "<div>\n",
              "<style scoped>\n",
              "    .dataframe tbody tr th:only-of-type {\n",
              "        vertical-align: middle;\n",
              "    }\n",
              "\n",
              "    .dataframe tbody tr th {\n",
              "        vertical-align: top;\n",
              "    }\n",
              "\n",
              "    .dataframe thead th {\n",
              "        text-align: right;\n",
              "    }\n",
              "</style>\n",
              "<table border=\"1\" class=\"dataframe\">\n",
              "  <thead>\n",
              "    <tr style=\"text-align: right;\">\n",
              "      <th></th>\n",
              "      <th>startdate</th>\n",
              "      <th>enddate</th>\n",
              "      <th>Debito Residuo</th>\n",
              "      <th>aaa</th>\n",
              "      <th>bbb</th>\n",
              "    </tr>\n",
              "  </thead>\n",
              "  <tbody>\n",
              "    <tr>\n",
              "      <th>0</th>\n",
              "      <td>April 26th, 2021</td>\n",
              "      <td>July 26th, 2021</td>\n",
              "      <td>100000.00</td>\n",
              "      <td>91</td>\n",
              "      <td>9.1e+06</td>\n",
              "    </tr>\n",
              "    <tr>\n",
              "      <th>1</th>\n",
              "      <td>July 26th, 2021</td>\n",
              "      <td>October 26th, 2021</td>\n",
              "      <td>95567.96</td>\n",
              "      <td>92</td>\n",
              "      <td>8.79225e+06</td>\n",
              "    </tr>\n",
              "    <tr>\n",
              "      <th>2</th>\n",
              "      <td>October 26th, 2021</td>\n",
              "      <td>January 26th, 2022</td>\n",
              "      <td>91080.52</td>\n",
              "      <td>92</td>\n",
              "      <td>8.37941e+06</td>\n",
              "    </tr>\n",
              "    <tr>\n",
              "      <th>3</th>\n",
              "      <td>January 26th, 2022</td>\n",
              "      <td>April 26th, 2022</td>\n",
              "      <td>86536.99</td>\n",
              "      <td>90</td>\n",
              "      <td>7.78833e+06</td>\n",
              "    </tr>\n",
              "    <tr>\n",
              "      <th>4</th>\n",
              "      <td>April 26th, 2022</td>\n",
              "      <td>July 26th, 2022</td>\n",
              "      <td>81936.66</td>\n",
              "      <td>91</td>\n",
              "      <td>7.45624e+06</td>\n",
              "    </tr>\n",
              "    <tr>\n",
              "      <th>5</th>\n",
              "      <td>July 26th, 2022</td>\n",
              "      <td>October 26th, 2022</td>\n",
              "      <td>77278.83</td>\n",
              "      <td>92</td>\n",
              "      <td>7.10965e+06</td>\n",
              "    </tr>\n",
              "    <tr>\n",
              "      <th>6</th>\n",
              "      <td>October 26th, 2022</td>\n",
              "      <td>January 26th, 2023</td>\n",
              "      <td>72562.78</td>\n",
              "      <td>92</td>\n",
              "      <td>6.67578e+06</td>\n",
              "    </tr>\n",
              "    <tr>\n",
              "      <th>7</th>\n",
              "      <td>January 26th, 2023</td>\n",
              "      <td>April 26th, 2023</td>\n",
              "      <td>67787.77</td>\n",
              "      <td>90</td>\n",
              "      <td>6.1009e+06</td>\n",
              "    </tr>\n",
              "    <tr>\n",
              "      <th>8</th>\n",
              "      <td>April 26th, 2023</td>\n",
              "      <td>July 26th, 2023</td>\n",
              "      <td>62953.08</td>\n",
              "      <td>91</td>\n",
              "      <td>5.72873e+06</td>\n",
              "    </tr>\n",
              "    <tr>\n",
              "      <th>9</th>\n",
              "      <td>July 26th, 2023</td>\n",
              "      <td>October 26th, 2023</td>\n",
              "      <td>58057.95</td>\n",
              "      <td>92</td>\n",
              "      <td>5.34133e+06</td>\n",
              "    </tr>\n",
              "    <tr>\n",
              "      <th>10</th>\n",
              "      <td>October 26th, 2023</td>\n",
              "      <td>January 26th, 2024</td>\n",
              "      <td>53101.63</td>\n",
              "      <td>92</td>\n",
              "      <td>4.88535e+06</td>\n",
              "    </tr>\n",
              "    <tr>\n",
              "      <th>11</th>\n",
              "      <td>January 26th, 2024</td>\n",
              "      <td>April 26th, 2024</td>\n",
              "      <td>48083.36</td>\n",
              "      <td>91</td>\n",
              "      <td>4.37559e+06</td>\n",
              "    </tr>\n",
              "    <tr>\n",
              "      <th>12</th>\n",
              "      <td>April 26th, 2024</td>\n",
              "      <td>July 26th, 2024</td>\n",
              "      <td>43002.36</td>\n",
              "      <td>91</td>\n",
              "      <td>3.91321e+06</td>\n",
              "    </tr>\n",
              "    <tr>\n",
              "      <th>13</th>\n",
              "      <td>July 26th, 2024</td>\n",
              "      <td>October 28th, 2024</td>\n",
              "      <td>37857.85</td>\n",
              "      <td>94</td>\n",
              "      <td>3.55864e+06</td>\n",
              "    </tr>\n",
              "    <tr>\n",
              "      <th>14</th>\n",
              "      <td>October 28th, 2024</td>\n",
              "      <td>January 27th, 2025</td>\n",
              "      <td>32649.03</td>\n",
              "      <td>91</td>\n",
              "      <td>2.97106e+06</td>\n",
              "    </tr>\n",
              "    <tr>\n",
              "      <th>15</th>\n",
              "      <td>January 27th, 2025</td>\n",
              "      <td>April 28th, 2025</td>\n",
              "      <td>27375.10</td>\n",
              "      <td>91</td>\n",
              "      <td>2.49113e+06</td>\n",
              "    </tr>\n",
              "    <tr>\n",
              "      <th>16</th>\n",
              "      <td>April 28th, 2025</td>\n",
              "      <td>July 28th, 2025</td>\n",
              "      <td>22035.25</td>\n",
              "      <td>91</td>\n",
              "      <td>2.00521e+06</td>\n",
              "    </tr>\n",
              "    <tr>\n",
              "      <th>17</th>\n",
              "      <td>July 28th, 2025</td>\n",
              "      <td>October 27th, 2025</td>\n",
              "      <td>16628.65</td>\n",
              "      <td>91</td>\n",
              "      <td>1.51321e+06</td>\n",
              "    </tr>\n",
              "    <tr>\n",
              "      <th>18</th>\n",
              "      <td>October 27th, 2025</td>\n",
              "      <td>January 26th, 2026</td>\n",
              "      <td>11154.47</td>\n",
              "      <td>91</td>\n",
              "      <td>1.01506e+06</td>\n",
              "    </tr>\n",
              "    <tr>\n",
              "      <th>19</th>\n",
              "      <td>January 26th, 2026</td>\n",
              "      <td>April 27th, 2026</td>\n",
              "      <td>5611.86</td>\n",
              "      <td>91</td>\n",
              "      <td>510679</td>\n",
              "    </tr>\n",
              "  </tbody>\n",
              "</table>\n",
              "</div>"
            ],
            "text/plain": [
              "             startdate             enddate  Debito Residuo aaa          bbb\n",
              "0     April 26th, 2021     July 26th, 2021       100000.00  91      9.1e+06\n",
              "1      July 26th, 2021  October 26th, 2021        95567.96  92  8.79225e+06\n",
              "2   October 26th, 2021  January 26th, 2022        91080.52  92  8.37941e+06\n",
              "3   January 26th, 2022    April 26th, 2022        86536.99  90  7.78833e+06\n",
              "4     April 26th, 2022     July 26th, 2022        81936.66  91  7.45624e+06\n",
              "5      July 26th, 2022  October 26th, 2022        77278.83  92  7.10965e+06\n",
              "6   October 26th, 2022  January 26th, 2023        72562.78  92  6.67578e+06\n",
              "7   January 26th, 2023    April 26th, 2023        67787.77  90   6.1009e+06\n",
              "8     April 26th, 2023     July 26th, 2023        62953.08  91  5.72873e+06\n",
              "9      July 26th, 2023  October 26th, 2023        58057.95  92  5.34133e+06\n",
              "10  October 26th, 2023  January 26th, 2024        53101.63  92  4.88535e+06\n",
              "11  January 26th, 2024    April 26th, 2024        48083.36  91  4.37559e+06\n",
              "12    April 26th, 2024     July 26th, 2024        43002.36  91  3.91321e+06\n",
              "13     July 26th, 2024  October 28th, 2024        37857.85  94  3.55864e+06\n",
              "14  October 28th, 2024  January 27th, 2025        32649.03  91  2.97106e+06\n",
              "15  January 27th, 2025    April 28th, 2025        27375.10  91  2.49113e+06\n",
              "16    April 28th, 2025     July 28th, 2025        22035.25  91  2.00521e+06\n",
              "17     July 28th, 2025  October 27th, 2025        16628.65  91  1.51321e+06\n",
              "18  October 27th, 2025  January 26th, 2026        11154.47  91  1.01506e+06\n",
              "19  January 26th, 2026    April 27th, 2026         5611.86  91       510679"
            ]
          },
          "metadata": {
            "tags": []
          },
          "execution_count": 27
        }
      ]
    },
    {
      "cell_type": "code",
      "metadata": {
        "colab": {
          "base_uri": "https://localhost:8080/"
        },
        "id": "r7moWUWuRqqq",
        "outputId": "aead775e-c9c2-452d-da46-1df22f989bb0"
      },
      "source": [
        "df2['aaa']"
      ],
      "execution_count": 26,
      "outputs": [
        {
          "output_type": "execute_result",
          "data": {
            "text/plain": [
              "0     91\n",
              "1     92\n",
              "2     92\n",
              "3     90\n",
              "4     91\n",
              "5     92\n",
              "6     92\n",
              "7     90\n",
              "8     91\n",
              "9     92\n",
              "10    92\n",
              "11    91\n",
              "12    91\n",
              "13    94\n",
              "14    91\n",
              "15    91\n",
              "16    91\n",
              "17    91\n",
              "18    91\n",
              "19    91\n",
              "Name: aaa, dtype: object"
            ]
          },
          "metadata": {
            "tags": []
          },
          "execution_count": 26
        }
      ]
    },
    {
      "cell_type": "code",
      "metadata": {
        "id": "YskTH9EcTLkl"
      },
      "source": [
        ""
      ],
      "execution_count": null,
      "outputs": []
    }
  ]
}