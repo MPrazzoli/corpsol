{
  "nbformat": 4,
  "nbformat_minor": 0,
  "metadata": {
    "colab": {
      "name": "Script buono.ipynb",
      "provenance": [],
      "collapsed_sections": [],
      "authorship_tag": "ABX9TyOHuM3xhheMVuv1GO3uJK47",
      "include_colab_link": true
    },
    "kernelspec": {
      "name": "python3",
      "display_name": "Python 3"
    },
    "language_info": {
      "name": "python"
    }
  },
  "cells": [
    {
      "cell_type": "markdown",
      "metadata": {
        "id": "view-in-github",
        "colab_type": "text"
      },
      "source": [
        "<a href=\"https://colab.research.google.com/github/MPrazzoli/corpsol/blob/main/Script_buono.ipynb\" target=\"_parent\"><img src=\"https://colab.research.google.com/assets/colab-badge.svg\" alt=\"Open In Colab\"/></a>"
      ]
    },
    {
      "cell_type": "code",
      "metadata": {
        "colab": {
          "base_uri": "https://localhost:8080/"
        },
        "id": "72XW5NkYLNrF",
        "outputId": "75db4edd-9aff-48f6-a4b6-c227935f453f"
      },
      "source": [
        "from google.colab import drive\n",
        "drive.mount('/content/drive')"
      ],
      "execution_count": 39,
      "outputs": [
        {
          "output_type": "stream",
          "text": [
            "Drive already mounted at /content/drive; to attempt to forcibly remount, call drive.mount(\"/content/drive\", force_remount=True).\n"
          ],
          "name": "stdout"
        }
      ]
    },
    {
      "cell_type": "code",
      "metadata": {
        "colab": {
          "base_uri": "https://localhost:8080/"
        },
        "id": "SfXKlWc1LSdX",
        "outputId": "1bde03b7-9af6-4c9d-e188-6451a57eecf3"
      },
      "source": [
        "pip install QuantLib"
      ],
      "execution_count": 3,
      "outputs": [
        {
          "output_type": "stream",
          "text": [
            "Collecting QuantLib\n",
            "\u001b[?25l  Downloading https://files.pythonhosted.org/packages/fb/c2/f24a3d27cbf3896dd5655e98efe352b2a8a1d3404dca88b7caa5aa8bf4a4/QuantLib-1.22-cp37-cp37m-manylinux2010_x86_64.whl (20.1MB)\n",
            "\u001b[K     |████████████████████████████████| 20.1MB 1.4MB/s \n",
            "\u001b[?25hInstalling collected packages: QuantLib\n",
            "Successfully installed QuantLib-1.22\n"
          ],
          "name": "stdout"
        }
      ]
    },
    {
      "cell_type": "code",
      "metadata": {
        "id": "pIeewTMPLWZB"
      },
      "source": [
        "import os\n",
        "import math\n",
        "import numpy as np\n",
        "import pandas as pd\n",
        "from QuantLib import *\n",
        "from datetime import date"
      ],
      "execution_count": 4,
      "outputs": []
    },
    {
      "cell_type": "markdown",
      "metadata": {
        "id": "wJ3grH5reCNf"
      },
      "source": [
        "**Inserimento degli Input**"
      ]
    },
    {
      "cell_type": "code",
      "metadata": {
        "colab": {
          "base_uri": "https://localhost:8080/"
        },
        "id": "g9y53J8KMdhl",
        "outputId": "e0f04ad3-ebf3-4482-9637-06fdd802fa3b"
      },
      "source": [
        "try:\n",
        "  underlying = input('Inserire il sottostante: ')\n",
        "  if underlying == '':\n",
        "    underlying = 'EUR3M'\n",
        "except:\n",
        "  underlying = 'EUR3M'\n",
        "\n",
        "try:\n",
        "  amortization_type = input('Inserire il piano di ammortamento: ')\n",
        "  if amortization_type == '':\n",
        "    amortization_type = 'Bullet'\n",
        "except:\n",
        "  amortization_type = 'Bullet'\n",
        "\n",
        "try:\n",
        "  notional = float(input('Inserire il nozionale: '))\n",
        "except:\n",
        "  notional = 100000.0\n",
        "\n",
        "try:\n",
        "  amortization_rate = float(input('Inserire il tasso annuo: '))\n",
        "except:\n",
        "  amortization_rate = .05\n",
        "\n",
        "try:\n",
        "  maturity_label = input('Inserire la durata del finanziamento in label (\"M\" per i mesi e \"Y\" per gli anni): ')\n",
        "  if maturity_label == '':\n",
        "     maturity_label = '5Y'\n",
        "except:\n",
        "  maturity_label = '5Y'\n",
        "\n",
        "try:\n",
        "  ref_date = Date(input('Inserire la data iniziale del finanziamento in formato dd/mm/yyyy: '),'%d/%m/%Y')\n",
        "  if ref_date == '':\n",
        "    ref_date = Date(date.today().day,date.today().month,date.today().year)\n",
        "except:\n",
        "  ref_date = Date(date.today().day,date.today().month,date.today().year)\n",
        "\n",
        "try:\n",
        "  tenor = int(input('Inserire il periodo che intercorre tra le rate in numero di mesi: '))\n",
        "except:\n",
        "  tenor = 3\n",
        "\n",
        "try:\n",
        "  business_convention = input('Inserire la convenzione:')\n",
        "  if business_convention == '' or business_convention == 'ModifiedFollowing':\n",
        "    business_convention = ModifiedFollowing\n",
        "except:\n",
        "  business_convention = ModifiedFollowing\n",
        "\n",
        "try:\n",
        "  date_gen_rule = input('Inserire la regola per il calcolo delle date:')\n",
        "  if date_gen_rule == '' or date_gen_rule == 'Forward':\n",
        "    date_gen_rule = DateGeneration.Forward\n",
        "  else: \n",
        "    date_gen_rule = DateGeneration.Backward\n",
        "except:\n",
        "  date_gen_rule = DateGeneration.Forward"
      ],
      "execution_count": 5,
      "outputs": [
        {
          "output_type": "stream",
          "text": [
            "Inserire il sottostante: \n",
            "Inserire il piano di ammortamento: \n",
            "Inserire il nozionale: \n",
            "Inserire il tasso annuo: \n",
            "Inserire la durata del finanziamento in label (\"M\" per i mesi e \"Y\" per gli anni): \n",
            "Inserire la data iniziale del finanziamento in formato dd/mm/yyyy: \n",
            "Inserire il periodo che intercorre tra le rate in numero di mesi: \n",
            "Inserire la convenzione:\n",
            "Inserire la regola per il calcolo delle date:Backward\n"
          ],
          "name": "stdout"
        }
      ]
    },
    {
      "cell_type": "code",
      "metadata": {
        "id": "FzIjsLQyMswX"
      },
      "source": [
        "calendar = TARGET()\n",
        "start_date = calendar.advance(ref_date,2,Days)\n",
        "if maturity_label[-1] == 'M':\n",
        "    maturity_date = calendar.advance(start_date, int(maturity_label.rsplit(maturity_label[-1], 1)[0]), Months)\n",
        "elif maturity_label[-1] == 'Y':\n",
        "    maturity_date = calendar.advance(start_date, int(maturity_label.rsplit(maturity_label[-1], 1)[0]), Years)\n",
        "Tenor = Period(tenor,Months)\n",
        "endofmonth = False\n",
        "terminationDateConvention = business_convention\n",
        "df=pd.DataFrame({'startdate':list(Schedule(start_date,maturity_date,Tenor,calendar,business_convention,terminationDateConvention,date_gen_rule,endofmonth))[:-1],'enddate':list(Schedule(start_date,maturity_date,Tenor,calendar,business_convention,terminationDateConvention,date_gen_rule,endofmonth))[1:]})\n"
      ],
      "execution_count": 100,
      "outputs": []
    },
    {
      "cell_type": "code",
      "metadata": {
        "id": "uJru00VGSKmz"
      },
      "source": [
        "if maturity_label[-1] == 'M':\n",
        "  rate_totali = int(12/tenor)\n",
        "elif maturity_label[-1] == 'Y':\n",
        "  rate_totali = int((12/tenor)*int(maturity_label.rsplit(maturity_label[-1], 1)[0]))"
      ],
      "execution_count": 28,
      "outputs": []
    },
    {
      "cell_type": "code",
      "metadata": {
        "id": "A-HL1Y93fxYV"
      },
      "source": [
        "if (amortization_type== 'Francese'):\n",
        "  #Calcolo della rata \n",
        "  t = (1+ amortization_rate/(12/tenor))**rate_totali\n",
        "  rata=round(notional*t*(amortization_rate/(12/tenor))/(t-1),2)\n",
        "  Residuo=notional\n",
        "  Estinto=0\n",
        "  tot_I=0\n",
        "  plan=np.array\n",
        "  plan=[[0,0,0,0,0,Residuo]]\n",
        "  rate=range(0,rate_totali)\n",
        "  for count in rate:\n",
        "    Int_quota=round(Residuo*(amortization_rate*(tenor/12)),2)\n",
        "    Cap_quota=(rata-Int_quota)\n",
        "    tot_I=(tot_I+Int_quota)\n",
        "    Residuo=(Residuo-Cap_quota)\n",
        "    Estinto=(Estinto+Cap_quota)\n",
        "    Tot=(Int_quota+Cap_quota)\n",
        "    plan.append([Int_quota,Cap_quota,Tot,tot_I,Estinto,Residuo])\n",
        "  index=['Quota Interesse','Quota Capitale','Rata','Interessi Totali','Debito Estinto','Debito Residuo']\n",
        "  df_fra = pd.DataFrame(plan)\n",
        "  df_fra.columns=index\n",
        "  df1_fra=pd.concat([df,df_fra],axis=1)\n",
        "  df2_fra=pd.concat([df,df_fra['Debito Residuo']],axis=1)[:-1]\n",
        "  print(df2_fra)\n",
        "  \n",
        "elif (amortization_type == 'Italiano'):\n",
        "  Residuo_ita=notional\n",
        "  tot_I_ita=0\n",
        "  Estinto_ita=0\n",
        "  Tot_ita=0\n",
        "  plan_ita=np.array\n",
        "  plan_ita=[[0,0,0,0,0,Residuo_ita]]\n",
        "  rate_ita=range(0,rate_totali)\n",
        "  for count in rate_ita:\n",
        "    Int_quota_ita=round(Residuo_ita*amortization_rate/(12/tenor),2)\n",
        "    Cap_quota_ita=round((notional/rate_totali),2)\n",
        "    tot_I_ita=(tot_I_ita+Int_quota_ita)\n",
        "    Residuo_ita=(Residuo_ita-Cap_quota_ita)\n",
        "    Estinto_ita=(Estinto_ita+Cap_quota_ita)\n",
        "    Tot_ita=(Int_quota_ita+Cap_quota_ita)\n",
        "    plan_ita.append([Int_quota_ita,Cap_quota_ita,Tot_ita,tot_I_ita,Estinto_ita,Residuo_ita])\n",
        "  index=['Quota Interesse','Quota Capitale','Rata','Interessi Totali','Debito Estinto','Debito Residuo']\n",
        "  df_ita=pd.DataFrame(plan_ita)\n",
        "  df_ita.columns=index\n",
        "  df1_ita=pd.concat([df,df_ita],axis=1)\n",
        "  df2_ita=pd.concat([df,df_ita['Debito Residuo']],axis=1)\n",
        "  df2_ita=df2_ita[:-1]\n",
        "  print(df2_ita)\n",
        "\n",
        "elif (amortization_type == 'Bullet'):\n",
        "  Residuo_bullet=notional\n",
        "  tot_I_bullet=0\n",
        "  plan_bullet=np.array\n",
        "  plan_bullet=[[0,0,Residuo_bullet]]\n",
        "  rate_bullet=range(0,rate_totali)\n",
        "  for count in rate_bullet:\n",
        "    Int_quota_bullet=round(Residuo_bullet*amortization_rate/(12/tenor),2)\n",
        "    tot_I_bullet=(tot_I_bullet+Int_quota_bullet)\n",
        "    plan_bullet.append([Int_quota_bullet,tot_I_bullet,Residuo_bullet])\n",
        "  index=['Quota Interesse','Interessi Totali','Debito Residuo']\n",
        "  df_bullet=pd.DataFrame(plan_bullet)\n",
        "  df_bullet.columns=index\n",
        "  df1_bullet=pd.concat([df,df_bullet],axis=1)\n",
        "  df2_bullet=pd.concat([df,df_bullet['Debito Residuo']],axis=1)\n",
        "  df2_bullet=df2_bullet[:-1]\n",
        "  print(df2_bullet)\n",
        "\n"
      ],
      "execution_count": null,
      "outputs": []
    },
    {
      "cell_type": "markdown",
      "metadata": {
        "id": "qRiSSaqreMzX"
      },
      "source": [
        "**Ammortamento Francese**"
      ]
    },
    {
      "cell_type": "code",
      "metadata": {
        "id": "N7rRRWMqM_lf"
      },
      "source": [
        "  #Calcolo della rata \n",
        "  t = (1+ amortization_rate/(12/tenor))**rate_totali\n",
        "  rata=round(notional*t*(amortization_rate/(12/tenor))/(t-1),2)\n",
        "  Residuo=notional\n",
        "  Estinto=0\n",
        "  tot_I=0\n",
        "  plan=np.array\n",
        "  plan=[[0,0,0,0,0,Residuo]]"
      ],
      "execution_count": 101,
      "outputs": []
    },
    {
      "cell_type": "code",
      "metadata": {
        "id": "_y9W4VemNAx2"
      },
      "source": [
        "  rate=range(0,rate_totali)\n",
        "  for count in rate:\n",
        "    Int_quota=round(Residuo*(amortization_rate*(tenor/12)),2)\n",
        "    Cap_quota=(rata-Int_quota)\n",
        "    tot_I=(tot_I+Int_quota)\n",
        "    Residuo=(Residuo-Cap_quota)\n",
        "    Estinto=(Estinto+Cap_quota)\n",
        "    Tot=(Int_quota+Cap_quota)\n",
        "    plan.append([Int_quota,Cap_quota,Tot,tot_I,Estinto,Residuo])\n",
        "    index=['Quota Interesse','Quota Capitale','Rata','Interessi Totali','Debito Estinto','Debito Residuo']\n",
        "df_ita=pd.DataFrame(plan_ita)\n",
        "df_ita.columns=index\n",
        "df1_ita=pd.concat([df,df_ita],axis=1)\n",
        "df2_ita=pd.concat([df,df_ita['Debito Residuo']],axis=1)\n",
        "df2_ita=df2_ita[:-1]"
      ],
      "execution_count": 102,
      "outputs": []
    },
    {
      "cell_type": "code",
      "metadata": {
        "id": "ovZ5GJZmNGT-"
      },
      "source": [
        "  index=['Quota Interesse','Quota Capitale','Rata','Interessi Totali','Debito Estinto','Debito Residuo']\n",
        "  df_fra = pd.DataFrame(plan)\n",
        "  df_fra.columns=index\n",
        "  df1_fra=pd.concat([df,df_fra],axis=1)\n",
        "  df2_fra=pd.concat([df,df_fra['Debito Residuo']],axis=1)[:-1]\n"
      ],
      "execution_count": 104,
      "outputs": []
    },
    {
      "cell_type": "markdown",
      "metadata": {
        "id": "DXA-RMEGdDbR"
      },
      "source": [
        "**Ammortamento** **Italiano**"
      ]
    },
    {
      "cell_type": "code",
      "metadata": {
        "id": "swllfJVlNJAU"
      },
      "source": [
        "Residuo_ita=notional\n",
        "tot_I_ita=0\n",
        "Estinto_ita=0\n",
        "Tot_ita=0\n",
        "plan_ita=np.array\n",
        "plan_ita=[[0,0,0,0,0,Residuo_ita]]\n",
        "rate_ita=range(0,rate_totali)\n",
        "for count in rate_ita:\n",
        "  Int_quota_ita=round(Residuo_ita*amortization_rate/(12/tenor),2)\n",
        "  Cap_quota_ita=round((notional/rate_totali),2)\n",
        "  tot_I_ita=(tot_I_ita+Int_quota_ita)\n",
        "  Residuo_ita=(Residuo_ita-Cap_quota_ita)\n",
        "  Estinto_ita=(Estinto_ita+Cap_quota_ita)\n",
        "  Tot_ita=(Int_quota_ita+Cap_quota_ita)\n",
        "  plan_ita.append([Int_quota_ita,Cap_quota_ita,Tot_ita,tot_I_ita,Estinto_ita,Residuo_ita])\n",
        "  index=['Quota Interesse','Quota Capitale','Rata','Interessi Totali','Debito Estinto','Debito Residuo']\n",
        "df_ita=pd.DataFrame(plan_ita)\n",
        "df_ita.columns=index\n",
        "df1_ita=pd.concat([df,df_ita],axis=1)\n",
        "df2_ita=pd.concat([df,df_ita['Debito Residuo']],axis=1)\n",
        "df2_ita=df2_ita[:-1]"
      ],
      "execution_count": 108,
      "outputs": []
    },
    {
      "cell_type": "code",
      "metadata": {
        "id": "UNHwxAZ7NLy6"
      },
      "source": [
        "rate_ita=range(0,rate_totali)\n",
        "for count in rate_ita:\n",
        "  Int_quota_ita=round(Residuo_ita*amortization_rate/(12/tenor),2)\n",
        "  Cap_quota_ita=round((notional/rate_totali),2)\n",
        "  tot_I_ita=(tot_I_ita+Int_quota_ita)\n",
        "  Residuo_ita=(Residuo_ita-Cap_quota_ita)\n",
        "  Estinto_ita=(Estinto_ita+Cap_quota_ita)\n",
        "  Tot_ita=(Int_quota_ita+Cap_quota_ita)\n",
        "  plan_ita.append([Int_quota_ita,Cap_quota_ita,Tot_ita,tot_I_ita,Estinto_ita,Residuo_ita])"
      ],
      "execution_count": 109,
      "outputs": []
    },
    {
      "cell_type": "code",
      "metadata": {
        "id": "J2RG0PjiNMuh"
      },
      "source": [
        "index=['Quota Interesse','Quota Capitale','Rata','Interessi Totali','Debito Estinto','Debito Residuo']\n",
        "df_ita=pd.DataFrame(plan_ita)\n",
        "df_ita.columns=index\n",
        "df1_ita=pd.concat([df,df_ita],axis=1)\n",
        "df2_ita=pd.concat([df,df_ita['Debito Residuo']],axis=1)\n",
        "df2_ita=df2_ita[:-1]"
      ],
      "execution_count": 110,
      "outputs": []
    },
    {
      "cell_type": "code",
      "metadata": {
        "id": "TK1ly-19yYDc",
        "outputId": "9ff3b26a-6180-4ca7-b9af-cdb8b9636234",
        "colab": {
          "base_uri": "https://localhost:8080/",
          "height": 662
        }
      },
      "source": [
        "df2_ita"
      ],
      "execution_count": 112,
      "outputs": [
        {
          "output_type": "execute_result",
          "data": {
            "text/html": [
              "<div>\n",
              "<style scoped>\n",
              "    .dataframe tbody tr th:only-of-type {\n",
              "        vertical-align: middle;\n",
              "    }\n",
              "\n",
              "    .dataframe tbody tr th {\n",
              "        vertical-align: top;\n",
              "    }\n",
              "\n",
              "    .dataframe thead th {\n",
              "        text-align: right;\n",
              "    }\n",
              "</style>\n",
              "<table border=\"1\" class=\"dataframe\">\n",
              "  <thead>\n",
              "    <tr style=\"text-align: right;\">\n",
              "      <th></th>\n",
              "      <th>startdate</th>\n",
              "      <th>enddate</th>\n",
              "      <th>Debito Residuo</th>\n",
              "    </tr>\n",
              "  </thead>\n",
              "  <tbody>\n",
              "    <tr>\n",
              "      <th>0</th>\n",
              "      <td>April 27th, 2021</td>\n",
              "      <td>July 27th, 2021</td>\n",
              "      <td>100000.0</td>\n",
              "    </tr>\n",
              "    <tr>\n",
              "      <th>1</th>\n",
              "      <td>July 27th, 2021</td>\n",
              "      <td>October 27th, 2021</td>\n",
              "      <td>95000.0</td>\n",
              "    </tr>\n",
              "    <tr>\n",
              "      <th>2</th>\n",
              "      <td>October 27th, 2021</td>\n",
              "      <td>January 27th, 2022</td>\n",
              "      <td>90000.0</td>\n",
              "    </tr>\n",
              "    <tr>\n",
              "      <th>3</th>\n",
              "      <td>January 27th, 2022</td>\n",
              "      <td>April 27th, 2022</td>\n",
              "      <td>85000.0</td>\n",
              "    </tr>\n",
              "    <tr>\n",
              "      <th>4</th>\n",
              "      <td>April 27th, 2022</td>\n",
              "      <td>July 27th, 2022</td>\n",
              "      <td>80000.0</td>\n",
              "    </tr>\n",
              "    <tr>\n",
              "      <th>5</th>\n",
              "      <td>July 27th, 2022</td>\n",
              "      <td>October 27th, 2022</td>\n",
              "      <td>75000.0</td>\n",
              "    </tr>\n",
              "    <tr>\n",
              "      <th>6</th>\n",
              "      <td>October 27th, 2022</td>\n",
              "      <td>January 27th, 2023</td>\n",
              "      <td>70000.0</td>\n",
              "    </tr>\n",
              "    <tr>\n",
              "      <th>7</th>\n",
              "      <td>January 27th, 2023</td>\n",
              "      <td>April 27th, 2023</td>\n",
              "      <td>65000.0</td>\n",
              "    </tr>\n",
              "    <tr>\n",
              "      <th>8</th>\n",
              "      <td>April 27th, 2023</td>\n",
              "      <td>July 27th, 2023</td>\n",
              "      <td>60000.0</td>\n",
              "    </tr>\n",
              "    <tr>\n",
              "      <th>9</th>\n",
              "      <td>July 27th, 2023</td>\n",
              "      <td>October 27th, 2023</td>\n",
              "      <td>55000.0</td>\n",
              "    </tr>\n",
              "    <tr>\n",
              "      <th>10</th>\n",
              "      <td>October 27th, 2023</td>\n",
              "      <td>January 29th, 2024</td>\n",
              "      <td>50000.0</td>\n",
              "    </tr>\n",
              "    <tr>\n",
              "      <th>11</th>\n",
              "      <td>January 29th, 2024</td>\n",
              "      <td>April 29th, 2024</td>\n",
              "      <td>45000.0</td>\n",
              "    </tr>\n",
              "    <tr>\n",
              "      <th>12</th>\n",
              "      <td>April 29th, 2024</td>\n",
              "      <td>July 29th, 2024</td>\n",
              "      <td>40000.0</td>\n",
              "    </tr>\n",
              "    <tr>\n",
              "      <th>13</th>\n",
              "      <td>July 29th, 2024</td>\n",
              "      <td>October 28th, 2024</td>\n",
              "      <td>35000.0</td>\n",
              "    </tr>\n",
              "    <tr>\n",
              "      <th>14</th>\n",
              "      <td>October 28th, 2024</td>\n",
              "      <td>January 27th, 2025</td>\n",
              "      <td>30000.0</td>\n",
              "    </tr>\n",
              "    <tr>\n",
              "      <th>15</th>\n",
              "      <td>January 27th, 2025</td>\n",
              "      <td>April 28th, 2025</td>\n",
              "      <td>25000.0</td>\n",
              "    </tr>\n",
              "    <tr>\n",
              "      <th>16</th>\n",
              "      <td>April 28th, 2025</td>\n",
              "      <td>July 28th, 2025</td>\n",
              "      <td>20000.0</td>\n",
              "    </tr>\n",
              "    <tr>\n",
              "      <th>17</th>\n",
              "      <td>July 28th, 2025</td>\n",
              "      <td>October 27th, 2025</td>\n",
              "      <td>15000.0</td>\n",
              "    </tr>\n",
              "    <tr>\n",
              "      <th>18</th>\n",
              "      <td>October 27th, 2025</td>\n",
              "      <td>January 27th, 2026</td>\n",
              "      <td>10000.0</td>\n",
              "    </tr>\n",
              "    <tr>\n",
              "      <th>19</th>\n",
              "      <td>January 27th, 2026</td>\n",
              "      <td>April 27th, 2026</td>\n",
              "      <td>5000.0</td>\n",
              "    </tr>\n",
              "  </tbody>\n",
              "</table>\n",
              "</div>"
            ],
            "text/plain": [
              "             startdate             enddate  Debito Residuo\n",
              "0     April 27th, 2021     July 27th, 2021        100000.0\n",
              "1      July 27th, 2021  October 27th, 2021         95000.0\n",
              "2   October 27th, 2021  January 27th, 2022         90000.0\n",
              "3   January 27th, 2022    April 27th, 2022         85000.0\n",
              "4     April 27th, 2022     July 27th, 2022         80000.0\n",
              "5      July 27th, 2022  October 27th, 2022         75000.0\n",
              "6   October 27th, 2022  January 27th, 2023         70000.0\n",
              "7   January 27th, 2023    April 27th, 2023         65000.0\n",
              "8     April 27th, 2023     July 27th, 2023         60000.0\n",
              "9      July 27th, 2023  October 27th, 2023         55000.0\n",
              "10  October 27th, 2023  January 29th, 2024         50000.0\n",
              "11  January 29th, 2024    April 29th, 2024         45000.0\n",
              "12    April 29th, 2024     July 29th, 2024         40000.0\n",
              "13     July 29th, 2024  October 28th, 2024         35000.0\n",
              "14  October 28th, 2024  January 27th, 2025         30000.0\n",
              "15  January 27th, 2025    April 28th, 2025         25000.0\n",
              "16    April 28th, 2025     July 28th, 2025         20000.0\n",
              "17     July 28th, 2025  October 27th, 2025         15000.0\n",
              "18  October 27th, 2025  January 27th, 2026         10000.0\n",
              "19  January 27th, 2026    April 27th, 2026          5000.0"
            ]
          },
          "metadata": {
            "tags": []
          },
          "execution_count": 112
        }
      ]
    },
    {
      "cell_type": "markdown",
      "metadata": {
        "id": "JSYsxMdZdgil"
      },
      "source": [
        "**Ammortamento** **Bullet**"
      ]
    },
    {
      "cell_type": "code",
      "metadata": {
        "id": "C_71izeXNPAZ"
      },
      "source": [
        "Residuo_bullet=notional\n",
        "tot_I_bullet=0\n",
        "plan_bullet=np.array\n",
        "plan_bullet=[[0,0,Residuo_bullet]]\n",
        "rate_bullet=range(0,rate_totali)\n",
        "for count in rate_bullet:\n",
        "  Int_quota_bullet=round(Residuo_bullet*amortization_rate/(12/tenor),2)\n",
        "  tot_I_bullet=(tot_I_bullet+Int_quota_bullet)\n",
        "  plan_bullet.append([Int_quota_bullet,tot_I_bullet,Residuo_bullet])\n",
        "index=['Quota Interesse','Interessi Totali','Debito Residuo']\n",
        "df_bullet=pd.DataFrame(plan_bullet)\n",
        "df_bullet.columns=index\n",
        "df1_bullet=pd.concat([df,df_bullet],axis=1)\n",
        "df2_bullet=pd.concat([df,df_bullet['Debito Residuo']],axis=1)\n",
        "df2_bullet=df2_bullet[:-1]"
      ],
      "execution_count": 114,
      "outputs": []
    },
    {
      "cell_type": "code",
      "metadata": {
        "id": "_JZeAYb4NRzv"
      },
      "source": [
        "index=['Quota Interesse','Interessi Totali','Debito Residuo']\n",
        "df_bullet=pd.DataFrame(plan_bullet)\n",
        "df_bullet.columns=index\n",
        "df1_bullet=pd.concat([df,df_bullet],axis=1)\n",
        "df2_bullet=pd.concat([df,df_bullet['Debito Residuo']],axis=1)\n",
        "df2_bullet=df2_bullet[:-1]"
      ],
      "execution_count": 115,
      "outputs": []
    },
    {
      "cell_type": "markdown",
      "metadata": {
        "id": "7KB1uc5ie8zq"
      },
      "source": [
        "**Output del Modello**"
      ]
    },
    {
      "cell_type": "code",
      "metadata": {
        "id": "u0RlzA61NUG1"
      },
      "source": [
        "if (amortization_type== 'Francese'):\n",
        "  print (df2)\n",
        "elif (amortization_type == 'Italiano'):\n",
        "  print (df2_ita)\n",
        "elif (amortization_type == 'Bullet'):\n",
        "  print (df2_bullet)"
      ],
      "execution_count": null,
      "outputs": []
    },
    {
      "cell_type": "code",
      "metadata": {
        "id": "UpJCITElOsge"
      },
      "source": [
        "market_data_path = '/content/drive/MyDrive/data.xlsx'\n",
        "fixed_rates = pd.read_excel(market_data_path, sheet_name='fixings')\n",
        "estimation_rate = pd.read_excel(market_data_path, sheet_name='estimation')\n",
        "discount_rate = pd.read_excel(market_data_path, sheet_name='discount')"
      ],
      "execution_count": 56,
      "outputs": []
    },
    {
      "cell_type": "code",
      "metadata": {
        "id": "LKHkWwrFjqEp"
      },
      "source": [
        "class IRS:\n",
        "\n",
        "  def __init__(self, leg1_name = 'Receive', leg2_name = 'Pay', leg1_rate_type = 'Fixed', leg2_rate_type = 'Floating'):\n",
        "\n",
        "    self.start_date = None\n",
        "    self.leg1_flows = pd.DataFrame\n",
        "    self.leg2_flows = pd.DataFrame\n",
        "    self.leg1_name = leg1_name\n",
        "    self.leg2_name = leg2_name\n",
        "    self.leg1_rate_type = leg1_rate_type  \n",
        "    self.leg2_rate_type = leg2_rate_type\n",
        "    self.npv = None"
      ],
      "execution_count": 57,
      "outputs": []
    },
    {
      "cell_type": "code",
      "metadata": {
        "id": "pLPr1-8wj5Q6"
      },
      "source": [
        "def submit(path,\n",
        "           underlying,\n",
        "           amortization_type,\n",
        "           notional,\n",
        "           amortization_rate,\n",
        "           maturity_label,\n",
        "           ref_date,\n",
        "           tenor,\n",
        "           business_convention,\n",
        "           date_gen_rule,\n",
        "           currency = 'EUR',\n",
        "           calendar = TARGET(),\n",
        "           end_of_month = False,\n",
        "           deduction_formula = '-1M LBD/-1BD',\n",
        "           day_count = Actual360):\n",
        "\n",
        "  irs = IRS()"
      ],
      "execution_count": 58,
      "outputs": []
    },
    {
      "cell_type": "code",
      "metadata": {
        "id": "gB3NlZSBj6Jq"
      },
      "source": [
        "submit(path = market_data_path, underlying = underlying, amortization_type = amortization_type, notional = notional, amortization_rate = amortization_rate, maturity_label = maturity_label, ref_date = ref_date, tenor = tenor,\n",
        "       business_convention = business_convention, date_gen_rule = date_gen_rule)"
      ],
      "execution_count": 59,
      "outputs": []
    },
    {
      "cell_type": "code",
      "metadata": {
        "id": "ylCY3crlgkvv"
      },
      "source": [
        ""
      ],
      "execution_count": 59,
      "outputs": []
    },
    {
      "cell_type": "code",
      "metadata": {
        "colab": {
          "base_uri": "https://localhost:8080/"
        },
        "id": "foiRxQxzeqZ7",
        "outputId": "d3708abf-d91f-489b-fa8d-e2572bec9e3c"
      },
      "source": [
        "leg_fixed=FixedRateLeg(schedule,Actual360(),[notional],[0.05])\n",
        "for i in leg_fixed:\n",
        "  print(i.date(),i.amount())"
      ],
      "execution_count": 60,
      "outputs": [
        {
          "output_type": "stream",
          "text": [
            "July 27th, 2021 126.38888888888866\n",
            "October 27th, 2021 127.77777777777777\n",
            "January 27th, 2022 127.77777777777777\n",
            "April 27th, 2022 124.99999999999956\n"
          ],
          "name": "stdout"
        }
      ]
    },
    {
      "cell_type": "markdown",
      "metadata": {
        "id": "EVyPfeFKHKlU"
      },
      "source": [
        "prove npv obiettivo\n"
      ]
    },
    {
      "cell_type": "code",
      "metadata": {
        "id": "XpRs7ijktiza",
        "outputId": "2de20bae-3863-4ab4-916b-066119e2128c",
        "colab": {
          "base_uri": "https://localhost:8080/"
        }
      },
      "source": [
        "int_list=list(map(int,df2['Debito Residuo']))\n",
        "int_list"
      ],
      "execution_count": 62,
      "outputs": [
        {
          "output_type": "execute_result",
          "data": {
            "text/plain": [
              "[10000, 7546, 5062, 2546]"
            ]
          },
          "metadata": {
            "tags": []
          },
          "execution_count": 62
        }
      ]
    },
    {
      "cell_type": "code",
      "metadata": {
        "colab": {
          "base_uri": "https://localhost:8080/",
          "height": 201
        },
        "id": "CvjUmUdoWpFB",
        "outputId": "d2ba5d6c-7c9d-478a-9fd0-b3b1d7bc0060"
      },
      "source": [
        "df2['aaa']=df2['enddate']-df2['startdate']\n",
        "df2['molt']=df2['Debito Residuo']*df2['aaa']\n",
        "df2['tx']=['molt']*[0.0001]\n"
      ],
      "execution_count": 84,
      "outputs": [
        {
          "output_type": "error",
          "ename": "TypeError",
          "evalue": "ignored",
          "traceback": [
            "\u001b[0;31m---------------------------------------------------------------------------\u001b[0m",
            "\u001b[0;31mTypeError\u001b[0m                                 Traceback (most recent call last)",
            "\u001b[0;32m<ipython-input-84-de5487fa7cc4>\u001b[0m in \u001b[0;36m<module>\u001b[0;34m()\u001b[0m\n\u001b[1;32m      1\u001b[0m \u001b[0mdf2\u001b[0m\u001b[0;34m[\u001b[0m\u001b[0;34m'aaa'\u001b[0m\u001b[0;34m]\u001b[0m\u001b[0;34m=\u001b[0m\u001b[0mdf2\u001b[0m\u001b[0;34m[\u001b[0m\u001b[0;34m'enddate'\u001b[0m\u001b[0;34m]\u001b[0m\u001b[0;34m-\u001b[0m\u001b[0mdf2\u001b[0m\u001b[0;34m[\u001b[0m\u001b[0;34m'startdate'\u001b[0m\u001b[0;34m]\u001b[0m\u001b[0;34m\u001b[0m\u001b[0;34m\u001b[0m\u001b[0m\n\u001b[1;32m      2\u001b[0m \u001b[0mdf2\u001b[0m\u001b[0;34m[\u001b[0m\u001b[0;34m'molt'\u001b[0m\u001b[0;34m]\u001b[0m\u001b[0;34m=\u001b[0m\u001b[0mdf2\u001b[0m\u001b[0;34m[\u001b[0m\u001b[0;34m'Debito Residuo'\u001b[0m\u001b[0;34m]\u001b[0m\u001b[0;34m*\u001b[0m\u001b[0mdf2\u001b[0m\u001b[0;34m[\u001b[0m\u001b[0;34m'aaa'\u001b[0m\u001b[0;34m]\u001b[0m\u001b[0;34m\u001b[0m\u001b[0;34m\u001b[0m\u001b[0m\n\u001b[0;32m----> 3\u001b[0;31m \u001b[0mdf2\u001b[0m\u001b[0;34m[\u001b[0m\u001b[0;34m'tx'\u001b[0m\u001b[0;34m]\u001b[0m\u001b[0;34m=\u001b[0m\u001b[0;34m[\u001b[0m\u001b[0;34m'molt'\u001b[0m\u001b[0;34m]\u001b[0m\u001b[0;34m*\u001b[0m\u001b[0;34m[\u001b[0m\u001b[0;36m0.0001\u001b[0m\u001b[0;34m]\u001b[0m\u001b[0;34m\u001b[0m\u001b[0;34m\u001b[0m\u001b[0m\n\u001b[0m",
            "\u001b[0;31mTypeError\u001b[0m: can't multiply sequence by non-int of type 'list'"
          ]
        }
      ]
    },
    {
      "cell_type": "code",
      "metadata": {
        "id": "YskTH9EcTLkl"
      },
      "source": [
        ""
      ],
      "execution_count": null,
      "outputs": []
    }
  ]
}