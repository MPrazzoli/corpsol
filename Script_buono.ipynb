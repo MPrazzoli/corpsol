{
  "nbformat": 4,
  "nbformat_minor": 0,
  "metadata": {
    "colab": {
      "name": "Script buono.ipynb",
      "provenance": [],
      "collapsed_sections": [],
      "include_colab_link": true
    },
    "kernelspec": {
      "name": "python3",
      "display_name": "Python 3"
    },
    "language_info": {
      "name": "python"
    }
  },
  "cells": [
    {
      "cell_type": "markdown",
      "metadata": {
        "id": "view-in-github",
        "colab_type": "text"
      },
      "source": [
        "<a href=\"https://colab.research.google.com/github/MPrazzoli/corpsol/blob/main/Script_buono.ipynb\" target=\"_parent\"><img src=\"https://colab.research.google.com/assets/colab-badge.svg\" alt=\"Open In Colab\"/></a>"
      ]
    },
    {
      "cell_type": "code",
      "metadata": {
        "colab": {
          "base_uri": "https://localhost:8080/"
        },
        "id": "72XW5NkYLNrF",
        "outputId": "c1d11b85-5c9b-4c8a-fd7f-9098323996f1"
      },
      "source": [
        "from google.colab import drive\n",
        "drive.mount('/content/drive')"
      ],
      "execution_count": 3,
      "outputs": [
        {
          "output_type": "stream",
          "text": [
            "Drive already mounted at /content/drive; to attempt to forcibly remount, call drive.mount(\"/content/drive\", force_remount=True).\n"
          ],
          "name": "stdout"
        }
      ]
    },
    {
      "cell_type": "code",
      "metadata": {
        "colab": {
          "base_uri": "https://localhost:8080/"
        },
        "id": "SfXKlWc1LSdX",
        "outputId": "d7ab15d2-df85-4a36-c9b7-9a35e9c4614c"
      },
      "source": [
        "pip install QuantLib"
      ],
      "execution_count": 4,
      "outputs": [
        {
          "output_type": "stream",
          "text": [
            "Requirement already satisfied: QuantLib in /usr/local/lib/python3.7/dist-packages (1.22)\n"
          ],
          "name": "stdout"
        }
      ]
    },
    {
      "cell_type": "code",
      "metadata": {
        "id": "pIeewTMPLWZB"
      },
      "source": [
        "import os\n",
        "from math import *\n",
        "import numpy as np\n",
        "import pandas as pd\n",
        "from QuantLib import *\n",
        "from datetime import date, datetime\n",
        "\n",
        "path = '/content/drive/MyDrive/data.xlsx'"
      ],
      "execution_count": 5,
      "outputs": []
    },
    {
      "cell_type": "markdown",
      "metadata": {
        "id": "wJ3grH5reCNf"
      },
      "source": [
        "***Inserimento degli Input***"
      ]
    },
    {
      "cell_type": "code",
      "metadata": {
        "id": "g9y53J8KMdhl",
        "colab": {
          "base_uri": "https://localhost:8080/"
        },
        "outputId": "90982638-ea25-45f9-cbf9-f7c300d5c0dd"
      },
      "source": [
        "try:\n",
        "  underlying = input('Inserire il sottostante: ')\n",
        "  if underlying == '':\n",
        "    underlying = 'EUR3M'\n",
        "except:\n",
        "  underlying = 'EUR3M'\n",
        "\n",
        "try:\n",
        "  amortization_type = input('Inserire il piano di ammortamento: ')\n",
        "  if amortization_type == '':\n",
        "    amortization_type = 'Bullet'\n",
        "except:\n",
        "  amortization_type = 'Bullet'\n",
        "\n",
        "try:\n",
        "  notional = float(input('Inserire il nozionale: '))\n",
        "except:\n",
        "  notional = 100000.0\n",
        "\n",
        "try:\n",
        "  amortization_rate = float(input('Inserire il tasso annuo: '))\n",
        "except:\n",
        "  amortization_rate = .05\n",
        "\n",
        "try:\n",
        "  maturity_label = input('Inserire la durata del finanziamento in label (\"M\" per i mesi e \"Y\" per gli anni): ')\n",
        "  if maturity_label == '':\n",
        "     maturity_label = '5Y'\n",
        "except:\n",
        "  maturity_label = '5Y'\n",
        "\n",
        "try:\n",
        "  ref_date = Date(input('Inserire la data iniziale del finanziamento in formato dd/mm/yyyy: '),'%d/%m/%Y')\n",
        "  if ref_date == '':\n",
        "    ref_date = Date(date.today().day,date.today().month,date.today().year)\n",
        "except:\n",
        "  ref_date = Date(date.today().day,date.today().month,date.today().year)\n",
        "\n",
        "try:\n",
        "  tenor = int(input('Inserire il periodo che intercorre tra le rate in numero di mesi: '))\n",
        "except:\n",
        "  tenor = 3\n",
        "\n",
        "try:\n",
        "  business_convention = input('Inserire la convenzione:')\n",
        "  if business_convention == '' or business_convention == 'ModifiedFollowing':\n",
        "    business_convention = ModifiedFollowing\n",
        "except:\n",
        "  business_convention = ModifiedFollowing\n",
        "\n",
        "try:\n",
        "  date_gen_rule = input('Inserire la regola per il calcolo delle date:')\n",
        "  if date_gen_rule == '' or date_gen_rule == 'Forward':\n",
        "    date_gen_rule = DateGeneration.Forward\n",
        "  else: \n",
        "    date_gen_rule = DateGeneration.Backward\n",
        "except:\n",
        "  date_gen_rule = DateGeneration.Forward"
      ],
      "execution_count": 6,
      "outputs": [
        {
          "output_type": "stream",
          "text": [
            "Inserire il sottostante: \n",
            "Inserire il piano di ammortamento: \n",
            "Inserire il nozionale: \n",
            "Inserire il tasso annuo: \n",
            "Inserire la durata del finanziamento in label (\"M\" per i mesi e \"Y\" per gli anni): \n",
            "Inserire la data iniziale del finanziamento in formato dd/mm/yyyy: \n",
            "Inserire il periodo che intercorre tra le rate in numero di mesi: \n",
            "Inserire la convenzione:\n",
            "Inserire la regola per il calcolo delle date:\n"
          ],
          "name": "stdout"
        }
      ]
    },
    {
      "cell_type": "markdown",
      "metadata": {
        "id": "xBE5FxJ-R1zy"
      },
      "source": [
        "***Schedule Date***"
      ]
    },
    {
      "cell_type": "code",
      "metadata": {
        "id": "FzIjsLQyMswX"
      },
      "source": [
        "calendar = TARGET()\n",
        "start_date = calendar.advance(ref_date,2,Days)\n",
        "if maturity_label[-1] == 'M':\n",
        "    maturity_date = calendar.advance(start_date, int(maturity_label.rsplit(maturity_label[-1], 1)[0]), Months)\n",
        "elif maturity_label[-1] == 'Y':\n",
        "    maturity_date = calendar.advance(start_date, int(maturity_label.rsplit(maturity_label[-1], 1)[0]), Years)\n",
        "Tenor = Period(tenor, Months)\n",
        "endofmonth = False\n",
        "terminationDateConvention = business_convention\n",
        "df = pd.DataFrame({'startdate':list(Schedule(start_date,maturity_date,Tenor,calendar,business_convention,terminationDateConvention,date_gen_rule,endofmonth))[:-1],'enddate':list(Schedule(start_date,maturity_date,Tenor,calendar,business_convention,terminationDateConvention,date_gen_rule,endofmonth))[1:]})"
      ],
      "execution_count": 7,
      "outputs": []
    },
    {
      "cell_type": "code",
      "metadata": {
        "id": "uJru00VGSKmz"
      },
      "source": [
        "# Calcolo numero delle rate totali dell'ammortamento\n",
        "if maturity_label[-1] == 'M':\n",
        "  rate_totali = int(12/tenor)\n",
        "elif maturity_label[-1] == 'Y':\n",
        "  rate_totali = int((12/tenor) * int(maturity_label.rsplit(maturity_label[-1], 1)[0]))"
      ],
      "execution_count": 8,
      "outputs": []
    },
    {
      "cell_type": "markdown",
      "metadata": {
        "id": "kkpXAwHuTY28"
      },
      "source": [
        "***Ammortamento Francese***"
      ]
    },
    {
      "cell_type": "code",
      "metadata": {
        "id": "HMcchmnQBqba"
      },
      "source": [
        "def ammortamento_francese(amortization_rate,tenor,rate_totali,notional):\n",
        "  \n",
        "  t = (1 + amortization_rate / (12 / tenor)) ** rate_totali\n",
        "  rata_fra = round(notional * t * (amortization_rate / (12 / tenor)) / (t - 1),2)\n",
        "  Residuo_fra = notional\n",
        "  Estinto_fra = 0\n",
        "  tot_I_fra = 0\n",
        "  plan_fra = np.array\n",
        "  plan_fra = [[0,0,0,0,0, Residuo_fra]]\n",
        "  rate_fra = range(0, rate_totali)\n",
        "  for count in rate_fra:\n",
        "    Int_quota_fra = round(Residuo_fra * (amortization_rate*(tenor/12)),2)\n",
        "    Cap_quota_fra = (rata_fra - Int_quota_fra)\n",
        "    tot_I_fra = (tot_I_fra + Int_quota_fra)\n",
        "    Residuo_fra = (Residuo_fra - Cap_quota_fra)\n",
        "    Estinto_fra = (Estinto_fra + Cap_quota_fra)\n",
        "    Tot_fra = (Int_quota_fra + Cap_quota_fra)\n",
        "    plan.append([Int_quota_fra, Cap_quota_fra, Tot_fra, tot_I_fra, Estinto_fra, Residuo_fra])\n",
        "  index = ['Quota Interesse','Quota Capitale','Rata','Interessi Totali','Debito Estinto','Debito Residuo']\n",
        "  df_fra = pd.DataFrame(plan_fra)\n",
        "  df_fra.columns = index\n",
        "  df1_fra = pd.concat([df,df_fra], axis=1)\n",
        "  df2_fra = pd.concat([df,df_fra['Debito Residuo']], axis=1)[:-1]\n",
        "\n",
        "  return (df2_fra)"
      ],
      "execution_count": 9,
      "outputs": []
    },
    {
      "cell_type": "markdown",
      "metadata": {
        "id": "Cudf7OtKTegK"
      },
      "source": [
        "***Ammortamento Italiano***\n"
      ]
    },
    {
      "cell_type": "code",
      "metadata": {
        "id": "2Ui5Ok7bJEW9"
      },
      "source": [
        "def ammortamento_italiano(amortization_rate,tenor,rate_totali, notional):\n",
        "\n",
        "  Residuo_ita = notional\n",
        "  tot_I_ita = 0\n",
        "  Estinto_ita = 0\n",
        "  Tot_ita = 0\n",
        "  plan_ita = np.array\n",
        "  plan_ita = [[0,0,0,0,0,Residuo_ita]]\n",
        "  rate_ita = range(0,rate_totali)\n",
        "  for count in rate_ita:\n",
        "    Int_quota_ita = round(Residuo_ita*amortization_rate/(12/tenor),2)\n",
        "    Cap_quota_ita = round((notional/rate_totali),2)\n",
        "    tot_I_ita = (tot_I_ita + Int_quota_ita)\n",
        "    Residuo_ita = (Residuo_ita - Cap_quota_ita)\n",
        "    Estinto_ita = (Estinto_ita + Cap_quota_ita)\n",
        "    Tot_ita = (Int_quota_ita + Cap_quota_ita)\n",
        "    plan_ita.append([Int_quota_ita,Cap_quota_ita,Tot_ita,tot_I_ita,Estinto_ita,Residuo_ita])\n",
        "  index = ['Quota Interesse','Quota Capitale','Rata','Interessi Totali','Debito Estinto','Debito Residuo']\n",
        "  df_ita = pd.DataFrame(plan_ita)\n",
        "  df_ita.columns=index\n",
        "  df1_ita = pd.concat([df,df_ita],axis=1)\n",
        "  df2_ita = pd.concat([df,df_ita['Debito Residuo']],axis=1)[:-1]\n",
        "  \n",
        "  return (df2_ita)\n",
        "  "
      ],
      "execution_count": 10,
      "outputs": []
    },
    {
      "cell_type": "markdown",
      "metadata": {
        "id": "UHNkvQf0TltB"
      },
      "source": [
        "***Ammortamento Bullet***\n"
      ]
    },
    {
      "cell_type": "code",
      "metadata": {
        "id": "mTzkKE2aKAU_"
      },
      "source": [
        "def ammortamento_bullet(amortization_rate,tenor,rate_totali, notional):\n",
        "\n",
        "  Residuo_bullet = notional\n",
        "  tot_I_bullet = 0\n",
        "  plan_bullet = np.array\n",
        "  plan_bullet = [[0,0,Residuo_bullet]]\n",
        "  rate_bullet = range(0,rate_totali)\n",
        "  for count in rate_bullet:\n",
        "    Int_quota_bullet = round(Residuo_bullet*amortization_rate/(12/tenor),2)\n",
        "    tot_I_bullet = (tot_I_bullet+Int_quota_bullet)\n",
        "    plan_bullet.append([Int_quota_bullet,tot_I_bullet,Residuo_bullet])\n",
        "  index = ['Quota Interesse','Interessi Totali','Debito Residuo']\n",
        "  df_bullet = pd.DataFrame(plan_bullet)\n",
        "  df_bullet.columns = index\n",
        "  df1_bullet = pd.concat([df,df_bullet],axis=1)\n",
        "  df2_bullet = pd.concat([df,df_bullet['Debito Residuo']],axis=1)\n",
        "  df2_bullet = df2_bullet[:-1]\n",
        "  \n",
        "  return (df2_bullet)"
      ],
      "execution_count": 11,
      "outputs": []
    },
    {
      "cell_type": "markdown",
      "metadata": {
        "id": "_TF0PhLvTqbN"
      },
      "source": [
        "***Output del Modello***\n"
      ]
    },
    {
      "cell_type": "code",
      "metadata": {
        "id": "c_c10rotKcxN",
        "colab": {
          "base_uri": "https://localhost:8080/"
        },
        "outputId": "fbebbbbc-3732-4592-bd80-0fda9cb2285b"
      },
      "source": [
        "if (amortization_type == 'Francese'):\n",
        "  df_output = (ammortamento_francese(amortization_rate,tenor,rate_totali,notional))\n",
        "elif (amortization_type == 'Italiano'):\n",
        "  df_output = (ammortamento_italiano(amortization_rate,tenor,rate_totali,notional))\n",
        "elif (amortization_type == 'Bullet'):\n",
        "  df_output = (ammortamento_bullet(amortization_rate,tenor,rate_totali,notional))\n",
        "  \n",
        "print (df_output)"
      ],
      "execution_count": 12,
      "outputs": [
        {
          "output_type": "stream",
          "text": [
            "             startdate             enddate  Debito Residuo\n",
            "0        May 4th, 2021    August 4th, 2021        100000.0\n",
            "1     August 4th, 2021  November 4th, 2021        100000.0\n",
            "2   November 4th, 2021  February 4th, 2022        100000.0\n",
            "3   February 4th, 2022       May 4th, 2022        100000.0\n",
            "4        May 4th, 2022    August 4th, 2022        100000.0\n",
            "5     August 4th, 2022  November 4th, 2022        100000.0\n",
            "6   November 4th, 2022  February 6th, 2023        100000.0\n",
            "7   February 6th, 2023       May 4th, 2023        100000.0\n",
            "8        May 4th, 2023    August 4th, 2023        100000.0\n",
            "9     August 4th, 2023  November 6th, 2023        100000.0\n",
            "10  November 6th, 2023  February 5th, 2024        100000.0\n",
            "11  February 5th, 2024       May 6th, 2024        100000.0\n",
            "12       May 6th, 2024    August 5th, 2024        100000.0\n",
            "13    August 5th, 2024  November 4th, 2024        100000.0\n",
            "14  November 4th, 2024  February 4th, 2025        100000.0\n",
            "15  February 4th, 2025       May 5th, 2025        100000.0\n",
            "16       May 5th, 2025    August 4th, 2025        100000.0\n",
            "17    August 4th, 2025  November 4th, 2025        100000.0\n",
            "18  November 4th, 2025  February 4th, 2026        100000.0\n",
            "19  February 4th, 2026       May 4th, 2026        100000.0\n"
          ],
          "name": "stdout"
        }
      ]
    },
    {
      "cell_type": "markdown",
      "metadata": {
        "id": "5BYIvyNRA4fC"
      },
      "source": [
        "***Calcolo delle Fixing Date***"
      ]
    },
    {
      "cell_type": "code",
      "metadata": {
        "colab": {
          "base_uri": "https://localhost:8080/"
        },
        "id": "Jn4WsX9RxFOt",
        "outputId": "ee88b67a-58b4-44d1-e0f6-67947eec883f"
      },
      "source": [
        "try:\n",
        "  rule_fixing = input('Inserire la regola per le fixing date: ')\n",
        "  if rule_fixing == '':\n",
        "     rule_fixing = '-2BD'\n",
        "except:\n",
        "  rule_fixing = '-2BD'"
      ],
      "execution_count": 13,
      "outputs": [
        {
          "output_type": "stream",
          "text": [
            "Inserire la regola per le fixing date: \n"
          ],
          "name": "stdout"
        }
      ]
    },
    {
      "cell_type": "code",
      "metadata": {
        "id": "euExlataCQpp",
        "colab": {
          "base_uri": "https://localhost:8080/"
        },
        "outputId": "ba47bc07-db94-4ad7-8c41-da05b9e1a99e"
      },
      "source": [
        "column_list = ['fixing date','fixing start','fixing end']\n",
        "for col in column_list:\n",
        "  df_output[col] = np.zeros\n",
        "\n",
        "for i, date in enumerate(df_output['startdate']):\n",
        "  if rule_fixing == '-2BD':\n",
        "    date_fix = calendar.advance(date, -2, Days)\n",
        "  else:\n",
        "    date_fix = calendar.advance(date, -1, Months)\n",
        "    date_fix = calendar.endOfMonth(date_fix)\n",
        "    date_fix = calendar.advance(date_fix, -1, Days)\n",
        "\n",
        "  df_output['fixing date'].iloc[i] = date_fix\n",
        "  df_output['fixing start'].iloc[i] = calendar.advance(date_fix, 2, Days)\n",
        "for t, date in enumerate(df_output['fixing start']):\n",
        "  df_output['fixing end'].iloc[t] = calendar.advance(date, tenor, Months, ModifiedFollowing)\n"
      ],
      "execution_count": 14,
      "outputs": [
        {
          "output_type": "stream",
          "text": [
            "/usr/local/lib/python3.7/dist-packages/pandas/core/indexing.py:670: SettingWithCopyWarning: \n",
            "A value is trying to be set on a copy of a slice from a DataFrame\n",
            "\n",
            "See the caveats in the documentation: https://pandas.pydata.org/pandas-docs/stable/user_guide/indexing.html#returning-a-view-versus-a-copy\n",
            "  iloc._setitem_with_indexer(indexer, value)\n"
          ],
          "name": "stderr"
        }
      ]
    },
    {
      "cell_type": "code",
      "metadata": {
        "colab": {
          "base_uri": "https://localhost:8080/",
          "height": 669
        },
        "id": "KFLafbp4AX_3",
        "outputId": "ff20b29e-0720-4c07-b8d5-973d554a3623"
      },
      "source": [
        "df_output"
      ],
      "execution_count": 15,
      "outputs": [
        {
          "output_type": "execute_result",
          "data": {
            "text/html": [
              "<div>\n",
              "<style scoped>\n",
              "    .dataframe tbody tr th:only-of-type {\n",
              "        vertical-align: middle;\n",
              "    }\n",
              "\n",
              "    .dataframe tbody tr th {\n",
              "        vertical-align: top;\n",
              "    }\n",
              "\n",
              "    .dataframe thead th {\n",
              "        text-align: right;\n",
              "    }\n",
              "</style>\n",
              "<table border=\"1\" class=\"dataframe\">\n",
              "  <thead>\n",
              "    <tr style=\"text-align: right;\">\n",
              "      <th></th>\n",
              "      <th>startdate</th>\n",
              "      <th>enddate</th>\n",
              "      <th>Debito Residuo</th>\n",
              "      <th>fixing date</th>\n",
              "      <th>fixing start</th>\n",
              "      <th>fixing end</th>\n",
              "    </tr>\n",
              "  </thead>\n",
              "  <tbody>\n",
              "    <tr>\n",
              "      <th>0</th>\n",
              "      <td>May 4th, 2021</td>\n",
              "      <td>August 4th, 2021</td>\n",
              "      <td>100000.0</td>\n",
              "      <td>April 30th, 2021</td>\n",
              "      <td>May 4th, 2021</td>\n",
              "      <td>August 4th, 2021</td>\n",
              "    </tr>\n",
              "    <tr>\n",
              "      <th>1</th>\n",
              "      <td>August 4th, 2021</td>\n",
              "      <td>November 4th, 2021</td>\n",
              "      <td>100000.0</td>\n",
              "      <td>August 2nd, 2021</td>\n",
              "      <td>August 4th, 2021</td>\n",
              "      <td>November 4th, 2021</td>\n",
              "    </tr>\n",
              "    <tr>\n",
              "      <th>2</th>\n",
              "      <td>November 4th, 2021</td>\n",
              "      <td>February 4th, 2022</td>\n",
              "      <td>100000.0</td>\n",
              "      <td>November 2nd, 2021</td>\n",
              "      <td>November 4th, 2021</td>\n",
              "      <td>February 4th, 2022</td>\n",
              "    </tr>\n",
              "    <tr>\n",
              "      <th>3</th>\n",
              "      <td>February 4th, 2022</td>\n",
              "      <td>May 4th, 2022</td>\n",
              "      <td>100000.0</td>\n",
              "      <td>February 2nd, 2022</td>\n",
              "      <td>February 4th, 2022</td>\n",
              "      <td>May 4th, 2022</td>\n",
              "    </tr>\n",
              "    <tr>\n",
              "      <th>4</th>\n",
              "      <td>May 4th, 2022</td>\n",
              "      <td>August 4th, 2022</td>\n",
              "      <td>100000.0</td>\n",
              "      <td>May 2nd, 2022</td>\n",
              "      <td>May 4th, 2022</td>\n",
              "      <td>August 4th, 2022</td>\n",
              "    </tr>\n",
              "    <tr>\n",
              "      <th>5</th>\n",
              "      <td>August 4th, 2022</td>\n",
              "      <td>November 4th, 2022</td>\n",
              "      <td>100000.0</td>\n",
              "      <td>August 2nd, 2022</td>\n",
              "      <td>August 4th, 2022</td>\n",
              "      <td>November 4th, 2022</td>\n",
              "    </tr>\n",
              "    <tr>\n",
              "      <th>6</th>\n",
              "      <td>November 4th, 2022</td>\n",
              "      <td>February 6th, 2023</td>\n",
              "      <td>100000.0</td>\n",
              "      <td>November 2nd, 2022</td>\n",
              "      <td>November 4th, 2022</td>\n",
              "      <td>February 6th, 2023</td>\n",
              "    </tr>\n",
              "    <tr>\n",
              "      <th>7</th>\n",
              "      <td>February 6th, 2023</td>\n",
              "      <td>May 4th, 2023</td>\n",
              "      <td>100000.0</td>\n",
              "      <td>February 2nd, 2023</td>\n",
              "      <td>February 6th, 2023</td>\n",
              "      <td>May 8th, 2023</td>\n",
              "    </tr>\n",
              "    <tr>\n",
              "      <th>8</th>\n",
              "      <td>May 4th, 2023</td>\n",
              "      <td>August 4th, 2023</td>\n",
              "      <td>100000.0</td>\n",
              "      <td>May 2nd, 2023</td>\n",
              "      <td>May 4th, 2023</td>\n",
              "      <td>August 4th, 2023</td>\n",
              "    </tr>\n",
              "    <tr>\n",
              "      <th>9</th>\n",
              "      <td>August 4th, 2023</td>\n",
              "      <td>November 6th, 2023</td>\n",
              "      <td>100000.0</td>\n",
              "      <td>August 2nd, 2023</td>\n",
              "      <td>August 4th, 2023</td>\n",
              "      <td>November 6th, 2023</td>\n",
              "    </tr>\n",
              "    <tr>\n",
              "      <th>10</th>\n",
              "      <td>November 6th, 2023</td>\n",
              "      <td>February 5th, 2024</td>\n",
              "      <td>100000.0</td>\n",
              "      <td>November 2nd, 2023</td>\n",
              "      <td>November 6th, 2023</td>\n",
              "      <td>February 6th, 2024</td>\n",
              "    </tr>\n",
              "    <tr>\n",
              "      <th>11</th>\n",
              "      <td>February 5th, 2024</td>\n",
              "      <td>May 6th, 2024</td>\n",
              "      <td>100000.0</td>\n",
              "      <td>February 1st, 2024</td>\n",
              "      <td>February 5th, 2024</td>\n",
              "      <td>May 6th, 2024</td>\n",
              "    </tr>\n",
              "    <tr>\n",
              "      <th>12</th>\n",
              "      <td>May 6th, 2024</td>\n",
              "      <td>August 5th, 2024</td>\n",
              "      <td>100000.0</td>\n",
              "      <td>May 2nd, 2024</td>\n",
              "      <td>May 6th, 2024</td>\n",
              "      <td>August 6th, 2024</td>\n",
              "    </tr>\n",
              "    <tr>\n",
              "      <th>13</th>\n",
              "      <td>August 5th, 2024</td>\n",
              "      <td>November 4th, 2024</td>\n",
              "      <td>100000.0</td>\n",
              "      <td>August 1st, 2024</td>\n",
              "      <td>August 5th, 2024</td>\n",
              "      <td>November 5th, 2024</td>\n",
              "    </tr>\n",
              "    <tr>\n",
              "      <th>14</th>\n",
              "      <td>November 4th, 2024</td>\n",
              "      <td>February 4th, 2025</td>\n",
              "      <td>100000.0</td>\n",
              "      <td>October 31st, 2024</td>\n",
              "      <td>November 4th, 2024</td>\n",
              "      <td>February 4th, 2025</td>\n",
              "    </tr>\n",
              "    <tr>\n",
              "      <th>15</th>\n",
              "      <td>February 4th, 2025</td>\n",
              "      <td>May 5th, 2025</td>\n",
              "      <td>100000.0</td>\n",
              "      <td>January 31st, 2025</td>\n",
              "      <td>February 4th, 2025</td>\n",
              "      <td>May 5th, 2025</td>\n",
              "    </tr>\n",
              "    <tr>\n",
              "      <th>16</th>\n",
              "      <td>May 5th, 2025</td>\n",
              "      <td>August 4th, 2025</td>\n",
              "      <td>100000.0</td>\n",
              "      <td>April 30th, 2025</td>\n",
              "      <td>May 5th, 2025</td>\n",
              "      <td>August 5th, 2025</td>\n",
              "    </tr>\n",
              "    <tr>\n",
              "      <th>17</th>\n",
              "      <td>August 4th, 2025</td>\n",
              "      <td>November 4th, 2025</td>\n",
              "      <td>100000.0</td>\n",
              "      <td>July 31st, 2025</td>\n",
              "      <td>August 4th, 2025</td>\n",
              "      <td>November 4th, 2025</td>\n",
              "    </tr>\n",
              "    <tr>\n",
              "      <th>18</th>\n",
              "      <td>November 4th, 2025</td>\n",
              "      <td>February 4th, 2026</td>\n",
              "      <td>100000.0</td>\n",
              "      <td>October 31st, 2025</td>\n",
              "      <td>November 4th, 2025</td>\n",
              "      <td>February 4th, 2026</td>\n",
              "    </tr>\n",
              "    <tr>\n",
              "      <th>19</th>\n",
              "      <td>February 4th, 2026</td>\n",
              "      <td>May 4th, 2026</td>\n",
              "      <td>100000.0</td>\n",
              "      <td>February 2nd, 2026</td>\n",
              "      <td>February 4th, 2026</td>\n",
              "      <td>May 4th, 2026</td>\n",
              "    </tr>\n",
              "  </tbody>\n",
              "</table>\n",
              "</div>"
            ],
            "text/plain": [
              "             startdate  ...          fixing end\n",
              "0        May 4th, 2021  ...    August 4th, 2021\n",
              "1     August 4th, 2021  ...  November 4th, 2021\n",
              "2   November 4th, 2021  ...  February 4th, 2022\n",
              "3   February 4th, 2022  ...       May 4th, 2022\n",
              "4        May 4th, 2022  ...    August 4th, 2022\n",
              "5     August 4th, 2022  ...  November 4th, 2022\n",
              "6   November 4th, 2022  ...  February 6th, 2023\n",
              "7   February 6th, 2023  ...       May 8th, 2023\n",
              "8        May 4th, 2023  ...    August 4th, 2023\n",
              "9     August 4th, 2023  ...  November 6th, 2023\n",
              "10  November 6th, 2023  ...  February 6th, 2024\n",
              "11  February 5th, 2024  ...       May 6th, 2024\n",
              "12       May 6th, 2024  ...    August 6th, 2024\n",
              "13    August 5th, 2024  ...  November 5th, 2024\n",
              "14  November 4th, 2024  ...  February 4th, 2025\n",
              "15  February 4th, 2025  ...       May 5th, 2025\n",
              "16       May 5th, 2025  ...    August 5th, 2025\n",
              "17    August 4th, 2025  ...  November 4th, 2025\n",
              "18  November 4th, 2025  ...  February 4th, 2026\n",
              "19  February 4th, 2026  ...       May 4th, 2026\n",
              "\n",
              "[20 rows x 6 columns]"
            ]
          },
          "metadata": {
            "tags": []
          },
          "execution_count": 15
        }
      ]
    },
    {
      "cell_type": "markdown",
      "metadata": {
        "id": "yDdsTiDHy6fC"
      },
      "source": [
        "Npv Obiettivo: prova"
      ]
    },
    {
      "cell_type": "code",
      "metadata": {
        "id": "8L9wCvzmhPUN"
      },
      "source": [
        "df_output['differenza_giorni'] = (df_output['enddate'] - df_output['startdate']) / 360\n",
        "df_output['prod'] = (df_output['Debito Residuo'] * df_output['differenza_giorni']) * 0.0001\n",
        "BPV = df_output['prod'].sum()"
      ],
      "execution_count": 16,
      "outputs": []
    },
    {
      "cell_type": "markdown",
      "metadata": {
        "id": "OiIv-g1PVGb5"
      },
      "source": [
        "*Class: Market Data*"
      ]
    },
    {
      "cell_type": "code",
      "metadata": {
        "id": "ubcKXwfkUzeH"
      },
      "source": [
        "class historical_fixed_rate(object):\n",
        "\n",
        "    def __init__(self, name, reference_date = None, currency = None, underlying = None):\n",
        "        \n",
        "        try:\n",
        "            self.reference_date = datetime.strptime(reference_date, '%d/%m/%Y')\n",
        "        except:\n",
        "            self.reference_date = None\n",
        "        \n",
        "        self.name = name\n",
        "        self.currency = currency\n",
        "        self.underlying = underlying\n",
        "        self.historical_fixed_rate_df = pd.DataFrame\n",
        "\n",
        "class zero_curve_rate(object):\n",
        "# chiedere a Mirko l'assegnazione di interp_rule e day_count\n",
        "    def __init__(self, name, reference_date = None, currency = None, underlying = None, interp_rule = None, day_count = None):\n",
        "        \n",
        "        self.name = name\n",
        "        \n",
        "        try:\n",
        "            self.reference_date = datetime.strptime(reference_date, '%d/%m/%Y')\n",
        "        except:\n",
        "            self.reference_date = None\n",
        "      \n",
        "        self.currency = currency\n",
        "        self.underlying = underlying\n",
        "        self.interpolation_rule = interp_rule\n",
        "        self.day_count = day_count\n",
        "        self.zero_curve_rate_df = pd.DataFrame"
      ],
      "execution_count": 17,
      "outputs": []
    },
    {
      "cell_type": "code",
      "metadata": {
        "id": "jpJg4ECuVkwy"
      },
      "source": [
        "def market_data(path):\n",
        "\n",
        "  historical_fixed_rates = historical_fixed_rate(name =\"HISTORICAL RATE\")\n",
        "  historical_fixed_rates.historical_fixed_rate_df = pd.read_excel(path, sheet_name='fixings')\n",
        "\n",
        "  estimation_curve = zero_curve_rate(name='ESTIMATION')\n",
        "  estimation_curve.zero_curve_rate_df = pd.read_excel(path, sheet_name='estimation')\n",
        "\n",
        "  discount_curve = zero_curve_rate(name='DISCOUNT')\n",
        "  discount_curve.zero_curve_rate_df = pd.read_excel(path, sheet_name='discount')\n",
        "\n",
        "  market_data_dict = {'ESTIMATION': estimation_curve, 'DISCOUNT': discount_curve, 'HISTORICAL': historical_fixed_rates}\n",
        "\n",
        "  return(market_data_dict)"
      ],
      "execution_count": 18,
      "outputs": []
    },
    {
      "cell_type": "code",
      "metadata": {
        "id": "fj_O2eTCfWmy",
        "colab": {
          "base_uri": "https://localhost:8080/"
        },
        "outputId": "eaf26d84-2224-4156-c5ae-b680790df988"
      },
      "source": [
        "# converto le date della curva importata in Date quantlib\n",
        "market_dict = market_data(path)\n",
        "for i, d in enumerate(market_dict['ESTIMATION'].zero_curve_rate_df['DATE']):\n",
        "  market_dict['ESTIMATION'].zero_curve_rate_df['DATE'].iloc[i] = Date(d.day,d.month,d.year)"
      ],
      "execution_count": 19,
      "outputs": [
        {
          "output_type": "stream",
          "text": [
            "/usr/local/lib/python3.7/dist-packages/pandas/core/indexing.py:670: SettingWithCopyWarning: \n",
            "A value is trying to be set on a copy of a slice from a DataFrame\n",
            "\n",
            "See the caveats in the documentation: https://pandas.pydata.org/pandas-docs/stable/user_guide/indexing.html#returning-a-view-versus-a-copy\n",
            "  iloc._setitem_with_indexer(indexer, value)\n"
          ],
          "name": "stderr"
        }
      ]
    },
    {
      "cell_type": "code",
      "metadata": {
        "id": "SvOW7GauWabN"
      },
      "source": [
        "# funzione per convertire le Date quantlib in numeri ATTENZIONE RESTITUISCE SEMPRE UNA LISTA!!!\n",
        "def date_to_ordinal(date_to_convert):\n",
        "  date_number = []\n",
        "  if type(date_to_convert) == QuantLib.Date:\n",
        "    date_convert = datetime(date_to_convert.year(),date_to_convert.month(),date_to_convert.dayOfMonth())\n",
        "    date_number.append(date_convert.toordinal())\n",
        "  else:\n",
        "    for i, d in enumerate(date_to_convert):\n",
        "      date_convert = datetime(d.year(), d.month(), d.dayOfMonth())\n",
        "      date_number.append(date_convert.toordinal())\n",
        "  return date_number\n"
      ],
      "execution_count": 20,
      "outputs": []
    },
    {
      "cell_type": "code",
      "metadata": {
        "id": "ayKOBBW5auKm",
        "outputId": "a9fcfd26-f21a-44a3-869a-924b49ae91e7",
        "colab": {
          "base_uri": "https://localhost:8080/"
        }
      },
      "source": [
        "estimation_rate_function(market_dict['ESTIMATION'].zero_curve_rate_df,df_output['fixing start'], df_output['fixing end'], ref_date)"
      ],
      "execution_count": 57,
      "outputs": [
        {
          "output_type": "execute_result",
          "data": {
            "text/plain": [
              "[-5.5240356660239875e-05,\n",
              " -5.6106522573146805e-05,\n",
              " -5.679879367619765e-05,\n",
              " -5.7116508332393655e-05,\n",
              " -5.717741529416867e-05,\n",
              " -5.647563484085408e-05,\n",
              " -5.577164351536035e-05,\n",
              " -5.4140065764167454e-05,\n",
              " -5.285566820788175e-05,\n",
              " -5.122219653154252e-05,\n",
              " -4.9083619561839526e-05,\n",
              " -4.728516161216574e-05,\n",
              " -4.552132578579212e-05,\n",
              " -4.364472259773014e-05,\n",
              " -4.1644742633481385e-05,\n",
              " -3.937225646355458e-05,\n",
              " -3.689382320127205e-05,\n",
              " -3.4362056982860807e-05,\n",
              " -3.1770125038135454e-05,\n",
              " -2.8779493142773805e-05]"
            ]
          },
          "metadata": {
            "tags": []
          },
          "execution_count": 57
        }
      ]
    },
    {
      "cell_type": "code",
      "metadata": {
        "id": "S8aTe-NQhUcP"
      },
      "source": [
        "def rate_interpoletor(interpolation_type, x_interpolation, y_interpolation, date_to_interpolate):\n",
        "    interpolation_object = interpolation_type(x_interpolation, y_interpolation)\n",
        "    rate_interpolated = interpolation_object(date_to_interpolate, allowExtrapolation=True)\n",
        "    return rate_interpolated"
      ],
      "execution_count": 22,
      "outputs": []
    },
    {
      "cell_type": "markdown",
      "metadata": {
        "id": "rnLV6kW_fdTe"
      },
      "source": [
        "ESTIMATION RATE FUNCTION"
      ]
    },
    {
      "cell_type": "code",
      "metadata": {
        "id": "g4Jab-UvZque"
      },
      "source": [
        "def estimation_rate_function(dataframe_curve, date_fixing_start, date_fixing_end, ref_date): # da passare i fixed rate !!!!!!!!!!!!!!!!!!!!!!!!!!!!!!!!!!!!\n",
        "  date_curve_number = date_to_ordinal( dataframe_curve['DATE'])      \n",
        "  date_fixing_start_number = date_to_ordinal(date_fixing_start)\n",
        "  date_fixing_end_number = date_to_ordinal(date_fixing_end)\n",
        "  ref_date_number = date_to_ordinal(ref_date)\n",
        "  rate_start = []\n",
        "  for date in date_fixing_start_number:\n",
        "    rate = rate_interpoletor(KrugerCubic, list(date_curve_number), list(dataframe_curve['RATE']), date)\n",
        "    rate_start.append(rate)\n",
        "  discount_start = []\n",
        "  for i, rate in enumerate(rate_start):\n",
        "    discount_start.append(exp(-rate / 100 * ((date_fixing_start_number[i] - ref_date_number[0]) / 365))) # convenzione curva di estimation dell'EURIBOR è act/365\n",
        "  rate_end = []\n",
        "  for date in date_fixing_end_number:\n",
        "    rate_end.append(rate_interpoletor(KrugerCubic, list(date_curve_number), list(dataframe_curve['RATE']), date))\n",
        "  discount_end = []\n",
        "  for i, rate in enumerate(rate_end):\n",
        "    discount_end.append(exp(-rate / 100 * ((date_fixing_end_number[i] - ref_date_number[0]) / 365)))\n",
        "  estimated_rate = []\n",
        "  for i, date in enumerate(date_fixing_start_number):\n",
        "    if date <= ref_date_number[0] : \n",
        "      estimated_rate.append(0) # bisogna mettere il rate che fa riferimento al sottostante !!!!!!!!!!!!!!!!!!!!!!!!!!!!!!!!!!!!\n",
        "    else:\n",
        "      estimated_rate.append((discount_start[i] / discount_end[i] - 1) / ((date_fixing_end_number[i] - date) / 360)) # convenzione per i discount dell'EURIBOR è act/360\n",
        "  return estimated_rate"
      ],
      "execution_count": 56,
      "outputs": []
    },
    {
      "cell_type": "code",
      "metadata": {
        "id": "yWqBZ0Tqf3sR"
      },
      "source": [
        ""
      ],
      "execution_count": null,
      "outputs": []
    },
    {
      "cell_type": "code",
      "metadata": {
        "id": "VTXCwD5Qf3qG"
      },
      "source": [
        ""
      ],
      "execution_count": null,
      "outputs": []
    },
    {
      "cell_type": "code",
      "metadata": {
        "id": "CSUNtE9gf2qr"
      },
      "source": [
        ""
      ],
      "execution_count": null,
      "outputs": []
    },
    {
      "cell_type": "code",
      "metadata": {
        "id": "8wPu5DrSf2i7"
      },
      "source": [
        ""
      ],
      "execution_count": null,
      "outputs": []
    },
    {
      "cell_type": "code",
      "metadata": {
        "id": "EWu-6TVof2Y8"
      },
      "source": [
        ""
      ],
      "execution_count": null,
      "outputs": []
    },
    {
      "cell_type": "code",
      "metadata": {
        "id": "7t_29C3zfktk"
      },
      "source": [
        "d1= Date(29,4,2021)\n",
        "d2= Date(30,9,2021)\n",
        "d2-d1"
      ],
      "execution_count": null,
      "outputs": []
    },
    {
      "cell_type": "code",
      "metadata": {
        "id": "W32ctDk3rDdR"
      },
      "source": [
        "date_to_ordinal(d2)[0]-date_to_ordinal(d1)[0]"
      ],
      "execution_count": null,
      "outputs": []
    },
    {
      "cell_type": "code",
      "metadata": {
        "id": "vqRKIrYzNCge"
      },
      "source": [
        "class IRS:\n",
        "\n",
        "  def __init__(self):\n",
        "\n",
        "    self.start_date = None\n",
        "    self.maturity_date = None\n",
        "    self.tenor = None\n",
        "    self.business_convention = None\n",
        "    self.date_gen_rule = None\n",
        "    self.schedule = pd.DataFrame\n",
        "    self.eom = None\n",
        "\n",
        "    \n",
        "    self.npv = None"
      ],
      "execution_count": null,
      "outputs": []
    },
    {
      "cell_type": "code",
      "metadata": {
        "id": "rSw7Wh4YM7DC"
      },
      "source": [
        "def pricer(path,\n",
        "           underlying,\n",
        "           amortization_type,\n",
        "           notional,\n",
        "           amortization_rate,\n",
        "           maturity_label,\n",
        "           ref_date,\n",
        "           tenor,\n",
        "           business_convention,\n",
        "           date_gen_rule,\n",
        "           currency = 'EUR',\n",
        "           calendar = TARGET(),\n",
        "           end_of_month = False,\n",
        "           deduction_formula = '-1M LBD/-1BD',\n",
        "           day_count = Actual360):\n",
        "\n",
        "    dictionary = market_data(path)\n",
        "    irs = IRS()\n",
        "    irs.start_date = calendar.advance(ref_date,2,Days)\n",
        "    if maturity_label[-1] == 'M':\n",
        "      irs.maturity_date = calendar.advance(irs.start_date, int(maturity_label.rsplit(maturity_label[-1], 1)[0]), Months)\n",
        "    elif maturity_label[-1] == 'Y':\n",
        "      irs.maturity_date = calendar.advance(irs.start_date, int(maturity_label.rsplit(maturity_label[-1], 1)[0]), Years)\n",
        "    irs.business_convention = business_convention\n",
        "    irs.tenor = tenor\n",
        "    irs.date_gen_rule = date_gen_rule\n",
        "    irs.eom = end_of_month\n",
        "\n",
        "# aggiungere altri attribuiti all'irs(calendario,EOM, deduction formula, day count)\n",
        "\n",
        "\n",
        "    \n",
        "    irs.schedule = pd.DataFrame({'startdate':list(Schedule(irs.start_date,irs.maturity_date,irs.tenor,calendar,irs.business_convention,irs.business_convention,irs.date_gen_rule,irs.eom))[:-1],'enddate':list(Schedule(irs.start_date,irs.maturity_date,irs.tenor,calendar,irs.business_convention,irs.business_convention,irs.date_gen_rule,irs.eom))[1:]})"
      ],
      "execution_count": null,
      "outputs": []
    },
    {
      "cell_type": "code",
      "metadata": {
        "id": "LKHkWwrFjqEp"
      },
      "source": [
        "class IRS:\n",
        "\n",
        "  def __init__(self, leg1_name = 'Receive', leg2_name = 'Pay', leg1_rate_type = 'Fixed', leg2_rate_type = 'Floating'):\n",
        "\n",
        "    self.start_date = None\n",
        "    self.leg1_flows = pd.DataFrame\n",
        "    self.leg2_flows = pd.DataFrame\n",
        "    self.leg1_name = leg1_name\n",
        "    self.leg2_name = leg2_name\n",
        "    self.leg1_rate_type = leg1_rate_type  \n",
        "    self.leg2_rate_type = leg2_rate_type\n",
        "    self.npv = None"
      ],
      "execution_count": null,
      "outputs": []
    },
    {
      "cell_type": "code",
      "metadata": {
        "id": "pLPr1-8wj5Q6"
      },
      "source": [
        "def submit(path,\n",
        "           underlying,\n",
        "           amortization_type,\n",
        "           notional,\n",
        "           amortization_rate,\n",
        "           maturity_label,\n",
        "           ref_date,\n",
        "           tenor,\n",
        "           business_convention,\n",
        "           date_gen_rule,\n",
        "           currency = 'EUR',\n",
        "           calendar = TARGET(),\n",
        "           end_of_month = False,\n",
        "           deduction_formula = '-1M LBD/-1BD',\n",
        "           day_count = Actual360):\n",
        "\n",
        "  irs = IRS()"
      ],
      "execution_count": null,
      "outputs": []
    },
    {
      "cell_type": "code",
      "metadata": {
        "id": "gB3NlZSBj6Jq"
      },
      "source": [
        "submit(path = market_data_path, underlying = underlying, amortization_type = amortization_type, notional = notional, amortization_rate = amortization_rate, maturity_label = maturity_label, ref_date = ref_date, tenor = tenor,\n",
        "       business_convention = business_convention, date_gen_rule = date_gen_rule)"
      ],
      "execution_count": null,
      "outputs": []
    },
    {
      "cell_type": "code",
      "metadata": {
        "id": "ylCY3crlgkvv"
      },
      "source": [
        ""
      ],
      "execution_count": null,
      "outputs": []
    },
    {
      "cell_type": "code",
      "metadata": {
        "id": "foiRxQxzeqZ7"
      },
      "source": [
        "leg_fixed=FixedRateLeg(schedule,Actual360(),[notional],[0.05])\n",
        "for i in leg_fixed:\n",
        "  print(i.date(),i.amount())"
      ],
      "execution_count": null,
      "outputs": []
    }
  ]
}